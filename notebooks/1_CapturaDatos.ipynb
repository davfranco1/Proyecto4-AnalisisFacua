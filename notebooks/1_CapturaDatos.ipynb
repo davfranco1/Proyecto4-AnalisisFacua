{
 "cells": [
  {
   "cell_type": "markdown",
   "metadata": {},
   "source": [
    "# Notebook #1: Captura y Limpieza de Datos\n",
    "\n",
    "En este notebook realizaremos el webscraping y la limpieza de los datos que vamos a cargar en nuestra base de datos.\n",
    "\n",
    "El primer paso será importar las librerías necesarias:"
   ]
  },
  {
   "cell_type": "code",
   "execution_count": 1,
   "metadata": {},
   "outputs": [
    {
     "name": "stderr",
     "output_type": "stream",
     "text": [
      "/Users/davidfranco/Library/Python/3.9/lib/python/site-packages/urllib3/__init__.py:35: NotOpenSSLWarning: urllib3 v2 only supports OpenSSL 1.1.1+, currently the 'ssl' module is compiled with 'LibreSSL 2.8.3'. See: https://github.com/urllib3/urllib3/issues/3020\n",
      "  warnings.warn(\n"
     ]
    }
   ],
   "source": [
    "# Librerías para tratamiento de datos\n",
    "\n",
    "import pandas as pd\n",
    "pd.set_option('display.max_columns', None) # Parámetro que modifica la visualización de los DFs\n",
    "import numpy as np\n",
    "\n",
    "# Librería para el acceso a variables y funciones\n",
    "import sys\n",
    "sys.path.append(\"../\")\n",
    "from src import soporte_funciones as sf #Archivo .py donde encontraremos todas nuestras funciones.\n",
    "from src import soporte_variables as sv\n",
    "\n",
    "# Librería para exportar archivos de tipo pickle\n",
    "import pickle\n",
    "\n",
    "# Librería para ignorar avisos\n",
    "import warnings\n",
    "warnings.filterwarnings(\"ignore\") # Ignora TODOS los avisos"
   ]
  },
  {
   "cell_type": "markdown",
   "metadata": {},
   "source": [
    "### Paso 1: Obtener Links de Productos\n",
    "- Dado que hemos creado todas nuestras funciones en `soporte_funciones.py`, dentro de la carpeta `/src`, en este notebook sólamente hará falta llamar a las funciones.\n",
    "\n",
    "- La función `sf.captura_links_facua`, recibe como parámetro el link de Faqua donde se pueden consultar precios históricos del aceite de girasol, el aceite de oliva y leche, y devuelve una lista con los links de esos productos para los 6 supermercados que pueden consultarse. Para obtenerlos, utiliza Selenium y Beautiful Soup.\n",
    "\n",
    "- Dado que los datos se modifican cada vez que se ejecuta una función, las mismas están comentadas. Para ejecutarlas, debe eliminarse la #."
   ]
  },
  {
   "cell_type": "code",
   "execution_count": 10,
   "metadata": {},
   "outputs": [
    {
     "name": "stdout",
     "output_type": "stream",
     "text": [
      "Click en cookies\n"
     ]
    },
    {
     "name": "stderr",
     "output_type": "stream",
     "text": [
      "  0%|          | 0/6 [00:00<?, ?it/s]"
     ]
    },
    {
     "name": "stdout",
     "output_type": "stream",
     "text": [
      "Click en supermercado: 1\n",
      "Click en categoría: 1\n",
      "Click en categoría: 2\n",
      "Click en categoría: 3\n"
     ]
    },
    {
     "name": "stderr",
     "output_type": "stream",
     "text": [
      " 17%|█▋        | 1/6 [00:24<02:02, 24.49s/it]"
     ]
    },
    {
     "name": "stdout",
     "output_type": "stream",
     "text": [
      "Click en supermercado: 2\n",
      "Click en categoría: 1\n",
      "Click en categoría: 2\n",
      "Click en categoría: 3\n"
     ]
    },
    {
     "name": "stderr",
     "output_type": "stream",
     "text": [
      " 33%|███▎      | 2/6 [00:46<01:32, 23.13s/it]"
     ]
    },
    {
     "name": "stdout",
     "output_type": "stream",
     "text": [
      "Click en supermercado: 3\n",
      "Click en categoría: 1\n",
      "Click en categoría: 2\n",
      "Click en categoría: 3\n"
     ]
    },
    {
     "name": "stderr",
     "output_type": "stream",
     "text": [
      " 50%|█████     | 3/6 [01:05<01:02, 20.97s/it]"
     ]
    },
    {
     "name": "stdout",
     "output_type": "stream",
     "text": [
      "Click en supermercado: 4\n",
      "Click en categoría: 1\n",
      "Click en categoría: 2\n",
      "Click en categoría: 3\n"
     ]
    },
    {
     "name": "stderr",
     "output_type": "stream",
     "text": [
      " 67%|██████▋   | 4/6 [01:26<00:42, 21.26s/it]"
     ]
    },
    {
     "name": "stdout",
     "output_type": "stream",
     "text": [
      "Click en supermercado: 5\n",
      "Click en categoría: 1\n",
      "Click en categoría: 2\n",
      "Click en categoría: 3\n"
     ]
    },
    {
     "name": "stderr",
     "output_type": "stream",
     "text": [
      " 83%|████████▎ | 5/6 [01:45<00:20, 20.32s/it]"
     ]
    },
    {
     "name": "stdout",
     "output_type": "stream",
     "text": [
      "Click en supermercado: 6\n",
      "Click en categoría: 1\n",
      "Click en categoría: 2\n",
      "Click en categoría: 3\n"
     ]
    },
    {
     "name": "stderr",
     "output_type": "stream",
     "text": [
      "100%|██████████| 6/6 [02:01<00:00, 20.29s/it]\n"
     ]
    }
   ],
   "source": [
    "url_faqua = \"https://super.facua.org\"\n",
    "lista_links = sf.captura_links_facua(url_faqua)"
   ]
  },
  {
   "cell_type": "markdown",
   "metadata": {},
   "source": [
    "- Guardamos los links extraídos en un archivo de formato pickle, de modo que puedan utilizarse en otro momento sin necesidad de ejecutar nuevamente la captura. También los hemos guardado en un archivo .py."
   ]
  },
  {
   "cell_type": "code",
   "execution_count": 12,
   "metadata": {},
   "outputs": [],
   "source": [
    "with open(\"../datos/links.pkl\", 'wb') as archivo:\n",
    "    pickle.dump(lista_links, archivo)"
   ]
  },
  {
   "cell_type": "markdown",
   "metadata": {},
   "source": [
    "- Comprobamos la longitud de la lista para saber cuántos links se han capturado en total. Esto es lo mismo que, la cantidad de productos de la que extraeremos el histórico. En el caso de la última consulta, con fecha 26/10/2024, hemos conseguido extraer 1659."
   ]
  },
  {
   "cell_type": "code",
   "execution_count": 13,
   "metadata": {},
   "outputs": [
    {
     "data": {
      "text/plain": [
       "1659"
      ]
     },
     "execution_count": 13,
     "metadata": {},
     "output_type": "execute_result"
    }
   ],
   "source": [
    "len(lista_links)"
   ]
  },
  {
   "cell_type": "markdown",
   "metadata": {},
   "source": [
    "### Paso 2: Obtener Históricos de Productos\n",
    "\n",
    "- Para cada uno de los productos, tenemos en su respectiva página una tabla que registra los precios históricos.\n",
    "\n",
    "- Con la función `sf.captura_historicos_facua()`, entraremos a cada uno de los links obtenidos en el paso 1 (parámetro de la función), y utilizando BeautifulSoup extraeremos la tabla con los precios históricos.\n",
    "\n",
    "- El resultado final es un DataFrame con los históricos de todos los productos para los 6 supermercados, a la que se le ha ejecutado un proceso de limpieza y transformación haciendo uso de Pandas."
   ]
  },
  {
   "cell_type": "code",
   "execution_count": 2,
   "metadata": {},
   "outputs": [],
   "source": [
    "# En caso de que nos interesara ejecutar esta segunda función sin haber ejecutado el paso 1, debemos cargar el archivo pickle que contiene los links, haciendo uso del siguiente código:\n",
    "\n",
    "with open(\"../datos/links.pkl\", 'rb') as archivo:\n",
    "    lista_links = pickle.load(archivo)"
   ]
  },
  {
   "cell_type": "code",
   "execution_count": 4,
   "metadata": {},
   "outputs": [
    {
     "name": "stderr",
     "output_type": "stream",
     "text": [
      "100%|██████████| 1659/1659 [04:54<00:00,  5.63it/s]\n"
     ]
    }
   ],
   "source": [
    "df_completo = sf.captura_historicos_facua(lista_links)"
   ]
  },
  {
   "cell_type": "markdown",
   "metadata": {},
   "source": [
    "- Ejecutada la captura de los históricos, imprimimos una muestra para comprobar que los datos sean los esperados y tengan el formato esperado, y contamos la cantidad de filas, para ver que tenemos casi 103 mil registros."
   ]
  },
  {
   "cell_type": "code",
   "execution_count": 5,
   "metadata": {},
   "outputs": [
    {
     "data": {
      "text/html": [
       "<div>\n",
       "<style scoped>\n",
       "    .dataframe tbody tr th:only-of-type {\n",
       "        vertical-align: middle;\n",
       "    }\n",
       "\n",
       "    .dataframe tbody tr th {\n",
       "        vertical-align: top;\n",
       "    }\n",
       "\n",
       "    .dataframe thead th {\n",
       "        text-align: right;\n",
       "    }\n",
       "</style>\n",
       "<table border=\"1\" class=\"dataframe\">\n",
       "  <thead>\n",
       "    <tr style=\"text-align: right;\">\n",
       "      <th></th>\n",
       "      <th>Fecha</th>\n",
       "      <th>Producto</th>\n",
       "      <th>Precio (€)</th>\n",
       "      <th>Categoría</th>\n",
       "      <th>Supermercado</th>\n",
       "      <th>Var. Euros</th>\n",
       "      <th>Var. Porcentaje</th>\n",
       "    </tr>\n",
       "  </thead>\n",
       "  <tbody>\n",
       "    <tr>\n",
       "      <th>13</th>\n",
       "      <td>2024-07-22</td>\n",
       "      <td>Aceite De Oliva Virgen Extra Ecologico Oro De ...</td>\n",
       "      <td>7.61</td>\n",
       "      <td>Aceite-de-oliva</td>\n",
       "      <td>Dia</td>\n",
       "      <td>=</td>\n",
       "      <td>None</td>\n",
       "    </tr>\n",
       "    <tr>\n",
       "      <th>74</th>\n",
       "      <td>2024-09-27</td>\n",
       "      <td>Puleva Leche Fresca De Vaca Desnatada 1 L</td>\n",
       "      <td>1.70</td>\n",
       "      <td>Leche</td>\n",
       "      <td>Alcampo</td>\n",
       "      <td>=</td>\n",
       "      <td>None</td>\n",
       "    </tr>\n",
       "    <tr>\n",
       "      <th>46</th>\n",
       "      <td>2024-08-30</td>\n",
       "      <td>El Corte Ingles Leche Semidesnatada De Asturia...</td>\n",
       "      <td>1.47</td>\n",
       "      <td>Leche</td>\n",
       "      <td>Hipercor</td>\n",
       "      <td>=</td>\n",
       "      <td>None</td>\n",
       "    </tr>\n",
       "  </tbody>\n",
       "</table>\n",
       "</div>"
      ],
      "text/plain": [
       "        Fecha                                           Producto  Precio (€)  \\\n",
       "13 2024-07-22  Aceite De Oliva Virgen Extra Ecologico Oro De ...        7.61   \n",
       "74 2024-09-27          Puleva Leche Fresca De Vaca Desnatada 1 L        1.70   \n",
       "46 2024-08-30  El Corte Ingles Leche Semidesnatada De Asturia...        1.47   \n",
       "\n",
       "          Categoría Supermercado Var. Euros Var. Porcentaje  \n",
       "13  Aceite-de-oliva          Dia          =            None  \n",
       "74            Leche      Alcampo          =            None  \n",
       "46            Leche     Hipercor          =            None  "
      ]
     },
     "execution_count": 5,
     "metadata": {},
     "output_type": "execute_result"
    }
   ],
   "source": [
    "df_completo.sample(3)"
   ]
  },
  {
   "cell_type": "code",
   "execution_count": 6,
   "metadata": {},
   "outputs": [
    {
     "data": {
      "text/plain": [
       "(102971, 7)"
      ]
     },
     "execution_count": 6,
     "metadata": {},
     "output_type": "execute_result"
    }
   ],
   "source": [
    "df_completo.shape"
   ]
  },
  {
   "cell_type": "markdown",
   "metadata": {},
   "source": [
    "- Revisamos también si tenemos datos duplicados, y vemos que hay 1259 duplicados.\n",
    "- Se ha identificado que hay productos que aparecen duplicados en la página de Facua, existiendo dos entradas con la misma URL. Por este motivo, los eliminaremos del DF."
   ]
  },
  {
   "cell_type": "code",
   "execution_count": 7,
   "metadata": {},
   "outputs": [
    {
     "data": {
      "text/plain": [
       "False    101712\n",
       "True       1259\n",
       "Name: count, dtype: int64"
      ]
     },
     "execution_count": 7,
     "metadata": {},
     "output_type": "execute_result"
    }
   ],
   "source": [
    "df_completo.duplicated().value_counts()"
   ]
  },
  {
   "cell_type": "code",
   "execution_count": 8,
   "metadata": {},
   "outputs": [],
   "source": [
    "df_completo.drop_duplicates(inplace=True)"
   ]
  },
  {
   "cell_type": "code",
   "execution_count": 9,
   "metadata": {},
   "outputs": [
    {
     "data": {
      "text/plain": [
       "(101712, 7)"
      ]
     },
     "execution_count": 9,
     "metadata": {},
     "output_type": "execute_result"
    }
   ],
   "source": [
    "df_completo.shape"
   ]
  },
  {
   "cell_type": "markdown",
   "metadata": {},
   "source": [
    "- Realizada la comprobación, nos quedamos con 101711 registros. Guardamos los datos en un archivo de tipo CSV, de modo que puedan utilizarse nuevamente sin ejecutar la consulta."
   ]
  },
  {
   "cell_type": "code",
   "execution_count": 21,
   "metadata": {},
   "outputs": [],
   "source": [
    "df_completo.to_csv(\"../datos/listaproductos.csv\")"
   ]
  },
  {
   "cell_type": "markdown",
   "metadata": {},
   "source": [
    "### Paso 3: Preparar DFs para carga a SQL\n",
    "\n",
    "- Tendremos una distribución de 4 tablas: supermercado, categoría, productos e histórico.\n",
    "\n",
    "- Crearemos primero un DF de supermercados, con un ID que hemos asignado manualmente. En todos los casos, guardaremos estos DFs en archivos CSV."
   ]
  },
  {
   "cell_type": "code",
   "execution_count": 13,
   "metadata": {},
   "outputs": [
    {
     "data": {
      "text/html": [
       "<div>\n",
       "<style scoped>\n",
       "    .dataframe tbody tr th:only-of-type {\n",
       "        vertical-align: middle;\n",
       "    }\n",
       "\n",
       "    .dataframe tbody tr th {\n",
       "        vertical-align: top;\n",
       "    }\n",
       "\n",
       "    .dataframe thead th {\n",
       "        text-align: right;\n",
       "    }\n",
       "</style>\n",
       "<table border=\"1\" class=\"dataframe\">\n",
       "  <thead>\n",
       "    <tr style=\"text-align: right;\">\n",
       "      <th></th>\n",
       "      <th>ID Supermercado</th>\n",
       "      <th>Nombre</th>\n",
       "    </tr>\n",
       "  </thead>\n",
       "  <tbody>\n",
       "    <tr>\n",
       "      <th>0</th>\n",
       "      <td>1</td>\n",
       "      <td>Mercadona</td>\n",
       "    </tr>\n",
       "    <tr>\n",
       "      <th>1</th>\n",
       "      <td>2</td>\n",
       "      <td>Carrefour</td>\n",
       "    </tr>\n",
       "    <tr>\n",
       "      <th>2</th>\n",
       "      <td>3</td>\n",
       "      <td>Eroski</td>\n",
       "    </tr>\n",
       "    <tr>\n",
       "      <th>3</th>\n",
       "      <td>4</td>\n",
       "      <td>Dia</td>\n",
       "    </tr>\n",
       "    <tr>\n",
       "      <th>4</th>\n",
       "      <td>5</td>\n",
       "      <td>Hipercor</td>\n",
       "    </tr>\n",
       "    <tr>\n",
       "      <th>5</th>\n",
       "      <td>6</td>\n",
       "      <td>Alcampo</td>\n",
       "    </tr>\n",
       "  </tbody>\n",
       "</table>\n",
       "</div>"
      ],
      "text/plain": [
       "   ID Supermercado     Nombre\n",
       "0                1  Mercadona\n",
       "1                2  Carrefour\n",
       "2                3     Eroski\n",
       "3                4        Dia\n",
       "4                5   Hipercor\n",
       "5                6    Alcampo"
      ]
     },
     "execution_count": 13,
     "metadata": {},
     "output_type": "execute_result"
    }
   ],
   "source": [
    "diccionario_supermercados = {1: \"Mercadona\", 2: \"Carrefour\", 3: \"Eroski\", 4: \"Dia\", 5: \"Hipercor\", 6: \"Alcampo\"}\n",
    "df_supermercados = pd.DataFrame(list(diccionario_supermercados.items()), columns=['ID Supermercado', 'Nombre'])\n",
    "df_supermercados"
   ]
  },
  {
   "cell_type": "code",
   "execution_count": 14,
   "metadata": {},
   "outputs": [],
   "source": [
    "df_supermercados.to_csv(\"../datos/df_supermercados.csv\")"
   ]
  },
  {
   "cell_type": "markdown",
   "metadata": {},
   "source": [
    "- Haremos lo mismo para las categorías, con un ID manual."
   ]
  },
  {
   "cell_type": "code",
   "execution_count": 15,
   "metadata": {},
   "outputs": [
    {
     "data": {
      "text/html": [
       "<div>\n",
       "<style scoped>\n",
       "    .dataframe tbody tr th:only-of-type {\n",
       "        vertical-align: middle;\n",
       "    }\n",
       "\n",
       "    .dataframe tbody tr th {\n",
       "        vertical-align: top;\n",
       "    }\n",
       "\n",
       "    .dataframe thead th {\n",
       "        text-align: right;\n",
       "    }\n",
       "</style>\n",
       "<table border=\"1\" class=\"dataframe\">\n",
       "  <thead>\n",
       "    <tr style=\"text-align: right;\">\n",
       "      <th></th>\n",
       "      <th>ID Categoría</th>\n",
       "      <th>Nombre Categoría</th>\n",
       "    </tr>\n",
       "  </thead>\n",
       "  <tbody>\n",
       "    <tr>\n",
       "      <th>0</th>\n",
       "      <td>ao</td>\n",
       "      <td>Aceite-de-oliva</td>\n",
       "    </tr>\n",
       "    <tr>\n",
       "      <th>1</th>\n",
       "      <td>ag</td>\n",
       "      <td>Aceite-de-girasol</td>\n",
       "    </tr>\n",
       "    <tr>\n",
       "      <th>2</th>\n",
       "      <td>le</td>\n",
       "      <td>Leche</td>\n",
       "    </tr>\n",
       "  </tbody>\n",
       "</table>\n",
       "</div>"
      ],
      "text/plain": [
       "  ID Categoría   Nombre Categoría\n",
       "0           ao    Aceite-de-oliva\n",
       "1           ag  Aceite-de-girasol\n",
       "2           le              Leche"
      ]
     },
     "execution_count": 15,
     "metadata": {},
     "output_type": "execute_result"
    }
   ],
   "source": [
    "diccionario_categorias = {\"ao\": \"Aceite-de-oliva\", \"ag\": \"Aceite-de-girasol\", \"le\": \"Leche\"}\n",
    "df_categorias = pd.DataFrame(list(diccionario_categorias.items()), columns=['ID Categoría', 'Nombre Categoría'])\n",
    "df_categorias"
   ]
  },
  {
   "cell_type": "code",
   "execution_count": 16,
   "metadata": {},
   "outputs": [],
   "source": [
    "df_categorias.to_csv(\"../datos/df_categorias.csv\")"
   ]
  },
  {
   "cell_type": "markdown",
   "metadata": {},
   "source": [
    "- Ahora crearemos uno para los productos, donde copiaremos la columa \"Producto\" de df_completo y eliminaremos los valores duplicados."
   ]
  },
  {
   "cell_type": "code",
   "execution_count": 17,
   "metadata": {},
   "outputs": [],
   "source": [
    "df_productos = df_completo[[\"Producto\"]]\n",
    "df_productos.drop_duplicates(inplace=True)"
   ]
  },
  {
   "cell_type": "code",
   "execution_count": 18,
   "metadata": {},
   "outputs": [
    {
     "data": {
      "text/plain": [
       "(1098, 1)"
      ]
     },
     "execution_count": 18,
     "metadata": {},
     "output_type": "execute_result"
    }
   ],
   "source": [
    "df_productos.shape"
   ]
  },
  {
   "cell_type": "markdown",
   "metadata": {},
   "source": [
    "- Nos hemos quedado con unos 1100 productos únicos. Resetearemos los índices de modo que, se asigne un \"ID Producto\" de manera secuencial."
   ]
  },
  {
   "cell_type": "code",
   "execution_count": 19,
   "metadata": {},
   "outputs": [],
   "source": [
    "df_productos.reset_index(inplace=True)\n",
    "df_productos.drop(columns = \"index\", inplace=True)\n",
    "df_productos.reset_index(inplace=True)\n",
    "df_productos = df_productos.rename(columns={\"index\": \"ID Producto\"})"
   ]
  },
  {
   "cell_type": "code",
   "execution_count": 20,
   "metadata": {},
   "outputs": [
    {
     "data": {
      "text/html": [
       "<div>\n",
       "<style scoped>\n",
       "    .dataframe tbody tr th:only-of-type {\n",
       "        vertical-align: middle;\n",
       "    }\n",
       "\n",
       "    .dataframe tbody tr th {\n",
       "        vertical-align: top;\n",
       "    }\n",
       "\n",
       "    .dataframe thead th {\n",
       "        text-align: right;\n",
       "    }\n",
       "</style>\n",
       "<table border=\"1\" class=\"dataframe\">\n",
       "  <thead>\n",
       "    <tr style=\"text-align: right;\">\n",
       "      <th></th>\n",
       "      <th>ID Producto</th>\n",
       "      <th>Producto</th>\n",
       "    </tr>\n",
       "  </thead>\n",
       "  <tbody>\n",
       "    <tr>\n",
       "      <th>0</th>\n",
       "      <td>0</td>\n",
       "      <td>Aceite De Girasol Refinado 02 Hacendado 1 L</td>\n",
       "    </tr>\n",
       "    <tr>\n",
       "      <th>1</th>\n",
       "      <td>1</td>\n",
       "      <td>Aceite De Girasol Refinado 02 Hacendado 5 L</td>\n",
       "    </tr>\n",
       "    <tr>\n",
       "      <th>2</th>\n",
       "      <td>2</td>\n",
       "      <td>Aceite De Oliva 04 Hacendado</td>\n",
       "    </tr>\n",
       "    <tr>\n",
       "      <th>3</th>\n",
       "      <td>3</td>\n",
       "      <td>Aceite De Oliva 1 Hacendado Botella 1 L</td>\n",
       "    </tr>\n",
       "    <tr>\n",
       "      <th>4</th>\n",
       "      <td>4</td>\n",
       "      <td>Aceite De Oliva Intenso Hacendado Garrafa 3 L</td>\n",
       "    </tr>\n",
       "  </tbody>\n",
       "</table>\n",
       "</div>"
      ],
      "text/plain": [
       "   ID Producto                                       Producto\n",
       "0            0    Aceite De Girasol Refinado 02 Hacendado 1 L\n",
       "1            1    Aceite De Girasol Refinado 02 Hacendado 5 L\n",
       "2            2                   Aceite De Oliva 04 Hacendado\n",
       "3            3        Aceite De Oliva 1 Hacendado Botella 1 L\n",
       "4            4  Aceite De Oliva Intenso Hacendado Garrafa 3 L"
      ]
     },
     "execution_count": 20,
     "metadata": {},
     "output_type": "execute_result"
    }
   ],
   "source": [
    "df_productos.head(5)"
   ]
  },
  {
   "cell_type": "code",
   "execution_count": 47,
   "metadata": {},
   "outputs": [],
   "source": [
    "df_productos.to_csv(\"../datos/df_productos.csv\")"
   ]
  },
  {
   "cell_type": "markdown",
   "metadata": {},
   "source": [
    "- Vamos a crear ahora nuestro DF histórico, cuyas columnas serán: fecha, ID categoría, ID producto, ID Supermercado, Var. Euros y Variación Porcentaje.\n",
    "\n",
    "- El primer paso será concatenar nuestro df_completo (obtenido en el Paso 2), con los 3 nuevos DFs que hemos creado hasta ahora (supermercado, categoría y producto). Eliminaremos las columnas que aporten información repetida."
   ]
  },
  {
   "cell_type": "code",
   "execution_count": 21,
   "metadata": {},
   "outputs": [],
   "source": [
    "df_completo = df_completo.merge(df_supermercados, left_on=\"Supermercado\", right_on=\"Nombre\")\n",
    "df_completo = df_completo.merge(df_productos, left_on=\"Producto\", right_on=\"Producto\")\n",
    "df_completo = df_completo.merge(df_categorias, left_on=\"Categoría\", right_on=\"Nombre Categoría\")\n",
    "df_completo.drop(columns = \"Nombre\", inplace=True)\n",
    "df_completo.drop(columns = \"Nombre Categoría\", inplace=True)"
   ]
  },
  {
   "cell_type": "markdown",
   "metadata": {},
   "source": [
    "- Y ahora crearemos el nuevo DF, con las columnas que nos interesa mantener."
   ]
  },
  {
   "cell_type": "code",
   "execution_count": 23,
   "metadata": {},
   "outputs": [
    {
     "data": {
      "text/html": [
       "<div>\n",
       "<style scoped>\n",
       "    .dataframe tbody tr th:only-of-type {\n",
       "        vertical-align: middle;\n",
       "    }\n",
       "\n",
       "    .dataframe tbody tr th {\n",
       "        vertical-align: top;\n",
       "    }\n",
       "\n",
       "    .dataframe thead th {\n",
       "        text-align: right;\n",
       "    }\n",
       "</style>\n",
       "<table border=\"1\" class=\"dataframe\">\n",
       "  <thead>\n",
       "    <tr style=\"text-align: right;\">\n",
       "      <th></th>\n",
       "      <th>Fecha</th>\n",
       "      <th>ID Categoría</th>\n",
       "      <th>ID Producto</th>\n",
       "      <th>ID Supermercado</th>\n",
       "      <th>Precio (€)</th>\n",
       "      <th>Var. Euros</th>\n",
       "      <th>Var. Porcentaje</th>\n",
       "    </tr>\n",
       "  </thead>\n",
       "  <tbody>\n",
       "    <tr>\n",
       "      <th>20287</th>\n",
       "      <td>2024-07-17</td>\n",
       "      <td>ao</td>\n",
       "      <td>226</td>\n",
       "      <td>3</td>\n",
       "      <td>56.52</td>\n",
       "      <td>=</td>\n",
       "      <td>None</td>\n",
       "    </tr>\n",
       "    <tr>\n",
       "      <th>70747</th>\n",
       "      <td>2024-07-17</td>\n",
       "      <td>le</td>\n",
       "      <td>773</td>\n",
       "      <td>5</td>\n",
       "      <td>3.15</td>\n",
       "      <td>=</td>\n",
       "      <td>None</td>\n",
       "    </tr>\n",
       "    <tr>\n",
       "      <th>29860</th>\n",
       "      <td>2024-01-10</td>\n",
       "      <td>le</td>\n",
       "      <td>326</td>\n",
       "      <td>3</td>\n",
       "      <td>0.77</td>\n",
       "      <td>+0,02</td>\n",
       "      <td>(2,67%)</td>\n",
       "    </tr>\n",
       "    <tr>\n",
       "      <th>66928</th>\n",
       "      <td>2024-07-25</td>\n",
       "      <td>le</td>\n",
       "      <td>728</td>\n",
       "      <td>5</td>\n",
       "      <td>1.29</td>\n",
       "      <td>=</td>\n",
       "      <td>None</td>\n",
       "    </tr>\n",
       "    <tr>\n",
       "      <th>49191</th>\n",
       "      <td>2024-06-08</td>\n",
       "      <td>ao</td>\n",
       "      <td>525</td>\n",
       "      <td>5</td>\n",
       "      <td>16.25</td>\n",
       "      <td>=</td>\n",
       "      <td>None</td>\n",
       "    </tr>\n",
       "  </tbody>\n",
       "</table>\n",
       "</div>"
      ],
      "text/plain": [
       "           Fecha ID Categoría  ID Producto  ID Supermercado  Precio (€)  \\\n",
       "20287 2024-07-17           ao          226                3       56.52   \n",
       "70747 2024-07-17           le          773                5        3.15   \n",
       "29860 2024-01-10           le          326                3        0.77   \n",
       "66928 2024-07-25           le          728                5        1.29   \n",
       "49191 2024-06-08           ao          525                5       16.25   \n",
       "\n",
       "      Var. Euros Var. Porcentaje  \n",
       "20287          =            None  \n",
       "70747          =            None  \n",
       "29860      +0,02         (2,67%)  \n",
       "66928          =            None  \n",
       "49191          =            None  "
      ]
     },
     "execution_count": 23,
     "metadata": {},
     "output_type": "execute_result"
    }
   ],
   "source": [
    "df_historico = df_completo[[\"Fecha\", \"ID Categoría\",\"ID Producto\",\"ID Supermercado\",\"Precio (€)\",\"Var. Euros\",\"Var. Porcentaje\"]]\n",
    "df_historico.sample(5)"
   ]
  },
  {
   "cell_type": "markdown",
   "metadata": {},
   "source": [
    "- Realizaremos algunos pasos adicionales de limpieza para que los datos estén preparados para la carga en SQL."
   ]
  },
  {
   "cell_type": "code",
   "execution_count": 28,
   "metadata": {},
   "outputs": [],
   "source": [
    "df_historico[\"Var. Euros\"] = (df_historico[\"Var. Euros\"]\n",
    "    .str.replace(\",\", \".\")\n",
    "    .str.replace(\"+\", \"\")\n",
    "    .str.replace(\"=\", \"0\")\n",
    ").astype(float)"
   ]
  },
  {
   "cell_type": "markdown",
   "metadata": {},
   "source": [
    "- Calcularemos la columna de Variación Porcentaje nuevamente dado que, hemos identificado que habíamos perdido la condición de positivo o negativo."
   ]
  },
  {
   "cell_type": "code",
   "execution_count": 61,
   "metadata": {},
   "outputs": [],
   "source": [
    "df_historico[\"Var. Porcentaje\"] = round((df_historico[\"Var. Euros\"]/(df_historico[\"Precio (€)\"]-df_historico[\"Var. Euros\"]))*100,2)"
   ]
  },
  {
   "cell_type": "code",
   "execution_count": 92,
   "metadata": {},
   "outputs": [
    {
     "data": {
      "text/html": [
       "<div>\n",
       "<style scoped>\n",
       "    .dataframe tbody tr th:only-of-type {\n",
       "        vertical-align: middle;\n",
       "    }\n",
       "\n",
       "    .dataframe tbody tr th {\n",
       "        vertical-align: top;\n",
       "    }\n",
       "\n",
       "    .dataframe thead th {\n",
       "        text-align: right;\n",
       "    }\n",
       "</style>\n",
       "<table border=\"1\" class=\"dataframe\">\n",
       "  <thead>\n",
       "    <tr style=\"text-align: right;\">\n",
       "      <th></th>\n",
       "      <th>Fecha</th>\n",
       "      <th>ID Categoría</th>\n",
       "      <th>ID Producto</th>\n",
       "      <th>ID Supermercado</th>\n",
       "      <th>Precio (€)</th>\n",
       "      <th>Var. Euros</th>\n",
       "      <th>Var. Porcentaje</th>\n",
       "    </tr>\n",
       "  </thead>\n",
       "  <tbody>\n",
       "    <tr>\n",
       "      <th>67541</th>\n",
       "      <td>2024-07-26</td>\n",
       "      <td>le</td>\n",
       "      <td>735</td>\n",
       "      <td>5</td>\n",
       "      <td>1.99</td>\n",
       "      <td>0.00</td>\n",
       "      <td>0.00</td>\n",
       "    </tr>\n",
       "    <tr>\n",
       "      <th>96565</th>\n",
       "      <td>2024-08-23</td>\n",
       "      <td>le</td>\n",
       "      <td>1045</td>\n",
       "      <td>6</td>\n",
       "      <td>1.50</td>\n",
       "      <td>0.00</td>\n",
       "      <td>0.00</td>\n",
       "    </tr>\n",
       "    <tr>\n",
       "      <th>18871</th>\n",
       "      <td>2024-08-29</td>\n",
       "      <td>le</td>\n",
       "      <td>212</td>\n",
       "      <td>2</td>\n",
       "      <td>1.25</td>\n",
       "      <td>0.00</td>\n",
       "      <td>0.00</td>\n",
       "    </tr>\n",
       "    <tr>\n",
       "      <th>15684</th>\n",
       "      <td>2024-03-10</td>\n",
       "      <td>le</td>\n",
       "      <td>167</td>\n",
       "      <td>2</td>\n",
       "      <td>1.24</td>\n",
       "      <td>0.02</td>\n",
       "      <td>1.64</td>\n",
       "    </tr>\n",
       "    <tr>\n",
       "      <th>81033</th>\n",
       "      <td>2024-03-08</td>\n",
       "      <td>ao</td>\n",
       "      <td>899</td>\n",
       "      <td>6</td>\n",
       "      <td>9.17</td>\n",
       "      <td>0.00</td>\n",
       "      <td>0.00</td>\n",
       "    </tr>\n",
       "  </tbody>\n",
       "</table>\n",
       "</div>"
      ],
      "text/plain": [
       "           Fecha ID Categoría  ID Producto  ID Supermercado  Precio (€)  \\\n",
       "67541 2024-07-26           le          735                5        1.99   \n",
       "96565 2024-08-23           le         1045                6        1.50   \n",
       "18871 2024-08-29           le          212                2        1.25   \n",
       "15684 2024-03-10           le          167                2        1.24   \n",
       "81033 2024-03-08           ao          899                6        9.17   \n",
       "\n",
       "       Var. Euros  Var. Porcentaje  \n",
       "67541        0.00             0.00  \n",
       "96565        0.00             0.00  \n",
       "18871        0.00             0.00  \n",
       "15684        0.02             1.64  \n",
       "81033        0.00             0.00  "
      ]
     },
     "execution_count": 92,
     "metadata": {},
     "output_type": "execute_result"
    }
   ],
   "source": [
    "df_historico.sample(5)"
   ]
  },
  {
   "cell_type": "code",
   "execution_count": 93,
   "metadata": {},
   "outputs": [],
   "source": [
    "df_historico.to_csv(\"../datos/df_historico.csv\")"
   ]
  },
  {
   "cell_type": "markdown",
   "metadata": {},
   "source": [
    "- Al final del tratamiento, tendremos también un df_completo con este formato:"
   ]
  },
  {
   "cell_type": "code",
   "execution_count": 257,
   "metadata": {},
   "outputs": [
    {
     "data": {
      "text/html": [
       "<div>\n",
       "<style scoped>\n",
       "    .dataframe tbody tr th:only-of-type {\n",
       "        vertical-align: middle;\n",
       "    }\n",
       "\n",
       "    .dataframe tbody tr th {\n",
       "        vertical-align: top;\n",
       "    }\n",
       "\n",
       "    .dataframe thead th {\n",
       "        text-align: right;\n",
       "    }\n",
       "</style>\n",
       "<table border=\"1\" class=\"dataframe\">\n",
       "  <thead>\n",
       "    <tr style=\"text-align: right;\">\n",
       "      <th></th>\n",
       "      <th>Fecha</th>\n",
       "      <th>Producto</th>\n",
       "      <th>Precio (€)</th>\n",
       "      <th>Categoría</th>\n",
       "      <th>Supermercado</th>\n",
       "      <th>Var. Puntos</th>\n",
       "      <th>Var. Porcentaje</th>\n",
       "      <th>ID Supermercado</th>\n",
       "      <th>ID Producto</th>\n",
       "      <th>ID Categoría</th>\n",
       "    </tr>\n",
       "  </thead>\n",
       "  <tbody>\n",
       "    <tr>\n",
       "      <th>5554</th>\n",
       "      <td>2024-05-10</td>\n",
       "      <td>Aceite De Oliva 04 La Masia 1 L</td>\n",
       "      <td>6.99</td>\n",
       "      <td>Aceite-de-oliva</td>\n",
       "      <td>Carrefour</td>\n",
       "      <td>=</td>\n",
       "      <td>None</td>\n",
       "      <td>2</td>\n",
       "      <td>53</td>\n",
       "      <td>ao</td>\n",
       "    </tr>\n",
       "    <tr>\n",
       "      <th>32894</th>\n",
       "      <td>2024-09-18</td>\n",
       "      <td>Leche Semidesnatada Calcio Kaiku Brik 1 Litro</td>\n",
       "      <td>1.65</td>\n",
       "      <td>Leche</td>\n",
       "      <td>Eroski</td>\n",
       "      <td>=</td>\n",
       "      <td>None</td>\n",
       "      <td>3</td>\n",
       "      <td>361</td>\n",
       "      <td>le</td>\n",
       "    </tr>\n",
       "    <tr>\n",
       "      <th>87631</th>\n",
       "      <td>2024-12-09</td>\n",
       "      <td>Alcampo Cultivamos Lo Bueno Leche De Vaca Fres...</td>\n",
       "      <td>1.19</td>\n",
       "      <td>Leche</td>\n",
       "      <td>Alcampo</td>\n",
       "      <td>=</td>\n",
       "      <td>None</td>\n",
       "      <td>6</td>\n",
       "      <td>966</td>\n",
       "      <td>le</td>\n",
       "    </tr>\n",
       "    <tr>\n",
       "      <th>66659</th>\n",
       "      <td>2024-12-08</td>\n",
       "      <td>Covap Leche Semidesnatada Botella 15 L</td>\n",
       "      <td>1.85</td>\n",
       "      <td>Leche</td>\n",
       "      <td>Hipercor</td>\n",
       "      <td>=</td>\n",
       "      <td>None</td>\n",
       "      <td>5</td>\n",
       "      <td>732</td>\n",
       "      <td>le</td>\n",
       "    </tr>\n",
       "    <tr>\n",
       "      <th>98885</th>\n",
       "      <td>2024-07-18</td>\n",
       "      <td>Puleva Leche Entera De Vaca Sin Lactosa Manana...</td>\n",
       "      <td>1.25</td>\n",
       "      <td>Leche</td>\n",
       "      <td>Alcampo</td>\n",
       "      <td>=</td>\n",
       "      <td>None</td>\n",
       "      <td>6</td>\n",
       "      <td>1078</td>\n",
       "      <td>le</td>\n",
       "    </tr>\n",
       "  </tbody>\n",
       "</table>\n",
       "</div>"
      ],
      "text/plain": [
       "           Fecha                                           Producto  \\\n",
       "5554  2024-05-10                    Aceite De Oliva 04 La Masia 1 L   \n",
       "32894 2024-09-18      Leche Semidesnatada Calcio Kaiku Brik 1 Litro   \n",
       "87631 2024-12-09  Alcampo Cultivamos Lo Bueno Leche De Vaca Fres...   \n",
       "66659 2024-12-08             Covap Leche Semidesnatada Botella 15 L   \n",
       "98885 2024-07-18  Puleva Leche Entera De Vaca Sin Lactosa Manana...   \n",
       "\n",
       "       Precio (€)        Categoría Supermercado Var. Puntos Var. Porcentaje  \\\n",
       "5554         6.99  Aceite-de-oliva    Carrefour           =            None   \n",
       "32894        1.65            Leche       Eroski           =            None   \n",
       "87631        1.19            Leche      Alcampo           =            None   \n",
       "66659        1.85            Leche     Hipercor           =            None   \n",
       "98885        1.25            Leche      Alcampo           =            None   \n",
       "\n",
       "       ID Supermercado  ID Producto ID Categoría  \n",
       "5554                 2           53           ao  \n",
       "32894                3          361           le  \n",
       "87631                6          966           le  \n",
       "66659                5          732           le  \n",
       "98885                6         1078           le  "
      ]
     },
     "execution_count": 257,
     "metadata": {},
     "output_type": "execute_result"
    }
   ],
   "source": [
    "df_completo.sample(5)"
   ]
  },
  {
   "cell_type": "markdown",
   "metadata": {},
   "source": [
    "- En el siguiente notebook -número 2-, crearemos la base de datos, las tablas y cargaremos los datos recogidos."
   ]
  }
 ],
 "metadata": {
  "kernelspec": {
   "display_name": "Python 3",
   "language": "python",
   "name": "python3"
  },
  "language_info": {
   "codemirror_mode": {
    "name": "ipython",
    "version": 3
   },
   "file_extension": ".py",
   "mimetype": "text/x-python",
   "name": "python",
   "nbconvert_exporter": "python",
   "pygments_lexer": "ipython3",
   "version": "3.9.6"
  }
 },
 "nbformat": 4,
 "nbformat_minor": 2
}
