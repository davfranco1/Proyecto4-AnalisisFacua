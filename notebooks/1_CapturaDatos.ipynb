{
 "cells": [
  {
   "cell_type": "markdown",
   "metadata": {},
   "source": [
    "# Notebook #1: Captura y Limpieza de Datos\n",
    "\n",
    "En este notebook realizaremos el webscraping y la limpieza de los datos que vamos a cargar en nuestra base de datos.\n",
    "\n",
    "El primer paso será importar las librerías necesarias:"
   ]
  },
  {
   "cell_type": "code",
   "execution_count": 2,
   "metadata": {},
   "outputs": [],
   "source": [
    "# Librerías para tratamiento de datos\n",
    "\n",
    "import pandas as pd\n",
    "pd.set_option('display.max_columns', None) # Parámetro que modifica la visualización de los DFs\n",
    "import numpy as np\n",
    "\n",
    "# Librería para el acceso a variables y funciones\n",
    "import sys\n",
    "sys.path.append(\"../\")\n",
    "from src import soporte_funciones as sf #Archivo .py donde encontraremos todas nuestras funciones.\n",
    "from src import soporte_variables as sv\n",
    "\n",
    "# Librería para exportar archivos de tipo pickle\n",
    "import pickle\n",
    "\n",
    "# Librería para ignorar avisos\n",
    "import warnings\n",
    "warnings.filterwarnings(\"ignore\") # Ignora TODOS los avisos"
   ]
  },
  {
   "cell_type": "markdown",
   "metadata": {},
   "source": [
    "### Paso 1: Obtener Links de Productos\n",
    "- Dado que hemos creado todas nuestras funciones en `soporte_funciones.py`, dentro de la carpeta `/src`, en este notebook sólamente hará falta llamar a las funciones.\n",
    "\n",
    "- La función `sf.captura_links_facua`, recibe como parámetro el link de Faqua donde se pueden consultar precios históricos del aceite de girasol, el aceite de oliva y leche, y devuelve una lista con los links de esos productos para los 6 supermercados que pueden consultarse. Para obtenerlos, utiliza Selenium y Beautiful Soup.\n",
    "\n",
    "- Dado que los datos se modifican cada vez que se ejecuta una función, las mismas están comentadas. Para ejecutarlas, debe eliminarse la #."
   ]
  },
  {
   "cell_type": "code",
   "execution_count": 3,
   "metadata": {},
   "outputs": [
    {
     "name": "stdout",
     "output_type": "stream",
     "text": [
      "Click en cookies\n"
     ]
    },
    {
     "name": "stderr",
     "output_type": "stream",
     "text": [
      "  0%|          | 0/6 [00:00<?, ?it/s]"
     ]
    },
    {
     "name": "stdout",
     "output_type": "stream",
     "text": [
      "Click en supermercado: 1\n",
      "Click en categoría: 1\n",
      "Click en categoría: 2\n",
      "Click en categoría: 3\n"
     ]
    },
    {
     "name": "stderr",
     "output_type": "stream",
     "text": [
      " 17%|█▋        | 1/6 [00:15<01:17, 15.46s/it]"
     ]
    },
    {
     "name": "stdout",
     "output_type": "stream",
     "text": [
      "Click en supermercado: 2\n",
      "Click en categoría: 1\n",
      "Click en categoría: 2\n",
      "Click en categoría: 3\n"
     ]
    },
    {
     "name": "stderr",
     "output_type": "stream",
     "text": [
      " 33%|███▎      | 2/6 [00:31<01:02, 15.68s/it]"
     ]
    },
    {
     "name": "stdout",
     "output_type": "stream",
     "text": [
      "Click en supermercado: 3\n",
      "Click en categoría: 1\n",
      "Click en categoría: 2\n",
      "Click en categoría: 3\n"
     ]
    },
    {
     "name": "stderr",
     "output_type": "stream",
     "text": [
      " 50%|█████     | 3/6 [00:47<00:48, 16.05s/it]"
     ]
    },
    {
     "name": "stdout",
     "output_type": "stream",
     "text": [
      "Click en supermercado: 4\n",
      "Click en categoría: 1\n",
      "Click en categoría: 2\n",
      "Click en categoría: 3\n"
     ]
    },
    {
     "name": "stderr",
     "output_type": "stream",
     "text": [
      " 67%|██████▋   | 4/6 [01:03<00:31, 15.97s/it]"
     ]
    },
    {
     "name": "stdout",
     "output_type": "stream",
     "text": [
      "Click en supermercado: 5\n",
      "Click en categoría: 1\n",
      "Click en categoría: 2\n",
      "Click en categoría: 3\n"
     ]
    },
    {
     "name": "stderr",
     "output_type": "stream",
     "text": [
      " 83%|████████▎ | 5/6 [01:28<00:19, 19.13s/it]"
     ]
    },
    {
     "name": "stdout",
     "output_type": "stream",
     "text": [
      "Click en supermercado: 6\n",
      "Click en categoría: 1\n",
      "Click en categoría: 2\n",
      "Click en categoría: 3\n"
     ]
    },
    {
     "name": "stderr",
     "output_type": "stream",
     "text": [
      "100%|██████████| 6/6 [01:44<00:00, 17.39s/it]\n"
     ]
    }
   ],
   "source": [
    "url_faqua = \"https://super.facua.org\"\n",
    "#lista_links = sf.captura_links_facua(url_faqua)"
   ]
  },
  {
   "cell_type": "markdown",
   "metadata": {},
   "source": [
    "- Guardamos los links extraídos en un archivo de formato pickle, de modo que puedan utilizarse en otro momento sin necesidad de ejecutar nuevamente la captura. También los hemos guardado en un archivo .py."
   ]
  },
  {
   "cell_type": "code",
   "execution_count": 4,
   "metadata": {},
   "outputs": [],
   "source": [
    "#with open(\"../datos/links.pkl\", 'wb') as archivo:\n",
    "#    pickle.dump(lista_links, archivo)"
   ]
  },
  {
   "cell_type": "markdown",
   "metadata": {},
   "source": [
    "- Comprobamos la longitud de la lista para saber cuántos links se han capturado en total. Esto es lo mismo que, la cantidad de productos de la que extraeremos el histórico. En el caso de la última consulta, con fecha 27/10/2024, hemos conseguido extraer 1665."
   ]
  },
  {
   "cell_type": "code",
   "execution_count": 5,
   "metadata": {},
   "outputs": [
    {
     "data": {
      "text/plain": [
       "1665"
      ]
     },
     "execution_count": 5,
     "metadata": {},
     "output_type": "execute_result"
    }
   ],
   "source": [
    "#len(lista_links)"
   ]
  },
  {
   "cell_type": "markdown",
   "metadata": {},
   "source": [
    "### Paso 2: Obtener Históricos de Productos\n",
    "\n",
    "- Para cada uno de los productos, tenemos en su respectiva página una tabla que registra los precios históricos.\n",
    "\n",
    "- Con la función `sf.captura_historicos_facua()`, entraremos a cada uno de los links obtenidos en el paso 1 (parámetro de la función), y utilizando BeautifulSoup extraeremos la tabla con los precios históricos.\n",
    "\n",
    "- El resultado final es un DataFrame con los históricos de todos los productos para los 6 supermercados, a la que se le ha ejecutado un proceso de limpieza y transformación haciendo uso de Pandas."
   ]
  },
  {
   "cell_type": "code",
   "execution_count": 3,
   "metadata": {},
   "outputs": [],
   "source": [
    "# En caso de que nos interesara ejecutar esta segunda función sin haber ejecutado el paso 1, debemos cargar el archivo pickle que contiene los links, haciendo uso del siguiente código:\n",
    "\n",
    "with open(\"../datos/links.pkl\", 'rb') as archivo:\n",
    "    lista_links = pickle.load(archivo)"
   ]
  },
  {
   "cell_type": "code",
   "execution_count": 6,
   "metadata": {},
   "outputs": [
    {
     "name": "stderr",
     "output_type": "stream",
     "text": [
      "  0%|          | 0/1665 [00:00<?, ?it/s]"
     ]
    },
    {
     "name": "stderr",
     "output_type": "stream",
     "text": [
      "100%|██████████| 1665/1665 [04:32<00:00,  6.12it/s]\n"
     ]
    }
   ],
   "source": [
    "df_completo = sf.captura_historicos_facua(lista_links)"
   ]
  },
  {
   "cell_type": "markdown",
   "metadata": {},
   "source": [
    "- Ejecutada la captura de los históricos, imprimimos una muestra para comprobar que los datos sean los esperados y tengan el formato esperado, y contamos la cantidad de filas, para ver que tenemos unos 104 mil registros."
   ]
  },
  {
   "cell_type": "code",
   "execution_count": 8,
   "metadata": {},
   "outputs": [
    {
     "data": {
      "text/html": [
       "<div>\n",
       "<style scoped>\n",
       "    .dataframe tbody tr th:only-of-type {\n",
       "        vertical-align: middle;\n",
       "    }\n",
       "\n",
       "    .dataframe tbody tr th {\n",
       "        vertical-align: top;\n",
       "    }\n",
       "\n",
       "    .dataframe thead th {\n",
       "        text-align: right;\n",
       "    }\n",
       "</style>\n",
       "<table border=\"1\" class=\"dataframe\">\n",
       "  <thead>\n",
       "    <tr style=\"text-align: right;\">\n",
       "      <th></th>\n",
       "      <th>Fecha</th>\n",
       "      <th>Producto</th>\n",
       "      <th>Precio (€)</th>\n",
       "      <th>Categoría</th>\n",
       "      <th>Supermercado</th>\n",
       "      <th>Var. Euros</th>\n",
       "      <th>Var. Porcentaje</th>\n",
       "    </tr>\n",
       "  </thead>\n",
       "  <tbody>\n",
       "    <tr>\n",
       "      <th>71</th>\n",
       "      <td>16/09/2024</td>\n",
       "      <td>Aceite De Oliva Virgen Extra Hojiblanca Garraf...</td>\n",
       "      <td>56.66</td>\n",
       "      <td>Aceite-de-oliva</td>\n",
       "      <td>Eroski</td>\n",
       "      <td>=</td>\n",
       "      <td>None</td>\n",
       "    </tr>\n",
       "    <tr>\n",
       "      <th>112</th>\n",
       "      <td>12/10/2024</td>\n",
       "      <td>Aceite De Oliva Virgen Hacendado Botella 1 L</td>\n",
       "      <td>8.06</td>\n",
       "      <td>Aceite-de-oliva</td>\n",
       "      <td>Mercadona</td>\n",
       "      <td>=</td>\n",
       "      <td>None</td>\n",
       "    </tr>\n",
       "    <tr>\n",
       "      <th>29</th>\n",
       "      <td>13/08/2024</td>\n",
       "      <td>Puleva Leche Semidesnatada De Vacas Con Alimen...</td>\n",
       "      <td>7.44</td>\n",
       "      <td>Leche</td>\n",
       "      <td>Alcampo</td>\n",
       "      <td>=</td>\n",
       "      <td>None</td>\n",
       "    </tr>\n",
       "  </tbody>\n",
       "</table>\n",
       "</div>"
      ],
      "text/plain": [
       "          Fecha                                           Producto  \\\n",
       "71   16/09/2024  Aceite De Oliva Virgen Extra Hojiblanca Garraf...   \n",
       "112  12/10/2024       Aceite De Oliva Virgen Hacendado Botella 1 L   \n",
       "29   13/08/2024  Puleva Leche Semidesnatada De Vacas Con Alimen...   \n",
       "\n",
       "     Precio (€)        Categoría Supermercado Var. Euros Var. Porcentaje  \n",
       "71        56.66  Aceite-de-oliva       Eroski          =            None  \n",
       "112        8.06  Aceite-de-oliva    Mercadona          =            None  \n",
       "29         7.44            Leche      Alcampo          =            None  "
      ]
     },
     "execution_count": 8,
     "metadata": {},
     "output_type": "execute_result"
    }
   ],
   "source": [
    "df_completo.sample(3)"
   ]
  },
  {
   "cell_type": "code",
   "execution_count": 9,
   "metadata": {},
   "outputs": [
    {
     "data": {
      "text/plain": [
       "(104375, 7)"
      ]
     },
     "execution_count": 9,
     "metadata": {},
     "output_type": "execute_result"
    }
   ],
   "source": [
    "df_completo.shape"
   ]
  },
  {
   "cell_type": "markdown",
   "metadata": {},
   "source": [
    "- Revisamos también si tenemos datos duplicados, y vemos que hay 1724 duplicados.\n",
    "- Se ha identificado que hay productos que aparecen duplicados en la página de Facua, existiendo dos entradas con la misma URL. Por este motivo, los eliminaremos del DF."
   ]
  },
  {
   "cell_type": "code",
   "execution_count": 10,
   "metadata": {},
   "outputs": [
    {
     "data": {
      "text/plain": [
       "False    102651\n",
       "True       1724\n",
       "Name: count, dtype: int64"
      ]
     },
     "execution_count": 10,
     "metadata": {},
     "output_type": "execute_result"
    }
   ],
   "source": [
    "df_completo.duplicated().value_counts()"
   ]
  },
  {
   "cell_type": "code",
   "execution_count": 11,
   "metadata": {},
   "outputs": [],
   "source": [
    "df_completo.drop_duplicates(inplace=True)"
   ]
  },
  {
   "cell_type": "code",
   "execution_count": 12,
   "metadata": {},
   "outputs": [
    {
     "data": {
      "text/plain": [
       "(102651, 7)"
      ]
     },
     "execution_count": 12,
     "metadata": {},
     "output_type": "execute_result"
    }
   ],
   "source": [
    "df_completo.shape"
   ]
  },
  {
   "cell_type": "markdown",
   "metadata": {},
   "source": [
    "- Realizada la comprobación, nos quedamos con 102650 registros. Guardamos los datos en un archivo de tipo CSV, de modo que puedan utilizarse nuevamente sin ejecutar la consulta."
   ]
  },
  {
   "cell_type": "code",
   "execution_count": 13,
   "metadata": {},
   "outputs": [],
   "source": [
    "df_completo.to_csv(\"../datos/df_final_captura.csv\")"
   ]
  },
  {
   "cell_type": "markdown",
   "metadata": {},
   "source": [
    "### Paso 3: Preparar DFs para carga a SQL\n",
    "\n",
    "- Tendremos una distribución de 4 tablas: supermercado, categoría, productos e histórico.\n",
    "\n",
    "- Crearemos primero un DF de supermercados, con un ID que hemos asignado manualmente. En todos los casos, guardaremos estos DFs en archivos CSV."
   ]
  },
  {
   "cell_type": "code",
   "execution_count": 14,
   "metadata": {},
   "outputs": [
    {
     "data": {
      "text/html": [
       "<div>\n",
       "<style scoped>\n",
       "    .dataframe tbody tr th:only-of-type {\n",
       "        vertical-align: middle;\n",
       "    }\n",
       "\n",
       "    .dataframe tbody tr th {\n",
       "        vertical-align: top;\n",
       "    }\n",
       "\n",
       "    .dataframe thead th {\n",
       "        text-align: right;\n",
       "    }\n",
       "</style>\n",
       "<table border=\"1\" class=\"dataframe\">\n",
       "  <thead>\n",
       "    <tr style=\"text-align: right;\">\n",
       "      <th></th>\n",
       "      <th>ID Supermercado</th>\n",
       "      <th>Nombre</th>\n",
       "    </tr>\n",
       "  </thead>\n",
       "  <tbody>\n",
       "    <tr>\n",
       "      <th>0</th>\n",
       "      <td>1</td>\n",
       "      <td>Mercadona</td>\n",
       "    </tr>\n",
       "    <tr>\n",
       "      <th>1</th>\n",
       "      <td>2</td>\n",
       "      <td>Carrefour</td>\n",
       "    </tr>\n",
       "    <tr>\n",
       "      <th>2</th>\n",
       "      <td>3</td>\n",
       "      <td>Eroski</td>\n",
       "    </tr>\n",
       "    <tr>\n",
       "      <th>3</th>\n",
       "      <td>4</td>\n",
       "      <td>Dia</td>\n",
       "    </tr>\n",
       "    <tr>\n",
       "      <th>4</th>\n",
       "      <td>5</td>\n",
       "      <td>Hipercor</td>\n",
       "    </tr>\n",
       "    <tr>\n",
       "      <th>5</th>\n",
       "      <td>6</td>\n",
       "      <td>Alcampo</td>\n",
       "    </tr>\n",
       "  </tbody>\n",
       "</table>\n",
       "</div>"
      ],
      "text/plain": [
       "   ID Supermercado     Nombre\n",
       "0                1  Mercadona\n",
       "1                2  Carrefour\n",
       "2                3     Eroski\n",
       "3                4        Dia\n",
       "4                5   Hipercor\n",
       "5                6    Alcampo"
      ]
     },
     "execution_count": 14,
     "metadata": {},
     "output_type": "execute_result"
    }
   ],
   "source": [
    "diccionario_supermercados = {1: \"Mercadona\", 2: \"Carrefour\", 3: \"Eroski\", 4: \"Dia\", 5: \"Hipercor\", 6: \"Alcampo\"}\n",
    "df_supermercados = pd.DataFrame(list(diccionario_supermercados.items()), columns=['ID Supermercado', 'Nombre'])\n",
    "df_supermercados"
   ]
  },
  {
   "cell_type": "code",
   "execution_count": 14,
   "metadata": {},
   "outputs": [],
   "source": [
    "# df_supermercados.to_csv(\"../datos/df_supermercados.csv\")"
   ]
  },
  {
   "cell_type": "markdown",
   "metadata": {},
   "source": [
    "- Haremos lo mismo para las categorías, con un ID manual."
   ]
  },
  {
   "cell_type": "code",
   "execution_count": 15,
   "metadata": {},
   "outputs": [
    {
     "data": {
      "text/html": [
       "<div>\n",
       "<style scoped>\n",
       "    .dataframe tbody tr th:only-of-type {\n",
       "        vertical-align: middle;\n",
       "    }\n",
       "\n",
       "    .dataframe tbody tr th {\n",
       "        vertical-align: top;\n",
       "    }\n",
       "\n",
       "    .dataframe thead th {\n",
       "        text-align: right;\n",
       "    }\n",
       "</style>\n",
       "<table border=\"1\" class=\"dataframe\">\n",
       "  <thead>\n",
       "    <tr style=\"text-align: right;\">\n",
       "      <th></th>\n",
       "      <th>ID Categoría</th>\n",
       "      <th>Nombre Categoría</th>\n",
       "    </tr>\n",
       "  </thead>\n",
       "  <tbody>\n",
       "    <tr>\n",
       "      <th>0</th>\n",
       "      <td>ao</td>\n",
       "      <td>Aceite-de-oliva</td>\n",
       "    </tr>\n",
       "    <tr>\n",
       "      <th>1</th>\n",
       "      <td>ag</td>\n",
       "      <td>Aceite-de-girasol</td>\n",
       "    </tr>\n",
       "    <tr>\n",
       "      <th>2</th>\n",
       "      <td>le</td>\n",
       "      <td>Leche</td>\n",
       "    </tr>\n",
       "  </tbody>\n",
       "</table>\n",
       "</div>"
      ],
      "text/plain": [
       "  ID Categoría   Nombre Categoría\n",
       "0           ao    Aceite-de-oliva\n",
       "1           ag  Aceite-de-girasol\n",
       "2           le              Leche"
      ]
     },
     "execution_count": 15,
     "metadata": {},
     "output_type": "execute_result"
    }
   ],
   "source": [
    "diccionario_categorias = {\"ao\": \"Aceite-de-oliva\", \"ag\": \"Aceite-de-girasol\", \"le\": \"Leche\"}\n",
    "df_categorias = pd.DataFrame(list(diccionario_categorias.items()), columns=['ID Categoría', 'Nombre Categoría'])\n",
    "df_categorias"
   ]
  },
  {
   "cell_type": "code",
   "execution_count": 16,
   "metadata": {},
   "outputs": [],
   "source": [
    "# df_categorias.to_csv(\"../datos/df_categorias.csv\")"
   ]
  },
  {
   "cell_type": "markdown",
   "metadata": {},
   "source": [
    "- Ahora crearemos uno para los productos, donde copiaremos la columa \"Producto\" de df_completo y eliminaremos los valores duplicados."
   ]
  },
  {
   "cell_type": "code",
   "execution_count": 16,
   "metadata": {},
   "outputs": [],
   "source": [
    "df_productos = df_completo[[\"Producto\"]]\n",
    "df_productos.drop_duplicates(inplace=True)"
   ]
  },
  {
   "cell_type": "code",
   "execution_count": 17,
   "metadata": {},
   "outputs": [
    {
     "data": {
      "text/plain": [
       "(1098, 1)"
      ]
     },
     "execution_count": 17,
     "metadata": {},
     "output_type": "execute_result"
    }
   ],
   "source": [
    "df_productos.shape"
   ]
  },
  {
   "cell_type": "markdown",
   "metadata": {},
   "source": [
    "- Nos hemos quedado con unos 1100 productos únicos. Resetearemos los índices de modo que, se asigne un \"ID Producto\" de manera secuencial."
   ]
  },
  {
   "cell_type": "code",
   "execution_count": 18,
   "metadata": {},
   "outputs": [],
   "source": [
    "df_productos.reset_index(inplace=True)\n",
    "df_productos.drop(columns = \"index\", inplace=True)\n",
    "df_productos.reset_index(inplace=True)\n",
    "df_productos = df_productos.rename(columns={\"index\": \"ID Producto\"})"
   ]
  },
  {
   "cell_type": "code",
   "execution_count": 19,
   "metadata": {},
   "outputs": [
    {
     "data": {
      "text/html": [
       "<div>\n",
       "<style scoped>\n",
       "    .dataframe tbody tr th:only-of-type {\n",
       "        vertical-align: middle;\n",
       "    }\n",
       "\n",
       "    .dataframe tbody tr th {\n",
       "        vertical-align: top;\n",
       "    }\n",
       "\n",
       "    .dataframe thead th {\n",
       "        text-align: right;\n",
       "    }\n",
       "</style>\n",
       "<table border=\"1\" class=\"dataframe\">\n",
       "  <thead>\n",
       "    <tr style=\"text-align: right;\">\n",
       "      <th></th>\n",
       "      <th>ID Producto</th>\n",
       "      <th>Producto</th>\n",
       "    </tr>\n",
       "  </thead>\n",
       "  <tbody>\n",
       "    <tr>\n",
       "      <th>0</th>\n",
       "      <td>0</td>\n",
       "      <td>Aceite De Girasol Refinado 02 Hacendado 1 L</td>\n",
       "    </tr>\n",
       "    <tr>\n",
       "      <th>1</th>\n",
       "      <td>1</td>\n",
       "      <td>Aceite De Girasol Refinado 02 Hacendado 5 L</td>\n",
       "    </tr>\n",
       "    <tr>\n",
       "      <th>2</th>\n",
       "      <td>2</td>\n",
       "      <td>Aceite De Oliva 04 Hacendado</td>\n",
       "    </tr>\n",
       "    <tr>\n",
       "      <th>3</th>\n",
       "      <td>3</td>\n",
       "      <td>Aceite De Oliva 1 Hacendado Botella 1 L</td>\n",
       "    </tr>\n",
       "    <tr>\n",
       "      <th>4</th>\n",
       "      <td>4</td>\n",
       "      <td>Aceite De Oliva Intenso Hacendado Garrafa 3 L</td>\n",
       "    </tr>\n",
       "  </tbody>\n",
       "</table>\n",
       "</div>"
      ],
      "text/plain": [
       "   ID Producto                                       Producto\n",
       "0            0    Aceite De Girasol Refinado 02 Hacendado 1 L\n",
       "1            1    Aceite De Girasol Refinado 02 Hacendado 5 L\n",
       "2            2                   Aceite De Oliva 04 Hacendado\n",
       "3            3        Aceite De Oliva 1 Hacendado Botella 1 L\n",
       "4            4  Aceite De Oliva Intenso Hacendado Garrafa 3 L"
      ]
     },
     "execution_count": 19,
     "metadata": {},
     "output_type": "execute_result"
    }
   ],
   "source": [
    "df_productos.head(5)"
   ]
  },
  {
   "cell_type": "code",
   "execution_count": 47,
   "metadata": {},
   "outputs": [],
   "source": [
    "# df_productos.to_csv(\"../datos/df_productos.csv\")"
   ]
  },
  {
   "cell_type": "markdown",
   "metadata": {},
   "source": [
    "- Vamos a crear ahora nuestro DF histórico, cuyas columnas serán: fecha, ID categoría, ID producto, ID Supermercado, Var. Euros y Variación Porcentaje.\n",
    "\n",
    "- El primer paso será concatenar nuestro df_completo (obtenido en el Paso 2), con los 3 nuevos DFs que hemos creado hasta ahora (supermercado, categoría y producto). Eliminaremos las columnas que aporten información repetida."
   ]
  },
  {
   "cell_type": "code",
   "execution_count": 20,
   "metadata": {},
   "outputs": [],
   "source": [
    "df_completo = df_completo.merge(df_supermercados, left_on=\"Supermercado\", right_on=\"Nombre\")\n",
    "df_completo = df_completo.merge(df_productos, left_on=\"Producto\", right_on=\"Producto\")\n",
    "df_completo = df_completo.merge(df_categorias, left_on=\"Categoría\", right_on=\"Nombre Categoría\")\n",
    "df_completo.drop(columns = \"Nombre\", inplace=True)\n",
    "df_completo.drop(columns = \"Nombre Categoría\", inplace=True)"
   ]
  },
  {
   "cell_type": "markdown",
   "metadata": {},
   "source": [
    "- Y ahora crearemos el nuevo DF, con las columnas que nos interesa mantener."
   ]
  },
  {
   "cell_type": "code",
   "execution_count": 25,
   "metadata": {},
   "outputs": [
    {
     "data": {
      "text/html": [
       "<div>\n",
       "<style scoped>\n",
       "    .dataframe tbody tr th:only-of-type {\n",
       "        vertical-align: middle;\n",
       "    }\n",
       "\n",
       "    .dataframe tbody tr th {\n",
       "        vertical-align: top;\n",
       "    }\n",
       "\n",
       "    .dataframe thead th {\n",
       "        text-align: right;\n",
       "    }\n",
       "</style>\n",
       "<table border=\"1\" class=\"dataframe\">\n",
       "  <thead>\n",
       "    <tr style=\"text-align: right;\">\n",
       "      <th></th>\n",
       "      <th>Fecha</th>\n",
       "      <th>ID Categoría</th>\n",
       "      <th>ID Producto</th>\n",
       "      <th>ID Supermercado</th>\n",
       "      <th>Precio (€)</th>\n",
       "      <th>Var. Euros</th>\n",
       "      <th>Var. Porcentaje</th>\n",
       "    </tr>\n",
       "  </thead>\n",
       "  <tbody>\n",
       "    <tr>\n",
       "      <th>26120</th>\n",
       "      <td>20/08/2024</td>\n",
       "      <td>ao</td>\n",
       "      <td>282</td>\n",
       "      <td>3</td>\n",
       "      <td>38.95</td>\n",
       "      <td>-2,00</td>\n",
       "      <td>(4,88%)</td>\n",
       "    </tr>\n",
       "    <tr>\n",
       "      <th>52009</th>\n",
       "      <td>26/07/2024</td>\n",
       "      <td>ao</td>\n",
       "      <td>551</td>\n",
       "      <td>5</td>\n",
       "      <td>16.71</td>\n",
       "      <td>=</td>\n",
       "      <td>None</td>\n",
       "    </tr>\n",
       "    <tr>\n",
       "      <th>32535</th>\n",
       "      <td>03/10/2024</td>\n",
       "      <td>le</td>\n",
       "      <td>352</td>\n",
       "      <td>3</td>\n",
       "      <td>2.44</td>\n",
       "      <td>=</td>\n",
       "      <td>None</td>\n",
       "    </tr>\n",
       "    <tr>\n",
       "      <th>51680</th>\n",
       "      <td>05/09/2024</td>\n",
       "      <td>ao</td>\n",
       "      <td>547</td>\n",
       "      <td>5</td>\n",
       "      <td>13.29</td>\n",
       "      <td>=</td>\n",
       "      <td>None</td>\n",
       "    </tr>\n",
       "    <tr>\n",
       "      <th>49196</th>\n",
       "      <td>04/08/2024</td>\n",
       "      <td>ao</td>\n",
       "      <td>521</td>\n",
       "      <td>5</td>\n",
       "      <td>28.54</td>\n",
       "      <td>=</td>\n",
       "      <td>None</td>\n",
       "    </tr>\n",
       "  </tbody>\n",
       "</table>\n",
       "</div>"
      ],
      "text/plain": [
       "            Fecha ID Categoría  ID Producto  ID Supermercado  Precio (€)  \\\n",
       "26120  20/08/2024           ao          282                3       38.95   \n",
       "52009  26/07/2024           ao          551                5       16.71   \n",
       "32535  03/10/2024           le          352                3        2.44   \n",
       "51680  05/09/2024           ao          547                5       13.29   \n",
       "49196  04/08/2024           ao          521                5       28.54   \n",
       "\n",
       "      Var. Euros Var. Porcentaje  \n",
       "26120      -2,00         (4,88%)  \n",
       "52009          =            None  \n",
       "32535          =            None  \n",
       "51680          =            None  \n",
       "49196          =            None  "
      ]
     },
     "execution_count": 25,
     "metadata": {},
     "output_type": "execute_result"
    }
   ],
   "source": [
    "df_historico = df_completo[[\"Fecha\", \"ID Categoría\",\"ID Producto\",\"ID Supermercado\",\"Precio (€)\",\"Var. Euros\",\"Var. Porcentaje\"]]\n",
    "df_historico.sample(5)"
   ]
  },
  {
   "cell_type": "markdown",
   "metadata": {},
   "source": [
    "- Realizaremos algunos pasos adicionales de limpieza para que los datos estén preparados para la carga en SQL."
   ]
  },
  {
   "cell_type": "code",
   "execution_count": 26,
   "metadata": {},
   "outputs": [],
   "source": [
    "# Tratar formatos de números\n",
    "df_historico[\"Var. Euros\"] = (df_historico[\"Var. Euros\"]\n",
    "    .str.replace(\",\", \".\")\n",
    "    .str.replace(\"+\", \"\")\n",
    "    .str.replace(\"=\", \"0\")\n",
    ").astype(float)\n",
    "\n",
    "# Tratar formatos de fecha\n",
    "df_historico[\"Fecha\"] = pd.to_datetime(df_historico[\"Fecha\"], format=\"%d/%m/%Y\").dt.strftime(\"%Y-%m-%d\")"
   ]
  },
  {
   "cell_type": "markdown",
   "metadata": {},
   "source": [
    "- Calcularemos la columna de Variación Porcentaje nuevamente dado que, hemos identificado que habíamos perdido la condición de positivo o negativo."
   ]
  },
  {
   "cell_type": "code",
   "execution_count": 27,
   "metadata": {},
   "outputs": [],
   "source": [
    "df_historico[\"Var. Porcentaje\"] = round((df_historico[\"Var. Euros\"]/(df_historico[\"Precio (€)\"]-df_historico[\"Var. Euros\"]))*100,2)"
   ]
  },
  {
   "cell_type": "markdown",
   "metadata": {},
   "source": [
    "- Tras estos pasos, nuestro \"df_histórico\" tendrá este aspecto:"
   ]
  },
  {
   "cell_type": "code",
   "execution_count": 30,
   "metadata": {},
   "outputs": [
    {
     "data": {
      "text/html": [
       "<div>\n",
       "<style scoped>\n",
       "    .dataframe tbody tr th:only-of-type {\n",
       "        vertical-align: middle;\n",
       "    }\n",
       "\n",
       "    .dataframe tbody tr th {\n",
       "        vertical-align: top;\n",
       "    }\n",
       "\n",
       "    .dataframe thead th {\n",
       "        text-align: right;\n",
       "    }\n",
       "</style>\n",
       "<table border=\"1\" class=\"dataframe\">\n",
       "  <thead>\n",
       "    <tr style=\"text-align: right;\">\n",
       "      <th></th>\n",
       "      <th>Fecha</th>\n",
       "      <th>ID Categoría</th>\n",
       "      <th>ID Producto</th>\n",
       "      <th>ID Supermercado</th>\n",
       "      <th>Precio (€)</th>\n",
       "      <th>Var. Euros</th>\n",
       "      <th>Var. Porcentaje</th>\n",
       "    </tr>\n",
       "  </thead>\n",
       "  <tbody>\n",
       "    <tr>\n",
       "      <th>65569</th>\n",
       "      <td>2024-09-10</td>\n",
       "      <td>le</td>\n",
       "      <td>704</td>\n",
       "      <td>5</td>\n",
       "      <td>1.25</td>\n",
       "      <td>0.0</td>\n",
       "      <td>0.0</td>\n",
       "    </tr>\n",
       "    <tr>\n",
       "      <th>73369</th>\n",
       "      <td>2024-07-25</td>\n",
       "      <td>le</td>\n",
       "      <td>800</td>\n",
       "      <td>5</td>\n",
       "      <td>1.26</td>\n",
       "      <td>0.0</td>\n",
       "      <td>0.0</td>\n",
       "    </tr>\n",
       "    <tr>\n",
       "      <th>3706</th>\n",
       "      <td>2024-07-15</td>\n",
       "      <td>le</td>\n",
       "      <td>33</td>\n",
       "      <td>1</td>\n",
       "      <td>1.53</td>\n",
       "      <td>0.0</td>\n",
       "      <td>0.0</td>\n",
       "    </tr>\n",
       "  </tbody>\n",
       "</table>\n",
       "</div>"
      ],
      "text/plain": [
       "            Fecha ID Categoría  ID Producto  ID Supermercado  Precio (€)  \\\n",
       "65569  2024-09-10           le          704                5        1.25   \n",
       "73369  2024-07-25           le          800                5        1.26   \n",
       "3706   2024-07-15           le           33                1        1.53   \n",
       "\n",
       "       Var. Euros  Var. Porcentaje  \n",
       "65569         0.0              0.0  \n",
       "73369         0.0              0.0  \n",
       "3706          0.0              0.0  "
      ]
     },
     "execution_count": 30,
     "metadata": {},
     "output_type": "execute_result"
    }
   ],
   "source": [
    "df_historico.sample(3)"
   ]
  },
  {
   "cell_type": "code",
   "execution_count": 31,
   "metadata": {},
   "outputs": [],
   "source": [
    "#df_historico.to_csv(\"../datos/df_historico.csv\")"
   ]
  },
  {
   "cell_type": "markdown",
   "metadata": {},
   "source": [
    "- Al final del tratamiento, tendremos también un \"df_completo\" con este formato:"
   ]
  },
  {
   "cell_type": "code",
   "execution_count": 33,
   "metadata": {},
   "outputs": [
    {
     "data": {
      "text/html": [
       "<div>\n",
       "<style scoped>\n",
       "    .dataframe tbody tr th:only-of-type {\n",
       "        vertical-align: middle;\n",
       "    }\n",
       "\n",
       "    .dataframe tbody tr th {\n",
       "        vertical-align: top;\n",
       "    }\n",
       "\n",
       "    .dataframe thead th {\n",
       "        text-align: right;\n",
       "    }\n",
       "</style>\n",
       "<table border=\"1\" class=\"dataframe\">\n",
       "  <thead>\n",
       "    <tr style=\"text-align: right;\">\n",
       "      <th></th>\n",
       "      <th>Fecha</th>\n",
       "      <th>Producto</th>\n",
       "      <th>Precio (€)</th>\n",
       "      <th>Categoría</th>\n",
       "      <th>Supermercado</th>\n",
       "      <th>Var. Euros</th>\n",
       "      <th>Var. Porcentaje</th>\n",
       "      <th>ID Supermercado</th>\n",
       "      <th>ID Producto</th>\n",
       "      <th>ID Categoría</th>\n",
       "    </tr>\n",
       "  </thead>\n",
       "  <tbody>\n",
       "    <tr>\n",
       "      <th>31118</th>\n",
       "      <td>17/08/2024</td>\n",
       "      <td>Leche Entera Sin Lactosa Asturiana Brik 1 Litro</td>\n",
       "      <td>1.19</td>\n",
       "      <td>Leche</td>\n",
       "      <td>Eroski</td>\n",
       "      <td>=</td>\n",
       "      <td>None</td>\n",
       "      <td>3</td>\n",
       "      <td>337</td>\n",
       "      <td>le</td>\n",
       "    </tr>\n",
       "    <tr>\n",
       "      <th>85910</th>\n",
       "      <td>06/08/2024</td>\n",
       "      <td>Producto Alcampo Aceite De Oliva Intenso Botel...</td>\n",
       "      <td>7.60</td>\n",
       "      <td>Aceite-de-oliva</td>\n",
       "      <td>Alcampo</td>\n",
       "      <td>=</td>\n",
       "      <td>None</td>\n",
       "      <td>6</td>\n",
       "      <td>937</td>\n",
       "      <td>ao</td>\n",
       "    </tr>\n",
       "  </tbody>\n",
       "</table>\n",
       "</div>"
      ],
      "text/plain": [
       "            Fecha                                           Producto  \\\n",
       "31118  17/08/2024    Leche Entera Sin Lactosa Asturiana Brik 1 Litro   \n",
       "85910  06/08/2024  Producto Alcampo Aceite De Oliva Intenso Botel...   \n",
       "\n",
       "       Precio (€)        Categoría Supermercado Var. Euros Var. Porcentaje  \\\n",
       "31118        1.19            Leche       Eroski          =            None   \n",
       "85910        7.60  Aceite-de-oliva      Alcampo          =            None   \n",
       "\n",
       "       ID Supermercado  ID Producto ID Categoría  \n",
       "31118                3          337           le  \n",
       "85910                6          937           ao  "
      ]
     },
     "execution_count": 33,
     "metadata": {},
     "output_type": "execute_result"
    }
   ],
   "source": [
    "df_completo.sample(2)"
   ]
  },
  {
   "cell_type": "markdown",
   "metadata": {},
   "source": [
    "- En el siguiente notebook -número 2-, crearemos la base de datos, las tablas y cargaremos los datos recogidos."
   ]
  }
 ],
 "metadata": {
  "kernelspec": {
   "display_name": "Python 3",
   "language": "python",
   "name": "python3"
  },
  "language_info": {
   "codemirror_mode": {
    "name": "ipython",
    "version": 3
   },
   "file_extension": ".py",
   "mimetype": "text/x-python",
   "name": "python",
   "nbconvert_exporter": "python",
   "pygments_lexer": "ipython3",
   "version": "3.9.6"
  }
 },
 "nbformat": 4,
 "nbformat_minor": 2
}
