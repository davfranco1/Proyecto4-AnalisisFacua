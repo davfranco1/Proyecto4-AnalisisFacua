{
 "cells": [
  {
   "cell_type": "markdown",
   "metadata": {},
   "source": [
    "# Notebook #3: Queries, Visualización y Análisis\n",
    "\n",
    "- En este tercer notebook haremos consultas sobre nuestra base de datos y las usaremos para generar visualizaciones y el análisis de las mismas.\n",
    "\n",
    "- El primer paso será importar las librerías necesarias:"
   ]
  },
  {
   "cell_type": "code",
   "execution_count": 78,
   "metadata": {},
   "outputs": [],
   "source": [
    "# Librerías para tratamiento de datos\n",
    "import pandas as pd\n",
    "pd.set_option('display.max_columns', None) # Parámetro que modifica la visualización de los resultado3s\n",
    "import numpy as np\n",
    "\n",
    "# Trabajar con bases de datos SQL\n",
    "import psycopg2\n",
    "from psycopg2 import OperationalError, errorcodes, errors\n",
    "\n",
    "# Librería para el acceso a variables y funciones\n",
    "import sys\n",
    "sys.path.append(\"../\")\n",
    "from src import soporte_funciones as sf #Archivo .py donde encontraremos todas nuestras funciones.\n",
    "\n",
    "# Librerías para graficar\n",
    "import plotly.express as px\n",
    "import plotly.subplots as sp\n",
    "from plotly.subplots import make_subplots\n",
    "import plotly.graph_objects as go\n",
    "\n",
    "# Librería para ignorar avisos\n",
    "import warnings\n",
    "warnings.filterwarnings(\"ignore\") # Ignora TODOS los avisos"
   ]
  },
  {
   "cell_type": "markdown",
   "metadata": {},
   "source": [
    "### Objetivo del Análisis \n",
    "\n",
    "- Antes de plantearnos las queries que pretendemos realizar, debemos recordar los objetivos del proyecto, así como la estructura de los datos.\n",
    "\n",
    "    **1. Comparación de Precios entre Supermercados:** Determinar qué supermercados ofrecen los precios más bajos y cuáles son más caros para cada producto.\n",
    "\n",
    "    **2. Análisis de la Evolución de Precios:** Estudiar cómo han cambiado los precios de los productos a lo largo del tiempo en distintos supermercados.\n",
    "\n",
    "    **3. Detección de Anomalías:** Identificar subidas o bajadas de precios inusuales que podrían señalar prácticas abusivas o promociones.\n",
    "\n",
    "    **4. Análisis de la Dispersión de Precios:** Evaluar la variabilidad de los precios de un mismo producto en diferentes supermercados.\n",
    "\n",
    "    **5. Comparación de Precios Promedio:** Calcular y comparar los precios promedio de cada producto en diferentes supermercados.\n",
    "\n",
    "#### Diagrama Entidad Relación\n",
    "\n",
    "<img src=\"../images/Diagrama_ER.png\" width=\"300\">"
   ]
  },
  {
   "cell_type": "markdown",
   "metadata": {},
   "source": [
    "### 1. Comparación de Precios entre Supermercados"
   ]
  },
  {
   "cell_type": "code",
   "execution_count": 2,
   "metadata": {},
   "outputs": [],
   "source": [
    "query1 = '''\n",
    "SELECT \n",
    "    s.nombre AS supermercado,\n",
    "    c.nombre AS categoria,\n",
    "    MIN(h.precioeur) AS precio_minimo,\n",
    "    MAX(h.precioeur) AS precio_maximo\n",
    "FROM \n",
    "    historico h\n",
    "JOIN \n",
    "    categorias c\n",
    "        ON h.id_categoria = c.id_categoria\n",
    "JOIN \n",
    "    supermercados s\n",
    "        ON h.id_supermercado = s.id_supermercado\n",
    "GROUP BY \n",
    "    s.nombre, c.nombre\n",
    "ORDER BY \n",
    "    c.nombre, precio_minimo;\n",
    "'''"
   ]
  },
  {
   "cell_type": "code",
   "execution_count": 40,
   "metadata": {},
   "outputs": [
    {
     "data": {
      "text/html": [
       "<div>\n",
       "<style scoped>\n",
       "    .dataframe tbody tr th:only-of-type {\n",
       "        vertical-align: middle;\n",
       "    }\n",
       "\n",
       "    .dataframe tbody tr th {\n",
       "        vertical-align: top;\n",
       "    }\n",
       "\n",
       "    .dataframe thead th {\n",
       "        text-align: right;\n",
       "    }\n",
       "</style>\n",
       "<table border=\"1\" class=\"dataframe\">\n",
       "  <thead>\n",
       "    <tr style=\"text-align: right;\">\n",
       "      <th></th>\n",
       "      <th>supermercado</th>\n",
       "      <th>categoria</th>\n",
       "      <th>precio_minimo</th>\n",
       "      <th>precio_maximo</th>\n",
       "    </tr>\n",
       "  </thead>\n",
       "  <tbody>\n",
       "    <tr>\n",
       "      <th>0</th>\n",
       "      <td>Alcampo</td>\n",
       "      <td>Aceite-de-girasol</td>\n",
       "      <td>1.29</td>\n",
       "      <td>6.92</td>\n",
       "    </tr>\n",
       "    <tr>\n",
       "      <th>1</th>\n",
       "      <td>Hipercor</td>\n",
       "      <td>Aceite-de-girasol</td>\n",
       "      <td>1.4</td>\n",
       "      <td>6.91</td>\n",
       "    </tr>\n",
       "    <tr>\n",
       "      <th>2</th>\n",
       "      <td>Eroski</td>\n",
       "      <td>Aceite-de-girasol</td>\n",
       "      <td>1.45</td>\n",
       "      <td>7.28</td>\n",
       "    </tr>\n",
       "    <tr>\n",
       "      <th>3</th>\n",
       "      <td>Carrefour</td>\n",
       "      <td>Aceite-de-girasol</td>\n",
       "      <td>1.45</td>\n",
       "      <td>40.67</td>\n",
       "    </tr>\n",
       "    <tr>\n",
       "      <th>4</th>\n",
       "      <td>Mercadona</td>\n",
       "      <td>Aceite-de-girasol</td>\n",
       "      <td>1.45</td>\n",
       "      <td>6.91</td>\n",
       "    </tr>\n",
       "    <tr>\n",
       "      <th>5</th>\n",
       "      <td>Dia</td>\n",
       "      <td>Aceite-de-girasol</td>\n",
       "      <td>1.49</td>\n",
       "      <td>10.99</td>\n",
       "    </tr>\n",
       "    <tr>\n",
       "      <th>6</th>\n",
       "      <td>Eroski</td>\n",
       "      <td>Aceite-de-oliva</td>\n",
       "      <td>1.89</td>\n",
       "      <td>64.59</td>\n",
       "    </tr>\n",
       "    <tr>\n",
       "      <th>7</th>\n",
       "      <td>Hipercor</td>\n",
       "      <td>Aceite-de-oliva</td>\n",
       "      <td>2.09</td>\n",
       "      <td>154.32</td>\n",
       "    </tr>\n",
       "    <tr>\n",
       "      <th>8</th>\n",
       "      <td>Alcampo</td>\n",
       "      <td>Aceite-de-oliva</td>\n",
       "      <td>2.83</td>\n",
       "      <td>62.99</td>\n",
       "    </tr>\n",
       "    <tr>\n",
       "      <th>9</th>\n",
       "      <td>Carrefour</td>\n",
       "      <td>Aceite-de-oliva</td>\n",
       "      <td>2.85</td>\n",
       "      <td>63.5</td>\n",
       "    </tr>\n",
       "    <tr>\n",
       "      <th>10</th>\n",
       "      <td>Dia</td>\n",
       "      <td>Aceite-de-oliva</td>\n",
       "      <td>2.85</td>\n",
       "      <td>39.65</td>\n",
       "    </tr>\n",
       "    <tr>\n",
       "      <th>11</th>\n",
       "      <td>Mercadona</td>\n",
       "      <td>Aceite-de-oliva</td>\n",
       "      <td>2.9</td>\n",
       "      <td>28.8</td>\n",
       "    </tr>\n",
       "    <tr>\n",
       "      <th>12</th>\n",
       "      <td>Alcampo</td>\n",
       "      <td>Leche</td>\n",
       "      <td>0.5</td>\n",
       "      <td>23.43</td>\n",
       "    </tr>\n",
       "    <tr>\n",
       "      <th>13</th>\n",
       "      <td>Hipercor</td>\n",
       "      <td>Leche</td>\n",
       "      <td>0.64</td>\n",
       "      <td>12.69</td>\n",
       "    </tr>\n",
       "    <tr>\n",
       "      <th>14</th>\n",
       "      <td>Dia</td>\n",
       "      <td>Leche</td>\n",
       "      <td>0.69</td>\n",
       "      <td>14.64</td>\n",
       "    </tr>\n",
       "    <tr>\n",
       "      <th>15</th>\n",
       "      <td>Eroski</td>\n",
       "      <td>Leche</td>\n",
       "      <td>0.73</td>\n",
       "      <td>6.85</td>\n",
       "    </tr>\n",
       "    <tr>\n",
       "      <th>16</th>\n",
       "      <td>Carrefour</td>\n",
       "      <td>Leche</td>\n",
       "      <td>0.73</td>\n",
       "      <td>10.65</td>\n",
       "    </tr>\n",
       "    <tr>\n",
       "      <th>17</th>\n",
       "      <td>Mercadona</td>\n",
       "      <td>Leche</td>\n",
       "      <td>0.77</td>\n",
       "      <td>9.36</td>\n",
       "    </tr>\n",
       "  </tbody>\n",
       "</table>\n",
       "</div>"
      ],
      "text/plain": [
       "   supermercado          categoria precio_minimo precio_maximo\n",
       "0       Alcampo  Aceite-de-girasol          1.29          6.92\n",
       "1      Hipercor  Aceite-de-girasol           1.4          6.91\n",
       "2        Eroski  Aceite-de-girasol          1.45          7.28\n",
       "3     Carrefour  Aceite-de-girasol          1.45         40.67\n",
       "4     Mercadona  Aceite-de-girasol          1.45          6.91\n",
       "5           Dia  Aceite-de-girasol          1.49         10.99\n",
       "6        Eroski    Aceite-de-oliva          1.89         64.59\n",
       "7      Hipercor    Aceite-de-oliva          2.09        154.32\n",
       "8       Alcampo    Aceite-de-oliva          2.83         62.99\n",
       "9     Carrefour    Aceite-de-oliva          2.85          63.5\n",
       "10          Dia    Aceite-de-oliva          2.85         39.65\n",
       "11    Mercadona    Aceite-de-oliva           2.9          28.8\n",
       "12      Alcampo              Leche           0.5         23.43\n",
       "13     Hipercor              Leche          0.64         12.69\n",
       "14          Dia              Leche          0.69         14.64\n",
       "15       Eroski              Leche          0.73          6.85\n",
       "16    Carrefour              Leche          0.73         10.65\n",
       "17    Mercadona              Leche          0.77          9.36"
      ]
     },
     "execution_count": 40,
     "metadata": {},
     "output_type": "execute_result"
    }
   ],
   "source": [
    "resultado1 = sf.dbeaver_fetch(sf.dbeaver_conexion(\"Facua\"),query1)\n",
    "resultado1"
   ]
  },
  {
   "cell_type": "code",
   "execution_count": 49,
   "metadata": {},
   "outputs": [
    {
     "data": {
      "application/vnd.plotly.v1+json": {
       "config": {
        "plotlyServerURL": "https://plot.ly"
       },
       "data": [
        {
         "alignmentgroup": "True",
         "hovertemplate": "Categoría=Aceite-de-girasol<br>Tipo de Precio=precio_minimo<br>Supermercado=%{x}<br>Precio (EUR)=%{y}<extra></extra>",
         "legendgroup": "Aceite-de-girasol",
         "marker": {
          "color": "#636efa",
          "pattern": {
           "shape": ""
          }
         },
         "name": "Aceite-de-girasol",
         "offsetgroup": "Aceite-de-girasol",
         "orientation": "v",
         "showlegend": true,
         "textposition": "auto",
         "type": "bar",
         "x": [
          "Alcampo",
          "Hipercor",
          "Eroski",
          "Carrefour",
          "Mercadona",
          "Dia"
         ],
         "xaxis": "x",
         "y": [
          1.29,
          1.4,
          1.45,
          1.45,
          1.45,
          1.49
         ],
         "yaxis": "y"
        },
        {
         "alignmentgroup": "True",
         "hovertemplate": "Categoría=Aceite-de-girasol<br>Tipo de Precio=precio_maximo<br>Supermercado=%{x}<br>Precio (EUR)=%{y}<extra></extra>",
         "legendgroup": "Aceite-de-girasol",
         "marker": {
          "color": "#636efa",
          "pattern": {
           "shape": ""
          }
         },
         "name": "Aceite-de-girasol",
         "offsetgroup": "Aceite-de-girasol",
         "orientation": "v",
         "showlegend": false,
         "textposition": "auto",
         "type": "bar",
         "x": [
          "Alcampo",
          "Hipercor",
          "Eroski",
          "Carrefour",
          "Mercadona",
          "Dia"
         ],
         "xaxis": "x2",
         "y": [
          6.92,
          6.91,
          7.28,
          40.67,
          6.91,
          10.99
         ],
         "yaxis": "y2"
        },
        {
         "alignmentgroup": "True",
         "hovertemplate": "Categoría=Aceite-de-oliva<br>Tipo de Precio=precio_minimo<br>Supermercado=%{x}<br>Precio (EUR)=%{y}<extra></extra>",
         "legendgroup": "Aceite-de-oliva",
         "marker": {
          "color": "#EF553B",
          "pattern": {
           "shape": ""
          }
         },
         "name": "Aceite-de-oliva",
         "offsetgroup": "Aceite-de-oliva",
         "orientation": "v",
         "showlegend": true,
         "textposition": "auto",
         "type": "bar",
         "x": [
          "Eroski",
          "Hipercor",
          "Alcampo",
          "Carrefour",
          "Dia",
          "Mercadona"
         ],
         "xaxis": "x",
         "y": [
          1.89,
          2.09,
          2.83,
          2.85,
          2.85,
          2.9
         ],
         "yaxis": "y"
        },
        {
         "alignmentgroup": "True",
         "hovertemplate": "Categoría=Aceite-de-oliva<br>Tipo de Precio=precio_maximo<br>Supermercado=%{x}<br>Precio (EUR)=%{y}<extra></extra>",
         "legendgroup": "Aceite-de-oliva",
         "marker": {
          "color": "#EF553B",
          "pattern": {
           "shape": ""
          }
         },
         "name": "Aceite-de-oliva",
         "offsetgroup": "Aceite-de-oliva",
         "orientation": "v",
         "showlegend": false,
         "textposition": "auto",
         "type": "bar",
         "x": [
          "Eroski",
          "Hipercor",
          "Alcampo",
          "Carrefour",
          "Dia",
          "Mercadona"
         ],
         "xaxis": "x2",
         "y": [
          64.59,
          154.32,
          62.99,
          63.5,
          39.65,
          28.8
         ],
         "yaxis": "y2"
        },
        {
         "alignmentgroup": "True",
         "hovertemplate": "Categoría=Leche<br>Tipo de Precio=precio_minimo<br>Supermercado=%{x}<br>Precio (EUR)=%{y}<extra></extra>",
         "legendgroup": "Leche",
         "marker": {
          "color": "#00cc96",
          "pattern": {
           "shape": ""
          }
         },
         "name": "Leche",
         "offsetgroup": "Leche",
         "orientation": "v",
         "showlegend": true,
         "textposition": "auto",
         "type": "bar",
         "x": [
          "Alcampo",
          "Hipercor",
          "Dia",
          "Eroski",
          "Carrefour",
          "Mercadona"
         ],
         "xaxis": "x",
         "y": [
          0.5,
          0.64,
          0.69,
          0.73,
          0.73,
          0.77
         ],
         "yaxis": "y"
        },
        {
         "alignmentgroup": "True",
         "hovertemplate": "Categoría=Leche<br>Tipo de Precio=precio_maximo<br>Supermercado=%{x}<br>Precio (EUR)=%{y}<extra></extra>",
         "legendgroup": "Leche",
         "marker": {
          "color": "#00cc96",
          "pattern": {
           "shape": ""
          }
         },
         "name": "Leche",
         "offsetgroup": "Leche",
         "orientation": "v",
         "showlegend": false,
         "textposition": "auto",
         "type": "bar",
         "x": [
          "Alcampo",
          "Hipercor",
          "Dia",
          "Eroski",
          "Carrefour",
          "Mercadona"
         ],
         "xaxis": "x2",
         "y": [
          23.43,
          12.69,
          14.64,
          6.85,
          10.65,
          9.36
         ],
         "yaxis": "y2"
        }
       ],
       "layout": {
        "annotations": [
         {
          "font": {},
          "showarrow": false,
          "text": "Tipo de Precio=precio_minimo",
          "x": 0.245,
          "xanchor": "center",
          "xref": "paper",
          "y": 1,
          "yanchor": "bottom",
          "yref": "paper"
         },
         {
          "font": {},
          "showarrow": false,
          "text": "Tipo de Precio=precio_maximo",
          "x": 0.755,
          "xanchor": "center",
          "xref": "paper",
          "y": 1,
          "yanchor": "bottom",
          "yref": "paper"
         }
        ],
        "barmode": "group",
        "legend": {
         "title": {
          "text": "Categoría"
         },
         "tracegroupgap": 0
        },
        "template": {
         "data": {
          "bar": [
           {
            "error_x": {
             "color": "#2a3f5f"
            },
            "error_y": {
             "color": "#2a3f5f"
            },
            "marker": {
             "line": {
              "color": "#E5ECF6",
              "width": 0.5
             },
             "pattern": {
              "fillmode": "overlay",
              "size": 10,
              "solidity": 0.2
             }
            },
            "type": "bar"
           }
          ],
          "barpolar": [
           {
            "marker": {
             "line": {
              "color": "#E5ECF6",
              "width": 0.5
             },
             "pattern": {
              "fillmode": "overlay",
              "size": 10,
              "solidity": 0.2
             }
            },
            "type": "barpolar"
           }
          ],
          "carpet": [
           {
            "aaxis": {
             "endlinecolor": "#2a3f5f",
             "gridcolor": "white",
             "linecolor": "white",
             "minorgridcolor": "white",
             "startlinecolor": "#2a3f5f"
            },
            "baxis": {
             "endlinecolor": "#2a3f5f",
             "gridcolor": "white",
             "linecolor": "white",
             "minorgridcolor": "white",
             "startlinecolor": "#2a3f5f"
            },
            "type": "carpet"
           }
          ],
          "choropleth": [
           {
            "colorbar": {
             "outlinewidth": 0,
             "ticks": ""
            },
            "type": "choropleth"
           }
          ],
          "contour": [
           {
            "colorbar": {
             "outlinewidth": 0,
             "ticks": ""
            },
            "colorscale": [
             [
              0,
              "#0d0887"
             ],
             [
              0.1111111111111111,
              "#46039f"
             ],
             [
              0.2222222222222222,
              "#7201a8"
             ],
             [
              0.3333333333333333,
              "#9c179e"
             ],
             [
              0.4444444444444444,
              "#bd3786"
             ],
             [
              0.5555555555555556,
              "#d8576b"
             ],
             [
              0.6666666666666666,
              "#ed7953"
             ],
             [
              0.7777777777777778,
              "#fb9f3a"
             ],
             [
              0.8888888888888888,
              "#fdca26"
             ],
             [
              1,
              "#f0f921"
             ]
            ],
            "type": "contour"
           }
          ],
          "contourcarpet": [
           {
            "colorbar": {
             "outlinewidth": 0,
             "ticks": ""
            },
            "type": "contourcarpet"
           }
          ],
          "heatmap": [
           {
            "colorbar": {
             "outlinewidth": 0,
             "ticks": ""
            },
            "colorscale": [
             [
              0,
              "#0d0887"
             ],
             [
              0.1111111111111111,
              "#46039f"
             ],
             [
              0.2222222222222222,
              "#7201a8"
             ],
             [
              0.3333333333333333,
              "#9c179e"
             ],
             [
              0.4444444444444444,
              "#bd3786"
             ],
             [
              0.5555555555555556,
              "#d8576b"
             ],
             [
              0.6666666666666666,
              "#ed7953"
             ],
             [
              0.7777777777777778,
              "#fb9f3a"
             ],
             [
              0.8888888888888888,
              "#fdca26"
             ],
             [
              1,
              "#f0f921"
             ]
            ],
            "type": "heatmap"
           }
          ],
          "heatmapgl": [
           {
            "colorbar": {
             "outlinewidth": 0,
             "ticks": ""
            },
            "colorscale": [
             [
              0,
              "#0d0887"
             ],
             [
              0.1111111111111111,
              "#46039f"
             ],
             [
              0.2222222222222222,
              "#7201a8"
             ],
             [
              0.3333333333333333,
              "#9c179e"
             ],
             [
              0.4444444444444444,
              "#bd3786"
             ],
             [
              0.5555555555555556,
              "#d8576b"
             ],
             [
              0.6666666666666666,
              "#ed7953"
             ],
             [
              0.7777777777777778,
              "#fb9f3a"
             ],
             [
              0.8888888888888888,
              "#fdca26"
             ],
             [
              1,
              "#f0f921"
             ]
            ],
            "type": "heatmapgl"
           }
          ],
          "histogram": [
           {
            "marker": {
             "pattern": {
              "fillmode": "overlay",
              "size": 10,
              "solidity": 0.2
             }
            },
            "type": "histogram"
           }
          ],
          "histogram2d": [
           {
            "colorbar": {
             "outlinewidth": 0,
             "ticks": ""
            },
            "colorscale": [
             [
              0,
              "#0d0887"
             ],
             [
              0.1111111111111111,
              "#46039f"
             ],
             [
              0.2222222222222222,
              "#7201a8"
             ],
             [
              0.3333333333333333,
              "#9c179e"
             ],
             [
              0.4444444444444444,
              "#bd3786"
             ],
             [
              0.5555555555555556,
              "#d8576b"
             ],
             [
              0.6666666666666666,
              "#ed7953"
             ],
             [
              0.7777777777777778,
              "#fb9f3a"
             ],
             [
              0.8888888888888888,
              "#fdca26"
             ],
             [
              1,
              "#f0f921"
             ]
            ],
            "type": "histogram2d"
           }
          ],
          "histogram2dcontour": [
           {
            "colorbar": {
             "outlinewidth": 0,
             "ticks": ""
            },
            "colorscale": [
             [
              0,
              "#0d0887"
             ],
             [
              0.1111111111111111,
              "#46039f"
             ],
             [
              0.2222222222222222,
              "#7201a8"
             ],
             [
              0.3333333333333333,
              "#9c179e"
             ],
             [
              0.4444444444444444,
              "#bd3786"
             ],
             [
              0.5555555555555556,
              "#d8576b"
             ],
             [
              0.6666666666666666,
              "#ed7953"
             ],
             [
              0.7777777777777778,
              "#fb9f3a"
             ],
             [
              0.8888888888888888,
              "#fdca26"
             ],
             [
              1,
              "#f0f921"
             ]
            ],
            "type": "histogram2dcontour"
           }
          ],
          "mesh3d": [
           {
            "colorbar": {
             "outlinewidth": 0,
             "ticks": ""
            },
            "type": "mesh3d"
           }
          ],
          "parcoords": [
           {
            "line": {
             "colorbar": {
              "outlinewidth": 0,
              "ticks": ""
             }
            },
            "type": "parcoords"
           }
          ],
          "pie": [
           {
            "automargin": true,
            "type": "pie"
           }
          ],
          "scatter": [
           {
            "fillpattern": {
             "fillmode": "overlay",
             "size": 10,
             "solidity": 0.2
            },
            "type": "scatter"
           }
          ],
          "scatter3d": [
           {
            "line": {
             "colorbar": {
              "outlinewidth": 0,
              "ticks": ""
             }
            },
            "marker": {
             "colorbar": {
              "outlinewidth": 0,
              "ticks": ""
             }
            },
            "type": "scatter3d"
           }
          ],
          "scattercarpet": [
           {
            "marker": {
             "colorbar": {
              "outlinewidth": 0,
              "ticks": ""
             }
            },
            "type": "scattercarpet"
           }
          ],
          "scattergeo": [
           {
            "marker": {
             "colorbar": {
              "outlinewidth": 0,
              "ticks": ""
             }
            },
            "type": "scattergeo"
           }
          ],
          "scattergl": [
           {
            "marker": {
             "colorbar": {
              "outlinewidth": 0,
              "ticks": ""
             }
            },
            "type": "scattergl"
           }
          ],
          "scattermapbox": [
           {
            "marker": {
             "colorbar": {
              "outlinewidth": 0,
              "ticks": ""
             }
            },
            "type": "scattermapbox"
           }
          ],
          "scatterpolar": [
           {
            "marker": {
             "colorbar": {
              "outlinewidth": 0,
              "ticks": ""
             }
            },
            "type": "scatterpolar"
           }
          ],
          "scatterpolargl": [
           {
            "marker": {
             "colorbar": {
              "outlinewidth": 0,
              "ticks": ""
             }
            },
            "type": "scatterpolargl"
           }
          ],
          "scatterternary": [
           {
            "marker": {
             "colorbar": {
              "outlinewidth": 0,
              "ticks": ""
             }
            },
            "type": "scatterternary"
           }
          ],
          "surface": [
           {
            "colorbar": {
             "outlinewidth": 0,
             "ticks": ""
            },
            "colorscale": [
             [
              0,
              "#0d0887"
             ],
             [
              0.1111111111111111,
              "#46039f"
             ],
             [
              0.2222222222222222,
              "#7201a8"
             ],
             [
              0.3333333333333333,
              "#9c179e"
             ],
             [
              0.4444444444444444,
              "#bd3786"
             ],
             [
              0.5555555555555556,
              "#d8576b"
             ],
             [
              0.6666666666666666,
              "#ed7953"
             ],
             [
              0.7777777777777778,
              "#fb9f3a"
             ],
             [
              0.8888888888888888,
              "#fdca26"
             ],
             [
              1,
              "#f0f921"
             ]
            ],
            "type": "surface"
           }
          ],
          "table": [
           {
            "cells": {
             "fill": {
              "color": "#EBF0F8"
             },
             "line": {
              "color": "white"
             }
            },
            "header": {
             "fill": {
              "color": "#C8D4E3"
             },
             "line": {
              "color": "white"
             }
            },
            "type": "table"
           }
          ]
         },
         "layout": {
          "annotationdefaults": {
           "arrowcolor": "#2a3f5f",
           "arrowhead": 0,
           "arrowwidth": 1
          },
          "autotypenumbers": "strict",
          "coloraxis": {
           "colorbar": {
            "outlinewidth": 0,
            "ticks": ""
           }
          },
          "colorscale": {
           "diverging": [
            [
             0,
             "#8e0152"
            ],
            [
             0.1,
             "#c51b7d"
            ],
            [
             0.2,
             "#de77ae"
            ],
            [
             0.3,
             "#f1b6da"
            ],
            [
             0.4,
             "#fde0ef"
            ],
            [
             0.5,
             "#f7f7f7"
            ],
            [
             0.6,
             "#e6f5d0"
            ],
            [
             0.7,
             "#b8e186"
            ],
            [
             0.8,
             "#7fbc41"
            ],
            [
             0.9,
             "#4d9221"
            ],
            [
             1,
             "#276419"
            ]
           ],
           "sequential": [
            [
             0,
             "#0d0887"
            ],
            [
             0.1111111111111111,
             "#46039f"
            ],
            [
             0.2222222222222222,
             "#7201a8"
            ],
            [
             0.3333333333333333,
             "#9c179e"
            ],
            [
             0.4444444444444444,
             "#bd3786"
            ],
            [
             0.5555555555555556,
             "#d8576b"
            ],
            [
             0.6666666666666666,
             "#ed7953"
            ],
            [
             0.7777777777777778,
             "#fb9f3a"
            ],
            [
             0.8888888888888888,
             "#fdca26"
            ],
            [
             1,
             "#f0f921"
            ]
           ],
           "sequentialminus": [
            [
             0,
             "#0d0887"
            ],
            [
             0.1111111111111111,
             "#46039f"
            ],
            [
             0.2222222222222222,
             "#7201a8"
            ],
            [
             0.3333333333333333,
             "#9c179e"
            ],
            [
             0.4444444444444444,
             "#bd3786"
            ],
            [
             0.5555555555555556,
             "#d8576b"
            ],
            [
             0.6666666666666666,
             "#ed7953"
            ],
            [
             0.7777777777777778,
             "#fb9f3a"
            ],
            [
             0.8888888888888888,
             "#fdca26"
            ],
            [
             1,
             "#f0f921"
            ]
           ]
          },
          "colorway": [
           "#636efa",
           "#EF553B",
           "#00cc96",
           "#ab63fa",
           "#FFA15A",
           "#19d3f3",
           "#FF6692",
           "#B6E880",
           "#FF97FF",
           "#FECB52"
          ],
          "font": {
           "color": "#2a3f5f"
          },
          "geo": {
           "bgcolor": "white",
           "lakecolor": "white",
           "landcolor": "#E5ECF6",
           "showlakes": true,
           "showland": true,
           "subunitcolor": "white"
          },
          "hoverlabel": {
           "align": "left"
          },
          "hovermode": "closest",
          "mapbox": {
           "style": "light"
          },
          "paper_bgcolor": "white",
          "plot_bgcolor": "#E5ECF6",
          "polar": {
           "angularaxis": {
            "gridcolor": "white",
            "linecolor": "white",
            "ticks": ""
           },
           "bgcolor": "#E5ECF6",
           "radialaxis": {
            "gridcolor": "white",
            "linecolor": "white",
            "ticks": ""
           }
          },
          "scene": {
           "xaxis": {
            "backgroundcolor": "#E5ECF6",
            "gridcolor": "white",
            "gridwidth": 2,
            "linecolor": "white",
            "showbackground": true,
            "ticks": "",
            "zerolinecolor": "white"
           },
           "yaxis": {
            "backgroundcolor": "#E5ECF6",
            "gridcolor": "white",
            "gridwidth": 2,
            "linecolor": "white",
            "showbackground": true,
            "ticks": "",
            "zerolinecolor": "white"
           },
           "zaxis": {
            "backgroundcolor": "#E5ECF6",
            "gridcolor": "white",
            "gridwidth": 2,
            "linecolor": "white",
            "showbackground": true,
            "ticks": "",
            "zerolinecolor": "white"
           }
          },
          "shapedefaults": {
           "line": {
            "color": "#2a3f5f"
           }
          },
          "ternary": {
           "aaxis": {
            "gridcolor": "white",
            "linecolor": "white",
            "ticks": ""
           },
           "baxis": {
            "gridcolor": "white",
            "linecolor": "white",
            "ticks": ""
           },
           "bgcolor": "#E5ECF6",
           "caxis": {
            "gridcolor": "white",
            "linecolor": "white",
            "ticks": ""
           }
          },
          "title": {
           "x": 0.05
          },
          "xaxis": {
           "automargin": true,
           "gridcolor": "white",
           "linecolor": "white",
           "ticks": "",
           "title": {
            "standoff": 15
           },
           "zerolinecolor": "white",
           "zerolinewidth": 2
          },
          "yaxis": {
           "automargin": true,
           "gridcolor": "white",
           "linecolor": "white",
           "ticks": "",
           "title": {
            "standoff": 15
           },
           "zerolinecolor": "white",
           "zerolinewidth": 2
          }
         }
        },
        "title": {
         "text": "Comparación de Precios entre Supermercados para cada Categoría de Producto"
        },
        "xaxis": {
         "anchor": "y",
         "domain": [
          0,
          0.49
         ],
         "title": {
          "text": "Supermercado"
         }
        },
        "xaxis2": {
         "anchor": "y2",
         "domain": [
          0.51,
          1
         ],
         "matches": "x",
         "title": {
          "text": "Supermercado"
         }
        },
        "yaxis": {
         "anchor": "x",
         "domain": [
          0,
          1
         ],
         "title": {
          "text": "Precio en EUR"
         }
        },
        "yaxis2": {
         "anchor": "x2",
         "domain": [
          0,
          1
         ],
         "showticklabels": false
        }
       }
      }
     },
     "metadata": {},
     "output_type": "display_data"
    }
   ],
   "source": [
    "# La función melt de Pandas permite \"aplanar\" la información, transformándola de un formato ancho a uno largo, que permite a Ploty graficar de manera adecuada.\n",
    "\n",
    "df_melt = resultado1.melt(\n",
    "    id_vars=[\"supermercado\", \"categoria\"], \n",
    "    value_vars=[\"precio_minimo\", \"precio_maximo\"], \n",
    "    var_name=\"tipo_precio\", \n",
    "    value_name=\"precio\"\n",
    ")\n",
    "\n",
    "fig1 = px.bar(\n",
    "    df_melt, \n",
    "    x=\"supermercado\", \n",
    "    y=\"precio\", \n",
    "    color=\"categoria\", \n",
    "    barmode=\"group\",\n",
    "    facet_col=\"tipo_precio\",  # Crear una columna por tipo de precio (mínimo, máximo)\n",
    "    labels={\n",
    "        \"supermercado\": \"Supermercado\",\n",
    "        \"precio\": \"Precio (EUR)\",\n",
    "        \"categoria\": \"Categoría\",\n",
    "        \"tipo_precio\": \"Tipo de Precio\"\n",
    "    },\n",
    "    title=\"Comparación de Precios entre Supermercados para cada Categoría de Producto\"\n",
    ")\n",
    "\n",
    "fig1.update_layout(\n",
    "    xaxis_title=\"Supermercado\",\n",
    "    yaxis_title=\"Precio en EUR\",\n",
    ")\n",
    "fig1.update_yaxes(matches=None)\n",
    "\n",
    "fig1.show()"
   ]
  },
  {
   "cell_type": "code",
   "execution_count": 28,
   "metadata": {},
   "outputs": [],
   "source": [
    "query2 = '''\n",
    "SELECT \n",
    "    h.fecha,\n",
    "    s.nombre AS supermercado,\n",
    "    c.nombre AS categoria,\n",
    "    ROUND(AVG(h.precioeur),2) AS precio_promedio\n",
    "FROM \n",
    "    historico h\n",
    "JOIN \n",
    "    categorias c\n",
    "        ON h.id_categoria = c.id_categoria\n",
    "JOIN \n",
    "    supermercados s\n",
    "        ON h.id_supermercado = s.id_supermercado\n",
    "GROUP BY \n",
    "    h.fecha, s.nombre, c.nombre\n",
    "ORDER BY \n",
    "    c.nombre, s.nombre, h.fecha;\n",
    "'''"
   ]
  },
  {
   "cell_type": "code",
   "execution_count": 29,
   "metadata": {},
   "outputs": [
    {
     "data": {
      "text/html": [
       "<div>\n",
       "<style scoped>\n",
       "    .dataframe tbody tr th:only-of-type {\n",
       "        vertical-align: middle;\n",
       "    }\n",
       "\n",
       "    .dataframe tbody tr th {\n",
       "        vertical-align: top;\n",
       "    }\n",
       "\n",
       "    .dataframe thead th {\n",
       "        text-align: right;\n",
       "    }\n",
       "</style>\n",
       "<table border=\"1\" class=\"dataframe\">\n",
       "  <thead>\n",
       "    <tr style=\"text-align: right;\">\n",
       "      <th></th>\n",
       "      <th>fecha</th>\n",
       "      <th>supermercado</th>\n",
       "      <th>categoria</th>\n",
       "      <th>precio_promedio</th>\n",
       "    </tr>\n",
       "  </thead>\n",
       "  <tbody>\n",
       "    <tr>\n",
       "      <th>0</th>\n",
       "      <td>2024-01-07</td>\n",
       "      <td>Alcampo</td>\n",
       "      <td>Aceite-de-girasol</td>\n",
       "      <td>2.69</td>\n",
       "    </tr>\n",
       "    <tr>\n",
       "      <th>1</th>\n",
       "      <td>2024-01-08</td>\n",
       "      <td>Alcampo</td>\n",
       "      <td>Aceite-de-girasol</td>\n",
       "      <td>2.58</td>\n",
       "    </tr>\n",
       "    <tr>\n",
       "      <th>2</th>\n",
       "      <td>2024-01-09</td>\n",
       "      <td>Alcampo</td>\n",
       "      <td>Aceite-de-girasol</td>\n",
       "      <td>2.58</td>\n",
       "    </tr>\n",
       "    <tr>\n",
       "      <th>3</th>\n",
       "      <td>2024-01-10</td>\n",
       "      <td>Alcampo</td>\n",
       "      <td>Aceite-de-girasol</td>\n",
       "      <td>2.56</td>\n",
       "    </tr>\n",
       "    <tr>\n",
       "      <th>4</th>\n",
       "      <td>2024-02-07</td>\n",
       "      <td>Alcampo</td>\n",
       "      <td>Aceite-de-girasol</td>\n",
       "      <td>2.75</td>\n",
       "    </tr>\n",
       "    <tr>\n",
       "      <th>...</th>\n",
       "      <td>...</td>\n",
       "      <td>...</td>\n",
       "      <td>...</td>\n",
       "      <td>...</td>\n",
       "    </tr>\n",
       "    <tr>\n",
       "      <th>1939</th>\n",
       "      <td>2024-11-09</td>\n",
       "      <td>Mercadona</td>\n",
       "      <td>Leche</td>\n",
       "      <td>3.79</td>\n",
       "    </tr>\n",
       "    <tr>\n",
       "      <th>1940</th>\n",
       "      <td>2024-11-10</td>\n",
       "      <td>Mercadona</td>\n",
       "      <td>Leche</td>\n",
       "      <td>3.70</td>\n",
       "    </tr>\n",
       "    <tr>\n",
       "      <th>1941</th>\n",
       "      <td>2024-12-08</td>\n",
       "      <td>Mercadona</td>\n",
       "      <td>Leche</td>\n",
       "      <td>3.64</td>\n",
       "    </tr>\n",
       "    <tr>\n",
       "      <th>1942</th>\n",
       "      <td>2024-12-09</td>\n",
       "      <td>Mercadona</td>\n",
       "      <td>Leche</td>\n",
       "      <td>3.79</td>\n",
       "    </tr>\n",
       "    <tr>\n",
       "      <th>1943</th>\n",
       "      <td>2024-12-10</td>\n",
       "      <td>Mercadona</td>\n",
       "      <td>Leche</td>\n",
       "      <td>3.70</td>\n",
       "    </tr>\n",
       "  </tbody>\n",
       "</table>\n",
       "<p>1944 rows × 4 columns</p>\n",
       "</div>"
      ],
      "text/plain": [
       "           fecha supermercado          categoria precio_promedio\n",
       "0     2024-01-07      Alcampo  Aceite-de-girasol            2.69\n",
       "1     2024-01-08      Alcampo  Aceite-de-girasol            2.58\n",
       "2     2024-01-09      Alcampo  Aceite-de-girasol            2.58\n",
       "3     2024-01-10      Alcampo  Aceite-de-girasol            2.56\n",
       "4     2024-02-07      Alcampo  Aceite-de-girasol            2.75\n",
       "...          ...          ...                ...             ...\n",
       "1939  2024-11-09    Mercadona              Leche            3.79\n",
       "1940  2024-11-10    Mercadona              Leche            3.70\n",
       "1941  2024-12-08    Mercadona              Leche            3.64\n",
       "1942  2024-12-09    Mercadona              Leche            3.79\n",
       "1943  2024-12-10    Mercadona              Leche            3.70\n",
       "\n",
       "[1944 rows x 4 columns]"
      ]
     },
     "execution_count": 29,
     "metadata": {},
     "output_type": "execute_result"
    }
   ],
   "source": [
    "resultado2 = sf.dbeaver_fetch(sf.dbeaver_conexion(\"Facua\"),query2)\n",
    "resultado2"
   ]
  },
  {
   "cell_type": "code",
   "execution_count": 33,
   "metadata": {},
   "outputs": [
    {
     "data": {
      "application/vnd.plotly.v1+json": {
       "config": {
        "plotlyServerURL": "https://plot.ly"
       },
       "data": [
        {
         "legendgroup": "Alcampo",
         "line": {
          "width": 2
         },
         "mode": "lines",
         "name": "Alcampo - Aceite-de-girasol",
         "type": "scatter",
         "x": [
          "2024-01-07",
          "2024-01-08",
          "2024-01-09",
          "2024-01-10",
          "2024-02-07",
          "2024-02-08",
          "2024-02-09",
          "2024-02-10",
          "2024-03-07",
          "2024-03-08",
          "2024-03-09",
          "2024-03-10",
          "2024-04-07",
          "2024-04-08",
          "2024-04-09",
          "2024-04-10",
          "2024-05-07",
          "2024-05-08",
          "2024-05-09",
          "2024-05-10",
          "2024-06-07",
          "2024-06-08",
          "2024-06-09",
          "2024-06-10",
          "2024-06-25",
          "2024-06-26",
          "2024-06-27",
          "2024-06-28",
          "2024-06-29",
          "2024-06-30",
          "2024-07-07",
          "2024-07-08",
          "2024-07-09",
          "2024-07-10",
          "2024-07-13",
          "2024-07-14",
          "2024-07-15",
          "2024-07-16",
          "2024-07-17",
          "2024-07-18",
          "2024-07-19",
          "2024-07-20",
          "2024-07-21",
          "2024-07-22",
          "2024-07-23",
          "2024-07-24",
          "2024-07-25",
          "2024-07-26",
          "2024-07-27",
          "2024-07-28",
          "2024-07-29",
          "2024-07-30",
          "2024-07-31",
          "2024-08-07",
          "2024-08-08",
          "2024-08-09",
          "2024-08-10",
          "2024-08-13",
          "2024-08-14",
          "2024-08-15",
          "2024-08-16",
          "2024-08-17",
          "2024-08-18",
          "2024-08-19",
          "2024-08-20",
          "2024-08-21",
          "2024-08-22",
          "2024-08-23",
          "2024-08-24",
          "2024-08-25",
          "2024-08-26",
          "2024-08-27",
          "2024-08-28",
          "2024-08-29",
          "2024-08-30",
          "2024-08-31",
          "2024-09-07",
          "2024-09-08",
          "2024-09-09",
          "2024-09-10",
          "2024-09-13",
          "2024-09-14",
          "2024-09-15",
          "2024-09-16",
          "2024-09-17",
          "2024-09-18",
          "2024-09-19",
          "2024-09-20",
          "2024-09-21",
          "2024-09-22",
          "2024-09-23",
          "2024-09-24",
          "2024-09-25",
          "2024-09-26",
          "2024-09-27",
          "2024-09-28",
          "2024-09-29",
          "2024-09-30",
          "2024-10-07",
          "2024-10-08",
          "2024-10-09",
          "2024-10-10",
          "2024-10-13",
          "2024-10-14",
          "2024-10-15",
          "2024-10-16",
          "2024-10-17",
          "2024-10-18",
          "2024-10-19",
          "2024-10-20",
          "2024-10-21",
          "2024-10-22",
          "2024-10-23",
          "2024-10-24",
          "2024-10-25",
          "2024-10-26",
          "2024-11-07",
          "2024-11-08",
          "2024-11-09",
          "2024-11-10",
          "2024-12-07",
          "2024-12-08",
          "2024-12-09",
          "2024-12-10"
         ],
         "xaxis": "x",
         "y": [
          2.69,
          2.58,
          2.58,
          2.56,
          2.75,
          2.58,
          2.58,
          2.63,
          2.75,
          2.58,
          2.58,
          2.63,
          2.75,
          2.58,
          2.58,
          2.63,
          2.75,
          2.58,
          2.58,
          2.63,
          2.75,
          2.58,
          2.58,
          2.63,
          2.65,
          2.65,
          2.74,
          2.74,
          2.74,
          2.69,
          2.75,
          2.58,
          2.58,
          2.63,
          2.6,
          2.6,
          2.73,
          2.73,
          2.73,
          2.73,
          2.63,
          2.63,
          2.63,
          2.63,
          2.6,
          2.6,
          2.6,
          2.49,
          2.49,
          2.49,
          2.49,
          2.49,
          2.49,
          2.75,
          2.57,
          2.58,
          2.63,
          2.58,
          2.58,
          2.58,
          2.58,
          2.58,
          2.58,
          2.58,
          2.58,
          2.58,
          2.58,
          2.58,
          2.58,
          2.58,
          2.58,
          2.58,
          2.58,
          2.58,
          2.58,
          2.58,
          2.75,
          2.57,
          2.58,
          2.63,
          2.53,
          2.53,
          2.53,
          2.53,
          2.53,
          2.53,
          2.53,
          2.53,
          2.53,
          2.53,
          2.53,
          2.53,
          2.55,
          2.56,
          2.56,
          2.56,
          2.56,
          2.56,
          2.75,
          2.57,
          2.58,
          2.69,
          2.69,
          2.69,
          2.69,
          2.69,
          2.69,
          2.69,
          2.69,
          2.69,
          2.69,
          2.69,
          2.69,
          2.69,
          2.74,
          2.74,
          2.75,
          2.57,
          2.58,
          2.69,
          2.73,
          2.58,
          2.5,
          2.69
         ],
         "yaxis": "y"
        },
        {
         "legendgroup": "Carrefour",
         "line": {
          "width": 2
         },
         "mode": "lines",
         "name": "Carrefour - Aceite-de-girasol",
         "type": "scatter",
         "x": [
          "2024-01-08",
          "2024-01-09",
          "2024-02-08",
          "2024-02-09",
          "2024-03-08",
          "2024-03-09",
          "2024-03-10",
          "2024-04-08",
          "2024-04-09",
          "2024-04-10",
          "2024-05-08",
          "2024-05-09",
          "2024-05-10",
          "2024-06-08",
          "2024-06-09",
          "2024-06-10",
          "2024-07-08",
          "2024-07-09",
          "2024-07-10",
          "2024-07-13",
          "2024-07-14",
          "2024-07-15",
          "2024-07-16",
          "2024-07-17",
          "2024-07-18",
          "2024-07-19",
          "2024-07-20",
          "2024-07-21",
          "2024-07-22",
          "2024-07-23",
          "2024-07-24",
          "2024-07-25",
          "2024-07-26",
          "2024-07-27",
          "2024-07-28",
          "2024-07-29",
          "2024-07-30",
          "2024-07-31",
          "2024-08-08",
          "2024-08-09",
          "2024-08-10",
          "2024-08-13",
          "2024-08-14",
          "2024-08-15",
          "2024-08-16",
          "2024-08-17",
          "2024-08-18",
          "2024-08-19",
          "2024-08-20",
          "2024-08-21",
          "2024-08-22",
          "2024-08-23",
          "2024-08-24",
          "2024-08-25",
          "2024-08-26",
          "2024-08-27",
          "2024-08-28",
          "2024-08-29",
          "2024-08-30",
          "2024-08-31",
          "2024-09-08",
          "2024-09-09",
          "2024-09-10",
          "2024-09-13",
          "2024-09-14",
          "2024-09-15",
          "2024-09-16",
          "2024-09-17",
          "2024-10-08",
          "2024-10-09",
          "2024-10-10",
          "2024-10-13",
          "2024-10-14",
          "2024-10-15",
          "2024-10-16",
          "2024-10-17",
          "2024-10-18",
          "2024-10-21",
          "2024-10-22",
          "2024-10-23",
          "2024-10-24",
          "2024-10-25",
          "2024-10-26",
          "2024-11-08",
          "2024-11-09",
          "2024-11-10",
          "2024-12-07",
          "2024-12-08",
          "2024-12-09",
          "2024-12-10"
         ],
         "xaxis": "x",
         "y": [
          8.44,
          6.23,
          8.44,
          8.54,
          8.42,
          8.54,
          10.84,
          8.42,
          8.54,
          9.07,
          8.42,
          8.54,
          8.57,
          7.49,
          8.54,
          9.07,
          8.42,
          8.54,
          9.68,
          8.47,
          8.47,
          8.47,
          8.47,
          8.47,
          8.47,
          8.47,
          8.47,
          8.47,
          8.47,
          8.47,
          8.37,
          8.37,
          8.46,
          8.39,
          8.39,
          8.44,
          8.44,
          8.44,
          4.76,
          8.51,
          9.07,
          6.09,
          6.09,
          6.09,
          6.09,
          6.09,
          6.09,
          6.09,
          6.09,
          6.09,
          6.09,
          8.47,
          8.47,
          8.47,
          8.51,
          8.55,
          8.55,
          6.17,
          8.55,
          8.55,
          8.47,
          8.51,
          9.68,
          8.8,
          9.34,
          8.8,
          8.75,
          9.27,
          8.47,
          8.51,
          8.51,
          8.51,
          8.51,
          8.51,
          8.51,
          8.51,
          8.61,
          8.58,
          8.58,
          6.53,
          8.58,
          8.58,
          8.58,
          8.47,
          8.79,
          8.51,
          6.09,
          8.47,
          8.8,
          8.51
         ],
         "yaxis": "y"
        },
        {
         "legendgroup": "Dia",
         "line": {
          "width": 2
         },
         "mode": "lines",
         "name": "Dia - Aceite-de-girasol",
         "type": "scatter",
         "x": [
          "2024-01-08",
          "2024-01-09",
          "2024-01-10",
          "2024-02-08",
          "2024-02-09",
          "2024-02-10",
          "2024-03-08",
          "2024-03-09",
          "2024-03-10",
          "2024-04-08",
          "2024-04-09",
          "2024-04-10",
          "2024-05-08",
          "2024-05-09",
          "2024-05-10",
          "2024-06-08",
          "2024-06-09",
          "2024-06-10",
          "2024-07-08",
          "2024-07-09",
          "2024-07-10",
          "2024-07-13",
          "2024-07-14",
          "2024-07-15",
          "2024-07-16",
          "2024-07-17",
          "2024-07-18",
          "2024-07-19",
          "2024-07-20",
          "2024-07-21",
          "2024-07-22",
          "2024-07-23",
          "2024-07-24",
          "2024-07-25",
          "2024-07-26",
          "2024-07-27",
          "2024-07-28",
          "2024-07-29",
          "2024-07-30",
          "2024-07-31",
          "2024-08-08",
          "2024-08-09",
          "2024-08-10",
          "2024-08-13",
          "2024-08-14",
          "2024-08-15",
          "2024-08-16",
          "2024-08-17",
          "2024-08-18",
          "2024-08-19",
          "2024-08-20",
          "2024-08-21",
          "2024-08-22",
          "2024-08-23",
          "2024-08-24",
          "2024-08-25",
          "2024-08-26",
          "2024-08-27",
          "2024-08-28",
          "2024-08-29",
          "2024-08-30",
          "2024-08-31",
          "2024-09-08",
          "2024-09-09",
          "2024-09-10",
          "2024-09-13",
          "2024-09-14",
          "2024-09-15",
          "2024-09-16",
          "2024-09-17",
          "2024-09-18",
          "2024-09-19",
          "2024-09-20",
          "2024-09-21",
          "2024-09-22",
          "2024-09-23",
          "2024-09-24",
          "2024-09-25",
          "2024-09-26",
          "2024-09-27",
          "2024-09-28",
          "2024-09-29",
          "2024-09-30",
          "2024-10-08",
          "2024-10-09",
          "2024-10-10",
          "2024-10-13",
          "2024-10-14",
          "2024-10-15",
          "2024-10-16",
          "2024-10-17",
          "2024-10-18",
          "2024-10-19",
          "2024-10-20",
          "2024-10-21",
          "2024-10-22",
          "2024-10-23",
          "2024-10-24",
          "2024-10-25",
          "2024-10-26",
          "2024-11-08",
          "2024-11-09",
          "2024-11-10",
          "2024-12-07",
          "2024-12-08",
          "2024-12-09",
          "2024-12-10"
         ],
         "xaxis": "x",
         "y": [
          5.91,
          5.26,
          5.39,
          5.91,
          5.26,
          5.39,
          5.91,
          5.26,
          5.39,
          5.91,
          5.26,
          5.39,
          5.91,
          5.26,
          5.39,
          5.91,
          5.26,
          5.39,
          5.74,
          5.26,
          5.39,
          6.16,
          6.16,
          6.16,
          6.16,
          5.99,
          5.99,
          5.99,
          5.99,
          5.99,
          5.99,
          5.74,
          5.91,
          5.91,
          5.91,
          5.91,
          5.91,
          5.91,
          5.91,
          5.91,
          5.74,
          5.26,
          5.39,
          5.74,
          5.91,
          5.91,
          5.91,
          5.91,
          5.91,
          5.91,
          5.91,
          5.91,
          5.91,
          5.91,
          5.91,
          5.91,
          5.91,
          5.91,
          5.91,
          5.26,
          5.26,
          5.26,
          5.74,
          5.26,
          5.39,
          5.26,
          5.26,
          5.26,
          5.26,
          5.26,
          5.11,
          5.11,
          5.11,
          5.11,
          5.11,
          5.11,
          5.11,
          5.26,
          5.26,
          5.26,
          5.26,
          5.26,
          5.26,
          5.74,
          5.26,
          5.39,
          5.39,
          5.39,
          5.39,
          5.24,
          5.24,
          5.24,
          5.24,
          5.24,
          5.24,
          5.31,
          5.46,
          5.46,
          5.46,
          5.46,
          5.74,
          5.26,
          5.39,
          6.16,
          5.74,
          5.26,
          5.39
         ],
         "yaxis": "y"
        },
        {
         "legendgroup": "Eroski",
         "line": {
          "width": 2
         },
         "mode": "lines",
         "name": "Eroski - Aceite-de-girasol",
         "type": "scatter",
         "x": [
          "2024-01-08",
          "2024-01-09",
          "2024-01-10",
          "2024-02-08",
          "2024-02-09",
          "2024-02-10",
          "2024-03-08",
          "2024-03-09",
          "2024-03-10",
          "2024-04-08",
          "2024-04-09",
          "2024-04-10",
          "2024-05-08",
          "2024-05-09",
          "2024-05-10",
          "2024-06-08",
          "2024-06-09",
          "2024-06-10",
          "2024-07-08",
          "2024-07-09",
          "2024-07-10",
          "2024-07-13",
          "2024-07-14",
          "2024-07-15",
          "2024-07-16",
          "2024-07-17",
          "2024-07-18",
          "2024-07-19",
          "2024-07-20",
          "2024-07-21",
          "2024-07-22",
          "2024-07-23",
          "2024-07-24",
          "2024-07-25",
          "2024-07-26",
          "2024-07-27",
          "2024-07-28",
          "2024-07-29",
          "2024-07-30",
          "2024-07-31",
          "2024-08-08",
          "2024-08-09",
          "2024-08-10",
          "2024-08-13",
          "2024-08-14",
          "2024-08-15",
          "2024-08-16",
          "2024-08-17",
          "2024-08-18",
          "2024-08-19",
          "2024-08-20",
          "2024-08-21",
          "2024-08-22",
          "2024-08-23",
          "2024-08-24",
          "2024-08-25",
          "2024-08-26",
          "2024-08-27",
          "2024-08-28",
          "2024-08-29",
          "2024-08-30",
          "2024-08-31",
          "2024-09-08",
          "2024-09-09",
          "2024-09-10",
          "2024-09-13",
          "2024-09-14",
          "2024-09-15",
          "2024-09-16",
          "2024-09-17",
          "2024-09-18",
          "2024-09-19",
          "2024-09-20",
          "2024-09-21",
          "2024-09-22",
          "2024-09-23",
          "2024-09-24",
          "2024-09-25",
          "2024-09-26",
          "2024-09-27",
          "2024-09-28",
          "2024-09-29",
          "2024-09-30",
          "2024-10-08",
          "2024-10-09",
          "2024-10-10",
          "2024-10-13",
          "2024-10-14",
          "2024-10-15",
          "2024-10-16",
          "2024-10-17",
          "2024-10-18",
          "2024-10-19",
          "2024-10-20",
          "2024-10-21",
          "2024-10-22",
          "2024-10-23",
          "2024-10-24",
          "2024-10-25",
          "2024-10-26",
          "2024-11-08",
          "2024-11-09",
          "2024-12-07",
          "2024-12-08",
          "2024-12-09",
          "2024-12-10"
         ],
         "xaxis": "x",
         "y": [
          2.74,
          3.27,
          3.35,
          2.74,
          3.27,
          3.35,
          2.74,
          3.27,
          3.35,
          2.89,
          3.27,
          3.35,
          2.89,
          3.27,
          3.35,
          2.74,
          3.27,
          3.35,
          2.74,
          3.27,
          3.35,
          3.25,
          3.25,
          3.25,
          3.25,
          3.23,
          3.23,
          3.23,
          3.23,
          3.23,
          3.23,
          3.23,
          3.23,
          2.72,
          2.72,
          2.72,
          3.23,
          3.23,
          3.23,
          3.23,
          2.74,
          3.27,
          3.35,
          2.78,
          2.78,
          2.78,
          3.27,
          3.27,
          3.27,
          3.27,
          3.27,
          3.27,
          3.27,
          3.27,
          3.27,
          3.27,
          3.27,
          3.27,
          3.27,
          3.27,
          3.27,
          3.27,
          2.74,
          3.27,
          3.35,
          3.27,
          3.27,
          3.27,
          3.27,
          3.27,
          3.27,
          3.27,
          3.27,
          3.27,
          3.27,
          3.27,
          3.27,
          3.27,
          3.27,
          3.27,
          3.27,
          3.27,
          3.27,
          2.74,
          3.27,
          2.88,
          2.88,
          2.88,
          2.88,
          2.88,
          2.88,
          2.88,
          2.88,
          2.88,
          2.88,
          2.9,
          3.05,
          3.05,
          3.05,
          2.9,
          2.74,
          3.27,
          3.25,
          2.74,
          3.27,
          2.88
         ],
         "yaxis": "y"
        },
        {
         "legendgroup": "Hipercor",
         "line": {
          "width": 2
         },
         "mode": "lines",
         "name": "Hipercor - Aceite-de-girasol",
         "type": "scatter",
         "x": [
          "2024-01-08",
          "2024-01-09",
          "2024-01-10",
          "2024-02-08",
          "2024-02-09",
          "2024-02-10",
          "2024-03-08",
          "2024-03-09",
          "2024-04-08",
          "2024-04-09",
          "2024-05-08",
          "2024-05-09",
          "2024-06-08",
          "2024-06-09",
          "2024-07-08",
          "2024-07-09",
          "2024-07-13",
          "2024-07-14",
          "2024-07-15",
          "2024-07-16",
          "2024-07-17",
          "2024-07-18",
          "2024-07-19",
          "2024-07-20",
          "2024-07-21",
          "2024-07-22",
          "2024-07-23",
          "2024-07-24",
          "2024-07-25",
          "2024-07-26",
          "2024-07-27",
          "2024-07-28",
          "2024-07-29",
          "2024-07-30",
          "2024-07-31",
          "2024-08-08",
          "2024-08-09",
          "2024-08-13",
          "2024-08-14",
          "2024-08-15",
          "2024-08-16",
          "2024-08-17",
          "2024-08-18",
          "2024-08-19",
          "2024-08-20",
          "2024-08-21",
          "2024-08-22",
          "2024-08-23",
          "2024-08-24",
          "2024-08-25",
          "2024-08-26",
          "2024-08-27",
          "2024-08-28",
          "2024-08-29",
          "2024-08-30",
          "2024-08-31",
          "2024-09-08",
          "2024-09-09",
          "2024-09-13",
          "2024-09-14",
          "2024-09-15",
          "2024-09-16",
          "2024-09-17",
          "2024-09-18",
          "2024-09-19",
          "2024-09-20",
          "2024-09-21",
          "2024-09-22",
          "2024-09-23",
          "2024-09-24",
          "2024-09-25",
          "2024-09-26",
          "2024-09-27",
          "2024-09-28",
          "2024-09-29",
          "2024-09-30",
          "2024-10-08",
          "2024-10-09",
          "2024-10-14",
          "2024-10-15",
          "2024-10-16",
          "2024-10-17",
          "2024-10-18",
          "2024-10-19",
          "2024-10-21",
          "2024-10-22",
          "2024-10-23",
          "2024-10-24",
          "2024-10-25",
          "2024-10-26",
          "2024-11-08",
          "2024-11-09",
          "2024-12-08",
          "2024-12-09"
         ],
         "xaxis": "x",
         "y": [
          2.97,
          2.99,
          3.02,
          2.97,
          2.99,
          3.09,
          2.97,
          2.99,
          2.97,
          2.99,
          2.97,
          2.99,
          2.97,
          2.99,
          2.97,
          2.99,
          3.04,
          3.04,
          3.04,
          3.04,
          3.04,
          3.04,
          3.04,
          3.04,
          3.04,
          3.04,
          3.04,
          3.04,
          3.04,
          3.04,
          3.04,
          3.04,
          3.04,
          3.04,
          2.97,
          2.97,
          2.99,
          2.95,
          3.02,
          3.02,
          3.02,
          3.02,
          3.02,
          3.02,
          3.02,
          3.02,
          3.02,
          3.02,
          3.02,
          3.02,
          3.02,
          2.99,
          2.99,
          2.99,
          2.99,
          2.99,
          2.97,
          2.99,
          2.94,
          2.94,
          2.94,
          2.94,
          2.94,
          2.94,
          2.94,
          2.94,
          2.94,
          2.94,
          2.94,
          2.94,
          2.94,
          3.02,
          3.02,
          3.02,
          3.02,
          3.02,
          2.95,
          2.92,
          3.09,
          3.61,
          3.61,
          3.09,
          3.09,
          3.09,
          3.09,
          3.09,
          3.09,
          3.01,
          3.01,
          3.01,
          2.95,
          2.92,
          2.95,
          2.94
         ],
         "yaxis": "y"
        },
        {
         "legendgroup": "Mercadona",
         "line": {
          "width": 2
         },
         "mode": "lines",
         "name": "Mercadona - Aceite-de-girasol",
         "type": "scatter",
         "x": [
          "2024-01-08",
          "2024-01-09",
          "2024-01-10",
          "2024-02-08",
          "2024-02-09",
          "2024-02-10",
          "2024-03-08",
          "2024-03-09",
          "2024-03-10",
          "2024-04-08",
          "2024-04-09",
          "2024-04-10",
          "2024-05-08",
          "2024-05-09",
          "2024-05-10",
          "2024-06-08",
          "2024-06-09",
          "2024-06-10",
          "2024-07-08",
          "2024-07-09",
          "2024-07-10",
          "2024-07-13",
          "2024-07-14",
          "2024-07-15",
          "2024-07-16",
          "2024-07-17",
          "2024-07-18",
          "2024-07-19",
          "2024-07-20",
          "2024-07-21",
          "2024-07-22",
          "2024-07-23",
          "2024-07-24",
          "2024-07-25",
          "2024-07-26",
          "2024-07-27",
          "2024-07-28",
          "2024-07-29",
          "2024-07-30",
          "2024-07-31",
          "2024-08-08",
          "2024-08-09",
          "2024-08-10",
          "2024-08-13",
          "2024-08-14",
          "2024-08-15",
          "2024-08-16",
          "2024-08-17",
          "2024-08-18",
          "2024-08-19",
          "2024-08-20",
          "2024-08-21",
          "2024-08-22",
          "2024-08-23",
          "2024-08-24",
          "2024-08-25",
          "2024-08-26",
          "2024-08-27",
          "2024-08-28",
          "2024-08-29",
          "2024-08-30",
          "2024-08-31",
          "2024-09-08",
          "2024-09-09",
          "2024-09-10",
          "2024-09-13",
          "2024-09-14",
          "2024-09-15",
          "2024-09-16",
          "2024-09-17",
          "2024-09-18",
          "2024-09-19",
          "2024-09-20",
          "2024-09-21",
          "2024-09-22",
          "2024-09-23",
          "2024-09-24",
          "2024-09-25",
          "2024-09-26",
          "2024-09-27",
          "2024-09-28",
          "2024-09-29",
          "2024-09-30",
          "2024-10-08",
          "2024-10-09",
          "2024-10-10",
          "2024-10-13",
          "2024-10-14",
          "2024-10-15",
          "2024-10-16",
          "2024-10-17",
          "2024-10-18",
          "2024-10-19",
          "2024-10-20",
          "2024-10-21",
          "2024-10-22",
          "2024-10-23",
          "2024-10-24",
          "2024-10-25",
          "2024-10-26",
          "2024-11-08",
          "2024-11-09",
          "2024-11-10",
          "2024-12-07",
          "2024-12-08",
          "2024-12-09",
          "2024-12-10"
         ],
         "xaxis": "x",
         "y": [
          4.1,
          4.1,
          4.2,
          4.1,
          4.1,
          4.2,
          4.1,
          4.1,
          4.2,
          4.1,
          4.1,
          4.2,
          4.1,
          4.1,
          4.2,
          4.1,
          4.1,
          4.2,
          4.1,
          4.1,
          4.2,
          4.1,
          4.1,
          4.1,
          4.1,
          4.1,
          4.1,
          4.1,
          4.1,
          4.1,
          4.1,
          4.1,
          4.1,
          4.1,
          4.1,
          4.1,
          4.1,
          4.1,
          4.1,
          4.1,
          4.1,
          4.1,
          4.2,
          4.1,
          4.1,
          4.1,
          4.1,
          4.1,
          4.1,
          4.1,
          4.1,
          4.1,
          4.1,
          4.1,
          4.1,
          4.1,
          4.1,
          4.1,
          4.1,
          4.1,
          4.1,
          4.1,
          4.1,
          4.1,
          4.2,
          4.1,
          4.1,
          4.1,
          4.1,
          4.1,
          4.1,
          4.1,
          4.1,
          4.1,
          4.1,
          4.1,
          4.1,
          4.1,
          4.1,
          4.1,
          4.1,
          4.1,
          4.1,
          4.1,
          4.1,
          4.2,
          4.2,
          4.2,
          4.2,
          4.2,
          4.2,
          4.2,
          4.2,
          4.2,
          4.2,
          4.2,
          4.2,
          4.2,
          4.2,
          4.2,
          4.1,
          4.1,
          4.2,
          4.1,
          4.1,
          4.1,
          4.2
         ],
         "yaxis": "y"
        },
        {
         "legendgroup": "Alcampo",
         "line": {
          "width": 2
         },
         "mode": "lines",
         "name": "Alcampo - Aceite-de-oliva",
         "type": "scatter",
         "x": [
          "2024-01-08",
          "2024-01-09",
          "2024-01-10",
          "2024-02-07",
          "2024-02-08",
          "2024-02-09",
          "2024-02-10",
          "2024-03-07",
          "2024-03-08",
          "2024-03-09",
          "2024-03-10",
          "2024-04-07",
          "2024-04-08",
          "2024-04-09",
          "2024-04-10",
          "2024-05-07",
          "2024-05-08",
          "2024-05-09",
          "2024-05-10",
          "2024-06-07",
          "2024-06-08",
          "2024-06-09",
          "2024-06-10",
          "2024-06-22",
          "2024-06-23",
          "2024-06-24",
          "2024-06-25",
          "2024-06-26",
          "2024-06-27",
          "2024-06-28",
          "2024-06-29",
          "2024-07-07",
          "2024-07-08",
          "2024-07-09",
          "2024-07-10",
          "2024-07-13",
          "2024-07-14",
          "2024-07-15",
          "2024-07-16",
          "2024-07-17",
          "2024-07-18",
          "2024-07-19",
          "2024-07-20",
          "2024-07-21",
          "2024-07-22",
          "2024-07-23",
          "2024-07-24",
          "2024-07-25",
          "2024-07-26",
          "2024-07-27",
          "2024-07-28",
          "2024-07-29",
          "2024-07-30",
          "2024-07-31",
          "2024-08-07",
          "2024-08-08",
          "2024-08-09",
          "2024-08-10",
          "2024-08-13",
          "2024-08-14",
          "2024-08-15",
          "2024-08-16",
          "2024-08-17",
          "2024-08-18",
          "2024-08-19",
          "2024-08-20",
          "2024-08-21",
          "2024-08-22",
          "2024-08-23",
          "2024-08-24",
          "2024-08-25",
          "2024-08-26",
          "2024-08-27",
          "2024-08-28",
          "2024-08-29",
          "2024-08-30",
          "2024-08-31",
          "2024-09-07",
          "2024-09-08",
          "2024-09-09",
          "2024-09-10",
          "2024-09-13",
          "2024-09-14",
          "2024-09-15",
          "2024-09-16",
          "2024-09-17",
          "2024-09-18",
          "2024-09-19",
          "2024-09-20",
          "2024-09-21",
          "2024-09-22",
          "2024-09-23",
          "2024-09-24",
          "2024-09-25",
          "2024-09-26",
          "2024-09-27",
          "2024-09-28",
          "2024-09-29",
          "2024-09-30",
          "2024-10-07",
          "2024-10-08",
          "2024-10-09",
          "2024-10-10",
          "2024-10-13",
          "2024-10-14",
          "2024-10-15",
          "2024-10-16",
          "2024-10-17",
          "2024-10-18",
          "2024-10-19",
          "2024-10-20",
          "2024-10-21",
          "2024-10-22",
          "2024-10-23",
          "2024-10-24",
          "2024-10-25",
          "2024-10-26",
          "2024-11-07",
          "2024-11-08",
          "2024-11-09",
          "2024-11-10",
          "2024-12-07",
          "2024-12-08",
          "2024-12-09",
          "2024-12-10"
         ],
         "xaxis": "x2",
         "y": [
          25.28,
          23.59,
          23.82,
          25.62,
          25.56,
          24.07,
          24.4,
          26.14,
          25.27,
          23.73,
          25.1,
          26.42,
          25.27,
          23.73,
          25.19,
          26.93,
          24.81,
          23.73,
          25.16,
          26.86,
          24.81,
          23.73,
          25.07,
          34.65,
          34.65,
          34.65,
          22.82,
          23.03,
          22.42,
          22.36,
          23.59,
          26.85,
          24.81,
          23.98,
          25.16,
          25.32,
          25.28,
          24.95,
          25.03,
          25.14,
          25.18,
          25.02,
          25,
          25.06,
          25.01,
          25.27,
          25.06,
          25.29,
          25.06,
          24.99,
          25.03,
          25.03,
          25.03,
          24.99,
          26.85,
          24.73,
          23.98,
          25.16,
          24.62,
          24.23,
          24.23,
          24.23,
          24.23,
          24.47,
          24.47,
          24.47,
          24.23,
          24.08,
          24.04,
          24.04,
          24.25,
          24.76,
          24.25,
          24.25,
          23.83,
          23.79,
          24.07,
          26.89,
          24.73,
          23.98,
          25.16,
          24.44,
          24.64,
          24.12,
          24.12,
          24.32,
          24.63,
          24.16,
          24.16,
          23.81,
          24.01,
          23.91,
          24.14,
          24.02,
          23.99,
          23.82,
          24.02,
          24.02,
          24.02,
          26.17,
          24.69,
          23.98,
          24.81,
          24.77,
          23.64,
          24.25,
          24.5,
          24.25,
          24.64,
          24.42,
          24.27,
          24.32,
          24.32,
          24.21,
          24.02,
          24.07,
          23.96,
          25.16,
          24.47,
          23.83,
          24.81,
          25.32,
          24.62,
          24.36,
          24.77
         ],
         "yaxis": "y2"
        },
        {
         "legendgroup": "Carrefour",
         "line": {
          "width": 2
         },
         "mode": "lines",
         "name": "Carrefour - Aceite-de-oliva",
         "type": "scatter",
         "x": [
          "2024-01-07",
          "2024-01-08",
          "2024-01-09",
          "2024-02-07",
          "2024-02-08",
          "2024-02-09",
          "2024-03-07",
          "2024-03-08",
          "2024-03-09",
          "2024-03-10",
          "2024-04-07",
          "2024-04-08",
          "2024-04-09",
          "2024-04-10",
          "2024-05-07",
          "2024-05-08",
          "2024-05-09",
          "2024-05-10",
          "2024-06-07",
          "2024-06-08",
          "2024-06-09",
          "2024-06-10",
          "2024-06-22",
          "2024-06-23",
          "2024-06-24",
          "2024-06-25",
          "2024-06-26",
          "2024-06-27",
          "2024-06-28",
          "2024-06-29",
          "2024-06-30",
          "2024-07-07",
          "2024-07-08",
          "2024-07-09",
          "2024-07-10",
          "2024-07-13",
          "2024-07-14",
          "2024-07-15",
          "2024-07-16",
          "2024-07-17",
          "2024-07-18",
          "2024-07-19",
          "2024-07-20",
          "2024-07-21",
          "2024-07-22",
          "2024-07-23",
          "2024-07-24",
          "2024-07-25",
          "2024-07-26",
          "2024-07-27",
          "2024-07-28",
          "2024-07-29",
          "2024-07-30",
          "2024-07-31",
          "2024-08-07",
          "2024-08-08",
          "2024-08-09",
          "2024-08-10",
          "2024-08-13",
          "2024-08-14",
          "2024-08-15",
          "2024-08-16",
          "2024-08-17",
          "2024-08-18",
          "2024-08-19",
          "2024-08-20",
          "2024-08-21",
          "2024-08-22",
          "2024-08-23",
          "2024-08-24",
          "2024-08-25",
          "2024-08-26",
          "2024-08-27",
          "2024-08-28",
          "2024-08-29",
          "2024-08-30",
          "2024-08-31",
          "2024-09-07",
          "2024-09-08",
          "2024-09-09",
          "2024-09-10",
          "2024-09-13",
          "2024-09-14",
          "2024-09-15",
          "2024-09-16",
          "2024-09-17",
          "2024-10-07",
          "2024-10-08",
          "2024-10-09",
          "2024-10-10",
          "2024-10-13",
          "2024-10-14",
          "2024-10-15",
          "2024-10-16",
          "2024-10-17",
          "2024-10-18",
          "2024-10-21",
          "2024-10-22",
          "2024-10-23",
          "2024-10-24",
          "2024-10-25",
          "2024-10-26",
          "2024-11-07",
          "2024-11-08",
          "2024-11-09",
          "2024-11-10",
          "2024-12-07",
          "2024-12-08",
          "2024-12-09",
          "2024-12-10"
         ],
         "xaxis": "x2",
         "y": [
          17.27,
          17.53,
          17.48,
          17.67,
          17.53,
          17.38,
          17.78,
          17.53,
          17.38,
          16.96,
          17.37,
          17.53,
          17.7,
          16.57,
          17.37,
          17.4,
          17.64,
          16.1,
          16.56,
          17.52,
          17.25,
          16,
          18.82,
          18.82,
          18.67,
          19.03,
          18.91,
          19.2,
          17.77,
          17.77,
          18.13,
          17.97,
          17.45,
          17.43,
          16.7,
          17.16,
          17.16,
          17.19,
          17.16,
          17.16,
          17.18,
          17.18,
          17.14,
          17.52,
          17.52,
          17.45,
          17.18,
          17.18,
          17.46,
          17.46,
          17.46,
          17.53,
          17.53,
          17.53,
          17.97,
          16.5,
          17.9,
          16.7,
          17.46,
          17.52,
          17.39,
          17.39,
          17.39,
          17.39,
          17.4,
          17.25,
          17.25,
          17.13,
          17.13,
          17.14,
          17.14,
          17.31,
          17.42,
          17.48,
          17.48,
          17.12,
          17.36,
          17.92,
          17.41,
          18.15,
          16.87,
          17.72,
          17.77,
          17.72,
          17.72,
          17.72,
          17.4,
          17.56,
          17.91,
          16.56,
          16.31,
          16.31,
          16.37,
          16.5,
          17.01,
          16.94,
          17.47,
          16.34,
          17.33,
          17.32,
          16.15,
          17.65,
          16.94,
          17.41,
          17.7,
          14.95,
          17.39,
          17.46,
          17.77,
          16.99
         ],
         "yaxis": "y2"
        },
        {
         "legendgroup": "Dia",
         "line": {
          "width": 2
         },
         "mode": "lines",
         "name": "Dia - Aceite-de-oliva",
         "type": "scatter",
         "x": [
          "2024-01-08",
          "2024-01-09",
          "2024-01-10",
          "2024-02-08",
          "2024-02-09",
          "2024-02-10",
          "2024-03-08",
          "2024-03-09",
          "2024-03-10",
          "2024-04-08",
          "2024-04-09",
          "2024-04-10",
          "2024-05-08",
          "2024-05-09",
          "2024-05-10",
          "2024-06-08",
          "2024-06-09",
          "2024-06-10",
          "2024-06-25",
          "2024-06-27",
          "2024-07-08",
          "2024-07-09",
          "2024-07-10",
          "2024-07-13",
          "2024-07-14",
          "2024-07-15",
          "2024-07-16",
          "2024-07-17",
          "2024-07-18",
          "2024-07-19",
          "2024-07-20",
          "2024-07-21",
          "2024-07-22",
          "2024-07-23",
          "2024-07-24",
          "2024-07-25",
          "2024-07-26",
          "2024-07-27",
          "2024-07-28",
          "2024-07-29",
          "2024-07-30",
          "2024-07-31",
          "2024-08-08",
          "2024-08-09",
          "2024-08-10",
          "2024-08-13",
          "2024-08-14",
          "2024-08-15",
          "2024-08-16",
          "2024-08-17",
          "2024-08-18",
          "2024-08-19",
          "2024-08-20",
          "2024-08-21",
          "2024-08-22",
          "2024-08-23",
          "2024-08-24",
          "2024-08-25",
          "2024-08-26",
          "2024-08-27",
          "2024-08-28",
          "2024-08-29",
          "2024-08-30",
          "2024-08-31",
          "2024-09-08",
          "2024-09-09",
          "2024-09-10",
          "2024-09-13",
          "2024-09-14",
          "2024-09-15",
          "2024-09-16",
          "2024-09-17",
          "2024-09-18",
          "2024-09-19",
          "2024-09-20",
          "2024-09-21",
          "2024-09-22",
          "2024-09-23",
          "2024-09-24",
          "2024-09-25",
          "2024-09-26",
          "2024-09-27",
          "2024-09-28",
          "2024-09-29",
          "2024-09-30",
          "2024-10-08",
          "2024-10-09",
          "2024-10-10",
          "2024-10-13",
          "2024-10-14",
          "2024-10-15",
          "2024-10-16",
          "2024-10-17",
          "2024-10-18",
          "2024-10-19",
          "2024-10-20",
          "2024-10-21",
          "2024-10-22",
          "2024-10-23",
          "2024-10-24",
          "2024-10-25",
          "2024-10-26",
          "2024-11-07",
          "2024-11-08",
          "2024-11-09",
          "2024-11-10",
          "2024-12-07",
          "2024-12-08",
          "2024-12-09",
          "2024-12-10"
         ],
         "xaxis": "x2",
         "y": [
          14.56,
          14.84,
          15.27,
          14.56,
          14.84,
          15.27,
          14.56,
          14.84,
          15.27,
          14.56,
          14.5,
          15.27,
          14.56,
          14.5,
          15.27,
          14.55,
          14.5,
          15.27,
          13.43,
          15.2,
          14.55,
          14.5,
          15.27,
          14.64,
          14.64,
          14.64,
          14.64,
          14.48,
          14.4,
          14.4,
          14.4,
          14.4,
          14.4,
          14.4,
          14.38,
          14.38,
          14.38,
          14.38,
          14.38,
          14.38,
          14.38,
          14.56,
          14.55,
          14.5,
          15.27,
          14.55,
          14.55,
          14.55,
          14.53,
          14.53,
          14.53,
          14.53,
          14.53,
          14.9,
          14.59,
          14.59,
          14.59,
          14.59,
          14.59,
          15.15,
          14.84,
          14.84,
          14.84,
          14.84,
          14.55,
          14.5,
          15.27,
          14.14,
          14.14,
          14.14,
          14.68,
          14.68,
          14.68,
          14.68,
          14.68,
          14.68,
          14.68,
          14.68,
          15.03,
          15.03,
          15.03,
          15.03,
          15.03,
          15.03,
          15.03,
          14.55,
          14.5,
          15.27,
          15.27,
          15.27,
          15.27,
          15.27,
          15.01,
          15.01,
          15.01,
          15.01,
          15.01,
          14.95,
          14.78,
          14.78,
          14.78,
          14.44,
          14.64,
          14.55,
          14.68,
          15.27,
          14.64,
          14.55,
          14.68,
          15.27
         ],
         "yaxis": "y2"
        },
        {
         "legendgroup": "Eroski",
         "line": {
          "width": 2
         },
         "mode": "lines",
         "name": "Eroski - Aceite-de-oliva",
         "type": "scatter",
         "x": [
          "2024-01-07",
          "2024-01-08",
          "2024-01-09",
          "2024-01-10",
          "2024-02-07",
          "2024-02-08",
          "2024-02-09",
          "2024-02-10",
          "2024-03-07",
          "2024-03-08",
          "2024-03-09",
          "2024-03-10",
          "2024-04-07",
          "2024-04-08",
          "2024-04-09",
          "2024-04-10",
          "2024-05-07",
          "2024-05-08",
          "2024-05-09",
          "2024-05-10",
          "2024-06-07",
          "2024-06-08",
          "2024-06-09",
          "2024-06-10",
          "2024-06-25",
          "2024-06-26",
          "2024-06-27",
          "2024-06-28",
          "2024-06-29",
          "2024-06-30",
          "2024-07-07",
          "2024-07-08",
          "2024-07-09",
          "2024-07-10",
          "2024-07-13",
          "2024-07-14",
          "2024-07-15",
          "2024-07-16",
          "2024-07-17",
          "2024-07-18",
          "2024-07-19",
          "2024-07-20",
          "2024-07-21",
          "2024-07-22",
          "2024-07-23",
          "2024-07-24",
          "2024-07-25",
          "2024-07-26",
          "2024-07-27",
          "2024-07-28",
          "2024-07-29",
          "2024-07-30",
          "2024-07-31",
          "2024-08-07",
          "2024-08-08",
          "2024-08-09",
          "2024-08-10",
          "2024-08-13",
          "2024-08-14",
          "2024-08-15",
          "2024-08-16",
          "2024-08-17",
          "2024-08-18",
          "2024-08-19",
          "2024-08-20",
          "2024-08-21",
          "2024-08-22",
          "2024-08-23",
          "2024-08-24",
          "2024-08-25",
          "2024-08-26",
          "2024-08-27",
          "2024-08-28",
          "2024-08-29",
          "2024-08-30",
          "2024-08-31",
          "2024-09-07",
          "2024-09-08",
          "2024-09-09",
          "2024-09-10",
          "2024-09-13",
          "2024-09-14",
          "2024-09-15",
          "2024-09-16",
          "2024-09-17",
          "2024-09-18",
          "2024-09-19",
          "2024-09-20",
          "2024-09-21",
          "2024-09-22",
          "2024-09-23",
          "2024-09-24",
          "2024-09-25",
          "2024-09-26",
          "2024-09-27",
          "2024-09-28",
          "2024-09-29",
          "2024-09-30",
          "2024-10-07",
          "2024-10-08",
          "2024-10-09",
          "2024-10-10",
          "2024-10-13",
          "2024-10-14",
          "2024-10-15",
          "2024-10-16",
          "2024-10-17",
          "2024-10-18",
          "2024-10-19",
          "2024-10-20",
          "2024-10-21",
          "2024-10-22",
          "2024-10-23",
          "2024-10-24",
          "2024-10-25",
          "2024-10-26",
          "2024-11-07",
          "2024-11-08",
          "2024-11-09",
          "2024-11-10",
          "2024-12-07",
          "2024-12-08",
          "2024-12-09",
          "2024-12-10"
         ],
         "xaxis": "x2",
         "y": [
          12.87,
          13.6,
          12.37,
          12.61,
          13.6,
          13.61,
          12.05,
          12.68,
          13.47,
          13.63,
          12.05,
          12.52,
          13.44,
          13.78,
          13.23,
          12.53,
          14.04,
          13.78,
          13.57,
          12.98,
          14.16,
          12.91,
          13.53,
          13.15,
          14.86,
          18.27,
          17.68,
          12.91,
          13.52,
          13.52,
          14.15,
          12.89,
          13.53,
          13.15,
          13.88,
          13.88,
          13.74,
          13.4,
          13.35,
          14.28,
          14.36,
          14.5,
          14.5,
          14.31,
          14.29,
          14.04,
          14.19,
          14.33,
          14.33,
          13.87,
          13.57,
          13.57,
          13.95,
          14.45,
          12.84,
          13.62,
          13.28,
          13.34,
          13.62,
          13.84,
          13.93,
          13.93,
          14,
          14,
          13.73,
          14.08,
          14,
          13.27,
          13.18,
          13.27,
          13.43,
          13.43,
          12.46,
          10.97,
          14.48,
          12.03,
          13.05,
          13.29,
          13.74,
          13.3,
          12.83,
          12.83,
          12.85,
          12.98,
          12.69,
          12.69,
          12.74,
          12.14,
          12.37,
          12.37,
          12.37,
          12.65,
          12.65,
          12.9,
          12.9,
          13.45,
          13.45,
          12.88,
          12.74,
          13.29,
          13.25,
          12.86,
          12.86,
          12.51,
          12.34,
          12,
          12.05,
          12.06,
          11.92,
          12.01,
          12.01,
          11.75,
          12.1,
          11.88,
          11.88,
          11.25,
          13.67,
          13.4,
          13.25,
          16.85,
          13.67,
          13.39,
          12.83,
          12.86
         ],
         "yaxis": "y2"
        },
        {
         "legendgroup": "Hipercor",
         "line": {
          "width": 2
         },
         "mode": "lines",
         "name": "Hipercor - Aceite-de-oliva",
         "type": "scatter",
         "x": [
          "2024-01-07",
          "2024-01-08",
          "2024-01-09",
          "2024-01-10",
          "2024-02-07",
          "2024-02-08",
          "2024-02-09",
          "2024-02-10",
          "2024-03-07",
          "2024-03-08",
          "2024-03-09",
          "2024-03-10",
          "2024-04-07",
          "2024-04-08",
          "2024-04-09",
          "2024-04-10",
          "2024-05-07",
          "2024-05-08",
          "2024-05-09",
          "2024-05-10",
          "2024-06-07",
          "2024-06-08",
          "2024-06-09",
          "2024-06-10",
          "2024-06-22",
          "2024-06-23",
          "2024-06-24",
          "2024-06-25",
          "2024-06-28",
          "2024-06-29",
          "2024-07-07",
          "2024-07-08",
          "2024-07-09",
          "2024-07-10",
          "2024-07-13",
          "2024-07-14",
          "2024-07-15",
          "2024-07-16",
          "2024-07-17",
          "2024-07-18",
          "2024-07-19",
          "2024-07-20",
          "2024-07-21",
          "2024-07-22",
          "2024-07-23",
          "2024-07-24",
          "2024-07-25",
          "2024-07-26",
          "2024-07-27",
          "2024-07-28",
          "2024-07-29",
          "2024-07-30",
          "2024-07-31",
          "2024-08-07",
          "2024-08-08",
          "2024-08-09",
          "2024-08-10",
          "2024-08-13",
          "2024-08-14",
          "2024-08-15",
          "2024-08-16",
          "2024-08-17",
          "2024-08-18",
          "2024-08-19",
          "2024-08-20",
          "2024-08-21",
          "2024-08-22",
          "2024-08-23",
          "2024-08-24",
          "2024-08-25",
          "2024-08-26",
          "2024-08-27",
          "2024-08-28",
          "2024-08-29",
          "2024-08-30",
          "2024-08-31",
          "2024-09-07",
          "2024-09-08",
          "2024-09-09",
          "2024-09-10",
          "2024-09-13",
          "2024-09-14",
          "2024-09-15",
          "2024-09-16",
          "2024-09-17",
          "2024-09-18",
          "2024-09-19",
          "2024-09-20",
          "2024-09-21",
          "2024-09-22",
          "2024-09-23",
          "2024-09-24",
          "2024-09-25",
          "2024-09-26",
          "2024-09-27",
          "2024-09-28",
          "2024-09-29",
          "2024-09-30",
          "2024-10-07",
          "2024-10-08",
          "2024-10-09",
          "2024-10-10",
          "2024-10-13",
          "2024-10-14",
          "2024-10-15",
          "2024-10-16",
          "2024-10-17",
          "2024-10-18",
          "2024-10-19",
          "2024-10-20",
          "2024-10-21",
          "2024-10-22",
          "2024-10-23",
          "2024-10-24",
          "2024-10-25",
          "2024-10-26",
          "2024-11-07",
          "2024-11-08",
          "2024-11-09",
          "2024-11-10",
          "2024-12-07",
          "2024-12-08",
          "2024-12-09",
          "2024-12-10"
         ],
         "xaxis": "x2",
         "y": [
          16.12,
          20.37,
          19.97,
          19.2,
          20.32,
          20.43,
          20.22,
          20.4,
          14.5,
          20.37,
          18.92,
          7.45,
          7.48,
          20.88,
          19.97,
          7.45,
          15.13,
          20.35,
          19.97,
          7.45,
          15.13,
          20.32,
          20.3,
          7.45,
          7.85,
          7.85,
          7.85,
          16.42,
          16.92,
          16.92,
          7.48,
          20.21,
          20.07,
          7.45,
          20.43,
          20.54,
          19.16,
          20.1,
          19.98,
          19.29,
          20.54,
          20.81,
          20.26,
          20.35,
          20.35,
          20.31,
          20.87,
          20.66,
          20.42,
          20.49,
          20.18,
          18.86,
          20.16,
          7.48,
          20.21,
          20.4,
          7.45,
          19.12,
          20.35,
          20.15,
          20.24,
          20.33,
          20.42,
          20.17,
          20.28,
          20.28,
          20.3,
          20.21,
          20.16,
          20.16,
          20.48,
          19.74,
          19.83,
          19.87,
          18.83,
          20.28,
          7.48,
          20.68,
          20.25,
          7.45,
          20.05,
          20.05,
          20.05,
          20.45,
          20.35,
          20.34,
          20.21,
          19.06,
          20.15,
          20.12,
          20.47,
          19.97,
          19.77,
          20.32,
          19.95,
          19.85,
          19.91,
          19.94,
          15.13,
          20.2,
          19.68,
          7.45,
          7.45,
          20.72,
          20.34,
          19.45,
          20.57,
          21.19,
          20.97,
          21.13,
          20.53,
          20.89,
          20.42,
          20.25,
          20.56,
          20.26,
          20.54,
          19.25,
          19.68,
          7.45,
          20.56,
          19.9,
          19.96,
          7.45
         ],
         "yaxis": "y2"
        },
        {
         "legendgroup": "Mercadona",
         "line": {
          "width": 2
         },
         "mode": "lines",
         "name": "Mercadona - Aceite-de-oliva",
         "type": "scatter",
         "x": [
          "2024-01-07",
          "2024-01-08",
          "2024-01-09",
          "2024-01-10",
          "2024-02-07",
          "2024-02-08",
          "2024-02-09",
          "2024-02-10",
          "2024-03-07",
          "2024-03-08",
          "2024-03-09",
          "2024-03-10",
          "2024-04-07",
          "2024-04-08",
          "2024-04-09",
          "2024-04-10",
          "2024-05-07",
          "2024-05-08",
          "2024-05-09",
          "2024-05-10",
          "2024-06-07",
          "2024-06-08",
          "2024-06-09",
          "2024-06-10",
          "2024-06-22",
          "2024-06-23",
          "2024-06-24",
          "2024-06-25",
          "2024-06-26",
          "2024-06-27",
          "2024-06-28",
          "2024-06-29",
          "2024-06-30",
          "2024-07-07",
          "2024-07-08",
          "2024-07-09",
          "2024-07-10",
          "2024-07-13",
          "2024-07-14",
          "2024-07-15",
          "2024-07-16",
          "2024-07-17",
          "2024-07-18",
          "2024-07-19",
          "2024-07-20",
          "2024-07-21",
          "2024-07-22",
          "2024-07-23",
          "2024-07-24",
          "2024-07-25",
          "2024-07-26",
          "2024-07-27",
          "2024-07-28",
          "2024-07-29",
          "2024-07-30",
          "2024-07-31",
          "2024-08-07",
          "2024-08-08",
          "2024-08-09",
          "2024-08-10",
          "2024-08-13",
          "2024-08-14",
          "2024-08-15",
          "2024-08-16",
          "2024-08-17",
          "2024-08-18",
          "2024-08-19",
          "2024-08-20",
          "2024-08-21",
          "2024-08-22",
          "2024-08-23",
          "2024-08-24",
          "2024-08-25",
          "2024-08-26",
          "2024-08-27",
          "2024-08-28",
          "2024-08-29",
          "2024-08-30",
          "2024-08-31",
          "2024-09-07",
          "2024-09-08",
          "2024-09-09",
          "2024-09-10",
          "2024-09-13",
          "2024-09-14",
          "2024-09-15",
          "2024-09-16",
          "2024-09-17",
          "2024-09-18",
          "2024-09-19",
          "2024-09-20",
          "2024-09-21",
          "2024-09-22",
          "2024-09-23",
          "2024-09-24",
          "2024-09-25",
          "2024-09-26",
          "2024-09-27",
          "2024-09-28",
          "2024-09-29",
          "2024-09-30",
          "2024-10-07",
          "2024-10-08",
          "2024-10-09",
          "2024-10-10",
          "2024-10-13",
          "2024-10-14",
          "2024-10-15",
          "2024-10-16",
          "2024-10-17",
          "2024-10-18",
          "2024-10-19",
          "2024-10-20",
          "2024-10-21",
          "2024-10-22",
          "2024-10-23",
          "2024-10-24",
          "2024-10-25",
          "2024-10-26",
          "2024-11-07",
          "2024-11-08",
          "2024-11-09",
          "2024-11-10",
          "2024-12-07",
          "2024-12-08",
          "2024-12-09",
          "2024-12-10"
         ],
         "xaxis": "x2",
         "y": [
          14.18,
          13.36,
          12.59,
          12.84,
          13.56,
          13.36,
          12.59,
          12.84,
          13.57,
          13.36,
          12.59,
          12.84,
          13.57,
          13.36,
          12.59,
          12.84,
          13.57,
          13.36,
          12.59,
          12.84,
          13.57,
          13.36,
          12.59,
          12.84,
          14.25,
          14.25,
          14.25,
          14.25,
          14.89,
          14.89,
          14.89,
          14.89,
          14.89,
          13.57,
          13.36,
          12.59,
          12.84,
          13.57,
          13.57,
          13.37,
          13.37,
          13.37,
          13.37,
          13.37,
          13.37,
          13.37,
          13.37,
          13.37,
          13.37,
          13.37,
          13.37,
          13.37,
          13.37,
          13.36,
          13.36,
          13.36,
          13.57,
          13.36,
          12.59,
          12.84,
          13.24,
          13.24,
          13.24,
          13.24,
          13.24,
          13.24,
          13.24,
          13.24,
          12.59,
          12.59,
          12.59,
          12.59,
          12.59,
          12.59,
          12.59,
          12.59,
          12.59,
          12.59,
          12.59,
          13.57,
          13.24,
          12.59,
          12.84,
          12.59,
          12.59,
          12.59,
          12.59,
          12.59,
          12.59,
          12.59,
          12.59,
          12.59,
          12.59,
          12.59,
          12.59,
          12.59,
          12.59,
          12.59,
          12.59,
          12.59,
          12.59,
          13.57,
          13.24,
          12.59,
          12.84,
          12.84,
          12.3,
          12.3,
          12.3,
          12.3,
          12.3,
          12.3,
          12.3,
          12.3,
          12.3,
          12.3,
          12.3,
          12.3,
          12.3,
          13.57,
          13.24,
          12.59,
          12.84,
          13.57,
          13.24,
          12.59,
          12.84
         ],
         "yaxis": "y2"
        },
        {
         "legendgroup": "Alcampo",
         "line": {
          "width": 2
         },
         "mode": "lines",
         "name": "Alcampo - Leche",
         "type": "scatter",
         "x": [
          "2024-01-08",
          "2024-01-09",
          "2024-01-10",
          "2024-02-08",
          "2024-02-09",
          "2024-02-10",
          "2024-03-08",
          "2024-03-09",
          "2024-03-10",
          "2024-04-08",
          "2024-04-09",
          "2024-04-10",
          "2024-05-08",
          "2024-05-09",
          "2024-05-10",
          "2024-06-08",
          "2024-06-09",
          "2024-06-10",
          "2024-07-08",
          "2024-07-09",
          "2024-07-10",
          "2024-07-15",
          "2024-07-16",
          "2024-07-17",
          "2024-07-18",
          "2024-07-19",
          "2024-07-20",
          "2024-07-21",
          "2024-07-22",
          "2024-07-23",
          "2024-07-24",
          "2024-07-25",
          "2024-07-26",
          "2024-07-27",
          "2024-07-28",
          "2024-07-29",
          "2024-07-30",
          "2024-07-31",
          "2024-08-08",
          "2024-08-09",
          "2024-08-10",
          "2024-08-13",
          "2024-08-14",
          "2024-08-15",
          "2024-08-16",
          "2024-08-17",
          "2024-08-18",
          "2024-08-19",
          "2024-08-20",
          "2024-08-21",
          "2024-08-22",
          "2024-08-23",
          "2024-08-24",
          "2024-08-25",
          "2024-08-26",
          "2024-08-27",
          "2024-08-28",
          "2024-08-29",
          "2024-08-30",
          "2024-08-31",
          "2024-09-08",
          "2024-09-09",
          "2024-09-10",
          "2024-09-13",
          "2024-09-14",
          "2024-09-15",
          "2024-09-16",
          "2024-09-17",
          "2024-09-18",
          "2024-09-19",
          "2024-09-20",
          "2024-09-21",
          "2024-09-22",
          "2024-09-23",
          "2024-09-24",
          "2024-09-25",
          "2024-09-26",
          "2024-09-27",
          "2024-09-28",
          "2024-09-29",
          "2024-09-30",
          "2024-10-08",
          "2024-10-09",
          "2024-10-10",
          "2024-10-13",
          "2024-10-14",
          "2024-10-15",
          "2024-10-16",
          "2024-10-17",
          "2024-10-18",
          "2024-10-19",
          "2024-10-20",
          "2024-10-21",
          "2024-10-22",
          "2024-10-23",
          "2024-10-24",
          "2024-10-25",
          "2024-10-26",
          "2024-11-08",
          "2024-11-09",
          "2024-11-10",
          "2024-12-08",
          "2024-12-09",
          "2024-12-10"
         ],
         "xaxis": "x3",
         "y": [
          3.86,
          3.86,
          3.86,
          3.89,
          3.86,
          3.88,
          3.9,
          3.86,
          3.92,
          3.9,
          3.86,
          3.94,
          3.9,
          3.86,
          3.94,
          3.87,
          3.86,
          3.94,
          3.87,
          3.86,
          3.9,
          4.07,
          4.04,
          4,
          4,
          3.94,
          4,
          3.94,
          4,
          3.94,
          3.94,
          3.94,
          3.94,
          3.92,
          3.92,
          3.94,
          3.89,
          3.87,
          3.87,
          3.88,
          3.9,
          3.79,
          3.84,
          3.81,
          3.88,
          3.87,
          3.85,
          3.85,
          3.85,
          3.89,
          3.88,
          3.87,
          3.87,
          3.87,
          3.87,
          3.87,
          3.86,
          3.83,
          3.86,
          3.86,
          3.87,
          3.88,
          3.87,
          3.9,
          3.9,
          3.9,
          3.9,
          3.9,
          3.92,
          3.92,
          3.92,
          3.96,
          3.92,
          3.9,
          3.93,
          3.88,
          3.82,
          3.85,
          3.85,
          3.85,
          3.85,
          3.87,
          3.88,
          3.85,
          3.87,
          3.84,
          3.87,
          3.92,
          3.85,
          3.85,
          3.91,
          3.91,
          3.91,
          3.91,
          3.91,
          3.96,
          3.92,
          3.92,
          3.87,
          3.86,
          3.85,
          3.83,
          3.9,
          3.83
         ],
         "yaxis": "y3"
        },
        {
         "legendgroup": "Carrefour",
         "line": {
          "width": 2
         },
         "mode": "lines",
         "name": "Carrefour - Leche",
         "type": "scatter",
         "x": [
          "2024-01-08",
          "2024-01-09",
          "2024-02-08",
          "2024-02-09",
          "2024-03-08",
          "2024-03-09",
          "2024-03-10",
          "2024-04-08",
          "2024-04-09",
          "2024-04-10",
          "2024-05-08",
          "2024-05-09",
          "2024-05-10",
          "2024-06-08",
          "2024-06-09",
          "2024-06-10",
          "2024-07-08",
          "2024-07-09",
          "2024-07-10",
          "2024-07-15",
          "2024-07-16",
          "2024-07-17",
          "2024-07-18",
          "2024-07-19",
          "2024-07-20",
          "2024-07-21",
          "2024-07-22",
          "2024-07-23",
          "2024-07-24",
          "2024-07-25",
          "2024-07-26",
          "2024-07-27",
          "2024-07-28",
          "2024-07-29",
          "2024-07-30",
          "2024-07-31",
          "2024-08-08",
          "2024-08-09",
          "2024-08-10",
          "2024-08-13",
          "2024-08-14",
          "2024-08-15",
          "2024-08-16",
          "2024-08-17",
          "2024-08-18",
          "2024-08-19",
          "2024-08-20",
          "2024-08-21",
          "2024-08-22",
          "2024-08-23",
          "2024-08-24",
          "2024-08-25",
          "2024-08-26",
          "2024-08-27",
          "2024-08-28",
          "2024-08-29",
          "2024-08-30",
          "2024-08-31",
          "2024-09-08",
          "2024-09-09",
          "2024-09-10",
          "2024-09-13",
          "2024-09-14",
          "2024-09-15",
          "2024-09-16",
          "2024-09-17",
          "2024-10-08",
          "2024-10-09",
          "2024-10-10",
          "2024-10-13",
          "2024-10-14",
          "2024-10-15",
          "2024-10-16",
          "2024-10-17",
          "2024-10-18",
          "2024-10-21",
          "2024-10-22",
          "2024-10-23",
          "2024-10-24",
          "2024-10-25",
          "2024-10-26",
          "2024-11-08",
          "2024-11-09",
          "2024-11-10",
          "2024-12-08",
          "2024-12-09",
          "2024-12-10"
         ],
         "xaxis": "x3",
         "y": [
          1.62,
          2.13,
          1.63,
          1.88,
          1.63,
          1.86,
          1.66,
          1.63,
          1.85,
          1.6,
          1.63,
          1.93,
          1.62,
          1.78,
          1.96,
          1.65,
          1.53,
          1.95,
          1.61,
          1.56,
          1.57,
          1.6,
          1.59,
          1.59,
          1.61,
          1.61,
          1.61,
          1.61,
          1.61,
          1.55,
          1.49,
          1.5,
          1.51,
          1.52,
          1.51,
          1.56,
          1.48,
          1.89,
          1.61,
          1.59,
          1.58,
          1.6,
          1.6,
          1.6,
          1.46,
          1.48,
          1.71,
          1.73,
          1.82,
          1.92,
          1.9,
          1.9,
          1.94,
          1.93,
          1.96,
          1.94,
          1.92,
          1.91,
          1.55,
          1.89,
          1.66,
          1.91,
          1.9,
          1.9,
          1.91,
          1.9,
          1.59,
          1.9,
          1.66,
          1.63,
          1.63,
          1.58,
          1.54,
          1.62,
          1.67,
          1.69,
          1.65,
          1.66,
          1.79,
          1.72,
          1.57,
          1.59,
          1.89,
          1.6,
          1.59,
          1.98,
          1.55
         ],
         "yaxis": "y3"
        },
        {
         "legendgroup": "Dia",
         "line": {
          "width": 2
         },
         "mode": "lines",
         "name": "Dia - Leche",
         "type": "scatter",
         "x": [
          "2024-01-08",
          "2024-01-09",
          "2024-01-10",
          "2024-02-08",
          "2024-02-09",
          "2024-02-10",
          "2024-03-08",
          "2024-03-09",
          "2024-03-10",
          "2024-04-08",
          "2024-04-09",
          "2024-04-10",
          "2024-05-08",
          "2024-05-09",
          "2024-05-10",
          "2024-06-08",
          "2024-06-09",
          "2024-06-10",
          "2024-07-08",
          "2024-07-09",
          "2024-07-10",
          "2024-07-15",
          "2024-07-16",
          "2024-07-17",
          "2024-07-18",
          "2024-07-19",
          "2024-07-20",
          "2024-07-21",
          "2024-07-22",
          "2024-07-23",
          "2024-07-24",
          "2024-07-25",
          "2024-07-26",
          "2024-07-27",
          "2024-07-28",
          "2024-07-29",
          "2024-07-30",
          "2024-07-31",
          "2024-08-08",
          "2024-08-09",
          "2024-08-10",
          "2024-08-13",
          "2024-08-14",
          "2024-08-15",
          "2024-08-16",
          "2024-08-17",
          "2024-08-18",
          "2024-08-19",
          "2024-08-20",
          "2024-08-21",
          "2024-08-22",
          "2024-08-23",
          "2024-08-24",
          "2024-08-25",
          "2024-08-26",
          "2024-08-27",
          "2024-08-28",
          "2024-08-29",
          "2024-08-30",
          "2024-08-31",
          "2024-09-08",
          "2024-09-09",
          "2024-09-10",
          "2024-09-13",
          "2024-09-14",
          "2024-09-15",
          "2024-09-16",
          "2024-09-17",
          "2024-09-18",
          "2024-09-19",
          "2024-09-20",
          "2024-09-21",
          "2024-09-22",
          "2024-09-23",
          "2024-09-24",
          "2024-09-25",
          "2024-09-26",
          "2024-09-27",
          "2024-09-28",
          "2024-09-29",
          "2024-09-30",
          "2024-10-08",
          "2024-10-09",
          "2024-10-10",
          "2024-10-13",
          "2024-10-14",
          "2024-10-15",
          "2024-10-16",
          "2024-10-17",
          "2024-10-18",
          "2024-10-19",
          "2024-10-20",
          "2024-10-21",
          "2024-10-22",
          "2024-10-23",
          "2024-10-24",
          "2024-10-25",
          "2024-10-26",
          "2024-11-08",
          "2024-11-09",
          "2024-11-10",
          "2024-12-08",
          "2024-12-09",
          "2024-12-10"
         ],
         "xaxis": "x3",
         "y": [
          5.45,
          5.32,
          5.31,
          5.45,
          5.32,
          5.47,
          5.45,
          5.32,
          5.47,
          5.45,
          5.32,
          5.27,
          5.45,
          5.32,
          5.27,
          5.45,
          5.32,
          5.27,
          5.47,
          5.32,
          5.27,
          5.44,
          5.44,
          5.47,
          5.47,
          5.47,
          5.47,
          5.47,
          5.47,
          5.47,
          5.45,
          5.46,
          5.46,
          5.46,
          5.46,
          5.46,
          5.41,
          5.45,
          5.47,
          5.32,
          5.27,
          5.47,
          5.43,
          5.43,
          5.43,
          5.43,
          5.43,
          5.43,
          5.43,
          5.33,
          5.33,
          5.33,
          5.24,
          5.24,
          5.24,
          5.24,
          5.32,
          5.32,
          5.32,
          5.32,
          5.47,
          5.32,
          5.22,
          5.34,
          5.34,
          5.34,
          5.34,
          5.34,
          5.33,
          5.33,
          5.33,
          5.33,
          5.33,
          5.33,
          5.33,
          5.24,
          5.24,
          5.22,
          5.22,
          5.22,
          5.22,
          5.47,
          5.31,
          5.22,
          5.22,
          5.22,
          5.24,
          5.23,
          5.23,
          5.23,
          5.23,
          5.23,
          5.23,
          5.23,
          5.29,
          5.29,
          5.29,
          5.29,
          5.47,
          5.34,
          5.22,
          5.47,
          5.34,
          5.22
         ],
         "yaxis": "y3"
        },
        {
         "legendgroup": "Eroski",
         "line": {
          "width": 2
         },
         "mode": "lines",
         "name": "Eroski - Leche",
         "type": "scatter",
         "x": [
          "2024-01-08",
          "2024-01-09",
          "2024-01-10",
          "2024-02-08",
          "2024-02-09",
          "2024-02-10",
          "2024-03-08",
          "2024-03-09",
          "2024-03-10",
          "2024-04-08",
          "2024-04-09",
          "2024-04-10",
          "2024-05-08",
          "2024-05-09",
          "2024-05-10",
          "2024-06-08",
          "2024-06-09",
          "2024-06-10",
          "2024-07-08",
          "2024-07-09",
          "2024-07-10",
          "2024-07-15",
          "2024-07-16",
          "2024-07-17",
          "2024-07-18",
          "2024-07-19",
          "2024-07-20",
          "2024-07-21",
          "2024-07-22",
          "2024-07-23",
          "2024-07-24",
          "2024-07-25",
          "2024-07-26",
          "2024-07-27",
          "2024-07-28",
          "2024-07-29",
          "2024-07-30",
          "2024-07-31",
          "2024-08-08",
          "2024-08-09",
          "2024-08-10",
          "2024-08-13",
          "2024-08-14",
          "2024-08-15",
          "2024-08-16",
          "2024-08-17",
          "2024-08-18",
          "2024-08-19",
          "2024-08-20",
          "2024-08-21",
          "2024-08-22",
          "2024-08-23",
          "2024-08-24",
          "2024-08-25",
          "2024-08-26",
          "2024-08-27",
          "2024-08-28",
          "2024-08-29",
          "2024-08-30",
          "2024-08-31",
          "2024-09-08",
          "2024-09-09",
          "2024-09-10",
          "2024-09-13",
          "2024-09-14",
          "2024-09-15",
          "2024-09-16",
          "2024-09-17",
          "2024-09-18",
          "2024-09-19",
          "2024-09-20",
          "2024-09-21",
          "2024-09-22",
          "2024-09-23",
          "2024-09-24",
          "2024-09-25",
          "2024-09-26",
          "2024-09-27",
          "2024-09-28",
          "2024-09-29",
          "2024-09-30",
          "2024-10-08",
          "2024-10-09",
          "2024-10-10",
          "2024-10-13",
          "2024-10-14",
          "2024-10-15",
          "2024-10-16",
          "2024-10-17",
          "2024-10-18",
          "2024-10-19",
          "2024-10-20",
          "2024-10-21",
          "2024-10-22",
          "2024-10-23",
          "2024-10-24",
          "2024-10-25",
          "2024-10-26",
          "2024-11-08",
          "2024-11-09",
          "2024-11-10",
          "2024-12-08",
          "2024-12-09",
          "2024-12-10"
         ],
         "xaxis": "x3",
         "y": [
          1.54,
          1.51,
          1.56,
          1.48,
          1.51,
          1.53,
          1.53,
          1.51,
          1.57,
          1.53,
          1.55,
          1.57,
          1.53,
          1.55,
          1.57,
          1.53,
          1.53,
          1.57,
          1.53,
          1.53,
          1.57,
          1.55,
          1.54,
          1.54,
          1.54,
          1.54,
          1.53,
          1.53,
          1.53,
          1.53,
          1.53,
          1.54,
          1.54,
          1.54,
          1.54,
          1.54,
          1.54,
          1.55,
          1.53,
          1.5,
          1.57,
          1.54,
          1.55,
          1.54,
          1.52,
          1.52,
          1.52,
          1.52,
          1.52,
          1.52,
          1.52,
          1.52,
          1.52,
          1.51,
          1.51,
          1.51,
          1.52,
          1.44,
          1.54,
          1.54,
          1.53,
          1.54,
          1.57,
          1.52,
          1.51,
          1.51,
          1.51,
          1.52,
          1.52,
          1.52,
          1.52,
          1.52,
          1.52,
          1.52,
          1.51,
          1.51,
          1.53,
          1.53,
          1.54,
          1.53,
          1.53,
          1.53,
          1.54,
          1.57,
          1.57,
          1.59,
          1.59,
          1.58,
          1.57,
          1.57,
          1.57,
          1.5,
          1.5,
          1.5,
          1.56,
          1.57,
          1.57,
          1.57,
          1.54,
          1.54,
          1.57,
          1.54,
          1.51,
          1.57
         ],
         "yaxis": "y3"
        },
        {
         "legendgroup": "Hipercor",
         "line": {
          "width": 2
         },
         "mode": "lines",
         "name": "Hipercor - Leche",
         "type": "scatter",
         "x": [
          "2024-01-08",
          "2024-01-09",
          "2024-01-10",
          "2024-02-08",
          "2024-02-09",
          "2024-02-10",
          "2024-03-08",
          "2024-03-09",
          "2024-04-08",
          "2024-04-09",
          "2024-05-08",
          "2024-05-09",
          "2024-06-08",
          "2024-06-09",
          "2024-07-08",
          "2024-07-09",
          "2024-07-15",
          "2024-07-16",
          "2024-07-17",
          "2024-07-18",
          "2024-07-19",
          "2024-07-20",
          "2024-07-21",
          "2024-07-22",
          "2024-07-23",
          "2024-07-24",
          "2024-07-25",
          "2024-07-26",
          "2024-07-27",
          "2024-07-28",
          "2024-07-29",
          "2024-07-30",
          "2024-07-31",
          "2024-08-08",
          "2024-08-09",
          "2024-08-13",
          "2024-08-14",
          "2024-08-15",
          "2024-08-16",
          "2024-08-17",
          "2024-08-18",
          "2024-08-19",
          "2024-08-20",
          "2024-08-21",
          "2024-08-22",
          "2024-08-23",
          "2024-08-24",
          "2024-08-25",
          "2024-08-26",
          "2024-08-27",
          "2024-08-28",
          "2024-08-29",
          "2024-08-30",
          "2024-08-31",
          "2024-09-08",
          "2024-09-09",
          "2024-09-13",
          "2024-09-14",
          "2024-09-15",
          "2024-09-16",
          "2024-09-17",
          "2024-09-18",
          "2024-09-19",
          "2024-09-20",
          "2024-09-21",
          "2024-09-22",
          "2024-09-23",
          "2024-09-24",
          "2024-09-25",
          "2024-09-26",
          "2024-09-27",
          "2024-09-28",
          "2024-09-29",
          "2024-09-30",
          "2024-10-08",
          "2024-10-09",
          "2024-10-14",
          "2024-10-15",
          "2024-10-16",
          "2024-10-17",
          "2024-10-18",
          "2024-10-19",
          "2024-10-20",
          "2024-10-21",
          "2024-10-22",
          "2024-10-23",
          "2024-10-24",
          "2024-10-25",
          "2024-10-26",
          "2024-11-08",
          "2024-11-09",
          "2024-12-08",
          "2024-12-09"
         ],
         "xaxis": "x3",
         "y": [
          1.51,
          1.6,
          1.67,
          1.59,
          1.59,
          1.63,
          1.5,
          1.59,
          1.61,
          1.6,
          1.59,
          1.61,
          1.6,
          1.6,
          1.53,
          1.62,
          1.59,
          1.59,
          1.58,
          1.59,
          1.58,
          1.63,
          1.65,
          1.6,
          1.62,
          1.6,
          1.58,
          1.58,
          1.58,
          1.61,
          1.58,
          1.59,
          1.67,
          1.59,
          1.6,
          1.63,
          1.59,
          1.57,
          1.59,
          1.72,
          1.59,
          1.65,
          1.59,
          1.61,
          1.64,
          1.65,
          1.6,
          1.59,
          1.59,
          1.59,
          1.59,
          1.57,
          1.61,
          1.6,
          1.67,
          1.6,
          1.59,
          1.62,
          1.63,
          1.6,
          1.63,
          1.63,
          1.6,
          1.59,
          1.59,
          1.62,
          1.59,
          1.71,
          1.6,
          1.52,
          1.57,
          1.59,
          1.59,
          1.68,
          1.63,
          1.59,
          1.75,
          1.57,
          1.68,
          1.69,
          1.73,
          1.72,
          1.6,
          1.6,
          1.76,
          1.59,
          1.54,
          1.79,
          1.67,
          1.6,
          1.59,
          1.64,
          1.68
         ],
         "yaxis": "y3"
        },
        {
         "legendgroup": "Mercadona",
         "line": {
          "width": 2
         },
         "mode": "lines",
         "name": "Mercadona - Leche",
         "type": "scatter",
         "x": [
          "2024-01-08",
          "2024-01-09",
          "2024-01-10",
          "2024-02-08",
          "2024-02-09",
          "2024-02-10",
          "2024-03-08",
          "2024-03-09",
          "2024-03-10",
          "2024-04-08",
          "2024-04-09",
          "2024-04-10",
          "2024-05-08",
          "2024-05-09",
          "2024-05-10",
          "2024-06-08",
          "2024-06-09",
          "2024-06-10",
          "2024-07-08",
          "2024-07-09",
          "2024-07-10",
          "2024-07-15",
          "2024-07-16",
          "2024-07-17",
          "2024-07-18",
          "2024-07-19",
          "2024-07-20",
          "2024-07-21",
          "2024-07-22",
          "2024-07-23",
          "2024-07-24",
          "2024-07-25",
          "2024-07-26",
          "2024-07-27",
          "2024-07-28",
          "2024-07-29",
          "2024-07-30",
          "2024-07-31",
          "2024-08-08",
          "2024-08-09",
          "2024-08-10",
          "2024-08-13",
          "2024-08-14",
          "2024-08-15",
          "2024-08-16",
          "2024-08-17",
          "2024-08-18",
          "2024-08-19",
          "2024-08-20",
          "2024-08-21",
          "2024-08-22",
          "2024-08-23",
          "2024-08-24",
          "2024-08-25",
          "2024-08-26",
          "2024-08-27",
          "2024-08-28",
          "2024-08-29",
          "2024-08-30",
          "2024-08-31",
          "2024-09-08",
          "2024-09-09",
          "2024-09-10",
          "2024-09-13",
          "2024-09-14",
          "2024-09-15",
          "2024-09-16",
          "2024-09-17",
          "2024-09-18",
          "2024-09-19",
          "2024-09-20",
          "2024-09-21",
          "2024-09-22",
          "2024-09-23",
          "2024-09-24",
          "2024-09-25",
          "2024-09-26",
          "2024-09-27",
          "2024-09-28",
          "2024-09-29",
          "2024-09-30",
          "2024-10-08",
          "2024-10-09",
          "2024-10-10",
          "2024-10-13",
          "2024-10-14",
          "2024-10-15",
          "2024-10-16",
          "2024-10-17",
          "2024-10-18",
          "2024-10-19",
          "2024-10-20",
          "2024-10-21",
          "2024-10-22",
          "2024-10-23",
          "2024-10-24",
          "2024-10-25",
          "2024-10-26",
          "2024-11-08",
          "2024-11-09",
          "2024-11-10",
          "2024-12-08",
          "2024-12-09",
          "2024-12-10"
         ],
         "xaxis": "x3",
         "y": [
          3.64,
          3.64,
          3.7,
          3.64,
          3.64,
          3.7,
          3.64,
          3.64,
          3.7,
          3.64,
          3.62,
          3.7,
          3.64,
          3.62,
          3.7,
          3.64,
          3.62,
          3.7,
          3.64,
          3.7,
          3.7,
          3.81,
          3.82,
          3.64,
          3.64,
          3.64,
          3.64,
          3.64,
          3.64,
          3.64,
          3.64,
          3.64,
          3.64,
          3.64,
          3.64,
          3.64,
          3.64,
          3.64,
          3.64,
          3.7,
          3.7,
          3.64,
          3.64,
          3.64,
          3.64,
          3.64,
          3.64,
          3.64,
          3.64,
          3.64,
          3.64,
          3.64,
          3.64,
          3.64,
          3.64,
          3.64,
          3.64,
          3.64,
          3.64,
          3.64,
          3.64,
          3.7,
          3.7,
          3.79,
          3.79,
          3.79,
          3.79,
          3.79,
          3.62,
          3.62,
          3.62,
          3.62,
          3.62,
          3.62,
          3.62,
          3.62,
          3.62,
          3.62,
          3.62,
          3.62,
          3.62,
          3.64,
          3.7,
          3.7,
          3.7,
          3.7,
          3.7,
          3.7,
          3.7,
          3.7,
          3.7,
          3.7,
          3.7,
          3.7,
          3.7,
          3.7,
          3.7,
          3.7,
          3.64,
          3.79,
          3.7,
          3.64,
          3.79,
          3.7
         ],
         "yaxis": "y3"
        }
       ],
       "layout": {
        "annotations": [
         {
          "font": {
           "size": 16
          },
          "showarrow": false,
          "text": "Aceite-de-girasol",
          "x": 0.5,
          "xanchor": "center",
          "xref": "paper",
          "y": 1,
          "yanchor": "bottom",
          "yref": "paper"
         },
         {
          "font": {
           "size": 16
          },
          "showarrow": false,
          "text": "Aceite-de-oliva",
          "x": 0.5,
          "xanchor": "center",
          "xref": "paper",
          "y": 0.6333333333333333,
          "yanchor": "bottom",
          "yref": "paper"
         },
         {
          "font": {
           "size": 16
          },
          "showarrow": false,
          "text": "Leche",
          "x": 0.5,
          "xanchor": "center",
          "xref": "paper",
          "y": 0.26666666666666666,
          "yanchor": "bottom",
          "yref": "paper"
         }
        ],
        "height": 900,
        "showlegend": true,
        "template": {
         "data": {
          "bar": [
           {
            "error_x": {
             "color": "#2a3f5f"
            },
            "error_y": {
             "color": "#2a3f5f"
            },
            "marker": {
             "line": {
              "color": "#E5ECF6",
              "width": 0.5
             },
             "pattern": {
              "fillmode": "overlay",
              "size": 10,
              "solidity": 0.2
             }
            },
            "type": "bar"
           }
          ],
          "barpolar": [
           {
            "marker": {
             "line": {
              "color": "#E5ECF6",
              "width": 0.5
             },
             "pattern": {
              "fillmode": "overlay",
              "size": 10,
              "solidity": 0.2
             }
            },
            "type": "barpolar"
           }
          ],
          "carpet": [
           {
            "aaxis": {
             "endlinecolor": "#2a3f5f",
             "gridcolor": "white",
             "linecolor": "white",
             "minorgridcolor": "white",
             "startlinecolor": "#2a3f5f"
            },
            "baxis": {
             "endlinecolor": "#2a3f5f",
             "gridcolor": "white",
             "linecolor": "white",
             "minorgridcolor": "white",
             "startlinecolor": "#2a3f5f"
            },
            "type": "carpet"
           }
          ],
          "choropleth": [
           {
            "colorbar": {
             "outlinewidth": 0,
             "ticks": ""
            },
            "type": "choropleth"
           }
          ],
          "contour": [
           {
            "colorbar": {
             "outlinewidth": 0,
             "ticks": ""
            },
            "colorscale": [
             [
              0,
              "#0d0887"
             ],
             [
              0.1111111111111111,
              "#46039f"
             ],
             [
              0.2222222222222222,
              "#7201a8"
             ],
             [
              0.3333333333333333,
              "#9c179e"
             ],
             [
              0.4444444444444444,
              "#bd3786"
             ],
             [
              0.5555555555555556,
              "#d8576b"
             ],
             [
              0.6666666666666666,
              "#ed7953"
             ],
             [
              0.7777777777777778,
              "#fb9f3a"
             ],
             [
              0.8888888888888888,
              "#fdca26"
             ],
             [
              1,
              "#f0f921"
             ]
            ],
            "type": "contour"
           }
          ],
          "contourcarpet": [
           {
            "colorbar": {
             "outlinewidth": 0,
             "ticks": ""
            },
            "type": "contourcarpet"
           }
          ],
          "heatmap": [
           {
            "colorbar": {
             "outlinewidth": 0,
             "ticks": ""
            },
            "colorscale": [
             [
              0,
              "#0d0887"
             ],
             [
              0.1111111111111111,
              "#46039f"
             ],
             [
              0.2222222222222222,
              "#7201a8"
             ],
             [
              0.3333333333333333,
              "#9c179e"
             ],
             [
              0.4444444444444444,
              "#bd3786"
             ],
             [
              0.5555555555555556,
              "#d8576b"
             ],
             [
              0.6666666666666666,
              "#ed7953"
             ],
             [
              0.7777777777777778,
              "#fb9f3a"
             ],
             [
              0.8888888888888888,
              "#fdca26"
             ],
             [
              1,
              "#f0f921"
             ]
            ],
            "type": "heatmap"
           }
          ],
          "heatmapgl": [
           {
            "colorbar": {
             "outlinewidth": 0,
             "ticks": ""
            },
            "colorscale": [
             [
              0,
              "#0d0887"
             ],
             [
              0.1111111111111111,
              "#46039f"
             ],
             [
              0.2222222222222222,
              "#7201a8"
             ],
             [
              0.3333333333333333,
              "#9c179e"
             ],
             [
              0.4444444444444444,
              "#bd3786"
             ],
             [
              0.5555555555555556,
              "#d8576b"
             ],
             [
              0.6666666666666666,
              "#ed7953"
             ],
             [
              0.7777777777777778,
              "#fb9f3a"
             ],
             [
              0.8888888888888888,
              "#fdca26"
             ],
             [
              1,
              "#f0f921"
             ]
            ],
            "type": "heatmapgl"
           }
          ],
          "histogram": [
           {
            "marker": {
             "pattern": {
              "fillmode": "overlay",
              "size": 10,
              "solidity": 0.2
             }
            },
            "type": "histogram"
           }
          ],
          "histogram2d": [
           {
            "colorbar": {
             "outlinewidth": 0,
             "ticks": ""
            },
            "colorscale": [
             [
              0,
              "#0d0887"
             ],
             [
              0.1111111111111111,
              "#46039f"
             ],
             [
              0.2222222222222222,
              "#7201a8"
             ],
             [
              0.3333333333333333,
              "#9c179e"
             ],
             [
              0.4444444444444444,
              "#bd3786"
             ],
             [
              0.5555555555555556,
              "#d8576b"
             ],
             [
              0.6666666666666666,
              "#ed7953"
             ],
             [
              0.7777777777777778,
              "#fb9f3a"
             ],
             [
              0.8888888888888888,
              "#fdca26"
             ],
             [
              1,
              "#f0f921"
             ]
            ],
            "type": "histogram2d"
           }
          ],
          "histogram2dcontour": [
           {
            "colorbar": {
             "outlinewidth": 0,
             "ticks": ""
            },
            "colorscale": [
             [
              0,
              "#0d0887"
             ],
             [
              0.1111111111111111,
              "#46039f"
             ],
             [
              0.2222222222222222,
              "#7201a8"
             ],
             [
              0.3333333333333333,
              "#9c179e"
             ],
             [
              0.4444444444444444,
              "#bd3786"
             ],
             [
              0.5555555555555556,
              "#d8576b"
             ],
             [
              0.6666666666666666,
              "#ed7953"
             ],
             [
              0.7777777777777778,
              "#fb9f3a"
             ],
             [
              0.8888888888888888,
              "#fdca26"
             ],
             [
              1,
              "#f0f921"
             ]
            ],
            "type": "histogram2dcontour"
           }
          ],
          "mesh3d": [
           {
            "colorbar": {
             "outlinewidth": 0,
             "ticks": ""
            },
            "type": "mesh3d"
           }
          ],
          "parcoords": [
           {
            "line": {
             "colorbar": {
              "outlinewidth": 0,
              "ticks": ""
             }
            },
            "type": "parcoords"
           }
          ],
          "pie": [
           {
            "automargin": true,
            "type": "pie"
           }
          ],
          "scatter": [
           {
            "fillpattern": {
             "fillmode": "overlay",
             "size": 10,
             "solidity": 0.2
            },
            "type": "scatter"
           }
          ],
          "scatter3d": [
           {
            "line": {
             "colorbar": {
              "outlinewidth": 0,
              "ticks": ""
             }
            },
            "marker": {
             "colorbar": {
              "outlinewidth": 0,
              "ticks": ""
             }
            },
            "type": "scatter3d"
           }
          ],
          "scattercarpet": [
           {
            "marker": {
             "colorbar": {
              "outlinewidth": 0,
              "ticks": ""
             }
            },
            "type": "scattercarpet"
           }
          ],
          "scattergeo": [
           {
            "marker": {
             "colorbar": {
              "outlinewidth": 0,
              "ticks": ""
             }
            },
            "type": "scattergeo"
           }
          ],
          "scattergl": [
           {
            "marker": {
             "colorbar": {
              "outlinewidth": 0,
              "ticks": ""
             }
            },
            "type": "scattergl"
           }
          ],
          "scattermapbox": [
           {
            "marker": {
             "colorbar": {
              "outlinewidth": 0,
              "ticks": ""
             }
            },
            "type": "scattermapbox"
           }
          ],
          "scatterpolar": [
           {
            "marker": {
             "colorbar": {
              "outlinewidth": 0,
              "ticks": ""
             }
            },
            "type": "scatterpolar"
           }
          ],
          "scatterpolargl": [
           {
            "marker": {
             "colorbar": {
              "outlinewidth": 0,
              "ticks": ""
             }
            },
            "type": "scatterpolargl"
           }
          ],
          "scatterternary": [
           {
            "marker": {
             "colorbar": {
              "outlinewidth": 0,
              "ticks": ""
             }
            },
            "type": "scatterternary"
           }
          ],
          "surface": [
           {
            "colorbar": {
             "outlinewidth": 0,
             "ticks": ""
            },
            "colorscale": [
             [
              0,
              "#0d0887"
             ],
             [
              0.1111111111111111,
              "#46039f"
             ],
             [
              0.2222222222222222,
              "#7201a8"
             ],
             [
              0.3333333333333333,
              "#9c179e"
             ],
             [
              0.4444444444444444,
              "#bd3786"
             ],
             [
              0.5555555555555556,
              "#d8576b"
             ],
             [
              0.6666666666666666,
              "#ed7953"
             ],
             [
              0.7777777777777778,
              "#fb9f3a"
             ],
             [
              0.8888888888888888,
              "#fdca26"
             ],
             [
              1,
              "#f0f921"
             ]
            ],
            "type": "surface"
           }
          ],
          "table": [
           {
            "cells": {
             "fill": {
              "color": "#EBF0F8"
             },
             "line": {
              "color": "white"
             }
            },
            "header": {
             "fill": {
              "color": "#C8D4E3"
             },
             "line": {
              "color": "white"
             }
            },
            "type": "table"
           }
          ]
         },
         "layout": {
          "annotationdefaults": {
           "arrowcolor": "#2a3f5f",
           "arrowhead": 0,
           "arrowwidth": 1
          },
          "autotypenumbers": "strict",
          "coloraxis": {
           "colorbar": {
            "outlinewidth": 0,
            "ticks": ""
           }
          },
          "colorscale": {
           "diverging": [
            [
             0,
             "#8e0152"
            ],
            [
             0.1,
             "#c51b7d"
            ],
            [
             0.2,
             "#de77ae"
            ],
            [
             0.3,
             "#f1b6da"
            ],
            [
             0.4,
             "#fde0ef"
            ],
            [
             0.5,
             "#f7f7f7"
            ],
            [
             0.6,
             "#e6f5d0"
            ],
            [
             0.7,
             "#b8e186"
            ],
            [
             0.8,
             "#7fbc41"
            ],
            [
             0.9,
             "#4d9221"
            ],
            [
             1,
             "#276419"
            ]
           ],
           "sequential": [
            [
             0,
             "#0d0887"
            ],
            [
             0.1111111111111111,
             "#46039f"
            ],
            [
             0.2222222222222222,
             "#7201a8"
            ],
            [
             0.3333333333333333,
             "#9c179e"
            ],
            [
             0.4444444444444444,
             "#bd3786"
            ],
            [
             0.5555555555555556,
             "#d8576b"
            ],
            [
             0.6666666666666666,
             "#ed7953"
            ],
            [
             0.7777777777777778,
             "#fb9f3a"
            ],
            [
             0.8888888888888888,
             "#fdca26"
            ],
            [
             1,
             "#f0f921"
            ]
           ],
           "sequentialminus": [
            [
             0,
             "#0d0887"
            ],
            [
             0.1111111111111111,
             "#46039f"
            ],
            [
             0.2222222222222222,
             "#7201a8"
            ],
            [
             0.3333333333333333,
             "#9c179e"
            ],
            [
             0.4444444444444444,
             "#bd3786"
            ],
            [
             0.5555555555555556,
             "#d8576b"
            ],
            [
             0.6666666666666666,
             "#ed7953"
            ],
            [
             0.7777777777777778,
             "#fb9f3a"
            ],
            [
             0.8888888888888888,
             "#fdca26"
            ],
            [
             1,
             "#f0f921"
            ]
           ]
          },
          "colorway": [
           "#636efa",
           "#EF553B",
           "#00cc96",
           "#ab63fa",
           "#FFA15A",
           "#19d3f3",
           "#FF6692",
           "#B6E880",
           "#FF97FF",
           "#FECB52"
          ],
          "font": {
           "color": "#2a3f5f"
          },
          "geo": {
           "bgcolor": "white",
           "lakecolor": "white",
           "landcolor": "#E5ECF6",
           "showlakes": true,
           "showland": true,
           "subunitcolor": "white"
          },
          "hoverlabel": {
           "align": "left"
          },
          "hovermode": "closest",
          "mapbox": {
           "style": "light"
          },
          "paper_bgcolor": "white",
          "plot_bgcolor": "#E5ECF6",
          "polar": {
           "angularaxis": {
            "gridcolor": "white",
            "linecolor": "white",
            "ticks": ""
           },
           "bgcolor": "#E5ECF6",
           "radialaxis": {
            "gridcolor": "white",
            "linecolor": "white",
            "ticks": ""
           }
          },
          "scene": {
           "xaxis": {
            "backgroundcolor": "#E5ECF6",
            "gridcolor": "white",
            "gridwidth": 2,
            "linecolor": "white",
            "showbackground": true,
            "ticks": "",
            "zerolinecolor": "white"
           },
           "yaxis": {
            "backgroundcolor": "#E5ECF6",
            "gridcolor": "white",
            "gridwidth": 2,
            "linecolor": "white",
            "showbackground": true,
            "ticks": "",
            "zerolinecolor": "white"
           },
           "zaxis": {
            "backgroundcolor": "#E5ECF6",
            "gridcolor": "white",
            "gridwidth": 2,
            "linecolor": "white",
            "showbackground": true,
            "ticks": "",
            "zerolinecolor": "white"
           }
          },
          "shapedefaults": {
           "line": {
            "color": "#2a3f5f"
           }
          },
          "ternary": {
           "aaxis": {
            "gridcolor": "white",
            "linecolor": "white",
            "ticks": ""
           },
           "baxis": {
            "gridcolor": "white",
            "linecolor": "white",
            "ticks": ""
           },
           "bgcolor": "#E5ECF6",
           "caxis": {
            "gridcolor": "white",
            "linecolor": "white",
            "ticks": ""
           }
          },
          "title": {
           "x": 0.05
          },
          "xaxis": {
           "automargin": true,
           "gridcolor": "white",
           "linecolor": "white",
           "ticks": "",
           "title": {
            "standoff": 15
           },
           "zerolinecolor": "white",
           "zerolinewidth": 2
          },
          "yaxis": {
           "automargin": true,
           "gridcolor": "white",
           "linecolor": "white",
           "ticks": "",
           "title": {
            "standoff": 15
           },
           "zerolinecolor": "white",
           "zerolinewidth": 2
          }
         }
        },
        "title": {
         "text": "Evolución de precios promedio por categoría "
        },
        "xaxis": {
         "anchor": "y",
         "domain": [
          0,
          1
         ],
         "matches": "x3",
         "showticklabels": false,
         "title": {
          "text": "Fecha"
         }
        },
        "xaxis2": {
         "anchor": "y2",
         "domain": [
          0,
          1
         ],
         "matches": "x3",
         "showticklabels": false
        },
        "xaxis3": {
         "anchor": "y3",
         "domain": [
          0,
          1
         ]
        },
        "yaxis": {
         "anchor": "x",
         "domain": [
          0.7333333333333334,
          1
         ],
         "title": {
          "text": "Precio Promedio en EUR"
         }
        },
        "yaxis2": {
         "anchor": "x2",
         "domain": [
          0.3666666666666667,
          0.6333333333333333
         ]
        },
        "yaxis3": {
         "anchor": "x3",
         "domain": [
          0,
          0.26666666666666666
         ]
        }
       }
      }
     },
     "metadata": {},
     "output_type": "display_data"
    }
   ],
   "source": [
    "# Lista de categorías\n",
    "categorias = resultado2['categoria'].unique()\n",
    "\n",
    "# Crear subplots: una fila por categoría\n",
    "fig2 = make_subplots(\n",
    "    rows=len(categorias), \n",
    "    cols=1, \n",
    "    shared_xaxes=True, \n",
    "    subplot_titles=categorias,\n",
    "    vertical_spacing=0.1\n",
    ")\n",
    "\n",
    "# Añadir una gráfica de línea para cada categoría y supermercado\n",
    "for i, categoria in enumerate(categorias, start=1):\n",
    "    # Filtrar los datos para la categoría actual\n",
    "    df_categoria = resultado2[resultado2['categoria'] == categoria]\n",
    "    \n",
    "    for supermercado in df_categoria['supermercado'].unique():\n",
    "        df_super = df_categoria[df_categoria['supermercado'] == supermercado]\n",
    "        \n",
    "        fig2.add_trace(\n",
    "            go.Scatter(\n",
    "                x=df_super['fecha'], \n",
    "                y=df_super['precio_promedio'], \n",
    "                mode='lines',\n",
    "                name=f\"{supermercado} - {categoria}\",\n",
    "                legendgroup=supermercado,  # Agrupa leyendas por supermercado\n",
    "                line=dict(width=2),\n",
    "            ),\n",
    "            row=i, col=1\n",
    "        )\n",
    "\n",
    "fig2.update_layout(\n",
    "    height=300 * 3,  # Ajusta la altura para acomodar todas las subplots\n",
    "    title=\"Evolución de precios promedio por categoría \",\n",
    "    xaxis_title=\"Fecha\",\n",
    "    yaxis_title=\"Precio Promedio en EUR\",\n",
    "    showlegend=True\n",
    ")\n",
    "\n",
    "fig2.show()"
   ]
  },
  {
   "cell_type": "code",
   "execution_count": 73,
   "metadata": {},
   "outputs": [],
   "source": [
    "query3 = '''\n",
    "SELECT \n",
    "    h.fecha,\n",
    "    s.nombre AS supermercado,\n",
    "    c.nombre AS categoria,\n",
    "    h.precioeur AS precio_actual,\n",
    "    h.vareuros AS variacion_euros,\n",
    "    h.varporcentaje AS variacion_porcentaje\n",
    "FROM \n",
    "    historico h\n",
    "JOIN \n",
    "    categorias c\n",
    "        ON h.id_categoria = c.id_categoria\n",
    "JOIN \n",
    "    supermercados s\n",
    "        ON h.id_supermercado = s.id_supermercado\n",
    "WHERE \n",
    "    h.varporcentaje >= 30 \n",
    "    OR h.varporcentaje <= -30\n",
    "ORDER BY \n",
    "    c.nombre, s.nombre, h.fecha;\n",
    "'''"
   ]
  },
  {
   "cell_type": "code",
   "execution_count": 74,
   "metadata": {},
   "outputs": [
    {
     "data": {
      "text/html": [
       "<div>\n",
       "<style scoped>\n",
       "    .dataframe tbody tr th:only-of-type {\n",
       "        vertical-align: middle;\n",
       "    }\n",
       "\n",
       "    .dataframe tbody tr th {\n",
       "        vertical-align: top;\n",
       "    }\n",
       "\n",
       "    .dataframe thead th {\n",
       "        text-align: right;\n",
       "    }\n",
       "</style>\n",
       "<table border=\"1\" class=\"dataframe\">\n",
       "  <thead>\n",
       "    <tr style=\"text-align: right;\">\n",
       "      <th></th>\n",
       "      <th>fecha</th>\n",
       "      <th>supermercado</th>\n",
       "      <th>categoria</th>\n",
       "      <th>precio_actual</th>\n",
       "      <th>variacion_euros</th>\n",
       "      <th>variacion_porcentaje</th>\n",
       "    </tr>\n",
       "  </thead>\n",
       "  <tbody>\n",
       "    <tr>\n",
       "      <th>0</th>\n",
       "      <td>2024-01-08</td>\n",
       "      <td>Alcampo</td>\n",
       "      <td>Aceite-de-girasol</td>\n",
       "      <td>2.19</td>\n",
       "      <td>0.9</td>\n",
       "      <td>69.77</td>\n",
       "    </tr>\n",
       "    <tr>\n",
       "      <th>1</th>\n",
       "      <td>2024-06-27</td>\n",
       "      <td>Alcampo</td>\n",
       "      <td>Aceite-de-girasol</td>\n",
       "      <td>2.34</td>\n",
       "      <td>0.59</td>\n",
       "      <td>33.71</td>\n",
       "    </tr>\n",
       "    <tr>\n",
       "      <th>2</th>\n",
       "      <td>2024-07-19</td>\n",
       "      <td>Alcampo</td>\n",
       "      <td>Aceite-de-girasol</td>\n",
       "      <td>1.29</td>\n",
       "      <td>-0.9</td>\n",
       "      <td>-41.1</td>\n",
       "    </tr>\n",
       "    <tr>\n",
       "      <th>3</th>\n",
       "      <td>2024-09-26</td>\n",
       "      <td>Alcampo</td>\n",
       "      <td>Aceite-de-girasol</td>\n",
       "      <td>2.19</td>\n",
       "      <td>0.8</td>\n",
       "      <td>57.55</td>\n",
       "    </tr>\n",
       "    <tr>\n",
       "      <th>4</th>\n",
       "      <td>2024-10-10</td>\n",
       "      <td>Alcampo</td>\n",
       "      <td>Aceite-de-girasol</td>\n",
       "      <td>2.49</td>\n",
       "      <td>0.61</td>\n",
       "      <td>32.45</td>\n",
       "    </tr>\n",
       "    <tr>\n",
       "      <th>...</th>\n",
       "      <td>...</td>\n",
       "      <td>...</td>\n",
       "      <td>...</td>\n",
       "      <td>...</td>\n",
       "      <td>...</td>\n",
       "      <td>...</td>\n",
       "    </tr>\n",
       "    <tr>\n",
       "      <th>187</th>\n",
       "      <td>2024-09-26</td>\n",
       "      <td>Eroski</td>\n",
       "      <td>Leche</td>\n",
       "      <td>1.42</td>\n",
       "      <td>0.33</td>\n",
       "      <td>30.28</td>\n",
       "    </tr>\n",
       "    <tr>\n",
       "      <th>188</th>\n",
       "      <td>2024-09-26</td>\n",
       "      <td>Eroski</td>\n",
       "      <td>Leche</td>\n",
       "      <td>1.42</td>\n",
       "      <td>0.33</td>\n",
       "      <td>30.28</td>\n",
       "    </tr>\n",
       "    <tr>\n",
       "      <th>189</th>\n",
       "      <td>2024-10-10</td>\n",
       "      <td>Eroski</td>\n",
       "      <td>Leche</td>\n",
       "      <td>2.81</td>\n",
       "      <td>0.82</td>\n",
       "      <td>41.21</td>\n",
       "    </tr>\n",
       "    <tr>\n",
       "      <th>190</th>\n",
       "      <td>2024-07-16</td>\n",
       "      <td>Mercadona</td>\n",
       "      <td>Leche</td>\n",
       "      <td>3.38</td>\n",
       "      <td>-2.33</td>\n",
       "      <td>-40.81</td>\n",
       "    </tr>\n",
       "    <tr>\n",
       "      <th>191</th>\n",
       "      <td>2024-07-17</td>\n",
       "      <td>Mercadona</td>\n",
       "      <td>Leche</td>\n",
       "      <td>1.05</td>\n",
       "      <td>-2.33</td>\n",
       "      <td>-68.93</td>\n",
       "    </tr>\n",
       "  </tbody>\n",
       "</table>\n",
       "<p>192 rows × 6 columns</p>\n",
       "</div>"
      ],
      "text/plain": [
       "          fecha supermercado          categoria precio_actual variacion_euros  \\\n",
       "0    2024-01-08      Alcampo  Aceite-de-girasol          2.19             0.9   \n",
       "1    2024-06-27      Alcampo  Aceite-de-girasol          2.34            0.59   \n",
       "2    2024-07-19      Alcampo  Aceite-de-girasol          1.29            -0.9   \n",
       "3    2024-09-26      Alcampo  Aceite-de-girasol          2.19             0.8   \n",
       "4    2024-10-10      Alcampo  Aceite-de-girasol          2.49            0.61   \n",
       "..          ...          ...                ...           ...             ...   \n",
       "187  2024-09-26       Eroski              Leche          1.42            0.33   \n",
       "188  2024-09-26       Eroski              Leche          1.42            0.33   \n",
       "189  2024-10-10       Eroski              Leche          2.81            0.82   \n",
       "190  2024-07-16    Mercadona              Leche          3.38           -2.33   \n",
       "191  2024-07-17    Mercadona              Leche          1.05           -2.33   \n",
       "\n",
       "    variacion_porcentaje  \n",
       "0                  69.77  \n",
       "1                  33.71  \n",
       "2                  -41.1  \n",
       "3                  57.55  \n",
       "4                  32.45  \n",
       "..                   ...  \n",
       "187                30.28  \n",
       "188                30.28  \n",
       "189                41.21  \n",
       "190               -40.81  \n",
       "191               -68.93  \n",
       "\n",
       "[192 rows x 6 columns]"
      ]
     },
     "execution_count": 74,
     "metadata": {},
     "output_type": "execute_result"
    }
   ],
   "source": [
    "resultado3 = sf.dbeaver_fetch(sf.dbeaver_conexion(\"Facua\"),query3)\n",
    "resultado3"
   ]
  },
  {
   "cell_type": "code",
   "execution_count": 75,
   "metadata": {},
   "outputs": [],
   "source": [
    "resultado3[\"precio_actual\"] = resultado3[\"precio_actual\"].apply(float)\n",
    "resultado3[\"variacion_euros\"] = resultado3[\"variacion_euros\"].apply(float)\n",
    "resultado3[\"variacion_porcentaje\"] = resultado3[\"variacion_porcentaje\"].apply(float)"
   ]
  },
  {
   "cell_type": "code",
   "execution_count": 84,
   "metadata": {},
   "outputs": [
    {
     "data": {
      "application/vnd.plotly.v1+json": {
       "config": {
        "plotlyServerURL": "https://plot.ly"
       },
       "data": [
        {
         "fillpattern": {
          "shape": ""
         },
         "hovertemplate": "Supermercado=Alcampo<br>Categoría=Aceite-de-girasol<br>Fecha=%{x}<br>Variación (%)=%{y}<extra></extra>",
         "legendgroup": "Alcampo",
         "line": {
          "color": "#636efa"
         },
         "marker": {
          "symbol": "circle"
         },
         "mode": "lines",
         "name": "Alcampo",
         "orientation": "v",
         "showlegend": true,
         "stackgroup": "1",
         "type": "scatter",
         "x": [
          "2024-01-08",
          "2024-06-27",
          "2024-07-19",
          "2024-09-26",
          "2024-10-10",
          "2024-12-09"
         ],
         "xaxis": "x",
         "y": [
          69.77,
          33.71,
          -41.1,
          57.55,
          32.45,
          -36.53
         ],
         "yaxis": "y"
        },
        {
         "fillpattern": {
          "shape": ""
         },
         "hovertemplate": "Supermercado=Alcampo<br>Categoría=Aceite-de-oliva<br>Fecha=%{x}<br>Variación (%)=%{y}<extra></extra>",
         "legendgroup": "Alcampo",
         "line": {
          "color": "#636efa"
         },
         "marker": {
          "symbol": "circle"
         },
         "mode": "lines",
         "name": "Alcampo",
         "orientation": "v",
         "showlegend": false,
         "stackgroup": "1",
         "type": "scatter",
         "x": [
          "2024-02-08",
          "2024-08-14",
          "2024-08-14",
          "2024-08-29",
          "2024-10-07",
          "2024-10-10",
          "2024-10-10",
          "2024-10-24",
          "2024-10-24",
          "2024-10-24",
          "2024-10-24",
          "2024-10-25",
          "2024-12-09",
          "2024-12-09",
          "2024-12-09",
          "2024-12-09",
          "2024-12-09"
         ],
         "xaxis": "x",
         "y": [
          -33.17,
          49.64,
          36.05,
          -36.04,
          -33.86,
          -32.07,
          35.49,
          -30.89,
          -30.89,
          -32.7,
          38.23,
          47.21,
          42.15,
          56.35,
          31.32,
          32.81,
          40.36
         ],
         "yaxis": "y"
        },
        {
         "fillpattern": {
          "shape": ""
         },
         "hovertemplate": "Supermercado=Alcampo<br>Categoría=Leche<br>Fecha=%{x}<br>Variación (%)=%{y}<extra></extra>",
         "legendgroup": "Alcampo",
         "line": {
          "color": "#636efa"
         },
         "marker": {
          "symbol": "circle"
         },
         "mode": "lines",
         "name": "Alcampo",
         "orientation": "v",
         "showlegend": false,
         "stackgroup": "1",
         "type": "scatter",
         "x": [
          "2024-03-10",
          "2024-07-16",
          "2024-07-16",
          "2024-07-17",
          "2024-07-17",
          "2024-08-13",
          "2024-08-13",
          "2024-08-21",
          "2024-08-21",
          "2024-09-24",
          "2024-09-24",
          "2024-09-25",
          "2024-09-25",
          "2024-09-27",
          "2024-09-27",
          "2024-10-14",
          "2024-10-17",
          "2024-10-17",
          "2024-10-25",
          "2024-11-10",
          "2024-12-09",
          "2024-12-10",
          "2024-12-10",
          "2024-12-10"
         ],
         "xaxis": "x",
         "y": [
          33.33,
          476.92,
          -40.81,
          -83.33,
          -68.93,
          -43.4,
          -43.4,
          86.67,
          86.67,
          50,
          50,
          -50,
          -50,
          100,
          100,
          68,
          74,
          74,
          154,
          -59.68,
          -33.33,
          -42.53,
          -40.48,
          -42.53
         ],
         "yaxis": "y"
        },
        {
         "fillpattern": {
          "shape": ""
         },
         "hovertemplate": "Supermercado=Carrefour<br>Categoría=Aceite-de-girasol<br>Fecha=%{x}<br>Variación (%)=%{y}<extra></extra>",
         "legendgroup": "Carrefour",
         "line": {
          "color": "#EF553B"
         },
         "marker": {
          "symbol": "circle"
         },
         "mode": "lines",
         "name": "Carrefour",
         "orientation": "v",
         "showlegend": true,
         "stackgroup": "1",
         "type": "scatter",
         "x": [
          "2024-03-10",
          "2024-07-24",
          "2024-07-26",
          "2024-07-27"
         ],
         "xaxis": "x",
         "y": [
          44.69,
          -31.33,
          51.46,
          -33.98
         ],
         "yaxis": "y"
        },
        {
         "fillpattern": {
          "shape": ""
         },
         "hovertemplate": "Supermercado=Carrefour<br>Categoría=Aceite-de-oliva<br>Fecha=%{x}<br>Variación (%)=%{y}<extra></extra>",
         "legendgroup": "Carrefour",
         "line": {
          "color": "#EF553B"
         },
         "marker": {
          "symbol": "circle"
         },
         "mode": "lines",
         "name": "Carrefour",
         "orientation": "v",
         "showlegend": false,
         "stackgroup": "1",
         "type": "scatter",
         "x": [
          "2024-03-10",
          "2024-07-26",
          "2024-08-27",
          "2024-09-09",
          "2024-09-09",
          "2024-10-10",
          "2024-10-10",
          "2024-10-10",
          "2024-10-10",
          "2024-10-25",
          "2024-10-25",
          "2024-11-07",
          "2024-12-09",
          "2024-12-09",
          "2024-12-09",
          "2024-12-09",
          "2024-12-10"
         ],
         "xaxis": "x",
         "y": [
          43.74,
          38.95,
          41.65,
          37.02,
          37.02,
          -33.81,
          43.54,
          35.62,
          43.28,
          -31.29,
          -31.29,
          46.42,
          37.02,
          30.38,
          -30.43,
          37.02,
          35.62
         ],
         "yaxis": "y"
        },
        {
         "fillpattern": {
          "shape": ""
         },
         "hovertemplate": "Supermercado=Carrefour<br>Categoría=Leche<br>Fecha=%{x}<br>Variación (%)=%{y}<extra></extra>",
         "legendgroup": "Carrefour",
         "line": {
          "color": "#EF553B"
         },
         "marker": {
          "symbol": "circle"
         },
         "mode": "lines",
         "name": "Carrefour",
         "orientation": "v",
         "showlegend": false,
         "stackgroup": "1",
         "type": "scatter",
         "x": [
          "2024-03-10",
          "2024-03-10",
          "2024-07-26",
          "2024-07-26",
          "2024-08-27",
          "2024-08-31",
          "2024-08-31",
          "2024-09-17",
          "2024-12-09",
          "2024-12-09",
          "2024-12-09"
         ],
         "xaxis": "x",
         "y": [
          40.8,
          44,
          34.11,
          36,
          31.18,
          31.18,
          31.18,
          31.18,
          31.18,
          31.18,
          37
         ],
         "yaxis": "y"
        },
        {
         "fillpattern": {
          "shape": ""
         },
         "hovertemplate": "Supermercado=Dia<br>Categoría=Aceite-de-girasol<br>Fecha=%{x}<br>Variación (%)=%{y}<extra></extra>",
         "legendgroup": "Dia",
         "line": {
          "color": "#00cc96"
         },
         "marker": {
          "symbol": "circle"
         },
         "mode": "lines",
         "name": "Dia",
         "orientation": "v",
         "showlegend": true,
         "stackgroup": "1",
         "type": "scatter",
         "x": [
          "2024-07-08",
          "2024-07-17",
          "2024-07-24",
          "2024-08-14",
          "2024-09-18",
          "2024-09-25",
          "2024-10-16",
          "2024-10-23"
         ],
         "xaxis": "x",
         "y": [
          -33.98,
          -33.98,
          51.46,
          51.46,
          -33.98,
          51.46,
          -33.96,
          51.43
         ],
         "yaxis": "y"
        },
        {
         "fillpattern": {
          "shape": ""
         },
         "hovertemplate": "Supermercado=Dia<br>Categoría=Aceite-de-oliva<br>Fecha=%{x}<br>Variación (%)=%{y}<extra></extra>",
         "legendgroup": "Dia",
         "line": {
          "color": "#00cc96"
         },
         "marker": {
          "symbol": "circle"
         },
         "mode": "lines",
         "name": "Dia",
         "orientation": "v",
         "showlegend": false,
         "stackgroup": "1",
         "type": "scatter",
         "x": [
          "2024-04-09",
          "2024-06-27",
          "2024-07-24",
          "2024-07-24",
          "2024-07-31",
          "2024-10-23",
          "2024-11-07",
          "2024-11-09"
         ],
         "xaxis": "x",
         "y": [
          -32.04,
          42.86,
          -30.98,
          33.3,
          44.89,
          -31.06,
          35.94,
          47.15
         ],
         "yaxis": "y"
        },
        {
         "fillpattern": {
          "shape": ""
         },
         "hovertemplate": "Supermercado=Dia<br>Categoría=Leche<br>Fecha=%{x}<br>Variación (%)=%{y}<extra></extra>",
         "legendgroup": "Dia",
         "line": {
          "color": "#00cc96"
         },
         "marker": {
          "symbol": "circle"
         },
         "mode": "lines",
         "name": "Dia",
         "orientation": "v",
         "showlegend": false,
         "stackgroup": "1",
         "type": "scatter",
         "x": [
          "2024-02-10"
         ],
         "xaxis": "x",
         "y": [
          38
         ],
         "yaxis": "y"
        },
        {
         "fillpattern": {
          "shape": ""
         },
         "hovertemplate": "Supermercado=Eroski<br>Categoría=Aceite-de-girasol<br>Fecha=%{x}<br>Variación (%)=%{y}<extra></extra>",
         "legendgroup": "Eroski",
         "line": {
          "color": "#ab63fa"
         },
         "marker": {
          "symbol": "circle"
         },
         "mode": "lines",
         "name": "Eroski",
         "orientation": "v",
         "showlegend": true,
         "stackgroup": "1",
         "type": "scatter",
         "x": [
          "2024-01-08",
          "2024-01-08",
          "2024-08-16",
          "2024-08-16",
          "2024-10-10",
          "2024-10-10"
         ],
         "xaxis": "x",
         "y": [
          -41.31,
          -36.76,
          70.39,
          58.13,
          -42.63,
          -32.74
         ],
         "yaxis": "y"
        },
        {
         "fillpattern": {
          "shape": ""
         },
         "hovertemplate": "Supermercado=Eroski<br>Categoría=Aceite-de-oliva<br>Fecha=%{x}<br>Variación (%)=%{y}<extra></extra>",
         "legendgroup": "Eroski",
         "line": {
          "color": "#ab63fa"
         },
         "marker": {
          "symbol": "circle"
         },
         "mode": "lines",
         "name": "Eroski",
         "orientation": "v",
         "showlegend": false,
         "stackgroup": "1",
         "type": "scatter",
         "x": [
          "2024-01-08",
          "2024-01-08",
          "2024-01-08",
          "2024-01-08",
          "2024-01-08",
          "2024-01-08",
          "2024-01-08",
          "2024-01-08",
          "2024-02-07",
          "2024-05-09",
          "2024-06-27",
          "2024-07-15",
          "2024-07-18",
          "2024-08-16",
          "2024-08-16",
          "2024-08-16",
          "2024-08-16",
          "2024-08-16",
          "2024-08-16",
          "2024-08-28",
          "2024-08-29",
          "2024-08-29",
          "2024-08-29",
          "2024-09-26",
          "2024-09-26",
          "2024-09-26",
          "2024-10-10",
          "2024-10-10",
          "2024-10-10",
          "2024-10-10",
          "2024-11-07",
          "2024-11-07",
          "2024-11-07",
          "2024-11-07",
          "2024-11-07",
          "2024-11-07",
          "2024-11-07",
          "2024-12-09",
          "2024-12-09",
          "2024-12-09"
         ],
         "xaxis": "x",
         "y": [
          -36.33,
          -33.61,
          38.9,
          33.55,
          36.74,
          33.55,
          -36.33,
          50.63,
          -36.53,
          42.28,
          -33.62,
          33.33,
          40.36,
          57.07,
          39.69,
          33.78,
          57.07,
          50.63,
          -34.32,
          42.15,
          -37.07,
          52.26,
          38.51,
          59.97,
          58.9,
          -38.52,
          31.44,
          -45.64,
          -32.97,
          65.86,
          69.47,
          31.75,
          57.38,
          -33.61,
          37.11,
          -33.9,
          59.6,
          31.75,
          31.75,
          -37.49
         ],
         "yaxis": "y"
        },
        {
         "fillpattern": {
          "shape": ""
         },
         "hovertemplate": "Supermercado=Eroski<br>Categoría=Leche<br>Fecha=%{x}<br>Variación (%)=%{y}<extra></extra>",
         "legendgroup": "Eroski",
         "line": {
          "color": "#ab63fa"
         },
         "marker": {
          "symbol": "circle"
         },
         "mode": "lines",
         "name": "Eroski",
         "orientation": "v",
         "showlegend": false,
         "stackgroup": "1",
         "type": "scatter",
         "x": [
          "2024-02-10",
          "2024-08-29",
          "2024-08-29",
          "2024-08-29",
          "2024-09-26",
          "2024-09-26",
          "2024-10-10"
         ],
         "xaxis": "x",
         "y": [
          33.03,
          30.28,
          30.28,
          30.28,
          30.28,
          30.28,
          41.21
         ],
         "yaxis": "y"
        },
        {
         "fillpattern": {
          "shape": ""
         },
         "hovertemplate": "Supermercado=Hipercor<br>Categoría=Aceite-de-oliva<br>Fecha=%{x}<br>Variación (%)=%{y}<extra></extra>",
         "legendgroup": "Hipercor",
         "line": {
          "color": "#FFA15A"
         },
         "marker": {
          "symbol": "circle"
         },
         "mode": "lines",
         "name": "Hipercor",
         "orientation": "v",
         "showlegend": true,
         "stackgroup": "1",
         "type": "scatter",
         "x": [
          "2024-01-08",
          "2024-01-08",
          "2024-01-10",
          "2024-01-10",
          "2024-01-10",
          "2024-01-10",
          "2024-02-07",
          "2024-05-07",
          "2024-07-16",
          "2024-07-18",
          "2024-07-18",
          "2024-07-19",
          "2024-08-14",
          "2024-08-27",
          "2024-08-29",
          "2024-08-29",
          "2024-08-29",
          "2024-09-20",
          "2024-09-23",
          "2024-09-24",
          "2024-09-26",
          "2024-09-26",
          "2024-09-26",
          "2024-09-26",
          "2024-10-09",
          "2024-10-09",
          "2024-10-14",
          "2024-10-14",
          "2024-10-19",
          "2024-10-24",
          "2024-10-24",
          "2024-11-07",
          "2024-11-07",
          "2024-12-08",
          "2024-12-08",
          "2024-12-08",
          "2024-12-09",
          "2024-12-09",
          "2024-12-09",
          "2024-12-09",
          "2024-12-09"
         ],
         "xaxis": "x",
         "y": [
          42.56,
          41.4,
          35.3,
          35.25,
          35.3,
          35.25,
          -31,
          45.69,
          -31.72,
          37.06,
          38.59,
          35.7,
          38.8,
          -32.14,
          35.13,
          47.15,
          47.15,
          -30.63,
          44.16,
          -31.93,
          42.6,
          46.73,
          46.73,
          35.1,
          -31.85,
          -31.85,
          42.72,
          30.59,
          56.15,
          -31.29,
          39,
          41.4,
          37.41,
          -31.28,
          36.16,
          -31.28,
          37.67,
          47.36,
          42.22,
          36.98,
          31.8
         ],
         "yaxis": "y"
        },
        {
         "fillpattern": {
          "shape": ""
         },
         "hovertemplate": "Supermercado=Mercadona<br>Categoría=Leche<br>Fecha=%{x}<br>Variación (%)=%{y}<extra></extra>",
         "legendgroup": "Mercadona",
         "line": {
          "color": "#19d3f3"
         },
         "marker": {
          "symbol": "circle"
         },
         "mode": "lines",
         "name": "Mercadona",
         "orientation": "v",
         "showlegend": true,
         "stackgroup": "1",
         "type": "scatter",
         "x": [
          "2024-07-16",
          "2024-07-17"
         ],
         "xaxis": "x",
         "y": [
          -40.81,
          -68.93
         ],
         "yaxis": "y"
        }
       ],
       "layout": {
        "legend": {
         "title": {
          "text": "Supermercado"
         },
         "tracegroupgap": 0
        },
        "template": {
         "data": {
          "bar": [
           {
            "error_x": {
             "color": "#2a3f5f"
            },
            "error_y": {
             "color": "#2a3f5f"
            },
            "marker": {
             "line": {
              "color": "#E5ECF6",
              "width": 0.5
             },
             "pattern": {
              "fillmode": "overlay",
              "size": 10,
              "solidity": 0.2
             }
            },
            "type": "bar"
           }
          ],
          "barpolar": [
           {
            "marker": {
             "line": {
              "color": "#E5ECF6",
              "width": 0.5
             },
             "pattern": {
              "fillmode": "overlay",
              "size": 10,
              "solidity": 0.2
             }
            },
            "type": "barpolar"
           }
          ],
          "carpet": [
           {
            "aaxis": {
             "endlinecolor": "#2a3f5f",
             "gridcolor": "white",
             "linecolor": "white",
             "minorgridcolor": "white",
             "startlinecolor": "#2a3f5f"
            },
            "baxis": {
             "endlinecolor": "#2a3f5f",
             "gridcolor": "white",
             "linecolor": "white",
             "minorgridcolor": "white",
             "startlinecolor": "#2a3f5f"
            },
            "type": "carpet"
           }
          ],
          "choropleth": [
           {
            "colorbar": {
             "outlinewidth": 0,
             "ticks": ""
            },
            "type": "choropleth"
           }
          ],
          "contour": [
           {
            "colorbar": {
             "outlinewidth": 0,
             "ticks": ""
            },
            "colorscale": [
             [
              0,
              "#0d0887"
             ],
             [
              0.1111111111111111,
              "#46039f"
             ],
             [
              0.2222222222222222,
              "#7201a8"
             ],
             [
              0.3333333333333333,
              "#9c179e"
             ],
             [
              0.4444444444444444,
              "#bd3786"
             ],
             [
              0.5555555555555556,
              "#d8576b"
             ],
             [
              0.6666666666666666,
              "#ed7953"
             ],
             [
              0.7777777777777778,
              "#fb9f3a"
             ],
             [
              0.8888888888888888,
              "#fdca26"
             ],
             [
              1,
              "#f0f921"
             ]
            ],
            "type": "contour"
           }
          ],
          "contourcarpet": [
           {
            "colorbar": {
             "outlinewidth": 0,
             "ticks": ""
            },
            "type": "contourcarpet"
           }
          ],
          "heatmap": [
           {
            "colorbar": {
             "outlinewidth": 0,
             "ticks": ""
            },
            "colorscale": [
             [
              0,
              "#0d0887"
             ],
             [
              0.1111111111111111,
              "#46039f"
             ],
             [
              0.2222222222222222,
              "#7201a8"
             ],
             [
              0.3333333333333333,
              "#9c179e"
             ],
             [
              0.4444444444444444,
              "#bd3786"
             ],
             [
              0.5555555555555556,
              "#d8576b"
             ],
             [
              0.6666666666666666,
              "#ed7953"
             ],
             [
              0.7777777777777778,
              "#fb9f3a"
             ],
             [
              0.8888888888888888,
              "#fdca26"
             ],
             [
              1,
              "#f0f921"
             ]
            ],
            "type": "heatmap"
           }
          ],
          "heatmapgl": [
           {
            "colorbar": {
             "outlinewidth": 0,
             "ticks": ""
            },
            "colorscale": [
             [
              0,
              "#0d0887"
             ],
             [
              0.1111111111111111,
              "#46039f"
             ],
             [
              0.2222222222222222,
              "#7201a8"
             ],
             [
              0.3333333333333333,
              "#9c179e"
             ],
             [
              0.4444444444444444,
              "#bd3786"
             ],
             [
              0.5555555555555556,
              "#d8576b"
             ],
             [
              0.6666666666666666,
              "#ed7953"
             ],
             [
              0.7777777777777778,
              "#fb9f3a"
             ],
             [
              0.8888888888888888,
              "#fdca26"
             ],
             [
              1,
              "#f0f921"
             ]
            ],
            "type": "heatmapgl"
           }
          ],
          "histogram": [
           {
            "marker": {
             "pattern": {
              "fillmode": "overlay",
              "size": 10,
              "solidity": 0.2
             }
            },
            "type": "histogram"
           }
          ],
          "histogram2d": [
           {
            "colorbar": {
             "outlinewidth": 0,
             "ticks": ""
            },
            "colorscale": [
             [
              0,
              "#0d0887"
             ],
             [
              0.1111111111111111,
              "#46039f"
             ],
             [
              0.2222222222222222,
              "#7201a8"
             ],
             [
              0.3333333333333333,
              "#9c179e"
             ],
             [
              0.4444444444444444,
              "#bd3786"
             ],
             [
              0.5555555555555556,
              "#d8576b"
             ],
             [
              0.6666666666666666,
              "#ed7953"
             ],
             [
              0.7777777777777778,
              "#fb9f3a"
             ],
             [
              0.8888888888888888,
              "#fdca26"
             ],
             [
              1,
              "#f0f921"
             ]
            ],
            "type": "histogram2d"
           }
          ],
          "histogram2dcontour": [
           {
            "colorbar": {
             "outlinewidth": 0,
             "ticks": ""
            },
            "colorscale": [
             [
              0,
              "#0d0887"
             ],
             [
              0.1111111111111111,
              "#46039f"
             ],
             [
              0.2222222222222222,
              "#7201a8"
             ],
             [
              0.3333333333333333,
              "#9c179e"
             ],
             [
              0.4444444444444444,
              "#bd3786"
             ],
             [
              0.5555555555555556,
              "#d8576b"
             ],
             [
              0.6666666666666666,
              "#ed7953"
             ],
             [
              0.7777777777777778,
              "#fb9f3a"
             ],
             [
              0.8888888888888888,
              "#fdca26"
             ],
             [
              1,
              "#f0f921"
             ]
            ],
            "type": "histogram2dcontour"
           }
          ],
          "mesh3d": [
           {
            "colorbar": {
             "outlinewidth": 0,
             "ticks": ""
            },
            "type": "mesh3d"
           }
          ],
          "parcoords": [
           {
            "line": {
             "colorbar": {
              "outlinewidth": 0,
              "ticks": ""
             }
            },
            "type": "parcoords"
           }
          ],
          "pie": [
           {
            "automargin": true,
            "type": "pie"
           }
          ],
          "scatter": [
           {
            "fillpattern": {
             "fillmode": "overlay",
             "size": 10,
             "solidity": 0.2
            },
            "type": "scatter"
           }
          ],
          "scatter3d": [
           {
            "line": {
             "colorbar": {
              "outlinewidth": 0,
              "ticks": ""
             }
            },
            "marker": {
             "colorbar": {
              "outlinewidth": 0,
              "ticks": ""
             }
            },
            "type": "scatter3d"
           }
          ],
          "scattercarpet": [
           {
            "marker": {
             "colorbar": {
              "outlinewidth": 0,
              "ticks": ""
             }
            },
            "type": "scattercarpet"
           }
          ],
          "scattergeo": [
           {
            "marker": {
             "colorbar": {
              "outlinewidth": 0,
              "ticks": ""
             }
            },
            "type": "scattergeo"
           }
          ],
          "scattergl": [
           {
            "marker": {
             "colorbar": {
              "outlinewidth": 0,
              "ticks": ""
             }
            },
            "type": "scattergl"
           }
          ],
          "scattermapbox": [
           {
            "marker": {
             "colorbar": {
              "outlinewidth": 0,
              "ticks": ""
             }
            },
            "type": "scattermapbox"
           }
          ],
          "scatterpolar": [
           {
            "marker": {
             "colorbar": {
              "outlinewidth": 0,
              "ticks": ""
             }
            },
            "type": "scatterpolar"
           }
          ],
          "scatterpolargl": [
           {
            "marker": {
             "colorbar": {
              "outlinewidth": 0,
              "ticks": ""
             }
            },
            "type": "scatterpolargl"
           }
          ],
          "scatterternary": [
           {
            "marker": {
             "colorbar": {
              "outlinewidth": 0,
              "ticks": ""
             }
            },
            "type": "scatterternary"
           }
          ],
          "surface": [
           {
            "colorbar": {
             "outlinewidth": 0,
             "ticks": ""
            },
            "colorscale": [
             [
              0,
              "#0d0887"
             ],
             [
              0.1111111111111111,
              "#46039f"
             ],
             [
              0.2222222222222222,
              "#7201a8"
             ],
             [
              0.3333333333333333,
              "#9c179e"
             ],
             [
              0.4444444444444444,
              "#bd3786"
             ],
             [
              0.5555555555555556,
              "#d8576b"
             ],
             [
              0.6666666666666666,
              "#ed7953"
             ],
             [
              0.7777777777777778,
              "#fb9f3a"
             ],
             [
              0.8888888888888888,
              "#fdca26"
             ],
             [
              1,
              "#f0f921"
             ]
            ],
            "type": "surface"
           }
          ],
          "table": [
           {
            "cells": {
             "fill": {
              "color": "#EBF0F8"
             },
             "line": {
              "color": "white"
             }
            },
            "header": {
             "fill": {
              "color": "#C8D4E3"
             },
             "line": {
              "color": "white"
             }
            },
            "type": "table"
           }
          ]
         },
         "layout": {
          "annotationdefaults": {
           "arrowcolor": "#2a3f5f",
           "arrowhead": 0,
           "arrowwidth": 1
          },
          "autotypenumbers": "strict",
          "coloraxis": {
           "colorbar": {
            "outlinewidth": 0,
            "ticks": ""
           }
          },
          "colorscale": {
           "diverging": [
            [
             0,
             "#8e0152"
            ],
            [
             0.1,
             "#c51b7d"
            ],
            [
             0.2,
             "#de77ae"
            ],
            [
             0.3,
             "#f1b6da"
            ],
            [
             0.4,
             "#fde0ef"
            ],
            [
             0.5,
             "#f7f7f7"
            ],
            [
             0.6,
             "#e6f5d0"
            ],
            [
             0.7,
             "#b8e186"
            ],
            [
             0.8,
             "#7fbc41"
            ],
            [
             0.9,
             "#4d9221"
            ],
            [
             1,
             "#276419"
            ]
           ],
           "sequential": [
            [
             0,
             "#0d0887"
            ],
            [
             0.1111111111111111,
             "#46039f"
            ],
            [
             0.2222222222222222,
             "#7201a8"
            ],
            [
             0.3333333333333333,
             "#9c179e"
            ],
            [
             0.4444444444444444,
             "#bd3786"
            ],
            [
             0.5555555555555556,
             "#d8576b"
            ],
            [
             0.6666666666666666,
             "#ed7953"
            ],
            [
             0.7777777777777778,
             "#fb9f3a"
            ],
            [
             0.8888888888888888,
             "#fdca26"
            ],
            [
             1,
             "#f0f921"
            ]
           ],
           "sequentialminus": [
            [
             0,
             "#0d0887"
            ],
            [
             0.1111111111111111,
             "#46039f"
            ],
            [
             0.2222222222222222,
             "#7201a8"
            ],
            [
             0.3333333333333333,
             "#9c179e"
            ],
            [
             0.4444444444444444,
             "#bd3786"
            ],
            [
             0.5555555555555556,
             "#d8576b"
            ],
            [
             0.6666666666666666,
             "#ed7953"
            ],
            [
             0.7777777777777778,
             "#fb9f3a"
            ],
            [
             0.8888888888888888,
             "#fdca26"
            ],
            [
             1,
             "#f0f921"
            ]
           ]
          },
          "colorway": [
           "#636efa",
           "#EF553B",
           "#00cc96",
           "#ab63fa",
           "#FFA15A",
           "#19d3f3",
           "#FF6692",
           "#B6E880",
           "#FF97FF",
           "#FECB52"
          ],
          "font": {
           "color": "#2a3f5f"
          },
          "geo": {
           "bgcolor": "white",
           "lakecolor": "white",
           "landcolor": "#E5ECF6",
           "showlakes": true,
           "showland": true,
           "subunitcolor": "white"
          },
          "hoverlabel": {
           "align": "left"
          },
          "hovermode": "closest",
          "mapbox": {
           "style": "light"
          },
          "paper_bgcolor": "white",
          "plot_bgcolor": "#E5ECF6",
          "polar": {
           "angularaxis": {
            "gridcolor": "white",
            "linecolor": "white",
            "ticks": ""
           },
           "bgcolor": "#E5ECF6",
           "radialaxis": {
            "gridcolor": "white",
            "linecolor": "white",
            "ticks": ""
           }
          },
          "scene": {
           "xaxis": {
            "backgroundcolor": "#E5ECF6",
            "gridcolor": "white",
            "gridwidth": 2,
            "linecolor": "white",
            "showbackground": true,
            "ticks": "",
            "zerolinecolor": "white"
           },
           "yaxis": {
            "backgroundcolor": "#E5ECF6",
            "gridcolor": "white",
            "gridwidth": 2,
            "linecolor": "white",
            "showbackground": true,
            "ticks": "",
            "zerolinecolor": "white"
           },
           "zaxis": {
            "backgroundcolor": "#E5ECF6",
            "gridcolor": "white",
            "gridwidth": 2,
            "linecolor": "white",
            "showbackground": true,
            "ticks": "",
            "zerolinecolor": "white"
           }
          },
          "shapedefaults": {
           "line": {
            "color": "#2a3f5f"
           }
          },
          "ternary": {
           "aaxis": {
            "gridcolor": "white",
            "linecolor": "white",
            "ticks": ""
           },
           "baxis": {
            "gridcolor": "white",
            "linecolor": "white",
            "ticks": ""
           },
           "bgcolor": "#E5ECF6",
           "caxis": {
            "gridcolor": "white",
            "linecolor": "white",
            "ticks": ""
           }
          },
          "title": {
           "x": 0.05
          },
          "xaxis": {
           "automargin": true,
           "gridcolor": "white",
           "linecolor": "white",
           "ticks": "",
           "title": {
            "standoff": 15
           },
           "zerolinecolor": "white",
           "zerolinewidth": 2
          },
          "yaxis": {
           "automargin": true,
           "gridcolor": "white",
           "linecolor": "white",
           "ticks": "",
           "title": {
            "standoff": 15
           },
           "zerolinecolor": "white",
           "zerolinewidth": 2
          }
         }
        },
        "title": {
         "text": "Variaciones Inusuales en Precios por Supermercado y Categoría"
        },
        "xaxis": {
         "anchor": "y",
         "domain": [
          0,
          1
         ],
         "title": {
          "text": "Fecha"
         }
        },
        "yaxis": {
         "anchor": "x",
         "domain": [
          0,
          1
         ],
         "title": {
          "text": "Variación (%)"
         }
        }
       }
      }
     },
     "metadata": {},
     "output_type": "display_data"
    }
   ],
   "source": [
    "fig3 = px.area(\n",
    "    resultado3, \n",
    "    x=\"fecha\", \n",
    "    y=\"variacion_porcentaje\", \n",
    "    color=\"supermercado\", \n",
    "    line_group=\"categoria\", \n",
    "    labels={\n",
    "        \"fecha\": \"Fecha\",\n",
    "        \"variacion_porcentaje\": \"Variación (%)\",\n",
    "        \"supermercado\": \"Supermercado\",\n",
    "        \"categoria\": \"Categoría\"\n",
    "    },\n",
    "    title=\"Variaciones Inusuales en Precios por Supermercado y Categoría\"\n",
    ")\n",
    "\n",
    "\n",
    "fig3.update_layout(\n",
    "    xaxis_title=\"Fecha\",\n",
    "    yaxis_title=\"Variación (%)\"\n",
    ")\n",
    "\n",
    "\n",
    "fig3.show()\n"
   ]
  },
  {
   "cell_type": "code",
   "execution_count": 22,
   "metadata": {},
   "outputs": [],
   "source": [
    "query4 = '''\n",
    "SELECT \n",
    "    c.nombre AS categoria,\n",
    "    ROUND(STDDEV(h.precioeur),2) AS dispersion_precio\n",
    "FROM \n",
    "    historico h\n",
    "JOIN \n",
    "    categorias c\n",
    "        ON h.id_categoria = c.id_categoria\n",
    "GROUP BY \n",
    "    c.nombre\n",
    "ORDER BY \n",
    "    dispersion_precio DESC;\n",
    "'''"
   ]
  },
  {
   "cell_type": "code",
   "execution_count": 23,
   "metadata": {},
   "outputs": [
    {
     "data": {
      "text/html": [
       "<div>\n",
       "<style scoped>\n",
       "    .dataframe tbody tr th:only-of-type {\n",
       "        vertical-align: middle;\n",
       "    }\n",
       "\n",
       "    .dataframe tbody tr th {\n",
       "        vertical-align: top;\n",
       "    }\n",
       "\n",
       "    .dataframe thead th {\n",
       "        text-align: right;\n",
       "    }\n",
       "</style>\n",
       "<table border=\"1\" class=\"dataframe\">\n",
       "  <thead>\n",
       "    <tr style=\"text-align: right;\">\n",
       "      <th></th>\n",
       "      <th>categoria</th>\n",
       "      <th>dispersion_precio</th>\n",
       "    </tr>\n",
       "  </thead>\n",
       "  <tbody>\n",
       "    <tr>\n",
       "      <th>0</th>\n",
       "      <td>Aceite-de-oliva</td>\n",
       "      <td>16.89</td>\n",
       "    </tr>\n",
       "    <tr>\n",
       "      <th>1</th>\n",
       "      <td>Aceite-de-girasol</td>\n",
       "      <td>5.59</td>\n",
       "    </tr>\n",
       "    <tr>\n",
       "      <th>2</th>\n",
       "      <td>Leche</td>\n",
       "      <td>2.83</td>\n",
       "    </tr>\n",
       "  </tbody>\n",
       "</table>\n",
       "</div>"
      ],
      "text/plain": [
       "           categoria dispersion_precio\n",
       "0    Aceite-de-oliva             16.89\n",
       "1  Aceite-de-girasol              5.59\n",
       "2              Leche              2.83"
      ]
     },
     "execution_count": 23,
     "metadata": {},
     "output_type": "execute_result"
    }
   ],
   "source": [
    "resultado4 = sf.dbeaver_fetch(sf.dbeaver_conexion(\"Facua\"),query4)\n",
    "resultado4"
   ]
  },
  {
   "cell_type": "code",
   "execution_count": 20,
   "metadata": {},
   "outputs": [],
   "source": [
    "query5 = '''\n",
    "SELECT \n",
    "    s.nombre AS supermercado,\n",
    "    c.nombre AS categoria,\n",
    "    ROUND(AVG(h.precioeur),2) AS precio_promedio\n",
    "FROM \n",
    "    historico h\n",
    "JOIN \n",
    "    categorias c\n",
    "        ON h.id_categoria = c.id_categoria\n",
    "JOIN \n",
    "    supermercados s\n",
    "        ON h.id_supermercado = s.id_supermercado\n",
    "GROUP BY \n",
    "    s.nombre, c.nombre\n",
    "ORDER BY \n",
    "    c.nombre, precio_promedio;\n",
    "'''"
   ]
  },
  {
   "cell_type": "code",
   "execution_count": 21,
   "metadata": {},
   "outputs": [
    {
     "data": {
      "text/html": [
       "<div>\n",
       "<style scoped>\n",
       "    .dataframe tbody tr th:only-of-type {\n",
       "        vertical-align: middle;\n",
       "    }\n",
       "\n",
       "    .dataframe tbody tr th {\n",
       "        vertical-align: top;\n",
       "    }\n",
       "\n",
       "    .dataframe thead th {\n",
       "        text-align: right;\n",
       "    }\n",
       "</style>\n",
       "<table border=\"1\" class=\"dataframe\">\n",
       "  <thead>\n",
       "    <tr style=\"text-align: right;\">\n",
       "      <th></th>\n",
       "      <th>supermercado</th>\n",
       "      <th>categoria</th>\n",
       "      <th>precio_promedio</th>\n",
       "    </tr>\n",
       "  </thead>\n",
       "  <tbody>\n",
       "    <tr>\n",
       "      <th>0</th>\n",
       "      <td>Alcampo</td>\n",
       "      <td>Aceite-de-girasol</td>\n",
       "      <td>2.61</td>\n",
       "    </tr>\n",
       "    <tr>\n",
       "      <th>1</th>\n",
       "      <td>Hipercor</td>\n",
       "      <td>Aceite-de-girasol</td>\n",
       "      <td>3.01</td>\n",
       "    </tr>\n",
       "    <tr>\n",
       "      <th>2</th>\n",
       "      <td>Eroski</td>\n",
       "      <td>Aceite-de-girasol</td>\n",
       "      <td>3.13</td>\n",
       "    </tr>\n",
       "    <tr>\n",
       "      <th>3</th>\n",
       "      <td>Mercadona</td>\n",
       "      <td>Aceite-de-girasol</td>\n",
       "      <td>4.12</td>\n",
       "    </tr>\n",
       "    <tr>\n",
       "      <th>4</th>\n",
       "      <td>Dia</td>\n",
       "      <td>Aceite-de-girasol</td>\n",
       "      <td>5.54</td>\n",
       "    </tr>\n",
       "    <tr>\n",
       "      <th>5</th>\n",
       "      <td>Carrefour</td>\n",
       "      <td>Aceite-de-girasol</td>\n",
       "      <td>8.23</td>\n",
       "    </tr>\n",
       "    <tr>\n",
       "      <th>6</th>\n",
       "      <td>Mercadona</td>\n",
       "      <td>Aceite-de-oliva</td>\n",
       "      <td>13.05</td>\n",
       "    </tr>\n",
       "    <tr>\n",
       "      <th>7</th>\n",
       "      <td>Eroski</td>\n",
       "      <td>Aceite-de-oliva</td>\n",
       "      <td>13.26</td>\n",
       "    </tr>\n",
       "    <tr>\n",
       "      <th>8</th>\n",
       "      <td>Dia</td>\n",
       "      <td>Aceite-de-oliva</td>\n",
       "      <td>14.72</td>\n",
       "    </tr>\n",
       "    <tr>\n",
       "      <th>9</th>\n",
       "      <td>Carrefour</td>\n",
       "      <td>Aceite-de-oliva</td>\n",
       "      <td>17.31</td>\n",
       "    </tr>\n",
       "    <tr>\n",
       "      <th>10</th>\n",
       "      <td>Hipercor</td>\n",
       "      <td>Aceite-de-oliva</td>\n",
       "      <td>20.13</td>\n",
       "    </tr>\n",
       "    <tr>\n",
       "      <th>11</th>\n",
       "      <td>Alcampo</td>\n",
       "      <td>Aceite-de-oliva</td>\n",
       "      <td>24.63</td>\n",
       "    </tr>\n",
       "    <tr>\n",
       "      <th>12</th>\n",
       "      <td>Eroski</td>\n",
       "      <td>Leche</td>\n",
       "      <td>1.54</td>\n",
       "    </tr>\n",
       "    <tr>\n",
       "      <th>13</th>\n",
       "      <td>Hipercor</td>\n",
       "      <td>Leche</td>\n",
       "      <td>1.61</td>\n",
       "    </tr>\n",
       "    <tr>\n",
       "      <th>14</th>\n",
       "      <td>Carrefour</td>\n",
       "      <td>Leche</td>\n",
       "      <td>1.70</td>\n",
       "    </tr>\n",
       "    <tr>\n",
       "      <th>15</th>\n",
       "      <td>Mercadona</td>\n",
       "      <td>Leche</td>\n",
       "      <td>3.67</td>\n",
       "    </tr>\n",
       "    <tr>\n",
       "      <th>16</th>\n",
       "      <td>Alcampo</td>\n",
       "      <td>Leche</td>\n",
       "      <td>3.89</td>\n",
       "    </tr>\n",
       "    <tr>\n",
       "      <th>17</th>\n",
       "      <td>Dia</td>\n",
       "      <td>Leche</td>\n",
       "      <td>5.35</td>\n",
       "    </tr>\n",
       "  </tbody>\n",
       "</table>\n",
       "</div>"
      ],
      "text/plain": [
       "   supermercado          categoria precio_promedio\n",
       "0       Alcampo  Aceite-de-girasol            2.61\n",
       "1      Hipercor  Aceite-de-girasol            3.01\n",
       "2        Eroski  Aceite-de-girasol            3.13\n",
       "3     Mercadona  Aceite-de-girasol            4.12\n",
       "4           Dia  Aceite-de-girasol            5.54\n",
       "5     Carrefour  Aceite-de-girasol            8.23\n",
       "6     Mercadona    Aceite-de-oliva           13.05\n",
       "7        Eroski    Aceite-de-oliva           13.26\n",
       "8           Dia    Aceite-de-oliva           14.72\n",
       "9     Carrefour    Aceite-de-oliva           17.31\n",
       "10     Hipercor    Aceite-de-oliva           20.13\n",
       "11      Alcampo    Aceite-de-oliva           24.63\n",
       "12       Eroski              Leche            1.54\n",
       "13     Hipercor              Leche            1.61\n",
       "14    Carrefour              Leche            1.70\n",
       "15    Mercadona              Leche            3.67\n",
       "16      Alcampo              Leche            3.89\n",
       "17          Dia              Leche            5.35"
      ]
     },
     "execution_count": 21,
     "metadata": {},
     "output_type": "execute_result"
    }
   ],
   "source": [
    "resultado5 = sf.dbeaver_fetch(sf.dbeaver_conexion(\"Facua\"),query5)\n",
    "resultado5"
   ]
  },
  {
   "cell_type": "code",
   "execution_count": 60,
   "metadata": {},
   "outputs": [],
   "source": [
    "resultado5[\"precio_promedio\"] = resultado5[\"precio_promedio\"].apply(float)"
   ]
  },
  {
   "cell_type": "code",
   "execution_count": 85,
   "metadata": {},
   "outputs": [
    {
     "data": {
      "application/vnd.plotly.v1+json": {
       "config": {
        "plotlyServerURL": "https://plot.ly"
       },
       "data": [
        {
         "name": "Aceite-de-girasol",
         "text": [
          2.61,
          3.01,
          3.13,
          4.12,
          5.54,
          8.23
         ],
         "textposition": "auto",
         "type": "bar",
         "x": [
          "Alcampo",
          "Hipercor",
          "Eroski",
          "Mercadona",
          "Dia",
          "Carrefour"
         ],
         "xaxis": "x",
         "y": [
          2.61,
          3.01,
          3.13,
          4.12,
          5.54,
          8.23
         ],
         "yaxis": "y"
        },
        {
         "name": "Aceite-de-oliva",
         "text": [
          13.05,
          13.26,
          14.72,
          17.31,
          20.13,
          24.63
         ],
         "textposition": "auto",
         "type": "bar",
         "x": [
          "Mercadona",
          "Eroski",
          "Dia",
          "Carrefour",
          "Hipercor",
          "Alcampo"
         ],
         "xaxis": "x2",
         "y": [
          13.05,
          13.26,
          14.72,
          17.31,
          20.13,
          24.63
         ],
         "yaxis": "y2"
        },
        {
         "name": "Leche",
         "text": [
          1.54,
          1.61,
          1.7,
          3.67,
          3.89,
          5.35
         ],
         "textposition": "auto",
         "type": "bar",
         "x": [
          "Eroski",
          "Hipercor",
          "Carrefour",
          "Mercadona",
          "Alcampo",
          "Dia"
         ],
         "xaxis": "x3",
         "y": [
          1.54,
          1.61,
          1.7,
          3.67,
          3.89,
          5.35
         ],
         "yaxis": "y3"
        }
       ],
       "layout": {
        "annotations": [
         {
          "font": {
           "size": 16
          },
          "showarrow": false,
          "text": "Aceite-de-girasol",
          "x": 0.5,
          "xanchor": "center",
          "xref": "paper",
          "y": 1,
          "yanchor": "bottom",
          "yref": "paper"
         },
         {
          "font": {
           "size": 16
          },
          "showarrow": false,
          "text": "Aceite-de-oliva",
          "x": 0.5,
          "xanchor": "center",
          "xref": "paper",
          "y": 0.6111111111111112,
          "yanchor": "bottom",
          "yref": "paper"
         },
         {
          "font": {
           "size": 16
          },
          "showarrow": false,
          "text": "Leche",
          "x": 0.5,
          "xanchor": "center",
          "xref": "paper",
          "y": 0.22222222222222224,
          "yanchor": "bottom",
          "yref": "paper"
         }
        ],
        "barmode": "stack",
        "height": 900,
        "showlegend": false,
        "template": {
         "data": {
          "bar": [
           {
            "error_x": {
             "color": "#2a3f5f"
            },
            "error_y": {
             "color": "#2a3f5f"
            },
            "marker": {
             "line": {
              "color": "#E5ECF6",
              "width": 0.5
             },
             "pattern": {
              "fillmode": "overlay",
              "size": 10,
              "solidity": 0.2
             }
            },
            "type": "bar"
           }
          ],
          "barpolar": [
           {
            "marker": {
             "line": {
              "color": "#E5ECF6",
              "width": 0.5
             },
             "pattern": {
              "fillmode": "overlay",
              "size": 10,
              "solidity": 0.2
             }
            },
            "type": "barpolar"
           }
          ],
          "carpet": [
           {
            "aaxis": {
             "endlinecolor": "#2a3f5f",
             "gridcolor": "white",
             "linecolor": "white",
             "minorgridcolor": "white",
             "startlinecolor": "#2a3f5f"
            },
            "baxis": {
             "endlinecolor": "#2a3f5f",
             "gridcolor": "white",
             "linecolor": "white",
             "minorgridcolor": "white",
             "startlinecolor": "#2a3f5f"
            },
            "type": "carpet"
           }
          ],
          "choropleth": [
           {
            "colorbar": {
             "outlinewidth": 0,
             "ticks": ""
            },
            "type": "choropleth"
           }
          ],
          "contour": [
           {
            "colorbar": {
             "outlinewidth": 0,
             "ticks": ""
            },
            "colorscale": [
             [
              0,
              "#0d0887"
             ],
             [
              0.1111111111111111,
              "#46039f"
             ],
             [
              0.2222222222222222,
              "#7201a8"
             ],
             [
              0.3333333333333333,
              "#9c179e"
             ],
             [
              0.4444444444444444,
              "#bd3786"
             ],
             [
              0.5555555555555556,
              "#d8576b"
             ],
             [
              0.6666666666666666,
              "#ed7953"
             ],
             [
              0.7777777777777778,
              "#fb9f3a"
             ],
             [
              0.8888888888888888,
              "#fdca26"
             ],
             [
              1,
              "#f0f921"
             ]
            ],
            "type": "contour"
           }
          ],
          "contourcarpet": [
           {
            "colorbar": {
             "outlinewidth": 0,
             "ticks": ""
            },
            "type": "contourcarpet"
           }
          ],
          "heatmap": [
           {
            "colorbar": {
             "outlinewidth": 0,
             "ticks": ""
            },
            "colorscale": [
             [
              0,
              "#0d0887"
             ],
             [
              0.1111111111111111,
              "#46039f"
             ],
             [
              0.2222222222222222,
              "#7201a8"
             ],
             [
              0.3333333333333333,
              "#9c179e"
             ],
             [
              0.4444444444444444,
              "#bd3786"
             ],
             [
              0.5555555555555556,
              "#d8576b"
             ],
             [
              0.6666666666666666,
              "#ed7953"
             ],
             [
              0.7777777777777778,
              "#fb9f3a"
             ],
             [
              0.8888888888888888,
              "#fdca26"
             ],
             [
              1,
              "#f0f921"
             ]
            ],
            "type": "heatmap"
           }
          ],
          "heatmapgl": [
           {
            "colorbar": {
             "outlinewidth": 0,
             "ticks": ""
            },
            "colorscale": [
             [
              0,
              "#0d0887"
             ],
             [
              0.1111111111111111,
              "#46039f"
             ],
             [
              0.2222222222222222,
              "#7201a8"
             ],
             [
              0.3333333333333333,
              "#9c179e"
             ],
             [
              0.4444444444444444,
              "#bd3786"
             ],
             [
              0.5555555555555556,
              "#d8576b"
             ],
             [
              0.6666666666666666,
              "#ed7953"
             ],
             [
              0.7777777777777778,
              "#fb9f3a"
             ],
             [
              0.8888888888888888,
              "#fdca26"
             ],
             [
              1,
              "#f0f921"
             ]
            ],
            "type": "heatmapgl"
           }
          ],
          "histogram": [
           {
            "marker": {
             "pattern": {
              "fillmode": "overlay",
              "size": 10,
              "solidity": 0.2
             }
            },
            "type": "histogram"
           }
          ],
          "histogram2d": [
           {
            "colorbar": {
             "outlinewidth": 0,
             "ticks": ""
            },
            "colorscale": [
             [
              0,
              "#0d0887"
             ],
             [
              0.1111111111111111,
              "#46039f"
             ],
             [
              0.2222222222222222,
              "#7201a8"
             ],
             [
              0.3333333333333333,
              "#9c179e"
             ],
             [
              0.4444444444444444,
              "#bd3786"
             ],
             [
              0.5555555555555556,
              "#d8576b"
             ],
             [
              0.6666666666666666,
              "#ed7953"
             ],
             [
              0.7777777777777778,
              "#fb9f3a"
             ],
             [
              0.8888888888888888,
              "#fdca26"
             ],
             [
              1,
              "#f0f921"
             ]
            ],
            "type": "histogram2d"
           }
          ],
          "histogram2dcontour": [
           {
            "colorbar": {
             "outlinewidth": 0,
             "ticks": ""
            },
            "colorscale": [
             [
              0,
              "#0d0887"
             ],
             [
              0.1111111111111111,
              "#46039f"
             ],
             [
              0.2222222222222222,
              "#7201a8"
             ],
             [
              0.3333333333333333,
              "#9c179e"
             ],
             [
              0.4444444444444444,
              "#bd3786"
             ],
             [
              0.5555555555555556,
              "#d8576b"
             ],
             [
              0.6666666666666666,
              "#ed7953"
             ],
             [
              0.7777777777777778,
              "#fb9f3a"
             ],
             [
              0.8888888888888888,
              "#fdca26"
             ],
             [
              1,
              "#f0f921"
             ]
            ],
            "type": "histogram2dcontour"
           }
          ],
          "mesh3d": [
           {
            "colorbar": {
             "outlinewidth": 0,
             "ticks": ""
            },
            "type": "mesh3d"
           }
          ],
          "parcoords": [
           {
            "line": {
             "colorbar": {
              "outlinewidth": 0,
              "ticks": ""
             }
            },
            "type": "parcoords"
           }
          ],
          "pie": [
           {
            "automargin": true,
            "type": "pie"
           }
          ],
          "scatter": [
           {
            "fillpattern": {
             "fillmode": "overlay",
             "size": 10,
             "solidity": 0.2
            },
            "type": "scatter"
           }
          ],
          "scatter3d": [
           {
            "line": {
             "colorbar": {
              "outlinewidth": 0,
              "ticks": ""
             }
            },
            "marker": {
             "colorbar": {
              "outlinewidth": 0,
              "ticks": ""
             }
            },
            "type": "scatter3d"
           }
          ],
          "scattercarpet": [
           {
            "marker": {
             "colorbar": {
              "outlinewidth": 0,
              "ticks": ""
             }
            },
            "type": "scattercarpet"
           }
          ],
          "scattergeo": [
           {
            "marker": {
             "colorbar": {
              "outlinewidth": 0,
              "ticks": ""
             }
            },
            "type": "scattergeo"
           }
          ],
          "scattergl": [
           {
            "marker": {
             "colorbar": {
              "outlinewidth": 0,
              "ticks": ""
             }
            },
            "type": "scattergl"
           }
          ],
          "scattermapbox": [
           {
            "marker": {
             "colorbar": {
              "outlinewidth": 0,
              "ticks": ""
             }
            },
            "type": "scattermapbox"
           }
          ],
          "scatterpolar": [
           {
            "marker": {
             "colorbar": {
              "outlinewidth": 0,
              "ticks": ""
             }
            },
            "type": "scatterpolar"
           }
          ],
          "scatterpolargl": [
           {
            "marker": {
             "colorbar": {
              "outlinewidth": 0,
              "ticks": ""
             }
            },
            "type": "scatterpolargl"
           }
          ],
          "scatterternary": [
           {
            "marker": {
             "colorbar": {
              "outlinewidth": 0,
              "ticks": ""
             }
            },
            "type": "scatterternary"
           }
          ],
          "surface": [
           {
            "colorbar": {
             "outlinewidth": 0,
             "ticks": ""
            },
            "colorscale": [
             [
              0,
              "#0d0887"
             ],
             [
              0.1111111111111111,
              "#46039f"
             ],
             [
              0.2222222222222222,
              "#7201a8"
             ],
             [
              0.3333333333333333,
              "#9c179e"
             ],
             [
              0.4444444444444444,
              "#bd3786"
             ],
             [
              0.5555555555555556,
              "#d8576b"
             ],
             [
              0.6666666666666666,
              "#ed7953"
             ],
             [
              0.7777777777777778,
              "#fb9f3a"
             ],
             [
              0.8888888888888888,
              "#fdca26"
             ],
             [
              1,
              "#f0f921"
             ]
            ],
            "type": "surface"
           }
          ],
          "table": [
           {
            "cells": {
             "fill": {
              "color": "#EBF0F8"
             },
             "line": {
              "color": "white"
             }
            },
            "header": {
             "fill": {
              "color": "#C8D4E3"
             },
             "line": {
              "color": "white"
             }
            },
            "type": "table"
           }
          ]
         },
         "layout": {
          "annotationdefaults": {
           "arrowcolor": "#2a3f5f",
           "arrowhead": 0,
           "arrowwidth": 1
          },
          "autotypenumbers": "strict",
          "coloraxis": {
           "colorbar": {
            "outlinewidth": 0,
            "ticks": ""
           }
          },
          "colorscale": {
           "diverging": [
            [
             0,
             "#8e0152"
            ],
            [
             0.1,
             "#c51b7d"
            ],
            [
             0.2,
             "#de77ae"
            ],
            [
             0.3,
             "#f1b6da"
            ],
            [
             0.4,
             "#fde0ef"
            ],
            [
             0.5,
             "#f7f7f7"
            ],
            [
             0.6,
             "#e6f5d0"
            ],
            [
             0.7,
             "#b8e186"
            ],
            [
             0.8,
             "#7fbc41"
            ],
            [
             0.9,
             "#4d9221"
            ],
            [
             1,
             "#276419"
            ]
           ],
           "sequential": [
            [
             0,
             "#0d0887"
            ],
            [
             0.1111111111111111,
             "#46039f"
            ],
            [
             0.2222222222222222,
             "#7201a8"
            ],
            [
             0.3333333333333333,
             "#9c179e"
            ],
            [
             0.4444444444444444,
             "#bd3786"
            ],
            [
             0.5555555555555556,
             "#d8576b"
            ],
            [
             0.6666666666666666,
             "#ed7953"
            ],
            [
             0.7777777777777778,
             "#fb9f3a"
            ],
            [
             0.8888888888888888,
             "#fdca26"
            ],
            [
             1,
             "#f0f921"
            ]
           ],
           "sequentialminus": [
            [
             0,
             "#0d0887"
            ],
            [
             0.1111111111111111,
             "#46039f"
            ],
            [
             0.2222222222222222,
             "#7201a8"
            ],
            [
             0.3333333333333333,
             "#9c179e"
            ],
            [
             0.4444444444444444,
             "#bd3786"
            ],
            [
             0.5555555555555556,
             "#d8576b"
            ],
            [
             0.6666666666666666,
             "#ed7953"
            ],
            [
             0.7777777777777778,
             "#fb9f3a"
            ],
            [
             0.8888888888888888,
             "#fdca26"
            ],
            [
             1,
             "#f0f921"
            ]
           ]
          },
          "colorway": [
           "#636efa",
           "#EF553B",
           "#00cc96",
           "#ab63fa",
           "#FFA15A",
           "#19d3f3",
           "#FF6692",
           "#B6E880",
           "#FF97FF",
           "#FECB52"
          ],
          "font": {
           "color": "#2a3f5f"
          },
          "geo": {
           "bgcolor": "white",
           "lakecolor": "white",
           "landcolor": "#E5ECF6",
           "showlakes": true,
           "showland": true,
           "subunitcolor": "white"
          },
          "hoverlabel": {
           "align": "left"
          },
          "hovermode": "closest",
          "mapbox": {
           "style": "light"
          },
          "paper_bgcolor": "white",
          "plot_bgcolor": "#E5ECF6",
          "polar": {
           "angularaxis": {
            "gridcolor": "white",
            "linecolor": "white",
            "ticks": ""
           },
           "bgcolor": "#E5ECF6",
           "radialaxis": {
            "gridcolor": "white",
            "linecolor": "white",
            "ticks": ""
           }
          },
          "scene": {
           "xaxis": {
            "backgroundcolor": "#E5ECF6",
            "gridcolor": "white",
            "gridwidth": 2,
            "linecolor": "white",
            "showbackground": true,
            "ticks": "",
            "zerolinecolor": "white"
           },
           "yaxis": {
            "backgroundcolor": "#E5ECF6",
            "gridcolor": "white",
            "gridwidth": 2,
            "linecolor": "white",
            "showbackground": true,
            "ticks": "",
            "zerolinecolor": "white"
           },
           "zaxis": {
            "backgroundcolor": "#E5ECF6",
            "gridcolor": "white",
            "gridwidth": 2,
            "linecolor": "white",
            "showbackground": true,
            "ticks": "",
            "zerolinecolor": "white"
           }
          },
          "shapedefaults": {
           "line": {
            "color": "#2a3f5f"
           }
          },
          "ternary": {
           "aaxis": {
            "gridcolor": "white",
            "linecolor": "white",
            "ticks": ""
           },
           "baxis": {
            "gridcolor": "white",
            "linecolor": "white",
            "ticks": ""
           },
           "bgcolor": "#E5ECF6",
           "caxis": {
            "gridcolor": "white",
            "linecolor": "white",
            "ticks": ""
           }
          },
          "title": {
           "x": 0.05
          },
          "xaxis": {
           "automargin": true,
           "gridcolor": "white",
           "linecolor": "white",
           "ticks": "",
           "title": {
            "standoff": 15
           },
           "zerolinecolor": "white",
           "zerolinewidth": 2
          },
          "yaxis": {
           "automargin": true,
           "gridcolor": "white",
           "linecolor": "white",
           "ticks": "",
           "title": {
            "standoff": 15
           },
           "zerolinecolor": "white",
           "zerolinewidth": 2
          }
         }
        },
        "title": {
         "text": "Precio Medio de Cada Categoría en Cada Supermercado"
        },
        "xaxis": {
         "anchor": "y",
         "domain": [
          0,
          1
         ]
        },
        "xaxis2": {
         "anchor": "y2",
         "domain": [
          0,
          1
         ]
        },
        "xaxis3": {
         "anchor": "y3",
         "domain": [
          0,
          1
         ]
        },
        "yaxis": {
         "anchor": "x",
         "domain": [
          0.7777777777777778,
          1
         ]
        },
        "yaxis2": {
         "anchor": "x2",
         "domain": [
          0.3888888888888889,
          0.6111111111111112
         ]
        },
        "yaxis3": {
         "anchor": "x3",
         "domain": [
          0,
          0.22222222222222224
         ]
        }
       }
      }
     },
     "metadata": {},
     "output_type": "display_data"
    }
   ],
   "source": [
    "categorias = resultado5['categoria'].unique()\n",
    "fig5 = sp.make_subplots(rows=len(categorias), cols=1, subplot_titles=categorias, shared_yaxes=False)\n",
    "\n",
    "for i, categoria in enumerate(categorias):\n",
    "    df_filtered = resultado5[resultado5['categoria'] == categoria]\n",
    "    fig5.add_trace(\n",
    "        go.Bar(x=df_filtered['supermercado'], y=df_filtered['precio_promedio'], name=categoria, text=df_filtered['precio_promedio'], textposition='auto'),\n",
    "        row=i + 1, col=1\n",
    "    )\n",
    "\n",
    "fig5.update_layout(\n",
    "    barmode='stack',  # Configurar las barras apiladas\n",
    "    height=300 * 3,\n",
    "    title_text=\"Precio Medio de Cada Categoría en Cada Supermercado\",\n",
    "    showlegend=False\n",
    ")\n",
    "\n",
    "fig5.show()\n"
   ]
  },
  {
   "cell_type": "code",
   "execution_count": null,
   "metadata": {},
   "outputs": [],
   "source": [
    "# Cantidad de productos"
   ]
  }
 ],
 "metadata": {
  "kernelspec": {
   "display_name": "Python 3",
   "language": "python",
   "name": "python3"
  },
  "language_info": {
   "codemirror_mode": {
    "name": "ipython",
    "version": 3
   },
   "file_extension": ".py",
   "mimetype": "text/x-python",
   "name": "python",
   "nbconvert_exporter": "python",
   "pygments_lexer": "ipython3",
   "version": "3.9.6"
  }
 },
 "nbformat": 4,
 "nbformat_minor": 2
}
