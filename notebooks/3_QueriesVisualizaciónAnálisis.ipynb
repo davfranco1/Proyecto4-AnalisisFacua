{
 "cells": [
  {
   "cell_type": "markdown",
   "metadata": {},
   "source": [
    "# Notebook #3: Queries, Visualización y Análisis\n",
    "\n",
    "- En este tercer notebook haremos consultas sobre nuestra base de datos y las usaremos para generar visualizaciones y el análisis de las mismas.\n",
    "\n",
    "- Las visualizaciones de Ploty no se renderizan en Github. Para poder verlas es necesaria la descarga del Notebook.\n",
    "\n",
    "- El primer paso será importar las librerías necesarias:"
   ]
  },
  {
   "cell_type": "code",
   "execution_count": 1,
   "metadata": {},
   "outputs": [
    {
     "name": "stderr",
     "output_type": "stream",
     "text": [
      "/Users/davidfranco/Library/Python/3.9/lib/python/site-packages/urllib3/__init__.py:35: NotOpenSSLWarning: urllib3 v2 only supports OpenSSL 1.1.1+, currently the 'ssl' module is compiled with 'LibreSSL 2.8.3'. See: https://github.com/urllib3/urllib3/issues/3020\n",
      "  warnings.warn(\n"
     ]
    }
   ],
   "source": [
    "# Librerías para tratamiento de datos\n",
    "import pandas as pd\n",
    "pd.set_option('display.max_columns', None) # Parámetro que modifica la visualización de los resultado3s\n",
    "import numpy as np\n",
    "\n",
    "# Trabajar con bases de datos SQL\n",
    "import psycopg2\n",
    "from psycopg2 import OperationalError, errorcodes, errors\n",
    "\n",
    "# Librería para el acceso a variables y funciones\n",
    "import sys\n",
    "sys.path.append(\"../\")\n",
    "from src import soporte_funciones as sf #Archivo .py donde encontraremos todas nuestras funciones.\n",
    "\n",
    "# Librerías para graficar\n",
    "import plotly.express as px\n",
    "import plotly.subplots as sp\n",
    "from plotly.subplots import make_subplots\n",
    "import plotly.graph_objects as go\n",
    "\n",
    "# Librería para ignorar avisos\n",
    "import warnings\n",
    "warnings.filterwarnings(\"ignore\") # Ignora TODOS los avisos"
   ]
  },
  {
   "cell_type": "markdown",
   "metadata": {},
   "source": [
    "### Objetivo del Análisis \n",
    "\n",
    "- Antes de plantearnos las queries que pretendemos realizar, debemos recordar los objetivos del proyecto, así como la estructura de los datos.\n",
    "\n",
    "    **1. Comparación de Precios entre Supermercados:** Determinar qué supermercados ofrecen los precios más bajos y cuáles son más caros para cada producto.\n",
    "\n",
    "    **2. Análisis de la Evolución de Precios:** Estudiar cómo han cambiado los precios de los productos a lo largo del tiempo en distintos supermercados.\n",
    "\n",
    "    **3. Detección de Anomalías:** Identificar subidas o bajadas de precios inusuales que podrían señalar prácticas abusivas o promociones.\n",
    "\n",
    "    **4. Análisis de la Dispersión de Precios:** Evaluar la variabilidad de los precios de un mismo producto en diferentes supermercados.\n",
    "\n",
    "    **5. Comparación de Precios Promedio:** Calcular y comparar los precios promedio de cada producto en diferentes supermercados.\n",
    "\n",
    "#### Diagrama Entidad Relación\n",
    "\n",
    "<img src=\"../images/Diagrama_ER.png\" width=\"300\">"
   ]
  },
  {
   "cell_type": "markdown",
   "metadata": {},
   "source": [
    "### 1. Comparación de Precios entre Supermercados\n",
    "\n",
    "- Determinar qué supermercados ofrecen los precios más bajos y cuáles son más caros para cada producto."
   ]
  },
  {
   "cell_type": "code",
   "execution_count": 2,
   "metadata": {},
   "outputs": [],
   "source": [
    "query1 = '''\n",
    "SELECT \n",
    "    s.nombre AS supermercado,\n",
    "    c.nombre AS categoria,\n",
    "    MIN(h.precioeur) AS precio_minimo,\n",
    "    MAX(h.precioeur) AS precio_maximo\n",
    "FROM \n",
    "    historico h\n",
    "INNER JOIN \n",
    "    categorias c\n",
    "        ON h.id_categoria = c.id_categoria\n",
    "INNER JOIN \n",
    "    supermercados s\n",
    "        ON h.id_supermercado = s.id_supermercado\n",
    "GROUP BY \n",
    "    s.nombre, c.nombre\n",
    "ORDER BY \n",
    "    c.nombre, precio_minimo;\n",
    "'''"
   ]
  },
  {
   "cell_type": "code",
   "execution_count": 3,
   "metadata": {},
   "outputs": [
    {
     "data": {
      "text/html": [
       "<div>\n",
       "<style scoped>\n",
       "    .dataframe tbody tr th:only-of-type {\n",
       "        vertical-align: middle;\n",
       "    }\n",
       "\n",
       "    .dataframe tbody tr th {\n",
       "        vertical-align: top;\n",
       "    }\n",
       "\n",
       "    .dataframe thead th {\n",
       "        text-align: right;\n",
       "    }\n",
       "</style>\n",
       "<table border=\"1\" class=\"dataframe\">\n",
       "  <thead>\n",
       "    <tr style=\"text-align: right;\">\n",
       "      <th></th>\n",
       "      <th>supermercado</th>\n",
       "      <th>categoria</th>\n",
       "      <th>precio_minimo</th>\n",
       "      <th>precio_maximo</th>\n",
       "    </tr>\n",
       "  </thead>\n",
       "  <tbody>\n",
       "    <tr>\n",
       "      <th>0</th>\n",
       "      <td>Alcampo</td>\n",
       "      <td>Aceite-de-girasol</td>\n",
       "      <td>1.29</td>\n",
       "      <td>6.92</td>\n",
       "    </tr>\n",
       "    <tr>\n",
       "      <th>1</th>\n",
       "      <td>Hipercor</td>\n",
       "      <td>Aceite-de-girasol</td>\n",
       "      <td>1.4</td>\n",
       "      <td>6.91</td>\n",
       "    </tr>\n",
       "    <tr>\n",
       "      <th>2</th>\n",
       "      <td>Eroski</td>\n",
       "      <td>Aceite-de-girasol</td>\n",
       "      <td>1.45</td>\n",
       "      <td>7.28</td>\n",
       "    </tr>\n",
       "    <tr>\n",
       "      <th>3</th>\n",
       "      <td>Carrefour</td>\n",
       "      <td>Aceite-de-girasol</td>\n",
       "      <td>1.45</td>\n",
       "      <td>40.67</td>\n",
       "    </tr>\n",
       "    <tr>\n",
       "      <th>4</th>\n",
       "      <td>Mercadona</td>\n",
       "      <td>Aceite-de-girasol</td>\n",
       "      <td>1.45</td>\n",
       "      <td>6.91</td>\n",
       "    </tr>\n",
       "    <tr>\n",
       "      <th>5</th>\n",
       "      <td>Dia</td>\n",
       "      <td>Aceite-de-girasol</td>\n",
       "      <td>1.49</td>\n",
       "      <td>10.99</td>\n",
       "    </tr>\n",
       "    <tr>\n",
       "      <th>6</th>\n",
       "      <td>Eroski</td>\n",
       "      <td>Aceite-de-oliva</td>\n",
       "      <td>1.89</td>\n",
       "      <td>64.59</td>\n",
       "    </tr>\n",
       "    <tr>\n",
       "      <th>7</th>\n",
       "      <td>Hipercor</td>\n",
       "      <td>Aceite-de-oliva</td>\n",
       "      <td>2.09</td>\n",
       "      <td>154.32</td>\n",
       "    </tr>\n",
       "    <tr>\n",
       "      <th>8</th>\n",
       "      <td>Alcampo</td>\n",
       "      <td>Aceite-de-oliva</td>\n",
       "      <td>2.83</td>\n",
       "      <td>62.99</td>\n",
       "    </tr>\n",
       "    <tr>\n",
       "      <th>9</th>\n",
       "      <td>Carrefour</td>\n",
       "      <td>Aceite-de-oliva</td>\n",
       "      <td>2.85</td>\n",
       "      <td>63.5</td>\n",
       "    </tr>\n",
       "    <tr>\n",
       "      <th>10</th>\n",
       "      <td>Dia</td>\n",
       "      <td>Aceite-de-oliva</td>\n",
       "      <td>2.85</td>\n",
       "      <td>39.65</td>\n",
       "    </tr>\n",
       "    <tr>\n",
       "      <th>11</th>\n",
       "      <td>Mercadona</td>\n",
       "      <td>Aceite-de-oliva</td>\n",
       "      <td>2.9</td>\n",
       "      <td>28.8</td>\n",
       "    </tr>\n",
       "    <tr>\n",
       "      <th>12</th>\n",
       "      <td>Alcampo</td>\n",
       "      <td>Leche</td>\n",
       "      <td>0.5</td>\n",
       "      <td>23.43</td>\n",
       "    </tr>\n",
       "    <tr>\n",
       "      <th>13</th>\n",
       "      <td>Hipercor</td>\n",
       "      <td>Leche</td>\n",
       "      <td>0.64</td>\n",
       "      <td>12.69</td>\n",
       "    </tr>\n",
       "    <tr>\n",
       "      <th>14</th>\n",
       "      <td>Dia</td>\n",
       "      <td>Leche</td>\n",
       "      <td>0.69</td>\n",
       "      <td>14.64</td>\n",
       "    </tr>\n",
       "    <tr>\n",
       "      <th>15</th>\n",
       "      <td>Eroski</td>\n",
       "      <td>Leche</td>\n",
       "      <td>0.73</td>\n",
       "      <td>6.85</td>\n",
       "    </tr>\n",
       "    <tr>\n",
       "      <th>16</th>\n",
       "      <td>Carrefour</td>\n",
       "      <td>Leche</td>\n",
       "      <td>0.73</td>\n",
       "      <td>10.65</td>\n",
       "    </tr>\n",
       "    <tr>\n",
       "      <th>17</th>\n",
       "      <td>Mercadona</td>\n",
       "      <td>Leche</td>\n",
       "      <td>0.77</td>\n",
       "      <td>9.36</td>\n",
       "    </tr>\n",
       "  </tbody>\n",
       "</table>\n",
       "</div>"
      ],
      "text/plain": [
       "   supermercado          categoria precio_minimo precio_maximo\n",
       "0       Alcampo  Aceite-de-girasol          1.29          6.92\n",
       "1      Hipercor  Aceite-de-girasol           1.4          6.91\n",
       "2        Eroski  Aceite-de-girasol          1.45          7.28\n",
       "3     Carrefour  Aceite-de-girasol          1.45         40.67\n",
       "4     Mercadona  Aceite-de-girasol          1.45          6.91\n",
       "5           Dia  Aceite-de-girasol          1.49         10.99\n",
       "6        Eroski    Aceite-de-oliva          1.89         64.59\n",
       "7      Hipercor    Aceite-de-oliva          2.09        154.32\n",
       "8       Alcampo    Aceite-de-oliva          2.83         62.99\n",
       "9     Carrefour    Aceite-de-oliva          2.85          63.5\n",
       "10          Dia    Aceite-de-oliva          2.85         39.65\n",
       "11    Mercadona    Aceite-de-oliva           2.9          28.8\n",
       "12      Alcampo              Leche           0.5         23.43\n",
       "13     Hipercor              Leche          0.64         12.69\n",
       "14          Dia              Leche          0.69         14.64\n",
       "15       Eroski              Leche          0.73          6.85\n",
       "16    Carrefour              Leche          0.73         10.65\n",
       "17    Mercadona              Leche          0.77          9.36"
      ]
     },
     "execution_count": 3,
     "metadata": {},
     "output_type": "execute_result"
    }
   ],
   "source": [
    "resultado1 = sf.dbeaver_fetch(sf.dbeaver_conexion(\"Facua\"),query1)\n",
    "resultado1"
   ]
  },
  {
   "cell_type": "code",
   "execution_count": 4,
   "metadata": {},
   "outputs": [
    {
     "data": {
      "application/vnd.plotly.v1+json": {
       "config": {
        "plotlyServerURL": "https://plot.ly"
       },
       "data": [
        {
         "alignmentgroup": "True",
         "hovertemplate": "Categoría=Aceite-de-girasol<br>Tipo de Precio=precio_minimo<br>Supermercado=%{x}<br>Precio (EUR)=%{y}<extra></extra>",
         "legendgroup": "Aceite-de-girasol",
         "marker": {
          "color": "#636efa",
          "pattern": {
           "shape": ""
          }
         },
         "name": "Aceite-de-girasol",
         "offsetgroup": "Aceite-de-girasol",
         "orientation": "v",
         "showlegend": true,
         "textposition": "auto",
         "type": "bar",
         "x": [
          "Alcampo",
          "Hipercor",
          "Eroski",
          "Carrefour",
          "Mercadona",
          "Dia"
         ],
         "xaxis": "x",
         "y": [
          1.29,
          1.4,
          1.45,
          1.45,
          1.45,
          1.49
         ],
         "yaxis": "y"
        },
        {
         "alignmentgroup": "True",
         "hovertemplate": "Categoría=Aceite-de-girasol<br>Tipo de Precio=precio_maximo<br>Supermercado=%{x}<br>Precio (EUR)=%{y}<extra></extra>",
         "legendgroup": "Aceite-de-girasol",
         "marker": {
          "color": "#636efa",
          "pattern": {
           "shape": ""
          }
         },
         "name": "Aceite-de-girasol",
         "offsetgroup": "Aceite-de-girasol",
         "orientation": "v",
         "showlegend": false,
         "textposition": "auto",
         "type": "bar",
         "x": [
          "Alcampo",
          "Hipercor",
          "Eroski",
          "Carrefour",
          "Mercadona",
          "Dia"
         ],
         "xaxis": "x2",
         "y": [
          6.92,
          6.91,
          7.28,
          40.67,
          6.91,
          10.99
         ],
         "yaxis": "y2"
        },
        {
         "alignmentgroup": "True",
         "hovertemplate": "Categoría=Aceite-de-oliva<br>Tipo de Precio=precio_minimo<br>Supermercado=%{x}<br>Precio (EUR)=%{y}<extra></extra>",
         "legendgroup": "Aceite-de-oliva",
         "marker": {
          "color": "#EF553B",
          "pattern": {
           "shape": ""
          }
         },
         "name": "Aceite-de-oliva",
         "offsetgroup": "Aceite-de-oliva",
         "orientation": "v",
         "showlegend": true,
         "textposition": "auto",
         "type": "bar",
         "x": [
          "Eroski",
          "Hipercor",
          "Alcampo",
          "Carrefour",
          "Dia",
          "Mercadona"
         ],
         "xaxis": "x",
         "y": [
          1.89,
          2.09,
          2.83,
          2.85,
          2.85,
          2.9
         ],
         "yaxis": "y"
        },
        {
         "alignmentgroup": "True",
         "hovertemplate": "Categoría=Aceite-de-oliva<br>Tipo de Precio=precio_maximo<br>Supermercado=%{x}<br>Precio (EUR)=%{y}<extra></extra>",
         "legendgroup": "Aceite-de-oliva",
         "marker": {
          "color": "#EF553B",
          "pattern": {
           "shape": ""
          }
         },
         "name": "Aceite-de-oliva",
         "offsetgroup": "Aceite-de-oliva",
         "orientation": "v",
         "showlegend": false,
         "textposition": "auto",
         "type": "bar",
         "x": [
          "Eroski",
          "Hipercor",
          "Alcampo",
          "Carrefour",
          "Dia",
          "Mercadona"
         ],
         "xaxis": "x2",
         "y": [
          64.59,
          154.32,
          62.99,
          63.5,
          39.65,
          28.8
         ],
         "yaxis": "y2"
        },
        {
         "alignmentgroup": "True",
         "hovertemplate": "Categoría=Leche<br>Tipo de Precio=precio_minimo<br>Supermercado=%{x}<br>Precio (EUR)=%{y}<extra></extra>",
         "legendgroup": "Leche",
         "marker": {
          "color": "#00cc96",
          "pattern": {
           "shape": ""
          }
         },
         "name": "Leche",
         "offsetgroup": "Leche",
         "orientation": "v",
         "showlegend": true,
         "textposition": "auto",
         "type": "bar",
         "x": [
          "Alcampo",
          "Hipercor",
          "Dia",
          "Eroski",
          "Carrefour",
          "Mercadona"
         ],
         "xaxis": "x",
         "y": [
          0.5,
          0.64,
          0.69,
          0.73,
          0.73,
          0.77
         ],
         "yaxis": "y"
        },
        {
         "alignmentgroup": "True",
         "hovertemplate": "Categoría=Leche<br>Tipo de Precio=precio_maximo<br>Supermercado=%{x}<br>Precio (EUR)=%{y}<extra></extra>",
         "legendgroup": "Leche",
         "marker": {
          "color": "#00cc96",
          "pattern": {
           "shape": ""
          }
         },
         "name": "Leche",
         "offsetgroup": "Leche",
         "orientation": "v",
         "showlegend": false,
         "textposition": "auto",
         "type": "bar",
         "x": [
          "Alcampo",
          "Hipercor",
          "Dia",
          "Eroski",
          "Carrefour",
          "Mercadona"
         ],
         "xaxis": "x2",
         "y": [
          23.43,
          12.69,
          14.64,
          6.85,
          10.65,
          9.36
         ],
         "yaxis": "y2"
        }
       ],
       "layout": {
        "annotations": [
         {
          "font": {},
          "showarrow": false,
          "text": "Tipo de Precio=precio_minimo",
          "x": 0.245,
          "xanchor": "center",
          "xref": "paper",
          "y": 1,
          "yanchor": "bottom",
          "yref": "paper"
         },
         {
          "font": {},
          "showarrow": false,
          "text": "Tipo de Precio=precio_maximo",
          "x": 0.755,
          "xanchor": "center",
          "xref": "paper",
          "y": 1,
          "yanchor": "bottom",
          "yref": "paper"
         }
        ],
        "barmode": "group",
        "legend": {
         "title": {
          "text": "Categoría"
         },
         "tracegroupgap": 0
        },
        "template": {
         "data": {
          "bar": [
           {
            "error_x": {
             "color": "#2a3f5f"
            },
            "error_y": {
             "color": "#2a3f5f"
            },
            "marker": {
             "line": {
              "color": "#E5ECF6",
              "width": 0.5
             },
             "pattern": {
              "fillmode": "overlay",
              "size": 10,
              "solidity": 0.2
             }
            },
            "type": "bar"
           }
          ],
          "barpolar": [
           {
            "marker": {
             "line": {
              "color": "#E5ECF6",
              "width": 0.5
             },
             "pattern": {
              "fillmode": "overlay",
              "size": 10,
              "solidity": 0.2
             }
            },
            "type": "barpolar"
           }
          ],
          "carpet": [
           {
            "aaxis": {
             "endlinecolor": "#2a3f5f",
             "gridcolor": "white",
             "linecolor": "white",
             "minorgridcolor": "white",
             "startlinecolor": "#2a3f5f"
            },
            "baxis": {
             "endlinecolor": "#2a3f5f",
             "gridcolor": "white",
             "linecolor": "white",
             "minorgridcolor": "white",
             "startlinecolor": "#2a3f5f"
            },
            "type": "carpet"
           }
          ],
          "choropleth": [
           {
            "colorbar": {
             "outlinewidth": 0,
             "ticks": ""
            },
            "type": "choropleth"
           }
          ],
          "contour": [
           {
            "colorbar": {
             "outlinewidth": 0,
             "ticks": ""
            },
            "colorscale": [
             [
              0,
              "#0d0887"
             ],
             [
              0.1111111111111111,
              "#46039f"
             ],
             [
              0.2222222222222222,
              "#7201a8"
             ],
             [
              0.3333333333333333,
              "#9c179e"
             ],
             [
              0.4444444444444444,
              "#bd3786"
             ],
             [
              0.5555555555555556,
              "#d8576b"
             ],
             [
              0.6666666666666666,
              "#ed7953"
             ],
             [
              0.7777777777777778,
              "#fb9f3a"
             ],
             [
              0.8888888888888888,
              "#fdca26"
             ],
             [
              1,
              "#f0f921"
             ]
            ],
            "type": "contour"
           }
          ],
          "contourcarpet": [
           {
            "colorbar": {
             "outlinewidth": 0,
             "ticks": ""
            },
            "type": "contourcarpet"
           }
          ],
          "heatmap": [
           {
            "colorbar": {
             "outlinewidth": 0,
             "ticks": ""
            },
            "colorscale": [
             [
              0,
              "#0d0887"
             ],
             [
              0.1111111111111111,
              "#46039f"
             ],
             [
              0.2222222222222222,
              "#7201a8"
             ],
             [
              0.3333333333333333,
              "#9c179e"
             ],
             [
              0.4444444444444444,
              "#bd3786"
             ],
             [
              0.5555555555555556,
              "#d8576b"
             ],
             [
              0.6666666666666666,
              "#ed7953"
             ],
             [
              0.7777777777777778,
              "#fb9f3a"
             ],
             [
              0.8888888888888888,
              "#fdca26"
             ],
             [
              1,
              "#f0f921"
             ]
            ],
            "type": "heatmap"
           }
          ],
          "heatmapgl": [
           {
            "colorbar": {
             "outlinewidth": 0,
             "ticks": ""
            },
            "colorscale": [
             [
              0,
              "#0d0887"
             ],
             [
              0.1111111111111111,
              "#46039f"
             ],
             [
              0.2222222222222222,
              "#7201a8"
             ],
             [
              0.3333333333333333,
              "#9c179e"
             ],
             [
              0.4444444444444444,
              "#bd3786"
             ],
             [
              0.5555555555555556,
              "#d8576b"
             ],
             [
              0.6666666666666666,
              "#ed7953"
             ],
             [
              0.7777777777777778,
              "#fb9f3a"
             ],
             [
              0.8888888888888888,
              "#fdca26"
             ],
             [
              1,
              "#f0f921"
             ]
            ],
            "type": "heatmapgl"
           }
          ],
          "histogram": [
           {
            "marker": {
             "pattern": {
              "fillmode": "overlay",
              "size": 10,
              "solidity": 0.2
             }
            },
            "type": "histogram"
           }
          ],
          "histogram2d": [
           {
            "colorbar": {
             "outlinewidth": 0,
             "ticks": ""
            },
            "colorscale": [
             [
              0,
              "#0d0887"
             ],
             [
              0.1111111111111111,
              "#46039f"
             ],
             [
              0.2222222222222222,
              "#7201a8"
             ],
             [
              0.3333333333333333,
              "#9c179e"
             ],
             [
              0.4444444444444444,
              "#bd3786"
             ],
             [
              0.5555555555555556,
              "#d8576b"
             ],
             [
              0.6666666666666666,
              "#ed7953"
             ],
             [
              0.7777777777777778,
              "#fb9f3a"
             ],
             [
              0.8888888888888888,
              "#fdca26"
             ],
             [
              1,
              "#f0f921"
             ]
            ],
            "type": "histogram2d"
           }
          ],
          "histogram2dcontour": [
           {
            "colorbar": {
             "outlinewidth": 0,
             "ticks": ""
            },
            "colorscale": [
             [
              0,
              "#0d0887"
             ],
             [
              0.1111111111111111,
              "#46039f"
             ],
             [
              0.2222222222222222,
              "#7201a8"
             ],
             [
              0.3333333333333333,
              "#9c179e"
             ],
             [
              0.4444444444444444,
              "#bd3786"
             ],
             [
              0.5555555555555556,
              "#d8576b"
             ],
             [
              0.6666666666666666,
              "#ed7953"
             ],
             [
              0.7777777777777778,
              "#fb9f3a"
             ],
             [
              0.8888888888888888,
              "#fdca26"
             ],
             [
              1,
              "#f0f921"
             ]
            ],
            "type": "histogram2dcontour"
           }
          ],
          "mesh3d": [
           {
            "colorbar": {
             "outlinewidth": 0,
             "ticks": ""
            },
            "type": "mesh3d"
           }
          ],
          "parcoords": [
           {
            "line": {
             "colorbar": {
              "outlinewidth": 0,
              "ticks": ""
             }
            },
            "type": "parcoords"
           }
          ],
          "pie": [
           {
            "automargin": true,
            "type": "pie"
           }
          ],
          "scatter": [
           {
            "fillpattern": {
             "fillmode": "overlay",
             "size": 10,
             "solidity": 0.2
            },
            "type": "scatter"
           }
          ],
          "scatter3d": [
           {
            "line": {
             "colorbar": {
              "outlinewidth": 0,
              "ticks": ""
             }
            },
            "marker": {
             "colorbar": {
              "outlinewidth": 0,
              "ticks": ""
             }
            },
            "type": "scatter3d"
           }
          ],
          "scattercarpet": [
           {
            "marker": {
             "colorbar": {
              "outlinewidth": 0,
              "ticks": ""
             }
            },
            "type": "scattercarpet"
           }
          ],
          "scattergeo": [
           {
            "marker": {
             "colorbar": {
              "outlinewidth": 0,
              "ticks": ""
             }
            },
            "type": "scattergeo"
           }
          ],
          "scattergl": [
           {
            "marker": {
             "colorbar": {
              "outlinewidth": 0,
              "ticks": ""
             }
            },
            "type": "scattergl"
           }
          ],
          "scattermapbox": [
           {
            "marker": {
             "colorbar": {
              "outlinewidth": 0,
              "ticks": ""
             }
            },
            "type": "scattermapbox"
           }
          ],
          "scatterpolar": [
           {
            "marker": {
             "colorbar": {
              "outlinewidth": 0,
              "ticks": ""
             }
            },
            "type": "scatterpolar"
           }
          ],
          "scatterpolargl": [
           {
            "marker": {
             "colorbar": {
              "outlinewidth": 0,
              "ticks": ""
             }
            },
            "type": "scatterpolargl"
           }
          ],
          "scatterternary": [
           {
            "marker": {
             "colorbar": {
              "outlinewidth": 0,
              "ticks": ""
             }
            },
            "type": "scatterternary"
           }
          ],
          "surface": [
           {
            "colorbar": {
             "outlinewidth": 0,
             "ticks": ""
            },
            "colorscale": [
             [
              0,
              "#0d0887"
             ],
             [
              0.1111111111111111,
              "#46039f"
             ],
             [
              0.2222222222222222,
              "#7201a8"
             ],
             [
              0.3333333333333333,
              "#9c179e"
             ],
             [
              0.4444444444444444,
              "#bd3786"
             ],
             [
              0.5555555555555556,
              "#d8576b"
             ],
             [
              0.6666666666666666,
              "#ed7953"
             ],
             [
              0.7777777777777778,
              "#fb9f3a"
             ],
             [
              0.8888888888888888,
              "#fdca26"
             ],
             [
              1,
              "#f0f921"
             ]
            ],
            "type": "surface"
           }
          ],
          "table": [
           {
            "cells": {
             "fill": {
              "color": "#EBF0F8"
             },
             "line": {
              "color": "white"
             }
            },
            "header": {
             "fill": {
              "color": "#C8D4E3"
             },
             "line": {
              "color": "white"
             }
            },
            "type": "table"
           }
          ]
         },
         "layout": {
          "annotationdefaults": {
           "arrowcolor": "#2a3f5f",
           "arrowhead": 0,
           "arrowwidth": 1
          },
          "autotypenumbers": "strict",
          "coloraxis": {
           "colorbar": {
            "outlinewidth": 0,
            "ticks": ""
           }
          },
          "colorscale": {
           "diverging": [
            [
             0,
             "#8e0152"
            ],
            [
             0.1,
             "#c51b7d"
            ],
            [
             0.2,
             "#de77ae"
            ],
            [
             0.3,
             "#f1b6da"
            ],
            [
             0.4,
             "#fde0ef"
            ],
            [
             0.5,
             "#f7f7f7"
            ],
            [
             0.6,
             "#e6f5d0"
            ],
            [
             0.7,
             "#b8e186"
            ],
            [
             0.8,
             "#7fbc41"
            ],
            [
             0.9,
             "#4d9221"
            ],
            [
             1,
             "#276419"
            ]
           ],
           "sequential": [
            [
             0,
             "#0d0887"
            ],
            [
             0.1111111111111111,
             "#46039f"
            ],
            [
             0.2222222222222222,
             "#7201a8"
            ],
            [
             0.3333333333333333,
             "#9c179e"
            ],
            [
             0.4444444444444444,
             "#bd3786"
            ],
            [
             0.5555555555555556,
             "#d8576b"
            ],
            [
             0.6666666666666666,
             "#ed7953"
            ],
            [
             0.7777777777777778,
             "#fb9f3a"
            ],
            [
             0.8888888888888888,
             "#fdca26"
            ],
            [
             1,
             "#f0f921"
            ]
           ],
           "sequentialminus": [
            [
             0,
             "#0d0887"
            ],
            [
             0.1111111111111111,
             "#46039f"
            ],
            [
             0.2222222222222222,
             "#7201a8"
            ],
            [
             0.3333333333333333,
             "#9c179e"
            ],
            [
             0.4444444444444444,
             "#bd3786"
            ],
            [
             0.5555555555555556,
             "#d8576b"
            ],
            [
             0.6666666666666666,
             "#ed7953"
            ],
            [
             0.7777777777777778,
             "#fb9f3a"
            ],
            [
             0.8888888888888888,
             "#fdca26"
            ],
            [
             1,
             "#f0f921"
            ]
           ]
          },
          "colorway": [
           "#636efa",
           "#EF553B",
           "#00cc96",
           "#ab63fa",
           "#FFA15A",
           "#19d3f3",
           "#FF6692",
           "#B6E880",
           "#FF97FF",
           "#FECB52"
          ],
          "font": {
           "color": "#2a3f5f"
          },
          "geo": {
           "bgcolor": "white",
           "lakecolor": "white",
           "landcolor": "#E5ECF6",
           "showlakes": true,
           "showland": true,
           "subunitcolor": "white"
          },
          "hoverlabel": {
           "align": "left"
          },
          "hovermode": "closest",
          "mapbox": {
           "style": "light"
          },
          "paper_bgcolor": "white",
          "plot_bgcolor": "#E5ECF6",
          "polar": {
           "angularaxis": {
            "gridcolor": "white",
            "linecolor": "white",
            "ticks": ""
           },
           "bgcolor": "#E5ECF6",
           "radialaxis": {
            "gridcolor": "white",
            "linecolor": "white",
            "ticks": ""
           }
          },
          "scene": {
           "xaxis": {
            "backgroundcolor": "#E5ECF6",
            "gridcolor": "white",
            "gridwidth": 2,
            "linecolor": "white",
            "showbackground": true,
            "ticks": "",
            "zerolinecolor": "white"
           },
           "yaxis": {
            "backgroundcolor": "#E5ECF6",
            "gridcolor": "white",
            "gridwidth": 2,
            "linecolor": "white",
            "showbackground": true,
            "ticks": "",
            "zerolinecolor": "white"
           },
           "zaxis": {
            "backgroundcolor": "#E5ECF6",
            "gridcolor": "white",
            "gridwidth": 2,
            "linecolor": "white",
            "showbackground": true,
            "ticks": "",
            "zerolinecolor": "white"
           }
          },
          "shapedefaults": {
           "line": {
            "color": "#2a3f5f"
           }
          },
          "ternary": {
           "aaxis": {
            "gridcolor": "white",
            "linecolor": "white",
            "ticks": ""
           },
           "baxis": {
            "gridcolor": "white",
            "linecolor": "white",
            "ticks": ""
           },
           "bgcolor": "#E5ECF6",
           "caxis": {
            "gridcolor": "white",
            "linecolor": "white",
            "ticks": ""
           }
          },
          "title": {
           "x": 0.05
          },
          "xaxis": {
           "automargin": true,
           "gridcolor": "white",
           "linecolor": "white",
           "ticks": "",
           "title": {
            "standoff": 15
           },
           "zerolinecolor": "white",
           "zerolinewidth": 2
          },
          "yaxis": {
           "automargin": true,
           "gridcolor": "white",
           "linecolor": "white",
           "ticks": "",
           "title": {
            "standoff": 15
           },
           "zerolinecolor": "white",
           "zerolinewidth": 2
          }
         }
        },
        "title": {
         "text": "Comparación de Precios entre Supermercados para cada Categoría de Producto"
        },
        "xaxis": {
         "anchor": "y",
         "domain": [
          0,
          0.49
         ],
         "title": {
          "text": "Supermercado"
         }
        },
        "xaxis2": {
         "anchor": "y2",
         "domain": [
          0.51,
          1
         ],
         "matches": "x",
         "title": {
          "text": "Supermercado"
         }
        },
        "yaxis": {
         "anchor": "x",
         "domain": [
          0,
          1
         ],
         "title": {
          "text": "Precio en EUR"
         }
        },
        "yaxis2": {
         "anchor": "x2",
         "domain": [
          0,
          1
         ],
         "showticklabels": false
        }
       }
      }
     },
     "metadata": {},
     "output_type": "display_data"
    }
   ],
   "source": [
    "# La función melt de Pandas permite \"aplanar\" la información, transformándola de un formato ancho a uno largo, que permite a Ploty graficar de manera adecuada.\n",
    "\n",
    "df_melt = resultado1.melt(\n",
    "    id_vars=[\"supermercado\", \"categoria\"], \n",
    "    value_vars=[\"precio_minimo\", \"precio_maximo\"], \n",
    "    var_name=\"tipo_precio\", \n",
    "    value_name=\"precio\"\n",
    ")\n",
    "\n",
    "fig1 = px.bar(\n",
    "    df_melt, \n",
    "    x=\"supermercado\", \n",
    "    y=\"precio\", \n",
    "    color=\"categoria\", \n",
    "    barmode=\"group\",\n",
    "    facet_col=\"tipo_precio\",  # Crear una columna por tipo de precio (mínimo, máximo)\n",
    "    labels={\n",
    "        \"supermercado\": \"Supermercado\",\n",
    "        \"precio\": \"Precio (EUR)\",\n",
    "        \"categoria\": \"Categoría\",\n",
    "        \"tipo_precio\": \"Tipo de Precio\"\n",
    "    },\n",
    "    title=\"Comparación de Precios entre Supermercados para cada Categoría de Producto\"\n",
    ")\n",
    "\n",
    "fig1.update_layout(\n",
    "    xaxis_title=\"Supermercado\",\n",
    "    yaxis_title=\"Precio en EUR\",\n",
    ")\n",
    "fig1.update_yaxes(matches=None)\n",
    "\n",
    "fig1.show()"
   ]
  },
  {
   "cell_type": "markdown",
   "metadata": {},
   "source": [
    "### 2. Análisis de la Evolución de Precios\n",
    "\n",
    "- Estudiar cómo han cambiado los precios de los productos a lo largo del tiempo en distintos supermercados.\n"
   ]
  },
  {
   "cell_type": "code",
   "execution_count": 5,
   "metadata": {},
   "outputs": [],
   "source": [
    "query2 = '''\n",
    "SELECT \n",
    "    h.fecha,\n",
    "    s.nombre AS supermercado,\n",
    "    c.nombre AS categoria,\n",
    "    ROUND(AVG(h.precioeur),2) AS precio_promedio\n",
    "FROM \n",
    "    historico h\n",
    "INNER JOIN \n",
    "    categorias c\n",
    "        ON h.id_categoria = c.id_categoria\n",
    "INNER JOIN \n",
    "    supermercados s\n",
    "        ON h.id_supermercado = s.id_supermercado\n",
    "GROUP BY \n",
    "    h.fecha, s.nombre, c.nombre\n",
    "ORDER BY \n",
    "    c.nombre, s.nombre, h.fecha;\n",
    "'''"
   ]
  },
  {
   "cell_type": "code",
   "execution_count": 6,
   "metadata": {},
   "outputs": [
    {
     "data": {
      "text/html": [
       "<div>\n",
       "<style scoped>\n",
       "    .dataframe tbody tr th:only-of-type {\n",
       "        vertical-align: middle;\n",
       "    }\n",
       "\n",
       "    .dataframe tbody tr th {\n",
       "        vertical-align: top;\n",
       "    }\n",
       "\n",
       "    .dataframe thead th {\n",
       "        text-align: right;\n",
       "    }\n",
       "</style>\n",
       "<table border=\"1\" class=\"dataframe\">\n",
       "  <thead>\n",
       "    <tr style=\"text-align: right;\">\n",
       "      <th></th>\n",
       "      <th>fecha</th>\n",
       "      <th>supermercado</th>\n",
       "      <th>categoria</th>\n",
       "      <th>precio_promedio</th>\n",
       "    </tr>\n",
       "  </thead>\n",
       "  <tbody>\n",
       "    <tr>\n",
       "      <th>0</th>\n",
       "      <td>2024-06-25</td>\n",
       "      <td>Alcampo</td>\n",
       "      <td>Aceite-de-girasol</td>\n",
       "      <td>2.65</td>\n",
       "    </tr>\n",
       "    <tr>\n",
       "      <th>1</th>\n",
       "      <td>2024-06-26</td>\n",
       "      <td>Alcampo</td>\n",
       "      <td>Aceite-de-girasol</td>\n",
       "      <td>2.65</td>\n",
       "    </tr>\n",
       "    <tr>\n",
       "      <th>2</th>\n",
       "      <td>2024-06-27</td>\n",
       "      <td>Alcampo</td>\n",
       "      <td>Aceite-de-girasol</td>\n",
       "      <td>2.74</td>\n",
       "    </tr>\n",
       "    <tr>\n",
       "      <th>3</th>\n",
       "      <td>2024-06-28</td>\n",
       "      <td>Alcampo</td>\n",
       "      <td>Aceite-de-girasol</td>\n",
       "      <td>2.74</td>\n",
       "    </tr>\n",
       "    <tr>\n",
       "      <th>4</th>\n",
       "      <td>2024-06-29</td>\n",
       "      <td>Alcampo</td>\n",
       "      <td>Aceite-de-girasol</td>\n",
       "      <td>2.74</td>\n",
       "    </tr>\n",
       "    <tr>\n",
       "      <th>...</th>\n",
       "      <td>...</td>\n",
       "      <td>...</td>\n",
       "      <td>...</td>\n",
       "      <td>...</td>\n",
       "    </tr>\n",
       "    <tr>\n",
       "      <th>1957</th>\n",
       "      <td>2024-10-23</td>\n",
       "      <td>Mercadona</td>\n",
       "      <td>Leche</td>\n",
       "      <td>3.70</td>\n",
       "    </tr>\n",
       "    <tr>\n",
       "      <th>1958</th>\n",
       "      <td>2024-10-24</td>\n",
       "      <td>Mercadona</td>\n",
       "      <td>Leche</td>\n",
       "      <td>3.70</td>\n",
       "    </tr>\n",
       "    <tr>\n",
       "      <th>1959</th>\n",
       "      <td>2024-10-25</td>\n",
       "      <td>Mercadona</td>\n",
       "      <td>Leche</td>\n",
       "      <td>3.70</td>\n",
       "    </tr>\n",
       "    <tr>\n",
       "      <th>1960</th>\n",
       "      <td>2024-10-26</td>\n",
       "      <td>Mercadona</td>\n",
       "      <td>Leche</td>\n",
       "      <td>3.70</td>\n",
       "    </tr>\n",
       "    <tr>\n",
       "      <th>1961</th>\n",
       "      <td>2024-10-27</td>\n",
       "      <td>Mercadona</td>\n",
       "      <td>Leche</td>\n",
       "      <td>3.70</td>\n",
       "    </tr>\n",
       "  </tbody>\n",
       "</table>\n",
       "<p>1962 rows × 4 columns</p>\n",
       "</div>"
      ],
      "text/plain": [
       "           fecha supermercado          categoria precio_promedio\n",
       "0     2024-06-25      Alcampo  Aceite-de-girasol            2.65\n",
       "1     2024-06-26      Alcampo  Aceite-de-girasol            2.65\n",
       "2     2024-06-27      Alcampo  Aceite-de-girasol            2.74\n",
       "3     2024-06-28      Alcampo  Aceite-de-girasol            2.74\n",
       "4     2024-06-29      Alcampo  Aceite-de-girasol            2.74\n",
       "...          ...          ...                ...             ...\n",
       "1957  2024-10-23    Mercadona              Leche            3.70\n",
       "1958  2024-10-24    Mercadona              Leche            3.70\n",
       "1959  2024-10-25    Mercadona              Leche            3.70\n",
       "1960  2024-10-26    Mercadona              Leche            3.70\n",
       "1961  2024-10-27    Mercadona              Leche            3.70\n",
       "\n",
       "[1962 rows x 4 columns]"
      ]
     },
     "execution_count": 6,
     "metadata": {},
     "output_type": "execute_result"
    }
   ],
   "source": [
    "resultado2 = sf.dbeaver_fetch(sf.dbeaver_conexion(\"Facua\"),query2)\n",
    "resultado2"
   ]
  },
  {
   "cell_type": "code",
   "execution_count": 7,
   "metadata": {},
   "outputs": [
    {
     "data": {
      "application/vnd.plotly.v1+json": {
       "config": {
        "plotlyServerURL": "https://plot.ly"
       },
       "data": [
        {
         "legendgroup": "Alcampo",
         "line": {
          "width": 2
         },
         "mode": "lines",
         "name": "Alcampo - Aceite-de-girasol",
         "type": "scatter",
         "x": [
          "2024-06-25",
          "2024-06-26",
          "2024-06-27",
          "2024-06-28",
          "2024-06-29",
          "2024-06-30",
          "2024-07-01",
          "2024-07-02",
          "2024-07-03",
          "2024-07-04",
          "2024-07-05",
          "2024-07-06",
          "2024-07-07",
          "2024-07-08",
          "2024-07-09",
          "2024-07-10",
          "2024-07-11",
          "2024-07-12",
          "2024-07-13",
          "2024-07-14",
          "2024-07-15",
          "2024-07-16",
          "2024-07-17",
          "2024-07-18",
          "2024-07-19",
          "2024-07-20",
          "2024-07-21",
          "2024-07-22",
          "2024-07-23",
          "2024-07-24",
          "2024-07-25",
          "2024-07-26",
          "2024-07-27",
          "2024-07-28",
          "2024-07-29",
          "2024-07-30",
          "2024-07-31",
          "2024-08-01",
          "2024-08-02",
          "2024-08-03",
          "2024-08-04",
          "2024-08-05",
          "2024-08-06",
          "2024-08-07",
          "2024-08-08",
          "2024-08-09",
          "2024-08-10",
          "2024-08-11",
          "2024-08-12",
          "2024-08-13",
          "2024-08-14",
          "2024-08-15",
          "2024-08-16",
          "2024-08-17",
          "2024-08-18",
          "2024-08-19",
          "2024-08-20",
          "2024-08-21",
          "2024-08-22",
          "2024-08-23",
          "2024-08-24",
          "2024-08-25",
          "2024-08-26",
          "2024-08-27",
          "2024-08-28",
          "2024-08-29",
          "2024-08-30",
          "2024-08-31",
          "2024-09-01",
          "2024-09-02",
          "2024-09-03",
          "2024-09-04",
          "2024-09-05",
          "2024-09-06",
          "2024-09-07",
          "2024-09-08",
          "2024-09-09",
          "2024-09-10",
          "2024-09-11",
          "2024-09-12",
          "2024-09-13",
          "2024-09-14",
          "2024-09-15",
          "2024-09-16",
          "2024-09-17",
          "2024-09-18",
          "2024-09-19",
          "2024-09-20",
          "2024-09-21",
          "2024-09-22",
          "2024-09-23",
          "2024-09-24",
          "2024-09-25",
          "2024-09-26",
          "2024-09-27",
          "2024-09-28",
          "2024-09-29",
          "2024-09-30",
          "2024-10-01",
          "2024-10-02",
          "2024-10-03",
          "2024-10-04",
          "2024-10-05",
          "2024-10-06",
          "2024-10-07",
          "2024-10-08",
          "2024-10-09",
          "2024-10-10",
          "2024-10-11",
          "2024-10-12",
          "2024-10-13",
          "2024-10-14",
          "2024-10-15",
          "2024-10-16",
          "2024-10-17",
          "2024-10-18",
          "2024-10-19",
          "2024-10-20",
          "2024-10-21",
          "2024-10-22",
          "2024-10-23",
          "2024-10-24",
          "2024-10-25",
          "2024-10-26",
          "2024-10-27"
         ],
         "xaxis": "x",
         "y": [
          2.65,
          2.65,
          2.74,
          2.74,
          2.74,
          2.69,
          2.69,
          2.75,
          2.75,
          2.75,
          2.75,
          2.75,
          2.75,
          2.75,
          2.75,
          2.75,
          2.75,
          2.73,
          2.6,
          2.6,
          2.73,
          2.73,
          2.73,
          2.73,
          2.63,
          2.63,
          2.63,
          2.63,
          2.6,
          2.6,
          2.6,
          2.49,
          2.49,
          2.49,
          2.49,
          2.49,
          2.49,
          2.58,
          2.58,
          2.58,
          2.58,
          2.58,
          2.58,
          2.58,
          2.57,
          2.57,
          2.57,
          2.57,
          2.58,
          2.58,
          2.58,
          2.58,
          2.58,
          2.58,
          2.58,
          2.58,
          2.58,
          2.58,
          2.58,
          2.58,
          2.58,
          2.58,
          2.58,
          2.58,
          2.58,
          2.58,
          2.58,
          2.58,
          2.58,
          2.58,
          2.58,
          2.58,
          2.58,
          2.58,
          2.58,
          2.58,
          2.58,
          2.58,
          2.58,
          2.5,
          2.53,
          2.53,
          2.53,
          2.53,
          2.53,
          2.53,
          2.53,
          2.53,
          2.53,
          2.53,
          2.53,
          2.53,
          2.55,
          2.56,
          2.56,
          2.56,
          2.56,
          2.56,
          2.56,
          2.63,
          2.63,
          2.63,
          2.63,
          2.63,
          2.63,
          2.63,
          2.63,
          2.69,
          2.69,
          2.69,
          2.69,
          2.69,
          2.69,
          2.69,
          2.69,
          2.69,
          2.69,
          2.69,
          2.69,
          2.69,
          2.69,
          2.69,
          2.74,
          2.74,
          2.74
         ],
         "yaxis": "y"
        },
        {
         "legendgroup": "Carrefour",
         "line": {
          "width": 2
         },
         "mode": "lines",
         "name": "Carrefour - Aceite-de-girasol",
         "type": "scatter",
         "x": [
          "2024-07-12",
          "2024-07-13",
          "2024-07-14",
          "2024-07-15",
          "2024-07-16",
          "2024-07-17",
          "2024-07-18",
          "2024-07-19",
          "2024-07-20",
          "2024-07-21",
          "2024-07-22",
          "2024-07-23",
          "2024-07-24",
          "2024-07-25",
          "2024-07-26",
          "2024-07-27",
          "2024-07-28",
          "2024-07-29",
          "2024-07-30",
          "2024-07-31",
          "2024-08-01",
          "2024-08-02",
          "2024-08-03",
          "2024-08-04",
          "2024-08-05",
          "2024-08-06",
          "2024-08-07",
          "2024-08-08",
          "2024-08-09",
          "2024-08-10",
          "2024-08-11",
          "2024-08-12",
          "2024-08-13",
          "2024-08-14",
          "2024-08-15",
          "2024-08-16",
          "2024-08-17",
          "2024-08-18",
          "2024-08-19",
          "2024-08-20",
          "2024-08-21",
          "2024-08-22",
          "2024-08-23",
          "2024-08-24",
          "2024-08-25",
          "2024-08-26",
          "2024-08-27",
          "2024-08-28",
          "2024-08-29",
          "2024-08-30",
          "2024-08-31",
          "2024-09-01",
          "2024-09-02",
          "2024-09-03",
          "2024-09-04",
          "2024-09-05",
          "2024-09-06",
          "2024-09-07",
          "2024-09-08",
          "2024-09-09",
          "2024-09-10",
          "2024-09-11",
          "2024-09-12",
          "2024-09-13",
          "2024-09-14",
          "2024-09-15",
          "2024-09-16",
          "2024-09-17",
          "2024-10-03",
          "2024-10-04",
          "2024-10-05",
          "2024-10-06",
          "2024-10-07",
          "2024-10-08",
          "2024-10-09",
          "2024-10-10",
          "2024-10-11",
          "2024-10-12",
          "2024-10-13",
          "2024-10-14",
          "2024-10-15",
          "2024-10-16",
          "2024-10-17",
          "2024-10-18",
          "2024-10-21",
          "2024-10-22",
          "2024-10-23",
          "2024-10-24",
          "2024-10-25",
          "2024-10-26",
          "2024-10-27"
         ],
         "xaxis": "x",
         "y": [
          6.09,
          8.47,
          8.47,
          8.47,
          8.47,
          8.47,
          8.47,
          8.47,
          8.47,
          8.47,
          8.47,
          8.47,
          8.37,
          8.37,
          8.46,
          8.39,
          8.39,
          8.44,
          8.44,
          8.44,
          8.44,
          8.44,
          8.42,
          8.42,
          8.42,
          7.49,
          8.42,
          4.76,
          8.47,
          8.47,
          8.47,
          8.47,
          6.09,
          6.09,
          6.09,
          6.09,
          6.09,
          6.09,
          6.09,
          6.09,
          6.09,
          6.09,
          8.47,
          8.47,
          8.47,
          8.51,
          8.55,
          8.55,
          6.17,
          8.55,
          8.55,
          6.23,
          8.54,
          8.54,
          8.54,
          8.54,
          8.54,
          8.54,
          8.51,
          8.51,
          8.51,
          8.79,
          8.8,
          8.8,
          9.34,
          8.8,
          8.75,
          9.27,
          10.84,
          9.07,
          8.57,
          9.07,
          9.68,
          9.07,
          9.68,
          8.51,
          8.51,
          8.51,
          8.51,
          8.51,
          8.51,
          8.51,
          8.51,
          8.61,
          8.58,
          8.58,
          6.53,
          8.58,
          8.58,
          8.58,
          19.44
         ],
         "yaxis": "y"
        },
        {
         "legendgroup": "Dia",
         "line": {
          "width": 2
         },
         "mode": "lines",
         "name": "Dia - Aceite-de-girasol",
         "type": "scatter",
         "x": [
          "2024-07-12",
          "2024-07-13",
          "2024-07-14",
          "2024-07-15",
          "2024-07-16",
          "2024-07-17",
          "2024-07-18",
          "2024-07-19",
          "2024-07-20",
          "2024-07-21",
          "2024-07-22",
          "2024-07-23",
          "2024-07-24",
          "2024-07-25",
          "2024-07-26",
          "2024-07-27",
          "2024-07-28",
          "2024-07-29",
          "2024-07-30",
          "2024-07-31",
          "2024-08-01",
          "2024-08-02",
          "2024-08-03",
          "2024-08-04",
          "2024-08-05",
          "2024-08-06",
          "2024-08-07",
          "2024-08-08",
          "2024-08-09",
          "2024-08-10",
          "2024-08-11",
          "2024-08-12",
          "2024-08-13",
          "2024-08-14",
          "2024-08-15",
          "2024-08-16",
          "2024-08-17",
          "2024-08-18",
          "2024-08-19",
          "2024-08-20",
          "2024-08-21",
          "2024-08-22",
          "2024-08-23",
          "2024-08-24",
          "2024-08-25",
          "2024-08-26",
          "2024-08-27",
          "2024-08-28",
          "2024-08-29",
          "2024-08-30",
          "2024-08-31",
          "2024-09-01",
          "2024-09-02",
          "2024-09-03",
          "2024-09-04",
          "2024-09-05",
          "2024-09-06",
          "2024-09-07",
          "2024-09-08",
          "2024-09-09",
          "2024-09-10",
          "2024-09-11",
          "2024-09-12",
          "2024-09-13",
          "2024-09-14",
          "2024-09-15",
          "2024-09-16",
          "2024-09-17",
          "2024-09-18",
          "2024-09-19",
          "2024-09-20",
          "2024-09-21",
          "2024-09-22",
          "2024-09-23",
          "2024-09-24",
          "2024-09-25",
          "2024-09-26",
          "2024-09-27",
          "2024-09-28",
          "2024-09-29",
          "2024-09-30",
          "2024-10-01",
          "2024-10-02",
          "2024-10-03",
          "2024-10-04",
          "2024-10-05",
          "2024-10-06",
          "2024-10-07",
          "2024-10-08",
          "2024-10-09",
          "2024-10-10",
          "2024-10-11",
          "2024-10-12",
          "2024-10-13",
          "2024-10-14",
          "2024-10-15",
          "2024-10-16",
          "2024-10-17",
          "2024-10-18",
          "2024-10-19",
          "2024-10-20",
          "2024-10-21",
          "2024-10-22",
          "2024-10-23",
          "2024-10-24",
          "2024-10-25",
          "2024-10-26",
          "2024-10-27"
         ],
         "xaxis": "x",
         "y": [
          6.16,
          6.16,
          6.16,
          6.16,
          6.16,
          5.99,
          5.99,
          5.99,
          5.99,
          5.99,
          5.99,
          5.74,
          5.91,
          5.91,
          5.91,
          5.91,
          5.91,
          5.91,
          5.91,
          5.91,
          5.91,
          5.91,
          5.91,
          5.91,
          5.91,
          5.91,
          5.74,
          5.74,
          5.74,
          5.74,
          5.74,
          5.74,
          5.74,
          5.91,
          5.91,
          5.91,
          5.91,
          5.91,
          5.91,
          5.91,
          5.91,
          5.91,
          5.91,
          5.91,
          5.91,
          5.91,
          5.91,
          5.91,
          5.26,
          5.26,
          5.26,
          5.26,
          5.26,
          5.26,
          5.26,
          5.26,
          5.26,
          5.26,
          5.26,
          5.26,
          5.26,
          5.26,
          5.26,
          5.26,
          5.26,
          5.26,
          5.26,
          5.26,
          5.11,
          5.11,
          5.11,
          5.11,
          5.11,
          5.11,
          5.11,
          5.26,
          5.26,
          5.26,
          5.26,
          5.26,
          5.26,
          5.39,
          5.39,
          5.39,
          5.39,
          5.39,
          5.39,
          5.39,
          5.39,
          5.39,
          5.39,
          5.39,
          5.39,
          5.39,
          5.39,
          5.39,
          5.24,
          5.24,
          5.24,
          5.24,
          5.24,
          5.24,
          5.31,
          5.46,
          5.46,
          5.46,
          5.46,
          5.46
         ],
         "yaxis": "y"
        },
        {
         "legendgroup": "Eroski",
         "line": {
          "width": 2
         },
         "mode": "lines",
         "name": "Eroski - Aceite-de-girasol",
         "type": "scatter",
         "x": [
          "2024-07-12",
          "2024-07-13",
          "2024-07-14",
          "2024-07-15",
          "2024-07-16",
          "2024-07-17",
          "2024-07-18",
          "2024-07-19",
          "2024-07-20",
          "2024-07-21",
          "2024-07-22",
          "2024-07-23",
          "2024-07-24",
          "2024-07-25",
          "2024-07-26",
          "2024-07-27",
          "2024-07-28",
          "2024-07-29",
          "2024-07-30",
          "2024-07-31",
          "2024-08-01",
          "2024-08-02",
          "2024-08-03",
          "2024-08-04",
          "2024-08-05",
          "2024-08-06",
          "2024-08-07",
          "2024-08-08",
          "2024-08-09",
          "2024-08-10",
          "2024-08-11",
          "2024-08-12",
          "2024-08-13",
          "2024-08-14",
          "2024-08-15",
          "2024-08-16",
          "2024-08-17",
          "2024-08-18",
          "2024-08-19",
          "2024-08-20",
          "2024-08-21",
          "2024-08-22",
          "2024-08-23",
          "2024-08-24",
          "2024-08-25",
          "2024-08-26",
          "2024-08-27",
          "2024-08-28",
          "2024-08-29",
          "2024-08-30",
          "2024-08-31",
          "2024-09-01",
          "2024-09-02",
          "2024-09-03",
          "2024-09-04",
          "2024-09-05",
          "2024-09-06",
          "2024-09-07",
          "2024-09-08",
          "2024-09-09",
          "2024-09-10",
          "2024-09-11",
          "2024-09-12",
          "2024-09-13",
          "2024-09-14",
          "2024-09-15",
          "2024-09-16",
          "2024-09-17",
          "2024-09-18",
          "2024-09-19",
          "2024-09-20",
          "2024-09-21",
          "2024-09-22",
          "2024-09-23",
          "2024-09-24",
          "2024-09-25",
          "2024-09-26",
          "2024-09-27",
          "2024-09-28",
          "2024-09-29",
          "2024-09-30",
          "2024-10-01",
          "2024-10-02",
          "2024-10-03",
          "2024-10-04",
          "2024-10-05",
          "2024-10-06",
          "2024-10-07",
          "2024-10-08",
          "2024-10-09",
          "2024-10-10",
          "2024-10-12",
          "2024-10-13",
          "2024-10-14",
          "2024-10-15",
          "2024-10-16",
          "2024-10-17",
          "2024-10-18",
          "2024-10-19",
          "2024-10-20",
          "2024-10-21",
          "2024-10-22",
          "2024-10-23",
          "2024-10-24",
          "2024-10-25",
          "2024-10-26",
          "2024-10-27"
         ],
         "xaxis": "x",
         "y": [
          3.25,
          3.25,
          3.25,
          3.25,
          3.25,
          3.23,
          3.23,
          3.23,
          3.23,
          3.23,
          3.23,
          3.23,
          3.23,
          2.72,
          2.72,
          2.72,
          3.23,
          3.23,
          3.23,
          3.23,
          2.74,
          2.74,
          2.74,
          2.89,
          2.89,
          2.74,
          2.74,
          2.74,
          2.74,
          2.74,
          2.74,
          2.74,
          2.78,
          2.78,
          2.78,
          3.27,
          3.27,
          3.27,
          3.27,
          3.27,
          3.27,
          3.27,
          3.27,
          3.27,
          3.27,
          3.27,
          3.27,
          3.27,
          3.27,
          3.27,
          3.27,
          3.27,
          3.27,
          3.27,
          3.27,
          3.27,
          3.27,
          3.27,
          3.27,
          3.27,
          3.27,
          3.27,
          3.27,
          3.27,
          3.27,
          3.27,
          3.27,
          3.27,
          3.27,
          3.27,
          3.27,
          3.27,
          3.27,
          3.27,
          3.27,
          3.27,
          3.27,
          3.27,
          3.27,
          3.27,
          3.27,
          3.35,
          3.35,
          3.35,
          3.35,
          3.35,
          3.35,
          3.35,
          3.35,
          3.35,
          2.88,
          2.88,
          2.88,
          2.88,
          2.88,
          2.88,
          2.88,
          2.88,
          2.88,
          2.88,
          2.88,
          2.9,
          3.05,
          3.05,
          3.05,
          2.9,
          2.9
         ],
         "yaxis": "y"
        },
        {
         "legendgroup": "Hipercor",
         "line": {
          "width": 2
         },
         "mode": "lines",
         "name": "Hipercor - Aceite-de-girasol",
         "type": "scatter",
         "x": [
          "2024-07-13",
          "2024-07-14",
          "2024-07-15",
          "2024-07-16",
          "2024-07-17",
          "2024-07-18",
          "2024-07-19",
          "2024-07-20",
          "2024-07-21",
          "2024-07-22",
          "2024-07-23",
          "2024-07-24",
          "2024-07-25",
          "2024-07-26",
          "2024-07-27",
          "2024-07-28",
          "2024-07-29",
          "2024-07-30",
          "2024-07-31",
          "2024-08-01",
          "2024-08-02",
          "2024-08-03",
          "2024-08-04",
          "2024-08-05",
          "2024-08-06",
          "2024-08-07",
          "2024-08-08",
          "2024-08-09",
          "2024-08-10",
          "2024-08-11",
          "2024-08-12",
          "2024-08-13",
          "2024-08-14",
          "2024-08-15",
          "2024-08-16",
          "2024-08-17",
          "2024-08-18",
          "2024-08-19",
          "2024-08-20",
          "2024-08-21",
          "2024-08-22",
          "2024-08-23",
          "2024-08-24",
          "2024-08-25",
          "2024-08-26",
          "2024-08-27",
          "2024-08-28",
          "2024-08-29",
          "2024-08-30",
          "2024-08-31",
          "2024-09-01",
          "2024-09-02",
          "2024-09-03",
          "2024-09-04",
          "2024-09-05",
          "2024-09-06",
          "2024-09-07",
          "2024-09-08",
          "2024-09-09",
          "2024-09-10",
          "2024-09-11",
          "2024-09-12",
          "2024-09-13",
          "2024-09-14",
          "2024-09-15",
          "2024-09-16",
          "2024-09-17",
          "2024-09-18",
          "2024-09-19",
          "2024-09-20",
          "2024-09-21",
          "2024-09-22",
          "2024-09-23",
          "2024-09-24",
          "2024-09-25",
          "2024-09-26",
          "2024-09-27",
          "2024-09-28",
          "2024-09-29",
          "2024-09-30",
          "2024-10-01",
          "2024-10-02",
          "2024-10-14",
          "2024-10-15",
          "2024-10-16",
          "2024-10-17",
          "2024-10-18",
          "2024-10-19",
          "2024-10-21",
          "2024-10-22",
          "2024-10-23",
          "2024-10-24",
          "2024-10-25",
          "2024-10-26",
          "2024-10-27"
         ],
         "xaxis": "x",
         "y": [
          3.04,
          3.04,
          3.04,
          3.04,
          3.04,
          3.04,
          3.04,
          3.04,
          3.04,
          3.04,
          3.04,
          3.04,
          3.04,
          3.04,
          3.04,
          3.04,
          3.04,
          3.04,
          2.97,
          2.97,
          2.97,
          2.97,
          2.97,
          2.97,
          2.97,
          2.97,
          2.97,
          2.97,
          2.95,
          2.95,
          2.95,
          2.95,
          3.02,
          3.02,
          3.02,
          3.02,
          3.02,
          3.02,
          3.02,
          3.02,
          3.02,
          3.02,
          3.02,
          3.02,
          3.02,
          2.99,
          2.99,
          2.99,
          2.99,
          2.99,
          2.99,
          2.99,
          2.99,
          2.99,
          2.99,
          2.99,
          2.99,
          2.99,
          2.99,
          2.92,
          2.92,
          2.94,
          2.94,
          2.94,
          2.94,
          2.94,
          2.94,
          2.94,
          2.94,
          2.94,
          2.94,
          2.94,
          2.94,
          2.94,
          2.94,
          3.02,
          3.02,
          3.02,
          3.02,
          3.02,
          3.02,
          3.09,
          3.09,
          3.61,
          3.61,
          3.09,
          3.09,
          3.09,
          3.09,
          3.09,
          3.09,
          3.01,
          3.01,
          3.01,
          3.01
         ],
         "yaxis": "y"
        },
        {
         "legendgroup": "Mercadona",
         "line": {
          "width": 2
         },
         "mode": "lines",
         "name": "Mercadona - Aceite-de-girasol",
         "type": "scatter",
         "x": [
          "2024-07-12",
          "2024-07-13",
          "2024-07-14",
          "2024-07-15",
          "2024-07-16",
          "2024-07-17",
          "2024-07-18",
          "2024-07-19",
          "2024-07-20",
          "2024-07-21",
          "2024-07-22",
          "2024-07-23",
          "2024-07-24",
          "2024-07-25",
          "2024-07-26",
          "2024-07-27",
          "2024-07-28",
          "2024-07-29",
          "2024-07-30",
          "2024-07-31",
          "2024-08-01",
          "2024-08-02",
          "2024-08-03",
          "2024-08-04",
          "2024-08-05",
          "2024-08-06",
          "2024-08-07",
          "2024-08-08",
          "2024-08-09",
          "2024-08-10",
          "2024-08-11",
          "2024-08-12",
          "2024-08-13",
          "2024-08-14",
          "2024-08-15",
          "2024-08-16",
          "2024-08-17",
          "2024-08-18",
          "2024-08-19",
          "2024-08-20",
          "2024-08-21",
          "2024-08-22",
          "2024-08-23",
          "2024-08-24",
          "2024-08-25",
          "2024-08-26",
          "2024-08-27",
          "2024-08-28",
          "2024-08-29",
          "2024-08-30",
          "2024-08-31",
          "2024-09-01",
          "2024-09-02",
          "2024-09-03",
          "2024-09-04",
          "2024-09-05",
          "2024-09-06",
          "2024-09-07",
          "2024-09-08",
          "2024-09-09",
          "2024-09-10",
          "2024-09-11",
          "2024-09-12",
          "2024-09-13",
          "2024-09-14",
          "2024-09-15",
          "2024-09-16",
          "2024-09-17",
          "2024-09-18",
          "2024-09-19",
          "2024-09-20",
          "2024-09-21",
          "2024-09-22",
          "2024-09-23",
          "2024-09-24",
          "2024-09-25",
          "2024-09-26",
          "2024-09-27",
          "2024-09-28",
          "2024-09-29",
          "2024-09-30",
          "2024-10-01",
          "2024-10-02",
          "2024-10-03",
          "2024-10-04",
          "2024-10-05",
          "2024-10-06",
          "2024-10-07",
          "2024-10-08",
          "2024-10-09",
          "2024-10-10",
          "2024-10-11",
          "2024-10-12",
          "2024-10-13",
          "2024-10-14",
          "2024-10-15",
          "2024-10-16",
          "2024-10-17",
          "2024-10-18",
          "2024-10-19",
          "2024-10-20",
          "2024-10-21",
          "2024-10-22",
          "2024-10-23",
          "2024-10-24",
          "2024-10-25",
          "2024-10-26",
          "2024-10-27"
         ],
         "xaxis": "x",
         "y": [
          4.1,
          4.1,
          4.1,
          4.1,
          4.1,
          4.1,
          4.1,
          4.1,
          4.1,
          4.1,
          4.1,
          4.1,
          4.1,
          4.1,
          4.1,
          4.1,
          4.1,
          4.1,
          4.1,
          4.1,
          4.1,
          4.1,
          4.1,
          4.1,
          4.1,
          4.1,
          4.1,
          4.1,
          4.1,
          4.1,
          4.1,
          4.1,
          4.1,
          4.1,
          4.1,
          4.1,
          4.1,
          4.1,
          4.1,
          4.1,
          4.1,
          4.1,
          4.1,
          4.1,
          4.1,
          4.1,
          4.1,
          4.1,
          4.1,
          4.1,
          4.1,
          4.1,
          4.1,
          4.1,
          4.1,
          4.1,
          4.1,
          4.1,
          4.1,
          4.1,
          4.1,
          4.1,
          4.1,
          4.1,
          4.1,
          4.1,
          4.1,
          4.1,
          4.1,
          4.1,
          4.1,
          4.1,
          4.1,
          4.1,
          4.1,
          4.1,
          4.1,
          4.1,
          4.1,
          4.1,
          4.1,
          4.2,
          4.2,
          4.2,
          4.2,
          4.2,
          4.2,
          4.2,
          4.2,
          4.2,
          4.2,
          4.2,
          4.2,
          4.2,
          4.2,
          4.2,
          4.2,
          4.2,
          4.2,
          4.2,
          4.2,
          4.2,
          4.2,
          4.2,
          4.2,
          4.2,
          4.2,
          4.2
         ],
         "yaxis": "y"
        },
        {
         "legendgroup": "Alcampo",
         "line": {
          "width": 2
         },
         "mode": "lines",
         "name": "Alcampo - Aceite-de-oliva",
         "type": "scatter",
         "x": [
          "2024-06-22",
          "2024-06-23",
          "2024-06-24",
          "2024-06-25",
          "2024-06-26",
          "2024-06-27",
          "2024-06-28",
          "2024-06-29",
          "2024-07-02",
          "2024-07-03",
          "2024-07-04",
          "2024-07-05",
          "2024-07-06",
          "2024-07-07",
          "2024-07-08",
          "2024-07-09",
          "2024-07-10",
          "2024-07-11",
          "2024-07-12",
          "2024-07-13",
          "2024-07-14",
          "2024-07-15",
          "2024-07-16",
          "2024-07-17",
          "2024-07-18",
          "2024-07-19",
          "2024-07-20",
          "2024-07-21",
          "2024-07-22",
          "2024-07-23",
          "2024-07-24",
          "2024-07-25",
          "2024-07-26",
          "2024-07-27",
          "2024-07-28",
          "2024-07-29",
          "2024-07-30",
          "2024-07-31",
          "2024-08-01",
          "2024-08-02",
          "2024-08-03",
          "2024-08-04",
          "2024-08-05",
          "2024-08-06",
          "2024-08-07",
          "2024-08-08",
          "2024-08-09",
          "2024-08-10",
          "2024-08-11",
          "2024-08-12",
          "2024-08-13",
          "2024-08-14",
          "2024-08-15",
          "2024-08-16",
          "2024-08-17",
          "2024-08-18",
          "2024-08-19",
          "2024-08-20",
          "2024-08-21",
          "2024-08-22",
          "2024-08-23",
          "2024-08-24",
          "2024-08-25",
          "2024-08-26",
          "2024-08-27",
          "2024-08-28",
          "2024-08-29",
          "2024-08-30",
          "2024-08-31",
          "2024-09-01",
          "2024-09-02",
          "2024-09-03",
          "2024-09-04",
          "2024-09-05",
          "2024-09-06",
          "2024-09-07",
          "2024-09-08",
          "2024-09-09",
          "2024-09-10",
          "2024-09-11",
          "2024-09-12",
          "2024-09-13",
          "2024-09-14",
          "2024-09-15",
          "2024-09-16",
          "2024-09-17",
          "2024-09-18",
          "2024-09-19",
          "2024-09-20",
          "2024-09-21",
          "2024-09-22",
          "2024-09-23",
          "2024-09-24",
          "2024-09-25",
          "2024-09-26",
          "2024-09-27",
          "2024-09-28",
          "2024-09-29",
          "2024-09-30",
          "2024-10-01",
          "2024-10-02",
          "2024-10-03",
          "2024-10-04",
          "2024-10-05",
          "2024-10-06",
          "2024-10-07",
          "2024-10-08",
          "2024-10-09",
          "2024-10-10",
          "2024-10-11",
          "2024-10-12",
          "2024-10-13",
          "2024-10-14",
          "2024-10-15",
          "2024-10-16",
          "2024-10-17",
          "2024-10-18",
          "2024-10-19",
          "2024-10-20",
          "2024-10-21",
          "2024-10-22",
          "2024-10-23",
          "2024-10-24",
          "2024-10-25",
          "2024-10-26",
          "2024-10-27"
         ],
         "xaxis": "x2",
         "y": [
          34.65,
          34.65,
          34.65,
          22.82,
          23.03,
          22.42,
          22.36,
          23.59,
          25.62,
          26.14,
          26.42,
          26.93,
          26.86,
          26.85,
          26.85,
          26.89,
          26.17,
          25.16,
          25.32,
          25.32,
          25.28,
          24.95,
          25.03,
          25.14,
          25.18,
          25.02,
          25,
          25.06,
          25.01,
          25.27,
          25.06,
          25.29,
          25.06,
          24.99,
          25.03,
          25.03,
          25.03,
          24.99,
          25.28,
          25.56,
          25.27,
          25.27,
          24.81,
          24.81,
          24.81,
          24.73,
          24.73,
          24.69,
          24.47,
          24.62,
          24.62,
          24.23,
          24.23,
          24.23,
          24.23,
          24.47,
          24.47,
          24.47,
          24.23,
          24.08,
          24.04,
          24.04,
          24.25,
          24.76,
          24.25,
          24.25,
          23.83,
          23.79,
          24.07,
          23.59,
          24.07,
          23.73,
          23.73,
          23.73,
          23.73,
          23.98,
          23.98,
          23.98,
          23.98,
          23.83,
          24.36,
          24.44,
          24.64,
          24.12,
          24.12,
          24.32,
          24.63,
          24.16,
          24.16,
          23.81,
          24.01,
          23.91,
          24.14,
          24.02,
          23.99,
          23.82,
          24.02,
          24.02,
          24.02,
          23.82,
          24.4,
          25.1,
          25.19,
          25.16,
          25.07,
          25.16,
          25.16,
          25.16,
          24.81,
          24.81,
          24.77,
          24.77,
          23.64,
          24.25,
          24.5,
          24.25,
          24.64,
          24.42,
          24.27,
          24.32,
          24.32,
          24.21,
          24.02,
          24.07,
          23.96,
          23.96
         ],
         "yaxis": "y2"
        },
        {
         "legendgroup": "Carrefour",
         "line": {
          "width": 2
         },
         "mode": "lines",
         "name": "Carrefour - Aceite-de-oliva",
         "type": "scatter",
         "x": [
          "2024-06-22",
          "2024-06-23",
          "2024-06-24",
          "2024-06-25",
          "2024-06-26",
          "2024-06-27",
          "2024-06-28",
          "2024-06-29",
          "2024-06-30",
          "2024-07-01",
          "2024-07-02",
          "2024-07-03",
          "2024-07-04",
          "2024-07-05",
          "2024-07-06",
          "2024-07-07",
          "2024-07-08",
          "2024-07-09",
          "2024-07-10",
          "2024-07-11",
          "2024-07-12",
          "2024-07-13",
          "2024-07-14",
          "2024-07-15",
          "2024-07-16",
          "2024-07-17",
          "2024-07-18",
          "2024-07-19",
          "2024-07-20",
          "2024-07-21",
          "2024-07-22",
          "2024-07-23",
          "2024-07-24",
          "2024-07-25",
          "2024-07-26",
          "2024-07-27",
          "2024-07-28",
          "2024-07-29",
          "2024-07-30",
          "2024-07-31",
          "2024-08-01",
          "2024-08-02",
          "2024-08-03",
          "2024-08-04",
          "2024-08-05",
          "2024-08-06",
          "2024-08-07",
          "2024-08-08",
          "2024-08-09",
          "2024-08-10",
          "2024-08-11",
          "2024-08-12",
          "2024-08-13",
          "2024-08-14",
          "2024-08-15",
          "2024-08-16",
          "2024-08-17",
          "2024-08-18",
          "2024-08-19",
          "2024-08-20",
          "2024-08-21",
          "2024-08-22",
          "2024-08-23",
          "2024-08-24",
          "2024-08-25",
          "2024-08-26",
          "2024-08-27",
          "2024-08-28",
          "2024-08-29",
          "2024-08-30",
          "2024-08-31",
          "2024-09-01",
          "2024-09-02",
          "2024-09-03",
          "2024-09-04",
          "2024-09-05",
          "2024-09-06",
          "2024-09-07",
          "2024-09-08",
          "2024-09-09",
          "2024-09-10",
          "2024-09-11",
          "2024-09-12",
          "2024-09-13",
          "2024-09-14",
          "2024-09-15",
          "2024-09-16",
          "2024-09-17",
          "2024-10-03",
          "2024-10-04",
          "2024-10-05",
          "2024-10-06",
          "2024-10-07",
          "2024-10-08",
          "2024-10-09",
          "2024-10-10",
          "2024-10-11",
          "2024-10-12",
          "2024-10-13",
          "2024-10-14",
          "2024-10-15",
          "2024-10-16",
          "2024-10-17",
          "2024-10-18",
          "2024-10-21",
          "2024-10-22",
          "2024-10-23",
          "2024-10-24",
          "2024-10-25",
          "2024-10-26",
          "2024-10-27"
         ],
         "xaxis": "x2",
         "y": [
          18.82,
          18.82,
          18.67,
          19.03,
          18.91,
          19.2,
          17.77,
          17.77,
          18.13,
          17.27,
          17.67,
          17.78,
          17.37,
          17.37,
          16.56,
          17.97,
          17.97,
          17.92,
          17.4,
          16.94,
          17.39,
          17.16,
          17.16,
          17.19,
          17.16,
          17.16,
          17.18,
          17.18,
          17.14,
          17.52,
          17.52,
          17.45,
          17.18,
          17.18,
          17.46,
          17.46,
          17.46,
          17.53,
          17.53,
          17.53,
          17.53,
          17.53,
          17.53,
          17.53,
          17.4,
          17.52,
          17.45,
          16.5,
          17.41,
          17.56,
          17.41,
          17.46,
          17.46,
          17.52,
          17.39,
          17.39,
          17.39,
          17.39,
          17.4,
          17.25,
          17.25,
          17.13,
          17.13,
          17.14,
          17.14,
          17.31,
          17.42,
          17.48,
          17.48,
          17.12,
          17.36,
          17.48,
          17.38,
          17.38,
          17.7,
          17.64,
          17.25,
          17.43,
          17.9,
          18.15,
          17.91,
          17.7,
          17.77,
          17.72,
          17.77,
          17.72,
          17.72,
          17.72,
          16.96,
          16.57,
          16.1,
          16,
          16.7,
          16.7,
          16.87,
          16.56,
          14.95,
          16.99,
          16.31,
          16.31,
          16.37,
          16.5,
          17.01,
          16.94,
          17.47,
          16.34,
          17.33,
          17.32,
          16.15,
          17.65,
          17.47
         ],
         "yaxis": "y2"
        },
        {
         "legendgroup": "Dia",
         "line": {
          "width": 2
         },
         "mode": "lines",
         "name": "Dia - Aceite-de-oliva",
         "type": "scatter",
         "x": [
          "2024-06-25",
          "2024-06-27",
          "2024-07-11",
          "2024-07-12",
          "2024-07-13",
          "2024-07-14",
          "2024-07-15",
          "2024-07-16",
          "2024-07-17",
          "2024-07-18",
          "2024-07-19",
          "2024-07-20",
          "2024-07-21",
          "2024-07-22",
          "2024-07-23",
          "2024-07-24",
          "2024-07-25",
          "2024-07-26",
          "2024-07-27",
          "2024-07-28",
          "2024-07-29",
          "2024-07-30",
          "2024-07-31",
          "2024-08-01",
          "2024-08-02",
          "2024-08-03",
          "2024-08-04",
          "2024-08-05",
          "2024-08-06",
          "2024-08-07",
          "2024-08-08",
          "2024-08-09",
          "2024-08-10",
          "2024-08-11",
          "2024-08-12",
          "2024-08-13",
          "2024-08-14",
          "2024-08-15",
          "2024-08-16",
          "2024-08-17",
          "2024-08-18",
          "2024-08-19",
          "2024-08-20",
          "2024-08-21",
          "2024-08-22",
          "2024-08-23",
          "2024-08-24",
          "2024-08-25",
          "2024-08-26",
          "2024-08-27",
          "2024-08-28",
          "2024-08-29",
          "2024-08-30",
          "2024-08-31",
          "2024-09-01",
          "2024-09-02",
          "2024-09-03",
          "2024-09-04",
          "2024-09-05",
          "2024-09-06",
          "2024-09-07",
          "2024-09-08",
          "2024-09-09",
          "2024-09-10",
          "2024-09-11",
          "2024-09-12",
          "2024-09-13",
          "2024-09-14",
          "2024-09-15",
          "2024-09-16",
          "2024-09-17",
          "2024-09-18",
          "2024-09-19",
          "2024-09-20",
          "2024-09-21",
          "2024-09-22",
          "2024-09-23",
          "2024-09-24",
          "2024-09-25",
          "2024-09-26",
          "2024-09-27",
          "2024-09-28",
          "2024-09-29",
          "2024-09-30",
          "2024-10-01",
          "2024-10-02",
          "2024-10-03",
          "2024-10-04",
          "2024-10-05",
          "2024-10-06",
          "2024-10-07",
          "2024-10-08",
          "2024-10-09",
          "2024-10-10",
          "2024-10-11",
          "2024-10-12",
          "2024-10-13",
          "2024-10-14",
          "2024-10-15",
          "2024-10-16",
          "2024-10-17",
          "2024-10-18",
          "2024-10-19",
          "2024-10-20",
          "2024-10-21",
          "2024-10-22",
          "2024-10-23",
          "2024-10-24",
          "2024-10-25",
          "2024-10-26",
          "2024-10-27"
         ],
         "xaxis": "x2",
         "y": [
          13.43,
          15.2,
          14.64,
          14.64,
          14.64,
          14.64,
          14.64,
          14.64,
          14.48,
          14.4,
          14.4,
          14.4,
          14.4,
          14.4,
          14.4,
          14.38,
          14.38,
          14.38,
          14.38,
          14.38,
          14.38,
          14.38,
          14.56,
          14.56,
          14.56,
          14.56,
          14.56,
          14.56,
          14.55,
          14.55,
          14.55,
          14.55,
          14.55,
          14.55,
          14.55,
          14.55,
          14.55,
          14.55,
          14.53,
          14.53,
          14.53,
          14.53,
          14.53,
          14.9,
          14.59,
          14.59,
          14.59,
          14.59,
          14.59,
          15.15,
          14.84,
          14.84,
          14.84,
          14.84,
          14.84,
          14.84,
          14.84,
          14.5,
          14.5,
          14.5,
          14.5,
          14.5,
          14.5,
          14.5,
          14.68,
          14.68,
          14.14,
          14.14,
          14.14,
          14.68,
          14.68,
          14.68,
          14.68,
          14.68,
          14.68,
          14.68,
          14.68,
          15.03,
          15.03,
          15.03,
          15.03,
          15.03,
          15.03,
          15.03,
          15.27,
          15.27,
          15.27,
          15.27,
          15.27,
          15.27,
          15.27,
          15.27,
          15.27,
          15.27,
          15.27,
          15.27,
          15.27,
          15.27,
          15.27,
          15.27,
          15.01,
          15.01,
          15.01,
          15.01,
          15.01,
          14.95,
          14.78,
          14.78,
          14.78,
          14.44,
          14.44
         ],
         "yaxis": "y2"
        },
        {
         "legendgroup": "Eroski",
         "line": {
          "width": 2
         },
         "mode": "lines",
         "name": "Eroski - Aceite-de-oliva",
         "type": "scatter",
         "x": [
          "2024-06-25",
          "2024-06-26",
          "2024-06-27",
          "2024-06-28",
          "2024-06-29",
          "2024-06-30",
          "2024-07-01",
          "2024-07-02",
          "2024-07-03",
          "2024-07-04",
          "2024-07-05",
          "2024-07-06",
          "2024-07-07",
          "2024-07-08",
          "2024-07-09",
          "2024-07-10",
          "2024-07-11",
          "2024-07-12",
          "2024-07-13",
          "2024-07-14",
          "2024-07-15",
          "2024-07-16",
          "2024-07-17",
          "2024-07-18",
          "2024-07-19",
          "2024-07-20",
          "2024-07-21",
          "2024-07-22",
          "2024-07-23",
          "2024-07-24",
          "2024-07-25",
          "2024-07-26",
          "2024-07-27",
          "2024-07-28",
          "2024-07-29",
          "2024-07-30",
          "2024-07-31",
          "2024-08-01",
          "2024-08-02",
          "2024-08-03",
          "2024-08-04",
          "2024-08-05",
          "2024-08-06",
          "2024-08-07",
          "2024-08-08",
          "2024-08-09",
          "2024-08-10",
          "2024-08-11",
          "2024-08-12",
          "2024-08-13",
          "2024-08-14",
          "2024-08-15",
          "2024-08-16",
          "2024-08-17",
          "2024-08-18",
          "2024-08-19",
          "2024-08-20",
          "2024-08-21",
          "2024-08-22",
          "2024-08-23",
          "2024-08-24",
          "2024-08-25",
          "2024-08-26",
          "2024-08-27",
          "2024-08-28",
          "2024-08-29",
          "2024-08-30",
          "2024-08-31",
          "2024-09-01",
          "2024-09-02",
          "2024-09-03",
          "2024-09-04",
          "2024-09-05",
          "2024-09-06",
          "2024-09-07",
          "2024-09-08",
          "2024-09-09",
          "2024-09-10",
          "2024-09-11",
          "2024-09-12",
          "2024-09-13",
          "2024-09-14",
          "2024-09-15",
          "2024-09-16",
          "2024-09-17",
          "2024-09-18",
          "2024-09-19",
          "2024-09-20",
          "2024-09-21",
          "2024-09-22",
          "2024-09-23",
          "2024-09-24",
          "2024-09-25",
          "2024-09-26",
          "2024-09-27",
          "2024-09-28",
          "2024-09-29",
          "2024-09-30",
          "2024-10-01",
          "2024-10-02",
          "2024-10-03",
          "2024-10-04",
          "2024-10-05",
          "2024-10-06",
          "2024-10-07",
          "2024-10-08",
          "2024-10-09",
          "2024-10-10",
          "2024-10-11",
          "2024-10-12",
          "2024-10-13",
          "2024-10-14",
          "2024-10-15",
          "2024-10-16",
          "2024-10-17",
          "2024-10-18",
          "2024-10-19",
          "2024-10-20",
          "2024-10-21",
          "2024-10-22",
          "2024-10-23",
          "2024-10-24",
          "2024-10-25",
          "2024-10-26",
          "2024-10-27"
         ],
         "xaxis": "x2",
         "y": [
          14.86,
          18.27,
          17.68,
          12.91,
          13.52,
          13.52,
          12.87,
          13.6,
          13.47,
          13.44,
          14.04,
          14.16,
          14.15,
          14.45,
          13.05,
          12.74,
          13.67,
          13.67,
          13.88,
          13.88,
          13.74,
          13.4,
          13.35,
          14.28,
          14.36,
          14.5,
          14.5,
          14.31,
          14.29,
          14.04,
          14.19,
          14.33,
          14.33,
          13.87,
          13.57,
          13.57,
          13.95,
          13.6,
          13.61,
          13.63,
          13.78,
          13.78,
          12.91,
          12.89,
          12.84,
          13.29,
          13.29,
          13.4,
          13.39,
          13.34,
          13.62,
          13.84,
          13.93,
          13.93,
          14,
          14,
          13.73,
          14.08,
          14,
          13.27,
          13.18,
          13.27,
          13.43,
          13.43,
          12.46,
          10.97,
          14.48,
          12.03,
          12.37,
          12.05,
          12.05,
          13.23,
          13.57,
          13.53,
          13.53,
          13.62,
          13.74,
          13.25,
          13.25,
          12.83,
          12.83,
          12.83,
          12.85,
          12.98,
          12.69,
          12.69,
          12.74,
          12.14,
          12.37,
          12.37,
          12.37,
          12.65,
          12.65,
          12.9,
          12.9,
          13.45,
          13.45,
          12.88,
          12.61,
          12.68,
          12.52,
          12.53,
          12.98,
          13.15,
          13.15,
          13.28,
          13.3,
          12.86,
          16.85,
          12.86,
          12.86,
          12.51,
          12.34,
          12,
          12.05,
          12.06,
          11.92,
          12.01,
          12.01,
          11.75,
          12.1,
          11.88,
          11.88,
          11.25,
          11.25
         ],
         "yaxis": "y2"
        },
        {
         "legendgroup": "Hipercor",
         "line": {
          "width": 2
         },
         "mode": "lines",
         "name": "Hipercor - Aceite-de-oliva",
         "type": "scatter",
         "x": [
          "2024-06-22",
          "2024-06-23",
          "2024-06-24",
          "2024-06-25",
          "2024-06-28",
          "2024-06-29",
          "2024-07-01",
          "2024-07-02",
          "2024-07-03",
          "2024-07-04",
          "2024-07-05",
          "2024-07-06",
          "2024-07-07",
          "2024-07-08",
          "2024-07-09",
          "2024-07-10",
          "2024-07-11",
          "2024-07-12",
          "2024-07-13",
          "2024-07-14",
          "2024-07-15",
          "2024-07-16",
          "2024-07-17",
          "2024-07-18",
          "2024-07-19",
          "2024-07-20",
          "2024-07-21",
          "2024-07-22",
          "2024-07-23",
          "2024-07-24",
          "2024-07-25",
          "2024-07-26",
          "2024-07-27",
          "2024-07-28",
          "2024-07-29",
          "2024-07-30",
          "2024-07-31",
          "2024-08-01",
          "2024-08-02",
          "2024-08-03",
          "2024-08-04",
          "2024-08-05",
          "2024-08-06",
          "2024-08-07",
          "2024-08-08",
          "2024-08-09",
          "2024-08-10",
          "2024-08-11",
          "2024-08-12",
          "2024-08-13",
          "2024-08-14",
          "2024-08-15",
          "2024-08-16",
          "2024-08-17",
          "2024-08-18",
          "2024-08-19",
          "2024-08-20",
          "2024-08-21",
          "2024-08-22",
          "2024-08-23",
          "2024-08-24",
          "2024-08-25",
          "2024-08-26",
          "2024-08-27",
          "2024-08-28",
          "2024-08-29",
          "2024-08-30",
          "2024-08-31",
          "2024-09-01",
          "2024-09-02",
          "2024-09-03",
          "2024-09-04",
          "2024-09-05",
          "2024-09-06",
          "2024-09-07",
          "2024-09-08",
          "2024-09-09",
          "2024-09-10",
          "2024-09-11",
          "2024-09-12",
          "2024-09-13",
          "2024-09-14",
          "2024-09-15",
          "2024-09-16",
          "2024-09-17",
          "2024-09-18",
          "2024-09-19",
          "2024-09-20",
          "2024-09-21",
          "2024-09-22",
          "2024-09-23",
          "2024-09-24",
          "2024-09-25",
          "2024-09-26",
          "2024-09-27",
          "2024-09-28",
          "2024-09-29",
          "2024-09-30",
          "2024-10-01",
          "2024-10-02",
          "2024-10-03",
          "2024-10-04",
          "2024-10-05",
          "2024-10-06",
          "2024-10-07",
          "2024-10-08",
          "2024-10-09",
          "2024-10-10",
          "2024-10-11",
          "2024-10-12",
          "2024-10-13",
          "2024-10-14",
          "2024-10-15",
          "2024-10-16",
          "2024-10-17",
          "2024-10-18",
          "2024-10-19",
          "2024-10-20",
          "2024-10-21",
          "2024-10-22",
          "2024-10-23",
          "2024-10-24",
          "2024-10-25",
          "2024-10-26",
          "2024-10-27"
         ],
         "xaxis": "x2",
         "y": [
          7.85,
          7.85,
          7.85,
          16.42,
          16.92,
          16.92,
          16.12,
          20.32,
          14.5,
          7.48,
          15.13,
          15.13,
          7.48,
          7.48,
          7.48,
          15.13,
          20.54,
          20.56,
          20.43,
          20.54,
          19.16,
          20.1,
          19.98,
          19.29,
          20.54,
          20.81,
          20.26,
          20.35,
          20.35,
          20.31,
          20.87,
          20.66,
          20.42,
          20.49,
          20.18,
          18.86,
          20.16,
          20.37,
          20.43,
          20.37,
          20.88,
          20.35,
          20.32,
          20.21,
          20.21,
          20.68,
          20.2,
          19.25,
          19.9,
          19.12,
          20.35,
          20.15,
          20.24,
          20.33,
          20.42,
          20.17,
          20.28,
          20.28,
          20.3,
          20.21,
          20.16,
          20.16,
          20.48,
          19.74,
          19.83,
          19.87,
          18.83,
          20.28,
          19.97,
          20.22,
          18.92,
          19.97,
          19.97,
          20.3,
          20.07,
          20.4,
          20.25,
          19.68,
          19.68,
          19.96,
          20.05,
          20.05,
          20.05,
          20.45,
          20.35,
          20.34,
          20.21,
          19.06,
          20.15,
          20.12,
          20.47,
          19.97,
          19.77,
          20.32,
          19.95,
          19.85,
          19.91,
          19.94,
          19.2,
          20.4,
          7.45,
          7.45,
          7.45,
          7.45,
          7.45,
          7.45,
          7.45,
          7.45,
          7.45,
          7.45,
          7.45,
          20.72,
          20.34,
          19.45,
          20.57,
          21.19,
          20.97,
          21.13,
          20.53,
          20.89,
          20.42,
          20.25,
          20.56,
          20.26,
          20.26
         ],
         "yaxis": "y2"
        },
        {
         "legendgroup": "Mercadona",
         "line": {
          "width": 2
         },
         "mode": "lines",
         "name": "Mercadona - Aceite-de-oliva",
         "type": "scatter",
         "x": [
          "2024-06-22",
          "2024-06-23",
          "2024-06-24",
          "2024-06-25",
          "2024-06-26",
          "2024-06-27",
          "2024-06-28",
          "2024-06-29",
          "2024-06-30",
          "2024-07-01",
          "2024-07-02",
          "2024-07-03",
          "2024-07-04",
          "2024-07-05",
          "2024-07-06",
          "2024-07-07",
          "2024-07-08",
          "2024-07-09",
          "2024-07-10",
          "2024-07-11",
          "2024-07-12",
          "2024-07-13",
          "2024-07-14",
          "2024-07-15",
          "2024-07-16",
          "2024-07-17",
          "2024-07-18",
          "2024-07-19",
          "2024-07-20",
          "2024-07-21",
          "2024-07-22",
          "2024-07-23",
          "2024-07-24",
          "2024-07-25",
          "2024-07-26",
          "2024-07-27",
          "2024-07-28",
          "2024-07-29",
          "2024-07-30",
          "2024-07-31",
          "2024-08-01",
          "2024-08-02",
          "2024-08-03",
          "2024-08-04",
          "2024-08-05",
          "2024-08-06",
          "2024-08-07",
          "2024-08-08",
          "2024-08-09",
          "2024-08-10",
          "2024-08-11",
          "2024-08-12",
          "2024-08-13",
          "2024-08-14",
          "2024-08-15",
          "2024-08-16",
          "2024-08-17",
          "2024-08-18",
          "2024-08-19",
          "2024-08-20",
          "2024-08-21",
          "2024-08-22",
          "2024-08-23",
          "2024-08-24",
          "2024-08-25",
          "2024-08-26",
          "2024-08-27",
          "2024-08-28",
          "2024-08-29",
          "2024-08-30",
          "2024-08-31",
          "2024-09-01",
          "2024-09-02",
          "2024-09-03",
          "2024-09-04",
          "2024-09-05",
          "2024-09-06",
          "2024-09-07",
          "2024-09-08",
          "2024-09-09",
          "2024-09-10",
          "2024-09-11",
          "2024-09-12",
          "2024-09-13",
          "2024-09-14",
          "2024-09-15",
          "2024-09-16",
          "2024-09-17",
          "2024-09-18",
          "2024-09-19",
          "2024-09-20",
          "2024-09-21",
          "2024-09-22",
          "2024-09-23",
          "2024-09-24",
          "2024-09-25",
          "2024-09-26",
          "2024-09-27",
          "2024-09-28",
          "2024-09-29",
          "2024-09-30",
          "2024-10-01",
          "2024-10-02",
          "2024-10-03",
          "2024-10-04",
          "2024-10-05",
          "2024-10-06",
          "2024-10-07",
          "2024-10-08",
          "2024-10-09",
          "2024-10-10",
          "2024-10-11",
          "2024-10-12",
          "2024-10-13",
          "2024-10-14",
          "2024-10-15",
          "2024-10-16",
          "2024-10-17",
          "2024-10-18",
          "2024-10-19",
          "2024-10-20",
          "2024-10-21",
          "2024-10-22",
          "2024-10-23",
          "2024-10-24",
          "2024-10-25",
          "2024-10-26",
          "2024-10-27"
         ],
         "xaxis": "x2",
         "y": [
          14.25,
          14.25,
          14.25,
          14.25,
          14.89,
          14.89,
          14.89,
          14.89,
          14.89,
          14.18,
          13.56,
          13.57,
          13.57,
          13.57,
          13.57,
          13.57,
          13.57,
          13.57,
          13.57,
          13.57,
          13.57,
          13.57,
          13.57,
          13.37,
          13.37,
          13.37,
          13.37,
          13.37,
          13.37,
          13.37,
          13.37,
          13.37,
          13.37,
          13.37,
          13.37,
          13.37,
          13.37,
          13.36,
          13.36,
          13.36,
          13.36,
          13.36,
          13.36,
          13.36,
          13.36,
          13.36,
          13.36,
          13.36,
          13.24,
          13.24,
          13.24,
          13.24,
          13.24,
          13.24,
          13.24,
          13.24,
          13.24,
          13.24,
          13.24,
          13.24,
          12.59,
          12.59,
          12.59,
          12.59,
          12.59,
          12.59,
          12.59,
          12.59,
          12.59,
          12.59,
          12.59,
          12.59,
          12.59,
          12.59,
          12.59,
          12.59,
          12.59,
          12.59,
          12.59,
          12.59,
          12.59,
          12.59,
          12.59,
          12.59,
          12.59,
          12.59,
          12.59,
          12.59,
          12.59,
          12.59,
          12.59,
          12.59,
          12.59,
          12.59,
          12.59,
          12.59,
          12.59,
          12.59,
          12.59,
          12.59,
          12.59,
          12.84,
          12.84,
          12.84,
          12.84,
          12.84,
          12.84,
          12.84,
          12.84,
          12.84,
          12.84,
          12.84,
          12.84,
          12.84,
          12.3,
          12.3,
          12.3,
          12.3,
          12.3,
          12.3,
          12.3,
          12.3,
          12.3,
          12.3,
          12.3,
          12.3,
          12.3,
          12.3
         ],
         "yaxis": "y2"
        },
        {
         "legendgroup": "Alcampo",
         "line": {
          "width": 2
         },
         "mode": "lines",
         "name": "Alcampo - Leche",
         "type": "scatter",
         "x": [
          "2024-07-15",
          "2024-07-16",
          "2024-07-17",
          "2024-07-18",
          "2024-07-19",
          "2024-07-20",
          "2024-07-21",
          "2024-07-22",
          "2024-07-23",
          "2024-07-24",
          "2024-07-25",
          "2024-07-26",
          "2024-07-27",
          "2024-07-28",
          "2024-07-29",
          "2024-07-30",
          "2024-07-31",
          "2024-08-01",
          "2024-08-02",
          "2024-08-03",
          "2024-08-04",
          "2024-08-05",
          "2024-08-06",
          "2024-08-07",
          "2024-08-08",
          "2024-08-09",
          "2024-08-10",
          "2024-08-11",
          "2024-08-12",
          "2024-08-13",
          "2024-08-14",
          "2024-08-15",
          "2024-08-16",
          "2024-08-17",
          "2024-08-18",
          "2024-08-19",
          "2024-08-20",
          "2024-08-21",
          "2024-08-22",
          "2024-08-23",
          "2024-08-24",
          "2024-08-25",
          "2024-08-26",
          "2024-08-27",
          "2024-08-28",
          "2024-08-29",
          "2024-08-30",
          "2024-08-31",
          "2024-09-01",
          "2024-09-02",
          "2024-09-03",
          "2024-09-04",
          "2024-09-05",
          "2024-09-06",
          "2024-09-07",
          "2024-09-08",
          "2024-09-09",
          "2024-09-10",
          "2024-09-11",
          "2024-09-12",
          "2024-09-13",
          "2024-09-14",
          "2024-09-15",
          "2024-09-16",
          "2024-09-17",
          "2024-09-18",
          "2024-09-19",
          "2024-09-20",
          "2024-09-21",
          "2024-09-22",
          "2024-09-23",
          "2024-09-24",
          "2024-09-25",
          "2024-09-26",
          "2024-09-27",
          "2024-09-28",
          "2024-09-29",
          "2024-09-30",
          "2024-10-01",
          "2024-10-02",
          "2024-10-03",
          "2024-10-04",
          "2024-10-05",
          "2024-10-06",
          "2024-10-07",
          "2024-10-08",
          "2024-10-09",
          "2024-10-10",
          "2024-10-11",
          "2024-10-12",
          "2024-10-13",
          "2024-10-14",
          "2024-10-15",
          "2024-10-16",
          "2024-10-17",
          "2024-10-18",
          "2024-10-19",
          "2024-10-20",
          "2024-10-21",
          "2024-10-22",
          "2024-10-23",
          "2024-10-24",
          "2024-10-25",
          "2024-10-26",
          "2024-10-27"
         ],
         "xaxis": "x3",
         "y": [
          4.07,
          4.04,
          4,
          4,
          3.94,
          4,
          3.94,
          4,
          3.94,
          3.94,
          3.94,
          3.94,
          3.92,
          3.92,
          3.94,
          3.89,
          3.87,
          3.86,
          3.89,
          3.9,
          3.9,
          3.9,
          3.87,
          3.87,
          3.87,
          3.87,
          3.87,
          3.87,
          3.83,
          3.79,
          3.84,
          3.81,
          3.88,
          3.87,
          3.85,
          3.85,
          3.85,
          3.89,
          3.88,
          3.87,
          3.87,
          3.87,
          3.87,
          3.87,
          3.86,
          3.83,
          3.86,
          3.86,
          3.86,
          3.86,
          3.86,
          3.86,
          3.86,
          3.86,
          3.86,
          3.88,
          3.88,
          3.88,
          3.86,
          3.9,
          3.9,
          3.9,
          3.9,
          3.9,
          3.9,
          3.92,
          3.92,
          3.92,
          3.96,
          3.92,
          3.9,
          3.93,
          3.88,
          3.82,
          3.85,
          3.85,
          3.85,
          3.85,
          3.86,
          3.88,
          3.92,
          3.94,
          3.94,
          3.94,
          3.9,
          3.9,
          3.87,
          3.85,
          3.85,
          3.83,
          3.87,
          3.84,
          3.87,
          3.92,
          3.85,
          3.85,
          3.91,
          3.91,
          3.91,
          3.91,
          3.91,
          3.96,
          3.92,
          3.92,
          3.92
         ],
         "yaxis": "y3"
        },
        {
         "legendgroup": "Carrefour",
         "line": {
          "width": 2
         },
         "mode": "lines",
         "name": "Carrefour - Leche",
         "type": "scatter",
         "x": [
          "2024-07-15",
          "2024-07-16",
          "2024-07-17",
          "2024-07-18",
          "2024-07-19",
          "2024-07-20",
          "2024-07-21",
          "2024-07-22",
          "2024-07-23",
          "2024-07-24",
          "2024-07-25",
          "2024-07-26",
          "2024-07-27",
          "2024-07-28",
          "2024-07-29",
          "2024-07-30",
          "2024-07-31",
          "2024-08-01",
          "2024-08-02",
          "2024-08-03",
          "2024-08-04",
          "2024-08-05",
          "2024-08-06",
          "2024-08-07",
          "2024-08-08",
          "2024-08-09",
          "2024-08-10",
          "2024-08-11",
          "2024-08-12",
          "2024-08-13",
          "2024-08-14",
          "2024-08-15",
          "2024-08-16",
          "2024-08-17",
          "2024-08-18",
          "2024-08-19",
          "2024-08-20",
          "2024-08-21",
          "2024-08-22",
          "2024-08-23",
          "2024-08-24",
          "2024-08-25",
          "2024-08-26",
          "2024-08-27",
          "2024-08-28",
          "2024-08-29",
          "2024-08-30",
          "2024-08-31",
          "2024-09-01",
          "2024-09-02",
          "2024-09-03",
          "2024-09-04",
          "2024-09-05",
          "2024-09-06",
          "2024-09-07",
          "2024-09-08",
          "2024-09-09",
          "2024-09-10",
          "2024-09-11",
          "2024-09-12",
          "2024-09-13",
          "2024-09-14",
          "2024-09-15",
          "2024-09-16",
          "2024-09-17",
          "2024-10-03",
          "2024-10-04",
          "2024-10-05",
          "2024-10-06",
          "2024-10-07",
          "2024-10-08",
          "2024-10-09",
          "2024-10-10",
          "2024-10-11",
          "2024-10-12",
          "2024-10-13",
          "2024-10-14",
          "2024-10-15",
          "2024-10-16",
          "2024-10-17",
          "2024-10-18",
          "2024-10-21",
          "2024-10-22",
          "2024-10-23",
          "2024-10-24",
          "2024-10-25",
          "2024-10-26",
          "2024-10-27"
         ],
         "xaxis": "x3",
         "y": [
          1.56,
          1.57,
          1.6,
          1.59,
          1.59,
          1.61,
          1.61,
          1.61,
          1.61,
          1.61,
          1.55,
          1.49,
          1.5,
          1.51,
          1.52,
          1.51,
          1.56,
          1.62,
          1.63,
          1.63,
          1.63,
          1.63,
          1.78,
          1.53,
          1.48,
          1.55,
          1.59,
          1.59,
          1.59,
          1.59,
          1.58,
          1.6,
          1.6,
          1.6,
          1.46,
          1.48,
          1.71,
          1.73,
          1.82,
          1.92,
          1.9,
          1.9,
          1.94,
          1.93,
          1.96,
          1.94,
          1.92,
          1.91,
          2.13,
          1.88,
          1.86,
          1.85,
          1.93,
          1.96,
          1.95,
          1.89,
          1.89,
          1.9,
          1.89,
          1.98,
          1.91,
          1.9,
          1.9,
          1.91,
          1.9,
          1.66,
          1.6,
          1.62,
          1.65,
          1.61,
          1.61,
          1.66,
          1.66,
          1.6,
          1.55,
          1.63,
          1.63,
          1.58,
          1.54,
          1.62,
          1.67,
          1.69,
          1.65,
          1.66,
          1.79,
          1.72,
          1.57,
          1.58
         ],
         "yaxis": "y3"
        },
        {
         "legendgroup": "Dia",
         "line": {
          "width": 2
         },
         "mode": "lines",
         "name": "Dia - Leche",
         "type": "scatter",
         "x": [
          "2024-07-15",
          "2024-07-16",
          "2024-07-17",
          "2024-07-18",
          "2024-07-19",
          "2024-07-20",
          "2024-07-21",
          "2024-07-22",
          "2024-07-23",
          "2024-07-24",
          "2024-07-25",
          "2024-07-26",
          "2024-07-27",
          "2024-07-28",
          "2024-07-29",
          "2024-07-30",
          "2024-07-31",
          "2024-08-01",
          "2024-08-02",
          "2024-08-03",
          "2024-08-04",
          "2024-08-05",
          "2024-08-06",
          "2024-08-07",
          "2024-08-08",
          "2024-08-09",
          "2024-08-10",
          "2024-08-11",
          "2024-08-12",
          "2024-08-13",
          "2024-08-14",
          "2024-08-15",
          "2024-08-16",
          "2024-08-17",
          "2024-08-18",
          "2024-08-19",
          "2024-08-20",
          "2024-08-21",
          "2024-08-22",
          "2024-08-23",
          "2024-08-24",
          "2024-08-25",
          "2024-08-26",
          "2024-08-27",
          "2024-08-28",
          "2024-08-29",
          "2024-08-30",
          "2024-08-31",
          "2024-09-01",
          "2024-09-02",
          "2024-09-03",
          "2024-09-04",
          "2024-09-05",
          "2024-09-06",
          "2024-09-07",
          "2024-09-08",
          "2024-09-09",
          "2024-09-10",
          "2024-09-11",
          "2024-09-12",
          "2024-09-13",
          "2024-09-14",
          "2024-09-15",
          "2024-09-16",
          "2024-09-17",
          "2024-09-18",
          "2024-09-19",
          "2024-09-20",
          "2024-09-21",
          "2024-09-22",
          "2024-09-23",
          "2024-09-24",
          "2024-09-25",
          "2024-09-26",
          "2024-09-27",
          "2024-09-28",
          "2024-09-29",
          "2024-09-30",
          "2024-10-01",
          "2024-10-02",
          "2024-10-03",
          "2024-10-04",
          "2024-10-05",
          "2024-10-06",
          "2024-10-07",
          "2024-10-08",
          "2024-10-09",
          "2024-10-10",
          "2024-10-11",
          "2024-10-12",
          "2024-10-13",
          "2024-10-14",
          "2024-10-15",
          "2024-10-16",
          "2024-10-17",
          "2024-10-18",
          "2024-10-19",
          "2024-10-20",
          "2024-10-21",
          "2024-10-22",
          "2024-10-23",
          "2024-10-24",
          "2024-10-25",
          "2024-10-26",
          "2024-10-27"
         ],
         "xaxis": "x3",
         "y": [
          5.44,
          5.44,
          5.47,
          5.47,
          5.47,
          5.47,
          5.47,
          5.47,
          5.47,
          5.45,
          5.46,
          5.46,
          5.46,
          5.46,
          5.46,
          5.41,
          5.45,
          5.45,
          5.45,
          5.45,
          5.45,
          5.45,
          5.45,
          5.47,
          5.47,
          5.47,
          5.47,
          5.47,
          5.47,
          5.47,
          5.43,
          5.43,
          5.43,
          5.43,
          5.43,
          5.43,
          5.43,
          5.33,
          5.33,
          5.33,
          5.24,
          5.24,
          5.24,
          5.24,
          5.32,
          5.32,
          5.32,
          5.32,
          5.32,
          5.32,
          5.32,
          5.32,
          5.32,
          5.32,
          5.32,
          5.32,
          5.32,
          5.31,
          5.34,
          5.34,
          5.34,
          5.34,
          5.34,
          5.34,
          5.34,
          5.33,
          5.33,
          5.33,
          5.33,
          5.33,
          5.33,
          5.33,
          5.24,
          5.24,
          5.22,
          5.22,
          5.22,
          5.22,
          5.31,
          5.47,
          5.47,
          5.27,
          5.27,
          5.27,
          5.27,
          5.27,
          5.22,
          5.22,
          5.22,
          5.22,
          5.22,
          5.22,
          5.24,
          5.23,
          5.23,
          5.23,
          5.23,
          5.23,
          5.23,
          5.23,
          5.29,
          5.29,
          5.29,
          5.29,
          5.29
         ],
         "yaxis": "y3"
        },
        {
         "legendgroup": "Eroski",
         "line": {
          "width": 2
         },
         "mode": "lines",
         "name": "Eroski - Leche",
         "type": "scatter",
         "x": [
          "2024-07-15",
          "2024-07-16",
          "2024-07-17",
          "2024-07-18",
          "2024-07-19",
          "2024-07-20",
          "2024-07-21",
          "2024-07-22",
          "2024-07-23",
          "2024-07-24",
          "2024-07-25",
          "2024-07-26",
          "2024-07-27",
          "2024-07-28",
          "2024-07-29",
          "2024-07-30",
          "2024-07-31",
          "2024-08-01",
          "2024-08-02",
          "2024-08-03",
          "2024-08-04",
          "2024-08-05",
          "2024-08-06",
          "2024-08-07",
          "2024-08-08",
          "2024-08-09",
          "2024-08-10",
          "2024-08-11",
          "2024-08-12",
          "2024-08-13",
          "2024-08-14",
          "2024-08-15",
          "2024-08-16",
          "2024-08-17",
          "2024-08-18",
          "2024-08-19",
          "2024-08-20",
          "2024-08-21",
          "2024-08-22",
          "2024-08-23",
          "2024-08-24",
          "2024-08-25",
          "2024-08-26",
          "2024-08-27",
          "2024-08-28",
          "2024-08-29",
          "2024-08-30",
          "2024-08-31",
          "2024-09-01",
          "2024-09-02",
          "2024-09-03",
          "2024-09-04",
          "2024-09-05",
          "2024-09-06",
          "2024-09-07",
          "2024-09-08",
          "2024-09-09",
          "2024-09-10",
          "2024-09-11",
          "2024-09-12",
          "2024-09-13",
          "2024-09-14",
          "2024-09-15",
          "2024-09-16",
          "2024-09-17",
          "2024-09-18",
          "2024-09-19",
          "2024-09-20",
          "2024-09-21",
          "2024-09-22",
          "2024-09-23",
          "2024-09-24",
          "2024-09-25",
          "2024-09-26",
          "2024-09-27",
          "2024-09-28",
          "2024-09-29",
          "2024-09-30",
          "2024-10-01",
          "2024-10-02",
          "2024-10-03",
          "2024-10-04",
          "2024-10-05",
          "2024-10-06",
          "2024-10-07",
          "2024-10-08",
          "2024-10-09",
          "2024-10-10",
          "2024-10-11",
          "2024-10-12",
          "2024-10-13",
          "2024-10-14",
          "2024-10-15",
          "2024-10-16",
          "2024-10-17",
          "2024-10-18",
          "2024-10-19",
          "2024-10-20",
          "2024-10-21",
          "2024-10-22",
          "2024-10-23",
          "2024-10-24",
          "2024-10-25",
          "2024-10-26",
          "2024-10-27"
         ],
         "xaxis": "x3",
         "y": [
          1.55,
          1.54,
          1.54,
          1.54,
          1.54,
          1.53,
          1.53,
          1.53,
          1.53,
          1.53,
          1.54,
          1.54,
          1.54,
          1.54,
          1.54,
          1.54,
          1.55,
          1.54,
          1.48,
          1.53,
          1.53,
          1.53,
          1.53,
          1.53,
          1.53,
          1.53,
          1.53,
          1.54,
          1.54,
          1.54,
          1.55,
          1.54,
          1.52,
          1.52,
          1.52,
          1.52,
          1.52,
          1.52,
          1.52,
          1.52,
          1.52,
          1.51,
          1.51,
          1.51,
          1.52,
          1.44,
          1.54,
          1.54,
          1.51,
          1.51,
          1.51,
          1.55,
          1.55,
          1.53,
          1.53,
          1.5,
          1.54,
          1.54,
          1.54,
          1.51,
          1.52,
          1.51,
          1.51,
          1.51,
          1.52,
          1.52,
          1.52,
          1.52,
          1.52,
          1.52,
          1.52,
          1.51,
          1.51,
          1.53,
          1.53,
          1.54,
          1.53,
          1.53,
          1.56,
          1.53,
          1.57,
          1.57,
          1.57,
          1.57,
          1.57,
          1.57,
          1.57,
          1.57,
          1.57,
          1.57,
          1.57,
          1.59,
          1.59,
          1.58,
          1.57,
          1.57,
          1.57,
          1.5,
          1.5,
          1.5,
          1.56,
          1.57,
          1.57,
          1.57,
          1.57
         ],
         "yaxis": "y3"
        },
        {
         "legendgroup": "Hipercor",
         "line": {
          "width": 2
         },
         "mode": "lines",
         "name": "Hipercor - Leche",
         "type": "scatter",
         "x": [
          "2024-07-15",
          "2024-07-16",
          "2024-07-17",
          "2024-07-18",
          "2024-07-19",
          "2024-07-20",
          "2024-07-21",
          "2024-07-22",
          "2024-07-23",
          "2024-07-24",
          "2024-07-25",
          "2024-07-26",
          "2024-07-27",
          "2024-07-28",
          "2024-07-29",
          "2024-07-30",
          "2024-07-31",
          "2024-08-01",
          "2024-08-02",
          "2024-08-03",
          "2024-08-04",
          "2024-08-05",
          "2024-08-06",
          "2024-08-07",
          "2024-08-08",
          "2024-08-09",
          "2024-08-10",
          "2024-08-11",
          "2024-08-12",
          "2024-08-13",
          "2024-08-14",
          "2024-08-15",
          "2024-08-16",
          "2024-08-17",
          "2024-08-18",
          "2024-08-19",
          "2024-08-20",
          "2024-08-21",
          "2024-08-22",
          "2024-08-23",
          "2024-08-24",
          "2024-08-25",
          "2024-08-26",
          "2024-08-27",
          "2024-08-28",
          "2024-08-29",
          "2024-08-30",
          "2024-08-31",
          "2024-09-01",
          "2024-09-02",
          "2024-09-03",
          "2024-09-04",
          "2024-09-05",
          "2024-09-06",
          "2024-09-07",
          "2024-09-08",
          "2024-09-09",
          "2024-09-10",
          "2024-09-11",
          "2024-09-12",
          "2024-09-13",
          "2024-09-14",
          "2024-09-15",
          "2024-09-16",
          "2024-09-17",
          "2024-09-18",
          "2024-09-19",
          "2024-09-20",
          "2024-09-21",
          "2024-09-22",
          "2024-09-23",
          "2024-09-24",
          "2024-09-25",
          "2024-09-26",
          "2024-09-27",
          "2024-09-28",
          "2024-09-29",
          "2024-09-30",
          "2024-10-01",
          "2024-10-02",
          "2024-10-14",
          "2024-10-15",
          "2024-10-16",
          "2024-10-17",
          "2024-10-18",
          "2024-10-19",
          "2024-10-20",
          "2024-10-21",
          "2024-10-22",
          "2024-10-23",
          "2024-10-24",
          "2024-10-25",
          "2024-10-26",
          "2024-10-27"
         ],
         "xaxis": "x3",
         "y": [
          1.59,
          1.59,
          1.58,
          1.59,
          1.58,
          1.63,
          1.65,
          1.6,
          1.62,
          1.6,
          1.58,
          1.58,
          1.58,
          1.61,
          1.58,
          1.59,
          1.67,
          1.51,
          1.59,
          1.5,
          1.61,
          1.59,
          1.6,
          1.53,
          1.59,
          1.67,
          1.63,
          1.6,
          1.64,
          1.63,
          1.59,
          1.57,
          1.59,
          1.72,
          1.59,
          1.65,
          1.59,
          1.61,
          1.64,
          1.65,
          1.6,
          1.59,
          1.59,
          1.59,
          1.59,
          1.57,
          1.61,
          1.6,
          1.6,
          1.59,
          1.59,
          1.6,
          1.61,
          1.6,
          1.62,
          1.6,
          1.6,
          1.59,
          1.59,
          1.68,
          1.59,
          1.62,
          1.63,
          1.6,
          1.63,
          1.63,
          1.6,
          1.59,
          1.59,
          1.62,
          1.59,
          1.71,
          1.6,
          1.52,
          1.57,
          1.59,
          1.59,
          1.68,
          1.67,
          1.63,
          1.75,
          1.57,
          1.68,
          1.69,
          1.73,
          1.72,
          1.6,
          1.6,
          1.76,
          1.59,
          1.54,
          1.79,
          1.67,
          1.64
         ],
         "yaxis": "y3"
        },
        {
         "legendgroup": "Mercadona",
         "line": {
          "width": 2
         },
         "mode": "lines",
         "name": "Mercadona - Leche",
         "type": "scatter",
         "x": [
          "2024-07-15",
          "2024-07-16",
          "2024-07-17",
          "2024-07-18",
          "2024-07-19",
          "2024-07-20",
          "2024-07-21",
          "2024-07-22",
          "2024-07-23",
          "2024-07-24",
          "2024-07-25",
          "2024-07-26",
          "2024-07-27",
          "2024-07-28",
          "2024-07-29",
          "2024-07-30",
          "2024-07-31",
          "2024-08-01",
          "2024-08-02",
          "2024-08-03",
          "2024-08-04",
          "2024-08-05",
          "2024-08-06",
          "2024-08-07",
          "2024-08-08",
          "2024-08-09",
          "2024-08-10",
          "2024-08-11",
          "2024-08-12",
          "2024-08-13",
          "2024-08-14",
          "2024-08-15",
          "2024-08-16",
          "2024-08-17",
          "2024-08-18",
          "2024-08-19",
          "2024-08-20",
          "2024-08-21",
          "2024-08-22",
          "2024-08-23",
          "2024-08-24",
          "2024-08-25",
          "2024-08-26",
          "2024-08-27",
          "2024-08-28",
          "2024-08-29",
          "2024-08-30",
          "2024-08-31",
          "2024-09-01",
          "2024-09-02",
          "2024-09-03",
          "2024-09-04",
          "2024-09-05",
          "2024-09-06",
          "2024-09-07",
          "2024-09-08",
          "2024-09-09",
          "2024-09-10",
          "2024-09-11",
          "2024-09-12",
          "2024-09-13",
          "2024-09-14",
          "2024-09-15",
          "2024-09-16",
          "2024-09-17",
          "2024-09-18",
          "2024-09-19",
          "2024-09-20",
          "2024-09-21",
          "2024-09-22",
          "2024-09-23",
          "2024-09-24",
          "2024-09-25",
          "2024-09-26",
          "2024-09-27",
          "2024-09-28",
          "2024-09-29",
          "2024-09-30",
          "2024-10-01",
          "2024-10-02",
          "2024-10-03",
          "2024-10-04",
          "2024-10-05",
          "2024-10-06",
          "2024-10-07",
          "2024-10-08",
          "2024-10-09",
          "2024-10-10",
          "2024-10-11",
          "2024-10-12",
          "2024-10-13",
          "2024-10-14",
          "2024-10-15",
          "2024-10-16",
          "2024-10-17",
          "2024-10-18",
          "2024-10-19",
          "2024-10-20",
          "2024-10-21",
          "2024-10-22",
          "2024-10-23",
          "2024-10-24",
          "2024-10-25",
          "2024-10-26",
          "2024-10-27"
         ],
         "xaxis": "x3",
         "y": [
          3.81,
          3.82,
          3.64,
          3.64,
          3.64,
          3.64,
          3.64,
          3.64,
          3.64,
          3.64,
          3.64,
          3.64,
          3.64,
          3.64,
          3.64,
          3.64,
          3.64,
          3.64,
          3.64,
          3.64,
          3.64,
          3.64,
          3.64,
          3.64,
          3.64,
          3.64,
          3.64,
          3.64,
          3.64,
          3.64,
          3.64,
          3.64,
          3.64,
          3.64,
          3.64,
          3.64,
          3.64,
          3.64,
          3.64,
          3.64,
          3.64,
          3.64,
          3.64,
          3.64,
          3.64,
          3.64,
          3.64,
          3.64,
          3.64,
          3.64,
          3.64,
          3.62,
          3.62,
          3.62,
          3.7,
          3.7,
          3.7,
          3.7,
          3.79,
          3.79,
          3.79,
          3.79,
          3.79,
          3.79,
          3.79,
          3.62,
          3.62,
          3.62,
          3.62,
          3.62,
          3.62,
          3.62,
          3.62,
          3.62,
          3.62,
          3.62,
          3.62,
          3.62,
          3.7,
          3.7,
          3.7,
          3.7,
          3.7,
          3.7,
          3.7,
          3.7,
          3.7,
          3.7,
          3.7,
          3.7,
          3.7,
          3.7,
          3.7,
          3.7,
          3.7,
          3.7,
          3.7,
          3.7,
          3.7,
          3.7,
          3.7,
          3.7,
          3.7,
          3.7,
          3.7
         ],
         "yaxis": "y3"
        }
       ],
       "layout": {
        "annotations": [
         {
          "font": {
           "size": 16
          },
          "showarrow": false,
          "text": "Aceite-de-girasol",
          "x": 0.5,
          "xanchor": "center",
          "xref": "paper",
          "y": 1,
          "yanchor": "bottom",
          "yref": "paper"
         },
         {
          "font": {
           "size": 16
          },
          "showarrow": false,
          "text": "Aceite-de-oliva",
          "x": 0.5,
          "xanchor": "center",
          "xref": "paper",
          "y": 0.6333333333333333,
          "yanchor": "bottom",
          "yref": "paper"
         },
         {
          "font": {
           "size": 16
          },
          "showarrow": false,
          "text": "Leche",
          "x": 0.5,
          "xanchor": "center",
          "xref": "paper",
          "y": 0.26666666666666666,
          "yanchor": "bottom",
          "yref": "paper"
         }
        ],
        "height": 900,
        "showlegend": true,
        "template": {
         "data": {
          "bar": [
           {
            "error_x": {
             "color": "#2a3f5f"
            },
            "error_y": {
             "color": "#2a3f5f"
            },
            "marker": {
             "line": {
              "color": "#E5ECF6",
              "width": 0.5
             },
             "pattern": {
              "fillmode": "overlay",
              "size": 10,
              "solidity": 0.2
             }
            },
            "type": "bar"
           }
          ],
          "barpolar": [
           {
            "marker": {
             "line": {
              "color": "#E5ECF6",
              "width": 0.5
             },
             "pattern": {
              "fillmode": "overlay",
              "size": 10,
              "solidity": 0.2
             }
            },
            "type": "barpolar"
           }
          ],
          "carpet": [
           {
            "aaxis": {
             "endlinecolor": "#2a3f5f",
             "gridcolor": "white",
             "linecolor": "white",
             "minorgridcolor": "white",
             "startlinecolor": "#2a3f5f"
            },
            "baxis": {
             "endlinecolor": "#2a3f5f",
             "gridcolor": "white",
             "linecolor": "white",
             "minorgridcolor": "white",
             "startlinecolor": "#2a3f5f"
            },
            "type": "carpet"
           }
          ],
          "choropleth": [
           {
            "colorbar": {
             "outlinewidth": 0,
             "ticks": ""
            },
            "type": "choropleth"
           }
          ],
          "contour": [
           {
            "colorbar": {
             "outlinewidth": 0,
             "ticks": ""
            },
            "colorscale": [
             [
              0,
              "#0d0887"
             ],
             [
              0.1111111111111111,
              "#46039f"
             ],
             [
              0.2222222222222222,
              "#7201a8"
             ],
             [
              0.3333333333333333,
              "#9c179e"
             ],
             [
              0.4444444444444444,
              "#bd3786"
             ],
             [
              0.5555555555555556,
              "#d8576b"
             ],
             [
              0.6666666666666666,
              "#ed7953"
             ],
             [
              0.7777777777777778,
              "#fb9f3a"
             ],
             [
              0.8888888888888888,
              "#fdca26"
             ],
             [
              1,
              "#f0f921"
             ]
            ],
            "type": "contour"
           }
          ],
          "contourcarpet": [
           {
            "colorbar": {
             "outlinewidth": 0,
             "ticks": ""
            },
            "type": "contourcarpet"
           }
          ],
          "heatmap": [
           {
            "colorbar": {
             "outlinewidth": 0,
             "ticks": ""
            },
            "colorscale": [
             [
              0,
              "#0d0887"
             ],
             [
              0.1111111111111111,
              "#46039f"
             ],
             [
              0.2222222222222222,
              "#7201a8"
             ],
             [
              0.3333333333333333,
              "#9c179e"
             ],
             [
              0.4444444444444444,
              "#bd3786"
             ],
             [
              0.5555555555555556,
              "#d8576b"
             ],
             [
              0.6666666666666666,
              "#ed7953"
             ],
             [
              0.7777777777777778,
              "#fb9f3a"
             ],
             [
              0.8888888888888888,
              "#fdca26"
             ],
             [
              1,
              "#f0f921"
             ]
            ],
            "type": "heatmap"
           }
          ],
          "heatmapgl": [
           {
            "colorbar": {
             "outlinewidth": 0,
             "ticks": ""
            },
            "colorscale": [
             [
              0,
              "#0d0887"
             ],
             [
              0.1111111111111111,
              "#46039f"
             ],
             [
              0.2222222222222222,
              "#7201a8"
             ],
             [
              0.3333333333333333,
              "#9c179e"
             ],
             [
              0.4444444444444444,
              "#bd3786"
             ],
             [
              0.5555555555555556,
              "#d8576b"
             ],
             [
              0.6666666666666666,
              "#ed7953"
             ],
             [
              0.7777777777777778,
              "#fb9f3a"
             ],
             [
              0.8888888888888888,
              "#fdca26"
             ],
             [
              1,
              "#f0f921"
             ]
            ],
            "type": "heatmapgl"
           }
          ],
          "histogram": [
           {
            "marker": {
             "pattern": {
              "fillmode": "overlay",
              "size": 10,
              "solidity": 0.2
             }
            },
            "type": "histogram"
           }
          ],
          "histogram2d": [
           {
            "colorbar": {
             "outlinewidth": 0,
             "ticks": ""
            },
            "colorscale": [
             [
              0,
              "#0d0887"
             ],
             [
              0.1111111111111111,
              "#46039f"
             ],
             [
              0.2222222222222222,
              "#7201a8"
             ],
             [
              0.3333333333333333,
              "#9c179e"
             ],
             [
              0.4444444444444444,
              "#bd3786"
             ],
             [
              0.5555555555555556,
              "#d8576b"
             ],
             [
              0.6666666666666666,
              "#ed7953"
             ],
             [
              0.7777777777777778,
              "#fb9f3a"
             ],
             [
              0.8888888888888888,
              "#fdca26"
             ],
             [
              1,
              "#f0f921"
             ]
            ],
            "type": "histogram2d"
           }
          ],
          "histogram2dcontour": [
           {
            "colorbar": {
             "outlinewidth": 0,
             "ticks": ""
            },
            "colorscale": [
             [
              0,
              "#0d0887"
             ],
             [
              0.1111111111111111,
              "#46039f"
             ],
             [
              0.2222222222222222,
              "#7201a8"
             ],
             [
              0.3333333333333333,
              "#9c179e"
             ],
             [
              0.4444444444444444,
              "#bd3786"
             ],
             [
              0.5555555555555556,
              "#d8576b"
             ],
             [
              0.6666666666666666,
              "#ed7953"
             ],
             [
              0.7777777777777778,
              "#fb9f3a"
             ],
             [
              0.8888888888888888,
              "#fdca26"
             ],
             [
              1,
              "#f0f921"
             ]
            ],
            "type": "histogram2dcontour"
           }
          ],
          "mesh3d": [
           {
            "colorbar": {
             "outlinewidth": 0,
             "ticks": ""
            },
            "type": "mesh3d"
           }
          ],
          "parcoords": [
           {
            "line": {
             "colorbar": {
              "outlinewidth": 0,
              "ticks": ""
             }
            },
            "type": "parcoords"
           }
          ],
          "pie": [
           {
            "automargin": true,
            "type": "pie"
           }
          ],
          "scatter": [
           {
            "fillpattern": {
             "fillmode": "overlay",
             "size": 10,
             "solidity": 0.2
            },
            "type": "scatter"
           }
          ],
          "scatter3d": [
           {
            "line": {
             "colorbar": {
              "outlinewidth": 0,
              "ticks": ""
             }
            },
            "marker": {
             "colorbar": {
              "outlinewidth": 0,
              "ticks": ""
             }
            },
            "type": "scatter3d"
           }
          ],
          "scattercarpet": [
           {
            "marker": {
             "colorbar": {
              "outlinewidth": 0,
              "ticks": ""
             }
            },
            "type": "scattercarpet"
           }
          ],
          "scattergeo": [
           {
            "marker": {
             "colorbar": {
              "outlinewidth": 0,
              "ticks": ""
             }
            },
            "type": "scattergeo"
           }
          ],
          "scattergl": [
           {
            "marker": {
             "colorbar": {
              "outlinewidth": 0,
              "ticks": ""
             }
            },
            "type": "scattergl"
           }
          ],
          "scattermapbox": [
           {
            "marker": {
             "colorbar": {
              "outlinewidth": 0,
              "ticks": ""
             }
            },
            "type": "scattermapbox"
           }
          ],
          "scatterpolar": [
           {
            "marker": {
             "colorbar": {
              "outlinewidth": 0,
              "ticks": ""
             }
            },
            "type": "scatterpolar"
           }
          ],
          "scatterpolargl": [
           {
            "marker": {
             "colorbar": {
              "outlinewidth": 0,
              "ticks": ""
             }
            },
            "type": "scatterpolargl"
           }
          ],
          "scatterternary": [
           {
            "marker": {
             "colorbar": {
              "outlinewidth": 0,
              "ticks": ""
             }
            },
            "type": "scatterternary"
           }
          ],
          "surface": [
           {
            "colorbar": {
             "outlinewidth": 0,
             "ticks": ""
            },
            "colorscale": [
             [
              0,
              "#0d0887"
             ],
             [
              0.1111111111111111,
              "#46039f"
             ],
             [
              0.2222222222222222,
              "#7201a8"
             ],
             [
              0.3333333333333333,
              "#9c179e"
             ],
             [
              0.4444444444444444,
              "#bd3786"
             ],
             [
              0.5555555555555556,
              "#d8576b"
             ],
             [
              0.6666666666666666,
              "#ed7953"
             ],
             [
              0.7777777777777778,
              "#fb9f3a"
             ],
             [
              0.8888888888888888,
              "#fdca26"
             ],
             [
              1,
              "#f0f921"
             ]
            ],
            "type": "surface"
           }
          ],
          "table": [
           {
            "cells": {
             "fill": {
              "color": "#EBF0F8"
             },
             "line": {
              "color": "white"
             }
            },
            "header": {
             "fill": {
              "color": "#C8D4E3"
             },
             "line": {
              "color": "white"
             }
            },
            "type": "table"
           }
          ]
         },
         "layout": {
          "annotationdefaults": {
           "arrowcolor": "#2a3f5f",
           "arrowhead": 0,
           "arrowwidth": 1
          },
          "autotypenumbers": "strict",
          "coloraxis": {
           "colorbar": {
            "outlinewidth": 0,
            "ticks": ""
           }
          },
          "colorscale": {
           "diverging": [
            [
             0,
             "#8e0152"
            ],
            [
             0.1,
             "#c51b7d"
            ],
            [
             0.2,
             "#de77ae"
            ],
            [
             0.3,
             "#f1b6da"
            ],
            [
             0.4,
             "#fde0ef"
            ],
            [
             0.5,
             "#f7f7f7"
            ],
            [
             0.6,
             "#e6f5d0"
            ],
            [
             0.7,
             "#b8e186"
            ],
            [
             0.8,
             "#7fbc41"
            ],
            [
             0.9,
             "#4d9221"
            ],
            [
             1,
             "#276419"
            ]
           ],
           "sequential": [
            [
             0,
             "#0d0887"
            ],
            [
             0.1111111111111111,
             "#46039f"
            ],
            [
             0.2222222222222222,
             "#7201a8"
            ],
            [
             0.3333333333333333,
             "#9c179e"
            ],
            [
             0.4444444444444444,
             "#bd3786"
            ],
            [
             0.5555555555555556,
             "#d8576b"
            ],
            [
             0.6666666666666666,
             "#ed7953"
            ],
            [
             0.7777777777777778,
             "#fb9f3a"
            ],
            [
             0.8888888888888888,
             "#fdca26"
            ],
            [
             1,
             "#f0f921"
            ]
           ],
           "sequentialminus": [
            [
             0,
             "#0d0887"
            ],
            [
             0.1111111111111111,
             "#46039f"
            ],
            [
             0.2222222222222222,
             "#7201a8"
            ],
            [
             0.3333333333333333,
             "#9c179e"
            ],
            [
             0.4444444444444444,
             "#bd3786"
            ],
            [
             0.5555555555555556,
             "#d8576b"
            ],
            [
             0.6666666666666666,
             "#ed7953"
            ],
            [
             0.7777777777777778,
             "#fb9f3a"
            ],
            [
             0.8888888888888888,
             "#fdca26"
            ],
            [
             1,
             "#f0f921"
            ]
           ]
          },
          "colorway": [
           "#636efa",
           "#EF553B",
           "#00cc96",
           "#ab63fa",
           "#FFA15A",
           "#19d3f3",
           "#FF6692",
           "#B6E880",
           "#FF97FF",
           "#FECB52"
          ],
          "font": {
           "color": "#2a3f5f"
          },
          "geo": {
           "bgcolor": "white",
           "lakecolor": "white",
           "landcolor": "#E5ECF6",
           "showlakes": true,
           "showland": true,
           "subunitcolor": "white"
          },
          "hoverlabel": {
           "align": "left"
          },
          "hovermode": "closest",
          "mapbox": {
           "style": "light"
          },
          "paper_bgcolor": "white",
          "plot_bgcolor": "#E5ECF6",
          "polar": {
           "angularaxis": {
            "gridcolor": "white",
            "linecolor": "white",
            "ticks": ""
           },
           "bgcolor": "#E5ECF6",
           "radialaxis": {
            "gridcolor": "white",
            "linecolor": "white",
            "ticks": ""
           }
          },
          "scene": {
           "xaxis": {
            "backgroundcolor": "#E5ECF6",
            "gridcolor": "white",
            "gridwidth": 2,
            "linecolor": "white",
            "showbackground": true,
            "ticks": "",
            "zerolinecolor": "white"
           },
           "yaxis": {
            "backgroundcolor": "#E5ECF6",
            "gridcolor": "white",
            "gridwidth": 2,
            "linecolor": "white",
            "showbackground": true,
            "ticks": "",
            "zerolinecolor": "white"
           },
           "zaxis": {
            "backgroundcolor": "#E5ECF6",
            "gridcolor": "white",
            "gridwidth": 2,
            "linecolor": "white",
            "showbackground": true,
            "ticks": "",
            "zerolinecolor": "white"
           }
          },
          "shapedefaults": {
           "line": {
            "color": "#2a3f5f"
           }
          },
          "ternary": {
           "aaxis": {
            "gridcolor": "white",
            "linecolor": "white",
            "ticks": ""
           },
           "baxis": {
            "gridcolor": "white",
            "linecolor": "white",
            "ticks": ""
           },
           "bgcolor": "#E5ECF6",
           "caxis": {
            "gridcolor": "white",
            "linecolor": "white",
            "ticks": ""
           }
          },
          "title": {
           "x": 0.05
          },
          "xaxis": {
           "automargin": true,
           "gridcolor": "white",
           "linecolor": "white",
           "ticks": "",
           "title": {
            "standoff": 15
           },
           "zerolinecolor": "white",
           "zerolinewidth": 2
          },
          "yaxis": {
           "automargin": true,
           "gridcolor": "white",
           "linecolor": "white",
           "ticks": "",
           "title": {
            "standoff": 15
           },
           "zerolinecolor": "white",
           "zerolinewidth": 2
          }
         }
        },
        "title": {
         "text": "Evolución de precios promedio por categoría "
        },
        "xaxis": {
         "anchor": "y",
         "domain": [
          0,
          1
         ],
         "matches": "x3",
         "showticklabels": false,
         "title": {
          "text": "Fecha"
         }
        },
        "xaxis2": {
         "anchor": "y2",
         "domain": [
          0,
          1
         ],
         "matches": "x3",
         "showticklabels": false
        },
        "xaxis3": {
         "anchor": "y3",
         "domain": [
          0,
          1
         ]
        },
        "yaxis": {
         "anchor": "x",
         "domain": [
          0.7333333333333334,
          1
         ],
         "title": {
          "text": "Precio Promedio en EUR"
         }
        },
        "yaxis2": {
         "anchor": "x2",
         "domain": [
          0.3666666666666667,
          0.6333333333333333
         ]
        },
        "yaxis3": {
         "anchor": "x3",
         "domain": [
          0,
          0.26666666666666666
         ]
        }
       }
      }
     },
     "metadata": {},
     "output_type": "display_data"
    }
   ],
   "source": [
    "# Lista de categorías\n",
    "categorias = resultado2['categoria'].unique()\n",
    "\n",
    "# Crear subplots: una fila por categoría\n",
    "fig2 = make_subplots(\n",
    "    rows=len(categorias), \n",
    "    cols=1, \n",
    "    shared_xaxes=True, \n",
    "    subplot_titles=categorias,\n",
    "    vertical_spacing=0.1\n",
    ")\n",
    "\n",
    "# Añadir una gráfica de línea para cada categoría y supermercado\n",
    "for i, categoria in enumerate(categorias, start=1):\n",
    "    # Filtrar los datos para la categoría actual\n",
    "    df_categoria = resultado2[resultado2['categoria'] == categoria]\n",
    "    \n",
    "    for supermercado in df_categoria['supermercado'].unique():\n",
    "        df_super = df_categoria[df_categoria['supermercado'] == supermercado]\n",
    "        \n",
    "        fig2.add_trace(\n",
    "            go.Scatter(\n",
    "                x=df_super['fecha'], \n",
    "                y=df_super['precio_promedio'], \n",
    "                mode='lines',\n",
    "                name=f\"{supermercado} - {categoria}\",\n",
    "                legendgroup=supermercado,  # Agrupa leyendas por supermercado\n",
    "                line=dict(width=2),\n",
    "            ),\n",
    "            row=i, col=1\n",
    "        )\n",
    "\n",
    "fig2.update_layout(\n",
    "    height=300 * 3,  # Ajusta la altura para acomodar todas las subplots\n",
    "    title=\"Evolución de precios promedio por categoría \",\n",
    "    xaxis_title=\"Fecha\",\n",
    "    yaxis_title=\"Precio Promedio en EUR\",\n",
    "    showlegend=True\n",
    ")\n",
    "\n",
    "fig2.show()"
   ]
  },
  {
   "cell_type": "markdown",
   "metadata": {},
   "source": [
    "### 3. Detección de Anomalías\n",
    "\n",
    "- Identificar subidas o bajadas de precios inusuales que podrían señalar prácticas abusivas o promociones."
   ]
  },
  {
   "cell_type": "code",
   "execution_count": 8,
   "metadata": {},
   "outputs": [],
   "source": [
    "query3 = '''\n",
    "SELECT \n",
    "    h.fecha,\n",
    "    s.nombre AS supermercado,\n",
    "    c.nombre AS categoria,\n",
    "    h.precioeur AS precio,\n",
    "    h.vareuros AS variacion_euros,\n",
    "    h.varporcentaje AS variacion_porcentaje\n",
    "FROM \n",
    "    historico h\n",
    "INNER JOIN \n",
    "    categorias c\n",
    "        ON h.id_categoria = c.id_categoria\n",
    "INNER JOIN \n",
    "    supermercados s\n",
    "        ON h.id_supermercado = s.id_supermercado\n",
    "WHERE \n",
    "    h.varporcentaje >= 30 \n",
    "    OR h.varporcentaje <= -30\n",
    "ORDER BY \n",
    "    c.nombre, s.nombre, h.fecha;\n",
    "'''"
   ]
  },
  {
   "cell_type": "code",
   "execution_count": 9,
   "metadata": {},
   "outputs": [
    {
     "data": {
      "text/html": [
       "<div>\n",
       "<style scoped>\n",
       "    .dataframe tbody tr th:only-of-type {\n",
       "        vertical-align: middle;\n",
       "    }\n",
       "\n",
       "    .dataframe tbody tr th {\n",
       "        vertical-align: top;\n",
       "    }\n",
       "\n",
       "    .dataframe thead th {\n",
       "        text-align: right;\n",
       "    }\n",
       "</style>\n",
       "<table border=\"1\" class=\"dataframe\">\n",
       "  <thead>\n",
       "    <tr style=\"text-align: right;\">\n",
       "      <th></th>\n",
       "      <th>fecha</th>\n",
       "      <th>supermercado</th>\n",
       "      <th>categoria</th>\n",
       "      <th>precio</th>\n",
       "      <th>variacion_euros</th>\n",
       "      <th>variacion_porcentaje</th>\n",
       "    </tr>\n",
       "  </thead>\n",
       "  <tbody>\n",
       "    <tr>\n",
       "      <th>0</th>\n",
       "      <td>2024-06-27</td>\n",
       "      <td>Alcampo</td>\n",
       "      <td>Aceite-de-girasol</td>\n",
       "      <td>2.34</td>\n",
       "      <td>0.59</td>\n",
       "      <td>33.71</td>\n",
       "    </tr>\n",
       "    <tr>\n",
       "      <th>1</th>\n",
       "      <td>2024-07-19</td>\n",
       "      <td>Alcampo</td>\n",
       "      <td>Aceite-de-girasol</td>\n",
       "      <td>1.29</td>\n",
       "      <td>-0.9</td>\n",
       "      <td>-41.1</td>\n",
       "    </tr>\n",
       "    <tr>\n",
       "      <th>2</th>\n",
       "      <td>2024-08-01</td>\n",
       "      <td>Alcampo</td>\n",
       "      <td>Aceite-de-girasol</td>\n",
       "      <td>2.19</td>\n",
       "      <td>0.9</td>\n",
       "      <td>69.77</td>\n",
       "    </tr>\n",
       "    <tr>\n",
       "      <th>3</th>\n",
       "      <td>2024-09-12</td>\n",
       "      <td>Alcampo</td>\n",
       "      <td>Aceite-de-girasol</td>\n",
       "      <td>1.39</td>\n",
       "      <td>-0.8</td>\n",
       "      <td>-36.53</td>\n",
       "    </tr>\n",
       "    <tr>\n",
       "      <th>4</th>\n",
       "      <td>2024-09-26</td>\n",
       "      <td>Alcampo</td>\n",
       "      <td>Aceite-de-girasol</td>\n",
       "      <td>2.19</td>\n",
       "      <td>0.8</td>\n",
       "      <td>57.55</td>\n",
       "    </tr>\n",
       "    <tr>\n",
       "      <th>...</th>\n",
       "      <td>...</td>\n",
       "      <td>...</td>\n",
       "      <td>...</td>\n",
       "      <td>...</td>\n",
       "      <td>...</td>\n",
       "      <td>...</td>\n",
       "    </tr>\n",
       "    <tr>\n",
       "      <th>188</th>\n",
       "      <td>2024-09-26</td>\n",
       "      <td>Eroski</td>\n",
       "      <td>Leche</td>\n",
       "      <td>1.42</td>\n",
       "      <td>0.33</td>\n",
       "      <td>30.28</td>\n",
       "    </tr>\n",
       "    <tr>\n",
       "      <th>189</th>\n",
       "      <td>2024-10-02</td>\n",
       "      <td>Eroski</td>\n",
       "      <td>Leche</td>\n",
       "      <td>1.45</td>\n",
       "      <td>0.36</td>\n",
       "      <td>33.03</td>\n",
       "    </tr>\n",
       "    <tr>\n",
       "      <th>190</th>\n",
       "      <td>2024-10-10</td>\n",
       "      <td>Eroski</td>\n",
       "      <td>Leche</td>\n",
       "      <td>2.81</td>\n",
       "      <td>0.82</td>\n",
       "      <td>41.21</td>\n",
       "    </tr>\n",
       "    <tr>\n",
       "      <th>191</th>\n",
       "      <td>2024-07-16</td>\n",
       "      <td>Mercadona</td>\n",
       "      <td>Leche</td>\n",
       "      <td>3.38</td>\n",
       "      <td>-2.33</td>\n",
       "      <td>-40.81</td>\n",
       "    </tr>\n",
       "    <tr>\n",
       "      <th>192</th>\n",
       "      <td>2024-07-17</td>\n",
       "      <td>Mercadona</td>\n",
       "      <td>Leche</td>\n",
       "      <td>1.05</td>\n",
       "      <td>-2.33</td>\n",
       "      <td>-68.93</td>\n",
       "    </tr>\n",
       "  </tbody>\n",
       "</table>\n",
       "<p>193 rows × 6 columns</p>\n",
       "</div>"
      ],
      "text/plain": [
       "          fecha supermercado          categoria precio variacion_euros  \\\n",
       "0    2024-06-27      Alcampo  Aceite-de-girasol   2.34            0.59   \n",
       "1    2024-07-19      Alcampo  Aceite-de-girasol   1.29            -0.9   \n",
       "2    2024-08-01      Alcampo  Aceite-de-girasol   2.19             0.9   \n",
       "3    2024-09-12      Alcampo  Aceite-de-girasol   1.39            -0.8   \n",
       "4    2024-09-26      Alcampo  Aceite-de-girasol   2.19             0.8   \n",
       "..          ...          ...                ...    ...             ...   \n",
       "188  2024-09-26       Eroski              Leche   1.42            0.33   \n",
       "189  2024-10-02       Eroski              Leche   1.45            0.36   \n",
       "190  2024-10-10       Eroski              Leche   2.81            0.82   \n",
       "191  2024-07-16    Mercadona              Leche   3.38           -2.33   \n",
       "192  2024-07-17    Mercadona              Leche   1.05           -2.33   \n",
       "\n",
       "    variacion_porcentaje  \n",
       "0                  33.71  \n",
       "1                  -41.1  \n",
       "2                  69.77  \n",
       "3                 -36.53  \n",
       "4                  57.55  \n",
       "..                   ...  \n",
       "188                30.28  \n",
       "189                33.03  \n",
       "190                41.21  \n",
       "191               -40.81  \n",
       "192               -68.93  \n",
       "\n",
       "[193 rows x 6 columns]"
      ]
     },
     "execution_count": 9,
     "metadata": {},
     "output_type": "execute_result"
    }
   ],
   "source": [
    "resultado3 = sf.dbeaver_fetch(sf.dbeaver_conexion(\"Facua\"),query3)\n",
    "resultado3"
   ]
  },
  {
   "cell_type": "code",
   "execution_count": 10,
   "metadata": {},
   "outputs": [],
   "source": [
    "resultado3[\"precio\"] = resultado3[\"precio\"].apply(float)\n",
    "resultado3[\"variacion_euros\"] = resultado3[\"variacion_euros\"].apply(float)\n",
    "resultado3[\"variacion_porcentaje\"] = resultado3[\"variacion_porcentaje\"].apply(float)"
   ]
  },
  {
   "cell_type": "code",
   "execution_count": 11,
   "metadata": {},
   "outputs": [
    {
     "data": {
      "application/vnd.plotly.v1+json": {
       "config": {
        "plotlyServerURL": "https://plot.ly"
       },
       "data": [
        {
         "fillpattern": {
          "shape": ""
         },
         "hovertemplate": "Supermercado=Alcampo<br>Categoría=Aceite-de-girasol<br>Fecha=%{x}<br>Variación (%)=%{y}<extra></extra>",
         "legendgroup": "Alcampo",
         "line": {
          "color": "#636efa"
         },
         "marker": {
          "symbol": "circle"
         },
         "mode": "lines",
         "name": "Alcampo",
         "orientation": "v",
         "showlegend": true,
         "stackgroup": "1",
         "type": "scatter",
         "x": [
          "2024-06-27",
          "2024-07-19",
          "2024-08-01",
          "2024-09-12",
          "2024-09-26",
          "2024-10-10"
         ],
         "xaxis": "x",
         "y": [
          33.71,
          -41.1,
          69.77,
          -36.53,
          57.55,
          32.45
         ],
         "yaxis": "y"
        },
        {
         "fillpattern": {
          "shape": ""
         },
         "hovertemplate": "Supermercado=Alcampo<br>Categoría=Aceite-de-oliva<br>Fecha=%{x}<br>Variación (%)=%{y}<extra></extra>",
         "legendgroup": "Alcampo",
         "line": {
          "color": "#636efa"
         },
         "marker": {
          "symbol": "circle"
         },
         "mode": "lines",
         "name": "Alcampo",
         "orientation": "v",
         "showlegend": false,
         "stackgroup": "1",
         "type": "scatter",
         "x": [
          "2024-07-10",
          "2024-08-02",
          "2024-08-14",
          "2024-08-14",
          "2024-08-29",
          "2024-09-12",
          "2024-09-12",
          "2024-09-12",
          "2024-09-12",
          "2024-09-12",
          "2024-10-10",
          "2024-10-10",
          "2024-10-24",
          "2024-10-24",
          "2024-10-24",
          "2024-10-24",
          "2024-10-25"
         ],
         "xaxis": "x",
         "y": [
          -33.86,
          -33.17,
          49.64,
          36.05,
          -36.04,
          32.81,
          31.32,
          56.35,
          42.15,
          40.36,
          35.49,
          -32.07,
          -30.89,
          -32.7,
          -30.89,
          38.23,
          47.21
         ],
         "yaxis": "y"
        },
        {
         "fillpattern": {
          "shape": ""
         },
         "hovertemplate": "Supermercado=Alcampo<br>Categoría=Leche<br>Fecha=%{x}<br>Variación (%)=%{y}<extra></extra>",
         "legendgroup": "Alcampo",
         "line": {
          "color": "#636efa"
         },
         "marker": {
          "symbol": "circle"
         },
         "mode": "lines",
         "name": "Alcampo",
         "orientation": "v",
         "showlegend": false,
         "stackgroup": "1",
         "type": "scatter",
         "x": [
          "2024-07-16",
          "2024-07-16",
          "2024-07-17",
          "2024-07-17",
          "2024-08-13",
          "2024-08-13",
          "2024-08-21",
          "2024-08-21",
          "2024-09-12",
          "2024-09-24",
          "2024-09-24",
          "2024-09-25",
          "2024-09-25",
          "2024-09-27",
          "2024-09-27",
          "2024-10-03",
          "2024-10-11",
          "2024-10-12",
          "2024-10-12",
          "2024-10-12",
          "2024-10-14",
          "2024-10-17",
          "2024-10-17",
          "2024-10-25"
         ],
         "xaxis": "x",
         "y": [
          -40.81,
          476.92,
          -68.93,
          -83.33,
          -43.4,
          -43.4,
          86.67,
          86.67,
          -33.33,
          50,
          50,
          -50,
          -50,
          100,
          100,
          33.33,
          -59.68,
          -40.48,
          -42.53,
          -42.53,
          68,
          74,
          74,
          154
         ],
         "yaxis": "y"
        },
        {
         "fillpattern": {
          "shape": ""
         },
         "hovertemplate": "Supermercado=Carrefour<br>Categoría=Aceite-de-girasol<br>Fecha=%{x}<br>Variación (%)=%{y}<extra></extra>",
         "legendgroup": "Carrefour",
         "line": {
          "color": "#EF553B"
         },
         "marker": {
          "symbol": "circle"
         },
         "mode": "lines",
         "name": "Carrefour",
         "orientation": "v",
         "showlegend": true,
         "stackgroup": "1",
         "type": "scatter",
         "x": [
          "2024-07-24",
          "2024-07-26",
          "2024-07-27",
          "2024-10-03"
         ],
         "xaxis": "x",
         "y": [
          -31.33,
          51.46,
          -33.98,
          44.69
         ],
         "yaxis": "y"
        },
        {
         "fillpattern": {
          "shape": ""
         },
         "hovertemplate": "Supermercado=Carrefour<br>Categoría=Aceite-de-oliva<br>Fecha=%{x}<br>Variación (%)=%{y}<extra></extra>",
         "legendgroup": "Carrefour",
         "line": {
          "color": "#EF553B"
         },
         "marker": {
          "symbol": "circle"
         },
         "mode": "lines",
         "name": "Carrefour",
         "orientation": "v",
         "showlegend": false,
         "stackgroup": "1",
         "type": "scatter",
         "x": [
          "2024-07-11",
          "2024-07-26",
          "2024-08-27",
          "2024-09-09",
          "2024-09-09",
          "2024-09-12",
          "2024-09-12",
          "2024-09-12",
          "2024-09-12",
          "2024-10-03",
          "2024-10-10",
          "2024-10-10",
          "2024-10-10",
          "2024-10-10",
          "2024-10-12",
          "2024-10-25",
          "2024-10-25",
          "2024-10-27"
         ],
         "xaxis": "x",
         "y": [
          46.42,
          38.95,
          41.65,
          37.02,
          37.02,
          37.02,
          -30.43,
          37.02,
          30.38,
          43.74,
          43.54,
          -33.81,
          43.28,
          35.62,
          35.62,
          -31.29,
          -31.29,
          51.08
         ],
         "yaxis": "y"
        },
        {
         "fillpattern": {
          "shape": ""
         },
         "hovertemplate": "Supermercado=Carrefour<br>Categoría=Leche<br>Fecha=%{x}<br>Variación (%)=%{y}<extra></extra>",
         "legendgroup": "Carrefour",
         "line": {
          "color": "#EF553B"
         },
         "marker": {
          "symbol": "circle"
         },
         "mode": "lines",
         "name": "Carrefour",
         "orientation": "v",
         "showlegend": false,
         "stackgroup": "1",
         "type": "scatter",
         "x": [
          "2024-07-26",
          "2024-07-26",
          "2024-08-27",
          "2024-08-31",
          "2024-08-31",
          "2024-09-12",
          "2024-09-12",
          "2024-09-12",
          "2024-09-17",
          "2024-10-03",
          "2024-10-03"
         ],
         "xaxis": "x",
         "y": [
          34.11,
          36,
          31.18,
          31.18,
          31.18,
          31.18,
          31.18,
          37,
          31.18,
          44,
          40.8
         ],
         "yaxis": "y"
        },
        {
         "fillpattern": {
          "shape": ""
         },
         "hovertemplate": "Supermercado=Dia<br>Categoría=Aceite-de-girasol<br>Fecha=%{x}<br>Variación (%)=%{y}<extra></extra>",
         "legendgroup": "Dia",
         "line": {
          "color": "#00cc96"
         },
         "marker": {
          "symbol": "circle"
         },
         "mode": "lines",
         "name": "Dia",
         "orientation": "v",
         "showlegend": true,
         "stackgroup": "1",
         "type": "scatter",
         "x": [
          "2024-07-17",
          "2024-07-24",
          "2024-08-07",
          "2024-08-14",
          "2024-09-18",
          "2024-09-25",
          "2024-10-16",
          "2024-10-23"
         ],
         "xaxis": "x",
         "y": [
          -33.98,
          51.46,
          -33.98,
          51.46,
          -33.98,
          51.46,
          -33.96,
          51.43
         ],
         "yaxis": "y"
        },
        {
         "fillpattern": {
          "shape": ""
         },
         "hovertemplate": "Supermercado=Dia<br>Categoría=Aceite-de-oliva<br>Fecha=%{x}<br>Variación (%)=%{y}<extra></extra>",
         "legendgroup": "Dia",
         "line": {
          "color": "#00cc96"
         },
         "marker": {
          "symbol": "circle"
         },
         "mode": "lines",
         "name": "Dia",
         "orientation": "v",
         "showlegend": false,
         "stackgroup": "1",
         "type": "scatter",
         "x": [
          "2024-06-27",
          "2024-07-11",
          "2024-07-24",
          "2024-07-24",
          "2024-07-31",
          "2024-09-04",
          "2024-09-11",
          "2024-10-23"
         ],
         "xaxis": "x",
         "y": [
          42.86,
          35.94,
          -30.98,
          33.3,
          44.89,
          -32.04,
          47.15,
          -31.06
         ],
         "yaxis": "y"
        },
        {
         "fillpattern": {
          "shape": ""
         },
         "hovertemplate": "Supermercado=Dia<br>Categoría=Leche<br>Fecha=%{x}<br>Variación (%)=%{y}<extra></extra>",
         "legendgroup": "Dia",
         "line": {
          "color": "#00cc96"
         },
         "marker": {
          "symbol": "circle"
         },
         "mode": "lines",
         "name": "Dia",
         "orientation": "v",
         "showlegend": false,
         "stackgroup": "1",
         "type": "scatter",
         "x": [
          "2024-10-02"
         ],
         "xaxis": "x",
         "y": [
          38
         ],
         "yaxis": "y"
        },
        {
         "fillpattern": {
          "shape": ""
         },
         "hovertemplate": "Supermercado=Eroski<br>Categoría=Aceite-de-girasol<br>Fecha=%{x}<br>Variación (%)=%{y}<extra></extra>",
         "legendgroup": "Eroski",
         "line": {
          "color": "#ab63fa"
         },
         "marker": {
          "symbol": "circle"
         },
         "mode": "lines",
         "name": "Eroski",
         "orientation": "v",
         "showlegend": true,
         "stackgroup": "1",
         "type": "scatter",
         "x": [
          "2024-08-01",
          "2024-08-01",
          "2024-08-16",
          "2024-08-16",
          "2024-10-10",
          "2024-10-10"
         ],
         "xaxis": "x",
         "y": [
          -41.31,
          -36.76,
          58.13,
          70.39,
          -32.74,
          -42.63
         ],
         "yaxis": "y"
        },
        {
         "fillpattern": {
          "shape": ""
         },
         "hovertemplate": "Supermercado=Eroski<br>Categoría=Aceite-de-oliva<br>Fecha=%{x}<br>Variación (%)=%{y}<extra></extra>",
         "legendgroup": "Eroski",
         "line": {
          "color": "#ab63fa"
         },
         "marker": {
          "symbol": "circle"
         },
         "mode": "lines",
         "name": "Eroski",
         "orientation": "v",
         "showlegend": false,
         "stackgroup": "1",
         "type": "scatter",
         "x": [
          "2024-06-27",
          "2024-07-02",
          "2024-07-11",
          "2024-07-11",
          "2024-07-11",
          "2024-07-11",
          "2024-07-11",
          "2024-07-11",
          "2024-07-11",
          "2024-07-15",
          "2024-07-18",
          "2024-08-01",
          "2024-08-01",
          "2024-08-01",
          "2024-08-01",
          "2024-08-01",
          "2024-08-01",
          "2024-08-01",
          "2024-08-01",
          "2024-08-16",
          "2024-08-16",
          "2024-08-16",
          "2024-08-16",
          "2024-08-16",
          "2024-08-16",
          "2024-08-28",
          "2024-08-29",
          "2024-08-29",
          "2024-08-29",
          "2024-09-05",
          "2024-09-12",
          "2024-09-12",
          "2024-09-12",
          "2024-09-26",
          "2024-09-26",
          "2024-09-26",
          "2024-10-10",
          "2024-10-10",
          "2024-10-10",
          "2024-10-10"
         ],
         "xaxis": "x",
         "y": [
          -33.62,
          -36.53,
          31.75,
          -33.9,
          37.11,
          57.38,
          69.47,
          59.6,
          -33.61,
          33.33,
          40.36,
          50.63,
          33.55,
          -33.61,
          -36.33,
          -36.33,
          36.74,
          33.55,
          38.9,
          -34.32,
          39.69,
          57.07,
          57.07,
          50.63,
          33.78,
          42.15,
          52.26,
          -37.07,
          38.51,
          42.28,
          31.75,
          31.75,
          -37.49,
          59.97,
          -38.52,
          58.9,
          31.44,
          -45.64,
          65.86,
          -32.97
         ],
         "yaxis": "y"
        },
        {
         "fillpattern": {
          "shape": ""
         },
         "hovertemplate": "Supermercado=Eroski<br>Categoría=Leche<br>Fecha=%{x}<br>Variación (%)=%{y}<extra></extra>",
         "legendgroup": "Eroski",
         "line": {
          "color": "#ab63fa"
         },
         "marker": {
          "symbol": "circle"
         },
         "mode": "lines",
         "name": "Eroski",
         "orientation": "v",
         "showlegend": false,
         "stackgroup": "1",
         "type": "scatter",
         "x": [
          "2024-08-29",
          "2024-08-29",
          "2024-08-29",
          "2024-09-26",
          "2024-09-26",
          "2024-10-02",
          "2024-10-10"
         ],
         "xaxis": "x",
         "y": [
          30.28,
          30.28,
          30.28,
          30.28,
          30.28,
          33.03,
          41.21
         ],
         "yaxis": "y"
        },
        {
         "fillpattern": {
          "shape": ""
         },
         "hovertemplate": "Supermercado=Hipercor<br>Categoría=Aceite-de-oliva<br>Fecha=%{x}<br>Variación (%)=%{y}<extra></extra>",
         "legendgroup": "Hipercor",
         "line": {
          "color": "#FFA15A"
         },
         "marker": {
          "symbol": "circle"
         },
         "mode": "lines",
         "name": "Hipercor",
         "orientation": "v",
         "showlegend": true,
         "stackgroup": "1",
         "type": "scatter",
         "x": [
          "2024-07-02",
          "2024-07-05",
          "2024-07-11",
          "2024-07-11",
          "2024-07-16",
          "2024-07-18",
          "2024-07-18",
          "2024-07-19",
          "2024-08-01",
          "2024-08-01",
          "2024-08-12",
          "2024-08-12",
          "2024-08-12",
          "2024-08-14",
          "2024-08-27",
          "2024-08-29",
          "2024-08-29",
          "2024-08-29",
          "2024-09-10",
          "2024-09-10",
          "2024-09-12",
          "2024-09-12",
          "2024-09-12",
          "2024-09-12",
          "2024-09-12",
          "2024-09-20",
          "2024-09-23",
          "2024-09-24",
          "2024-09-26",
          "2024-09-26",
          "2024-09-26",
          "2024-09-26",
          "2024-10-01",
          "2024-10-01",
          "2024-10-01",
          "2024-10-01",
          "2024-10-14",
          "2024-10-14",
          "2024-10-19",
          "2024-10-24",
          "2024-10-24"
         ],
         "xaxis": "x",
         "y": [
          -31,
          45.69,
          41.4,
          37.41,
          -31.72,
          38.59,
          37.06,
          35.7,
          42.56,
          41.4,
          -31.28,
          36.16,
          -31.28,
          38.8,
          -32.14,
          47.15,
          47.15,
          35.13,
          -31.85,
          -31.85,
          42.22,
          36.98,
          31.8,
          37.67,
          47.36,
          -30.63,
          44.16,
          -31.93,
          42.6,
          46.73,
          46.73,
          35.1,
          35.25,
          35.3,
          35.25,
          35.3,
          30.59,
          42.72,
          56.15,
          -31.29,
          39
         ],
         "yaxis": "y"
        },
        {
         "fillpattern": {
          "shape": ""
         },
         "hovertemplate": "Supermercado=Mercadona<br>Categoría=Leche<br>Fecha=%{x}<br>Variación (%)=%{y}<extra></extra>",
         "legendgroup": "Mercadona",
         "line": {
          "color": "#19d3f3"
         },
         "marker": {
          "symbol": "circle"
         },
         "mode": "lines",
         "name": "Mercadona",
         "orientation": "v",
         "showlegend": true,
         "stackgroup": "1",
         "type": "scatter",
         "x": [
          "2024-07-16",
          "2024-07-17"
         ],
         "xaxis": "x",
         "y": [
          -40.81,
          -68.93
         ],
         "yaxis": "y"
        }
       ],
       "layout": {
        "legend": {
         "title": {
          "text": "Supermercado"
         },
         "tracegroupgap": 0
        },
        "template": {
         "data": {
          "bar": [
           {
            "error_x": {
             "color": "#2a3f5f"
            },
            "error_y": {
             "color": "#2a3f5f"
            },
            "marker": {
             "line": {
              "color": "#E5ECF6",
              "width": 0.5
             },
             "pattern": {
              "fillmode": "overlay",
              "size": 10,
              "solidity": 0.2
             }
            },
            "type": "bar"
           }
          ],
          "barpolar": [
           {
            "marker": {
             "line": {
              "color": "#E5ECF6",
              "width": 0.5
             },
             "pattern": {
              "fillmode": "overlay",
              "size": 10,
              "solidity": 0.2
             }
            },
            "type": "barpolar"
           }
          ],
          "carpet": [
           {
            "aaxis": {
             "endlinecolor": "#2a3f5f",
             "gridcolor": "white",
             "linecolor": "white",
             "minorgridcolor": "white",
             "startlinecolor": "#2a3f5f"
            },
            "baxis": {
             "endlinecolor": "#2a3f5f",
             "gridcolor": "white",
             "linecolor": "white",
             "minorgridcolor": "white",
             "startlinecolor": "#2a3f5f"
            },
            "type": "carpet"
           }
          ],
          "choropleth": [
           {
            "colorbar": {
             "outlinewidth": 0,
             "ticks": ""
            },
            "type": "choropleth"
           }
          ],
          "contour": [
           {
            "colorbar": {
             "outlinewidth": 0,
             "ticks": ""
            },
            "colorscale": [
             [
              0,
              "#0d0887"
             ],
             [
              0.1111111111111111,
              "#46039f"
             ],
             [
              0.2222222222222222,
              "#7201a8"
             ],
             [
              0.3333333333333333,
              "#9c179e"
             ],
             [
              0.4444444444444444,
              "#bd3786"
             ],
             [
              0.5555555555555556,
              "#d8576b"
             ],
             [
              0.6666666666666666,
              "#ed7953"
             ],
             [
              0.7777777777777778,
              "#fb9f3a"
             ],
             [
              0.8888888888888888,
              "#fdca26"
             ],
             [
              1,
              "#f0f921"
             ]
            ],
            "type": "contour"
           }
          ],
          "contourcarpet": [
           {
            "colorbar": {
             "outlinewidth": 0,
             "ticks": ""
            },
            "type": "contourcarpet"
           }
          ],
          "heatmap": [
           {
            "colorbar": {
             "outlinewidth": 0,
             "ticks": ""
            },
            "colorscale": [
             [
              0,
              "#0d0887"
             ],
             [
              0.1111111111111111,
              "#46039f"
             ],
             [
              0.2222222222222222,
              "#7201a8"
             ],
             [
              0.3333333333333333,
              "#9c179e"
             ],
             [
              0.4444444444444444,
              "#bd3786"
             ],
             [
              0.5555555555555556,
              "#d8576b"
             ],
             [
              0.6666666666666666,
              "#ed7953"
             ],
             [
              0.7777777777777778,
              "#fb9f3a"
             ],
             [
              0.8888888888888888,
              "#fdca26"
             ],
             [
              1,
              "#f0f921"
             ]
            ],
            "type": "heatmap"
           }
          ],
          "heatmapgl": [
           {
            "colorbar": {
             "outlinewidth": 0,
             "ticks": ""
            },
            "colorscale": [
             [
              0,
              "#0d0887"
             ],
             [
              0.1111111111111111,
              "#46039f"
             ],
             [
              0.2222222222222222,
              "#7201a8"
             ],
             [
              0.3333333333333333,
              "#9c179e"
             ],
             [
              0.4444444444444444,
              "#bd3786"
             ],
             [
              0.5555555555555556,
              "#d8576b"
             ],
             [
              0.6666666666666666,
              "#ed7953"
             ],
             [
              0.7777777777777778,
              "#fb9f3a"
             ],
             [
              0.8888888888888888,
              "#fdca26"
             ],
             [
              1,
              "#f0f921"
             ]
            ],
            "type": "heatmapgl"
           }
          ],
          "histogram": [
           {
            "marker": {
             "pattern": {
              "fillmode": "overlay",
              "size": 10,
              "solidity": 0.2
             }
            },
            "type": "histogram"
           }
          ],
          "histogram2d": [
           {
            "colorbar": {
             "outlinewidth": 0,
             "ticks": ""
            },
            "colorscale": [
             [
              0,
              "#0d0887"
             ],
             [
              0.1111111111111111,
              "#46039f"
             ],
             [
              0.2222222222222222,
              "#7201a8"
             ],
             [
              0.3333333333333333,
              "#9c179e"
             ],
             [
              0.4444444444444444,
              "#bd3786"
             ],
             [
              0.5555555555555556,
              "#d8576b"
             ],
             [
              0.6666666666666666,
              "#ed7953"
             ],
             [
              0.7777777777777778,
              "#fb9f3a"
             ],
             [
              0.8888888888888888,
              "#fdca26"
             ],
             [
              1,
              "#f0f921"
             ]
            ],
            "type": "histogram2d"
           }
          ],
          "histogram2dcontour": [
           {
            "colorbar": {
             "outlinewidth": 0,
             "ticks": ""
            },
            "colorscale": [
             [
              0,
              "#0d0887"
             ],
             [
              0.1111111111111111,
              "#46039f"
             ],
             [
              0.2222222222222222,
              "#7201a8"
             ],
             [
              0.3333333333333333,
              "#9c179e"
             ],
             [
              0.4444444444444444,
              "#bd3786"
             ],
             [
              0.5555555555555556,
              "#d8576b"
             ],
             [
              0.6666666666666666,
              "#ed7953"
             ],
             [
              0.7777777777777778,
              "#fb9f3a"
             ],
             [
              0.8888888888888888,
              "#fdca26"
             ],
             [
              1,
              "#f0f921"
             ]
            ],
            "type": "histogram2dcontour"
           }
          ],
          "mesh3d": [
           {
            "colorbar": {
             "outlinewidth": 0,
             "ticks": ""
            },
            "type": "mesh3d"
           }
          ],
          "parcoords": [
           {
            "line": {
             "colorbar": {
              "outlinewidth": 0,
              "ticks": ""
             }
            },
            "type": "parcoords"
           }
          ],
          "pie": [
           {
            "automargin": true,
            "type": "pie"
           }
          ],
          "scatter": [
           {
            "fillpattern": {
             "fillmode": "overlay",
             "size": 10,
             "solidity": 0.2
            },
            "type": "scatter"
           }
          ],
          "scatter3d": [
           {
            "line": {
             "colorbar": {
              "outlinewidth": 0,
              "ticks": ""
             }
            },
            "marker": {
             "colorbar": {
              "outlinewidth": 0,
              "ticks": ""
             }
            },
            "type": "scatter3d"
           }
          ],
          "scattercarpet": [
           {
            "marker": {
             "colorbar": {
              "outlinewidth": 0,
              "ticks": ""
             }
            },
            "type": "scattercarpet"
           }
          ],
          "scattergeo": [
           {
            "marker": {
             "colorbar": {
              "outlinewidth": 0,
              "ticks": ""
             }
            },
            "type": "scattergeo"
           }
          ],
          "scattergl": [
           {
            "marker": {
             "colorbar": {
              "outlinewidth": 0,
              "ticks": ""
             }
            },
            "type": "scattergl"
           }
          ],
          "scattermapbox": [
           {
            "marker": {
             "colorbar": {
              "outlinewidth": 0,
              "ticks": ""
             }
            },
            "type": "scattermapbox"
           }
          ],
          "scatterpolar": [
           {
            "marker": {
             "colorbar": {
              "outlinewidth": 0,
              "ticks": ""
             }
            },
            "type": "scatterpolar"
           }
          ],
          "scatterpolargl": [
           {
            "marker": {
             "colorbar": {
              "outlinewidth": 0,
              "ticks": ""
             }
            },
            "type": "scatterpolargl"
           }
          ],
          "scatterternary": [
           {
            "marker": {
             "colorbar": {
              "outlinewidth": 0,
              "ticks": ""
             }
            },
            "type": "scatterternary"
           }
          ],
          "surface": [
           {
            "colorbar": {
             "outlinewidth": 0,
             "ticks": ""
            },
            "colorscale": [
             [
              0,
              "#0d0887"
             ],
             [
              0.1111111111111111,
              "#46039f"
             ],
             [
              0.2222222222222222,
              "#7201a8"
             ],
             [
              0.3333333333333333,
              "#9c179e"
             ],
             [
              0.4444444444444444,
              "#bd3786"
             ],
             [
              0.5555555555555556,
              "#d8576b"
             ],
             [
              0.6666666666666666,
              "#ed7953"
             ],
             [
              0.7777777777777778,
              "#fb9f3a"
             ],
             [
              0.8888888888888888,
              "#fdca26"
             ],
             [
              1,
              "#f0f921"
             ]
            ],
            "type": "surface"
           }
          ],
          "table": [
           {
            "cells": {
             "fill": {
              "color": "#EBF0F8"
             },
             "line": {
              "color": "white"
             }
            },
            "header": {
             "fill": {
              "color": "#C8D4E3"
             },
             "line": {
              "color": "white"
             }
            },
            "type": "table"
           }
          ]
         },
         "layout": {
          "annotationdefaults": {
           "arrowcolor": "#2a3f5f",
           "arrowhead": 0,
           "arrowwidth": 1
          },
          "autotypenumbers": "strict",
          "coloraxis": {
           "colorbar": {
            "outlinewidth": 0,
            "ticks": ""
           }
          },
          "colorscale": {
           "diverging": [
            [
             0,
             "#8e0152"
            ],
            [
             0.1,
             "#c51b7d"
            ],
            [
             0.2,
             "#de77ae"
            ],
            [
             0.3,
             "#f1b6da"
            ],
            [
             0.4,
             "#fde0ef"
            ],
            [
             0.5,
             "#f7f7f7"
            ],
            [
             0.6,
             "#e6f5d0"
            ],
            [
             0.7,
             "#b8e186"
            ],
            [
             0.8,
             "#7fbc41"
            ],
            [
             0.9,
             "#4d9221"
            ],
            [
             1,
             "#276419"
            ]
           ],
           "sequential": [
            [
             0,
             "#0d0887"
            ],
            [
             0.1111111111111111,
             "#46039f"
            ],
            [
             0.2222222222222222,
             "#7201a8"
            ],
            [
             0.3333333333333333,
             "#9c179e"
            ],
            [
             0.4444444444444444,
             "#bd3786"
            ],
            [
             0.5555555555555556,
             "#d8576b"
            ],
            [
             0.6666666666666666,
             "#ed7953"
            ],
            [
             0.7777777777777778,
             "#fb9f3a"
            ],
            [
             0.8888888888888888,
             "#fdca26"
            ],
            [
             1,
             "#f0f921"
            ]
           ],
           "sequentialminus": [
            [
             0,
             "#0d0887"
            ],
            [
             0.1111111111111111,
             "#46039f"
            ],
            [
             0.2222222222222222,
             "#7201a8"
            ],
            [
             0.3333333333333333,
             "#9c179e"
            ],
            [
             0.4444444444444444,
             "#bd3786"
            ],
            [
             0.5555555555555556,
             "#d8576b"
            ],
            [
             0.6666666666666666,
             "#ed7953"
            ],
            [
             0.7777777777777778,
             "#fb9f3a"
            ],
            [
             0.8888888888888888,
             "#fdca26"
            ],
            [
             1,
             "#f0f921"
            ]
           ]
          },
          "colorway": [
           "#636efa",
           "#EF553B",
           "#00cc96",
           "#ab63fa",
           "#FFA15A",
           "#19d3f3",
           "#FF6692",
           "#B6E880",
           "#FF97FF",
           "#FECB52"
          ],
          "font": {
           "color": "#2a3f5f"
          },
          "geo": {
           "bgcolor": "white",
           "lakecolor": "white",
           "landcolor": "#E5ECF6",
           "showlakes": true,
           "showland": true,
           "subunitcolor": "white"
          },
          "hoverlabel": {
           "align": "left"
          },
          "hovermode": "closest",
          "mapbox": {
           "style": "light"
          },
          "paper_bgcolor": "white",
          "plot_bgcolor": "#E5ECF6",
          "polar": {
           "angularaxis": {
            "gridcolor": "white",
            "linecolor": "white",
            "ticks": ""
           },
           "bgcolor": "#E5ECF6",
           "radialaxis": {
            "gridcolor": "white",
            "linecolor": "white",
            "ticks": ""
           }
          },
          "scene": {
           "xaxis": {
            "backgroundcolor": "#E5ECF6",
            "gridcolor": "white",
            "gridwidth": 2,
            "linecolor": "white",
            "showbackground": true,
            "ticks": "",
            "zerolinecolor": "white"
           },
           "yaxis": {
            "backgroundcolor": "#E5ECF6",
            "gridcolor": "white",
            "gridwidth": 2,
            "linecolor": "white",
            "showbackground": true,
            "ticks": "",
            "zerolinecolor": "white"
           },
           "zaxis": {
            "backgroundcolor": "#E5ECF6",
            "gridcolor": "white",
            "gridwidth": 2,
            "linecolor": "white",
            "showbackground": true,
            "ticks": "",
            "zerolinecolor": "white"
           }
          },
          "shapedefaults": {
           "line": {
            "color": "#2a3f5f"
           }
          },
          "ternary": {
           "aaxis": {
            "gridcolor": "white",
            "linecolor": "white",
            "ticks": ""
           },
           "baxis": {
            "gridcolor": "white",
            "linecolor": "white",
            "ticks": ""
           },
           "bgcolor": "#E5ECF6",
           "caxis": {
            "gridcolor": "white",
            "linecolor": "white",
            "ticks": ""
           }
          },
          "title": {
           "x": 0.05
          },
          "xaxis": {
           "automargin": true,
           "gridcolor": "white",
           "linecolor": "white",
           "ticks": "",
           "title": {
            "standoff": 15
           },
           "zerolinecolor": "white",
           "zerolinewidth": 2
          },
          "yaxis": {
           "automargin": true,
           "gridcolor": "white",
           "linecolor": "white",
           "ticks": "",
           "title": {
            "standoff": 15
           },
           "zerolinecolor": "white",
           "zerolinewidth": 2
          }
         }
        },
        "title": {
         "text": "Variaciones Inusuales en Precios por Supermercado y Categoría"
        },
        "xaxis": {
         "anchor": "y",
         "domain": [
          0,
          1
         ],
         "title": {
          "text": "Fecha"
         }
        },
        "yaxis": {
         "anchor": "x",
         "domain": [
          0,
          1
         ],
         "title": {
          "text": "Variación (%)"
         }
        }
       }
      }
     },
     "metadata": {},
     "output_type": "display_data"
    }
   ],
   "source": [
    "fig3 = px.area(\n",
    "    resultado3, \n",
    "    x=\"fecha\", \n",
    "    y=\"variacion_porcentaje\", \n",
    "    color=\"supermercado\", \n",
    "    line_group=\"categoria\", \n",
    "    labels={\n",
    "        \"fecha\": \"Fecha\",\n",
    "        \"variacion_porcentaje\": \"Variación (%)\",\n",
    "        \"supermercado\": \"Supermercado\",\n",
    "        \"categoria\": \"Categoría\"\n",
    "    },\n",
    "    title=\"Variaciones Inusuales en Precios por Supermercado y Categoría\"\n",
    ")\n",
    "\n",
    "\n",
    "fig3.update_layout(\n",
    "    xaxis_title=\"Fecha\",\n",
    "    yaxis_title=\"Variación (%)\"\n",
    ")\n",
    "\n",
    "\n",
    "fig3.show()\n"
   ]
  },
  {
   "cell_type": "markdown",
   "metadata": {},
   "source": [
    "### 4. Análisis de la Dispersión de Precios\n",
    "\n",
    "- Evaluar la variabilidad de los precios de un mismo producto en diferentes supermercados."
   ]
  },
  {
   "cell_type": "code",
   "execution_count": 12,
   "metadata": {},
   "outputs": [],
   "source": [
    "query4 = '''\n",
    "SELECT \n",
    "    c.nombre AS categoria,\n",
    "    ROUND(STDDEV(h.precioeur),2) AS dispersion_precio\n",
    "FROM \n",
    "    historico h\n",
    "INNER JOIN \n",
    "    categorias c\n",
    "        ON h.id_categoria = c.id_categoria\n",
    "GROUP BY \n",
    "    c.nombre\n",
    "ORDER BY \n",
    "    dispersion_precio DESC;\n",
    "'''"
   ]
  },
  {
   "cell_type": "code",
   "execution_count": 13,
   "metadata": {},
   "outputs": [
    {
     "data": {
      "text/html": [
       "<div>\n",
       "<style scoped>\n",
       "    .dataframe tbody tr th:only-of-type {\n",
       "        vertical-align: middle;\n",
       "    }\n",
       "\n",
       "    .dataframe tbody tr th {\n",
       "        vertical-align: top;\n",
       "    }\n",
       "\n",
       "    .dataframe thead th {\n",
       "        text-align: right;\n",
       "    }\n",
       "</style>\n",
       "<table border=\"1\" class=\"dataframe\">\n",
       "  <thead>\n",
       "    <tr style=\"text-align: right;\">\n",
       "      <th></th>\n",
       "      <th>categoria</th>\n",
       "      <th>dispersion_precio</th>\n",
       "    </tr>\n",
       "  </thead>\n",
       "  <tbody>\n",
       "    <tr>\n",
       "      <th>0</th>\n",
       "      <td>Aceite-de-oliva</td>\n",
       "      <td>16.89</td>\n",
       "    </tr>\n",
       "    <tr>\n",
       "      <th>1</th>\n",
       "      <td>Aceite-de-girasol</td>\n",
       "      <td>5.59</td>\n",
       "    </tr>\n",
       "    <tr>\n",
       "      <th>2</th>\n",
       "      <td>Leche</td>\n",
       "      <td>2.83</td>\n",
       "    </tr>\n",
       "  </tbody>\n",
       "</table>\n",
       "</div>"
      ],
      "text/plain": [
       "           categoria dispersion_precio\n",
       "0    Aceite-de-oliva             16.89\n",
       "1  Aceite-de-girasol              5.59\n",
       "2              Leche              2.83"
      ]
     },
     "execution_count": 13,
     "metadata": {},
     "output_type": "execute_result"
    }
   ],
   "source": [
    "resultado4 = sf.dbeaver_fetch(sf.dbeaver_conexion(\"Facua\"),query4)\n",
    "resultado4"
   ]
  },
  {
   "cell_type": "code",
   "execution_count": 14,
   "metadata": {},
   "outputs": [],
   "source": [
    "query4_1 = '''\n",
    "SELECT \n",
    "    h.fecha, \n",
    "    c.nombre AS categoria, \n",
    "    s.nombre AS supermercado, \n",
    "    avg(h.precioeur) AS precio\n",
    "FROM \n",
    "    historico h\n",
    "INNER JOIN \n",
    "    categorias c ON h.id_categoria = c.id_categoria\n",
    "INNER JOIN \n",
    "    supermercados s ON h.id_supermercado = s.id_supermercado\n",
    "GROUP BY\n",
    "    h.fecha, c.nombre, s.nombre;\n",
    "'''"
   ]
  },
  {
   "cell_type": "code",
   "execution_count": 15,
   "metadata": {},
   "outputs": [
    {
     "data": {
      "text/html": [
       "<div>\n",
       "<style scoped>\n",
       "    .dataframe tbody tr th:only-of-type {\n",
       "        vertical-align: middle;\n",
       "    }\n",
       "\n",
       "    .dataframe tbody tr th {\n",
       "        vertical-align: top;\n",
       "    }\n",
       "\n",
       "    .dataframe thead th {\n",
       "        text-align: right;\n",
       "    }\n",
       "</style>\n",
       "<table border=\"1\" class=\"dataframe\">\n",
       "  <thead>\n",
       "    <tr style=\"text-align: right;\">\n",
       "      <th></th>\n",
       "      <th>fecha</th>\n",
       "      <th>categoria</th>\n",
       "      <th>supermercado</th>\n",
       "      <th>precio</th>\n",
       "    </tr>\n",
       "  </thead>\n",
       "  <tbody>\n",
       "    <tr>\n",
       "      <th>0</th>\n",
       "      <td>2024-06-22</td>\n",
       "      <td>Aceite-de-oliva</td>\n",
       "      <td>Alcampo</td>\n",
       "      <td>34.6525000000000000</td>\n",
       "    </tr>\n",
       "    <tr>\n",
       "      <th>1</th>\n",
       "      <td>2024-06-22</td>\n",
       "      <td>Aceite-de-oliva</td>\n",
       "      <td>Carrefour</td>\n",
       "      <td>18.8162500000000000</td>\n",
       "    </tr>\n",
       "    <tr>\n",
       "      <th>2</th>\n",
       "      <td>2024-06-22</td>\n",
       "      <td>Aceite-de-oliva</td>\n",
       "      <td>Hipercor</td>\n",
       "      <td>7.8500000000000000</td>\n",
       "    </tr>\n",
       "    <tr>\n",
       "      <th>3</th>\n",
       "      <td>2024-06-22</td>\n",
       "      <td>Aceite-de-oliva</td>\n",
       "      <td>Mercadona</td>\n",
       "      <td>14.2500000000000000</td>\n",
       "    </tr>\n",
       "    <tr>\n",
       "      <th>4</th>\n",
       "      <td>2024-06-23</td>\n",
       "      <td>Aceite-de-oliva</td>\n",
       "      <td>Alcampo</td>\n",
       "      <td>34.6525000000000000</td>\n",
       "    </tr>\n",
       "    <tr>\n",
       "      <th>...</th>\n",
       "      <td>...</td>\n",
       "      <td>...</td>\n",
       "      <td>...</td>\n",
       "      <td>...</td>\n",
       "    </tr>\n",
       "    <tr>\n",
       "      <th>1957</th>\n",
       "      <td>2024-10-27</td>\n",
       "      <td>Leche</td>\n",
       "      <td>Carrefour</td>\n",
       "      <td>1.5761111111111111</td>\n",
       "    </tr>\n",
       "    <tr>\n",
       "      <th>1958</th>\n",
       "      <td>2024-10-27</td>\n",
       "      <td>Leche</td>\n",
       "      <td>Dia</td>\n",
       "      <td>5.2892307692307692</td>\n",
       "    </tr>\n",
       "    <tr>\n",
       "      <th>1959</th>\n",
       "      <td>2024-10-27</td>\n",
       "      <td>Leche</td>\n",
       "      <td>Eroski</td>\n",
       "      <td>1.5711235955056180</td>\n",
       "    </tr>\n",
       "    <tr>\n",
       "      <th>1960</th>\n",
       "      <td>2024-10-27</td>\n",
       "      <td>Leche</td>\n",
       "      <td>Hipercor</td>\n",
       "      <td>1.6403797468354430</td>\n",
       "    </tr>\n",
       "    <tr>\n",
       "      <th>1961</th>\n",
       "      <td>2024-10-27</td>\n",
       "      <td>Leche</td>\n",
       "      <td>Mercadona</td>\n",
       "      <td>3.7000000000000000</td>\n",
       "    </tr>\n",
       "  </tbody>\n",
       "</table>\n",
       "<p>1962 rows × 4 columns</p>\n",
       "</div>"
      ],
      "text/plain": [
       "           fecha        categoria supermercado               precio\n",
       "0     2024-06-22  Aceite-de-oliva      Alcampo  34.6525000000000000\n",
       "1     2024-06-22  Aceite-de-oliva    Carrefour  18.8162500000000000\n",
       "2     2024-06-22  Aceite-de-oliva     Hipercor   7.8500000000000000\n",
       "3     2024-06-22  Aceite-de-oliva    Mercadona  14.2500000000000000\n",
       "4     2024-06-23  Aceite-de-oliva      Alcampo  34.6525000000000000\n",
       "...          ...              ...          ...                  ...\n",
       "1957  2024-10-27            Leche    Carrefour   1.5761111111111111\n",
       "1958  2024-10-27            Leche          Dia   5.2892307692307692\n",
       "1959  2024-10-27            Leche       Eroski   1.5711235955056180\n",
       "1960  2024-10-27            Leche     Hipercor   1.6403797468354430\n",
       "1961  2024-10-27            Leche    Mercadona   3.7000000000000000\n",
       "\n",
       "[1962 rows x 4 columns]"
      ]
     },
     "execution_count": 15,
     "metadata": {},
     "output_type": "execute_result"
    }
   ],
   "source": [
    "resultado4_1 = sf.dbeaver_fetch(sf.dbeaver_conexion(\"Facua\"),query4_1)\n",
    "resultado4_1"
   ]
  },
  {
   "cell_type": "code",
   "execution_count": 16,
   "metadata": {},
   "outputs": [
    {
     "data": {
      "application/vnd.plotly.v1+json": {
       "config": {
        "plotlyServerURL": "https://plot.ly"
       },
       "data": [
        {
         "marker": {
          "color": "rgb(140, 86, 75)"
         },
         "mode": "markers",
         "name": "Alcampo",
         "type": "scatter",
         "x": [
          "2024-06-22",
          "2024-06-23",
          "2024-06-24",
          "2024-06-25",
          "2024-06-26",
          "2024-06-27",
          "2024-06-28",
          "2024-06-29",
          "2024-07-02",
          "2024-07-03",
          "2024-07-04",
          "2024-07-05",
          "2024-07-06",
          "2024-07-07",
          "2024-07-08",
          "2024-07-09",
          "2024-07-10",
          "2024-07-11",
          "2024-07-12",
          "2024-07-13",
          "2024-07-14",
          "2024-07-15",
          "2024-07-16",
          "2024-07-17",
          "2024-07-18",
          "2024-07-19",
          "2024-07-20",
          "2024-07-21",
          "2024-07-22",
          "2024-07-23",
          "2024-07-24",
          "2024-07-25",
          "2024-07-26",
          "2024-07-27",
          "2024-07-28",
          "2024-07-29",
          "2024-07-30",
          "2024-07-31",
          "2024-08-01",
          "2024-08-02",
          "2024-08-03",
          "2024-08-04",
          "2024-08-05",
          "2024-08-06",
          "2024-08-07",
          "2024-08-08",
          "2024-08-09",
          "2024-08-10",
          "2024-08-11",
          "2024-08-12",
          "2024-08-13",
          "2024-08-14",
          "2024-08-15",
          "2024-08-16",
          "2024-08-17",
          "2024-08-18",
          "2024-08-19",
          "2024-08-20",
          "2024-08-21",
          "2024-08-22",
          "2024-08-23",
          "2024-08-24",
          "2024-08-25",
          "2024-08-26",
          "2024-08-27",
          "2024-08-28",
          "2024-08-29",
          "2024-08-30",
          "2024-08-31",
          "2024-09-01",
          "2024-09-02",
          "2024-09-03",
          "2024-09-04",
          "2024-09-05",
          "2024-09-06",
          "2024-09-07",
          "2024-09-08",
          "2024-09-09",
          "2024-09-10",
          "2024-09-11",
          "2024-09-12",
          "2024-09-13",
          "2024-09-14",
          "2024-09-15",
          "2024-09-16",
          "2024-09-17",
          "2024-09-18",
          "2024-09-19",
          "2024-09-20",
          "2024-09-21",
          "2024-09-22",
          "2024-09-23",
          "2024-09-24",
          "2024-09-25",
          "2024-09-26",
          "2024-09-27",
          "2024-09-28",
          "2024-09-29",
          "2024-09-30",
          "2024-10-01",
          "2024-10-02",
          "2024-10-03",
          "2024-10-04",
          "2024-10-05",
          "2024-10-06",
          "2024-10-07",
          "2024-10-08",
          "2024-10-09",
          "2024-10-10",
          "2024-10-11",
          "2024-10-12",
          "2024-10-13",
          "2024-10-14",
          "2024-10-15",
          "2024-10-16",
          "2024-10-17",
          "2024-10-18",
          "2024-10-19",
          "2024-10-20",
          "2024-10-21",
          "2024-10-22",
          "2024-10-23",
          "2024-10-24",
          "2024-10-25",
          "2024-10-26",
          "2024-10-27"
         ],
         "xaxis": "x",
         "y": [
          34.6525,
          34.6525,
          34.6525,
          22.8156,
          23.03153846153846,
          22.418695652173913,
          22.36130434782609,
          23.58590909090909,
          25.61581081081081,
          26.14263888888889,
          26.42183098591549,
          26.92972222222222,
          26.855694444444445,
          26.845833333333335,
          26.845833333333335,
          26.890555555555554,
          26.17,
          25.155324675324675,
          25.32355263157895,
          25.32355263157895,
          25.276233766233766,
          24.949154929577464,
          25.029285714285713,
          25.135142857142856,
          25.181142857142856,
          25.02257142857143,
          24.999014084507042,
          25.05857142857143,
          25.01257142857143,
          25.26888888888889,
          25.060285714285715,
          25.29057971014493,
          25.060285714285715,
          24.98857142857143,
          25.03457142857143,
          25.03457142857143,
          25.03442857142857,
          24.98842857142857,
          25.284142857142857,
          25.563552631578947,
          25.273285714285713,
          25.273285714285713,
          24.81013888888889,
          24.81013888888889,
          24.810833333333335,
          24.73138888888889,
          24.73138888888889,
          24.686666666666667,
          24.466849315068494,
          24.62226666666667,
          24.619066666666665,
          24.228266666666666,
          24.228266666666666,
          24.228266666666666,
          24.228266666666666,
          24.472162162162164,
          24.472162162162164,
          24.472162162162164,
          24.228266666666666,
          24.0824,
          24.042266666666666,
          24.042266666666666,
          24.250405405405406,
          24.763472222222223,
          24.250405405405406,
          24.250405405405406,
          23.825263157894735,
          23.7908,
          24.072837837837838,
          23.591447368421054,
          24.072837837837838,
          23.7336,
          23.7336,
          23.7336,
          23.7336,
          23.984324324324323,
          23.984324324324323,
          23.984324324324323,
          23.984324324324323,
          23.8284,
          24.358533333333334,
          24.443066666666667,
          24.644864864864864,
          24.124736842105264,
          24.124736842105264,
          24.320266666666665,
          24.626578947368422,
          24.15736842105263,
          24.159736842105264,
          23.809066666666666,
          24.013896103896105,
          23.913246753246753,
          24.141184210526315,
          24.02012987012987,
          23.990909090909092,
          23.822051282051284,
          24.019220779220777,
          24.019220779220777,
          24.019220779220777,
          23.824871794871793,
          24.400641025641026,
          25.102133333333335,
          25.187012987012988,
          25.158181818181816,
          25.067435897435896,
          25.158181818181816,
          25.16025974025974,
          25.16025974025974,
          24.80727272727273,
          24.80727272727273,
          24.76948051948052,
          24.76948051948052,
          23.64054794520548,
          24.25354430379747,
          24.496025641025643,
          24.248987341772153,
          24.644415584415583,
          24.415641025641026,
          24.26594936708861,
          24.316875,
          24.316875,
          24.207594936708862,
          24.02425,
          24.0695,
          23.963125,
          23.963125
         ],
         "yaxis": "y"
        },
        {
         "marker": {
          "color": "rgb(255, 127, 14)"
         },
         "mode": "markers",
         "name": "Carrefour",
         "type": "scatter",
         "x": [
          "2024-06-22",
          "2024-06-23",
          "2024-06-24",
          "2024-06-25",
          "2024-06-26",
          "2024-06-27",
          "2024-06-28",
          "2024-06-29",
          "2024-06-30",
          "2024-07-01",
          "2024-07-02",
          "2024-07-03",
          "2024-07-04",
          "2024-07-05",
          "2024-07-06",
          "2024-07-07",
          "2024-07-08",
          "2024-07-09",
          "2024-07-10",
          "2024-07-11",
          "2024-07-12",
          "2024-07-13",
          "2024-07-14",
          "2024-07-15",
          "2024-07-16",
          "2024-07-17",
          "2024-07-18",
          "2024-07-19",
          "2024-07-20",
          "2024-07-21",
          "2024-07-22",
          "2024-07-23",
          "2024-07-24",
          "2024-07-25",
          "2024-07-26",
          "2024-07-27",
          "2024-07-28",
          "2024-07-29",
          "2024-07-30",
          "2024-07-31",
          "2024-08-01",
          "2024-08-02",
          "2024-08-03",
          "2024-08-04",
          "2024-08-05",
          "2024-08-06",
          "2024-08-07",
          "2024-08-08",
          "2024-08-09",
          "2024-08-10",
          "2024-08-11",
          "2024-08-12",
          "2024-08-13",
          "2024-08-14",
          "2024-08-15",
          "2024-08-16",
          "2024-08-17",
          "2024-08-18",
          "2024-08-19",
          "2024-08-20",
          "2024-08-21",
          "2024-08-22",
          "2024-08-23",
          "2024-08-24",
          "2024-08-25",
          "2024-08-26",
          "2024-08-27",
          "2024-08-28",
          "2024-08-29",
          "2024-08-30",
          "2024-08-31",
          "2024-09-01",
          "2024-09-02",
          "2024-09-03",
          "2024-09-04",
          "2024-09-05",
          "2024-09-06",
          "2024-09-07",
          "2024-09-08",
          "2024-09-09",
          "2024-09-10",
          "2024-09-11",
          "2024-09-12",
          "2024-09-13",
          "2024-09-14",
          "2024-09-15",
          "2024-09-16",
          "2024-09-17",
          "2024-10-03",
          "2024-10-04",
          "2024-10-05",
          "2024-10-06",
          "2024-10-07",
          "2024-10-08",
          "2024-10-09",
          "2024-10-10",
          "2024-10-11",
          "2024-10-12",
          "2024-10-13",
          "2024-10-14",
          "2024-10-15",
          "2024-10-16",
          "2024-10-17",
          "2024-10-18",
          "2024-10-21",
          "2024-10-22",
          "2024-10-23",
          "2024-10-24",
          "2024-10-25",
          "2024-10-26",
          "2024-10-27"
         ],
         "xaxis": "x",
         "y": [
          18.81625,
          18.81625,
          18.674583333333334,
          19.034166666666668,
          18.905151515151516,
          19.19708333333333,
          17.773333333333333,
          17.773333333333333,
          18.131304347826088,
          17.26782608695652,
          17.666292134831462,
          17.778295454545454,
          17.367386363636363,
          17.367386363636363,
          16.555076923076925,
          17.97183908045977,
          17.97183908045977,
          17.916470588235295,
          17.39593023255814,
          16.939883720930233,
          17.392954545454547,
          17.159222222222223,
          17.159222222222223,
          17.19202247191011,
          17.160777777777778,
          17.160777777777778,
          17.179550561797754,
          17.179550561797754,
          17.14188888888889,
          17.517582417582418,
          17.517582417582418,
          17.45021739130435,
          17.183804347826086,
          17.183804347826086,
          17.45695652173913,
          17.45695652173913,
          17.45695652173913,
          17.532282608695652,
          17.532282608695652,
          17.532282608695652,
          17.532282608695652,
          17.532282608695652,
          17.530978260869563,
          17.530978260869563,
          17.398152173913044,
          17.516,
          17.453626373626374,
          16.4975,
          17.407802197802198,
          17.55911111111111,
          17.407802197802198,
          17.461868131868133,
          17.461868131868133,
          17.51877777777778,
          17.386195652173914,
          17.386195652173914,
          17.386195652173914,
          17.386195652173914,
          17.396413043478262,
          17.250217391304346,
          17.250217391304346,
          17.131521739130434,
          17.131521739130434,
          17.13586956521739,
          17.13586956521739,
          17.314347826086955,
          17.424945054945056,
          17.476444444444443,
          17.476444444444443,
          17.124494382022473,
          17.360777777777777,
          17.481754385964912,
          17.384333333333334,
          17.384333333333334,
          17.69655172413793,
          17.636666666666667,
          17.249080459770116,
          17.426043956043955,
          17.896896551724137,
          18.150689655172414,
          17.909550561797754,
          17.702045454545456,
          17.76681818181818,
          17.715505617977527,
          17.76625,
          17.715505617977527,
          17.715505617977527,
          17.715505617977527,
          16.95873417721519,
          16.568536585365855,
          16.095185185185183,
          15.99975,
          16.697073170731706,
          16.695853658536585,
          16.867125,
          16.5635,
          14.951012658227848,
          16.985853658536584,
          16.310487804878047,
          16.31170731707317,
          16.373703703703704,
          16.497974683544303,
          17.00575,
          16.944444444444443,
          17.47086956521739,
          16.33779661016949,
          17.33185185185185,
          17.32126582278481,
          16.146883116883117,
          17.65194805194805,
          17.472142857142856
         ],
         "yaxis": "y"
        },
        {
         "marker": {
          "color": "rgb(148, 103, 189)"
         },
         "mode": "markers",
         "name": "Hipercor",
         "type": "scatter",
         "x": [
          "2024-06-22",
          "2024-06-23",
          "2024-06-24",
          "2024-06-25",
          "2024-06-28",
          "2024-06-29",
          "2024-07-01",
          "2024-07-02",
          "2024-07-03",
          "2024-07-04",
          "2024-07-05",
          "2024-07-06",
          "2024-07-07",
          "2024-07-08",
          "2024-07-09",
          "2024-07-10",
          "2024-07-11",
          "2024-07-12",
          "2024-07-13",
          "2024-07-14",
          "2024-07-15",
          "2024-07-16",
          "2024-07-17",
          "2024-07-18",
          "2024-07-19",
          "2024-07-20",
          "2024-07-21",
          "2024-07-22",
          "2024-07-23",
          "2024-07-24",
          "2024-07-25",
          "2024-07-26",
          "2024-07-27",
          "2024-07-28",
          "2024-07-29",
          "2024-07-30",
          "2024-07-31",
          "2024-08-01",
          "2024-08-02",
          "2024-08-03",
          "2024-08-04",
          "2024-08-05",
          "2024-08-06",
          "2024-08-07",
          "2024-08-08",
          "2024-08-09",
          "2024-08-10",
          "2024-08-11",
          "2024-08-12",
          "2024-08-13",
          "2024-08-14",
          "2024-08-15",
          "2024-08-16",
          "2024-08-17",
          "2024-08-18",
          "2024-08-19",
          "2024-08-20",
          "2024-08-21",
          "2024-08-22",
          "2024-08-23",
          "2024-08-24",
          "2024-08-25",
          "2024-08-26",
          "2024-08-27",
          "2024-08-28",
          "2024-08-29",
          "2024-08-30",
          "2024-08-31",
          "2024-09-01",
          "2024-09-02",
          "2024-09-03",
          "2024-09-04",
          "2024-09-05",
          "2024-09-06",
          "2024-09-07",
          "2024-09-08",
          "2024-09-09",
          "2024-09-10",
          "2024-09-11",
          "2024-09-12",
          "2024-09-13",
          "2024-09-14",
          "2024-09-15",
          "2024-09-16",
          "2024-09-17",
          "2024-09-18",
          "2024-09-19",
          "2024-09-20",
          "2024-09-21",
          "2024-09-22",
          "2024-09-23",
          "2024-09-24",
          "2024-09-25",
          "2024-09-26",
          "2024-09-27",
          "2024-09-28",
          "2024-09-29",
          "2024-09-30",
          "2024-10-01",
          "2024-10-02",
          "2024-10-03",
          "2024-10-04",
          "2024-10-05",
          "2024-10-06",
          "2024-10-07",
          "2024-10-08",
          "2024-10-09",
          "2024-10-10",
          "2024-10-11",
          "2024-10-12",
          "2024-10-13",
          "2024-10-14",
          "2024-10-15",
          "2024-10-16",
          "2024-10-17",
          "2024-10-18",
          "2024-10-19",
          "2024-10-20",
          "2024-10-21",
          "2024-10-22",
          "2024-10-23",
          "2024-10-24",
          "2024-10-25",
          "2024-10-26",
          "2024-10-27"
         ],
         "xaxis": "x",
         "y": [
          7.85,
          7.85,
          7.85,
          16.419444444444444,
          16.923529411764704,
          16.923529411764704,
          16.118235294117646,
          20.32287958115183,
          14.495,
          7.48,
          15.127777777777778,
          15.127777777777778,
          7.48,
          7.48,
          7.48,
          15.127777777777778,
          20.54300518134715,
          20.557772020725388,
          20.432694300518136,
          20.536528497409325,
          19.16278106508876,
          20.101761658031087,
          19.982916666666668,
          19.28505882352941,
          20.54343023255814,
          20.80796511627907,
          20.25958333333333,
          20.35253886010363,
          20.35253886010363,
          20.30544041450777,
          20.86796511627907,
          20.66092485549133,
          20.41715025906736,
          20.486683937823834,
          20.18137566137566,
          18.856023391812865,
          20.156868131868134,
          20.365185185185187,
          20.42900552486188,
          20.366580310880828,
          20.88298245614035,
          20.349119170984455,
          20.318795811518324,
          20.21015789473684,
          20.213052631578947,
          20.67721893491124,
          20.196910994764398,
          19.2515625,
          19.90098901098901,
          19.123311258278147,
          20.346178010471203,
          20.152287234042554,
          20.23878947368421,
          20.33282722513089,
          20.423439153439155,
          20.17043956043956,
          20.280471204188483,
          20.280471204188483,
          20.298115183246072,
          20.20670157068063,
          20.164583333333333,
          20.15534759358289,
          20.481385542168674,
          19.73563157894737,
          19.832303664921465,
          19.874105263157894,
          18.833214285714284,
          20.27822857142857,
          19.97219895287958,
          20.21893081761006,
          18.92,
          19.97219895287958,
          19.97219895287958,
          20.295755813953487,
          20.06982558139535,
          20.402738095238096,
          20.24811111111111,
          19.682722513089004,
          19.682722513089004,
          19.963297872340426,
          20.05193717277487,
          20.05476439790576,
          20.05476439790576,
          20.454093567251462,
          20.34962962962963,
          20.336331360946744,
          20.208177083333332,
          19.06361842105263,
          20.152951807228916,
          20.12322222222222,
          20.47208092485549,
          19.967222222222222,
          19.77218085106383,
          20.317329842931937,
          19.950052083333333,
          19.84805263157895,
          19.90988888888889,
          19.940572916666667,
          19.195087719298247,
          20.401770833333334,
          7.45,
          7.45,
          7.45,
          7.45,
          7.45,
          7.45,
          7.45,
          7.45,
          7.45,
          7.45,
          7.45,
          20.7168,
          20.335894736842107,
          19.44523178807947,
          20.57093567251462,
          21.193846153846152,
          20.974671052631578,
          21.133533333333332,
          20.53159090909091,
          20.8935838150289,
          20.423968253968255,
          20.25294117647059,
          20.559756097560975,
          20.262074468085107,
          20.262074468085107
         ],
         "yaxis": "y"
        },
        {
         "marker": {
          "color": "rgb(31, 119, 180)"
         },
         "mode": "markers",
         "name": "Mercadona",
         "type": "scatter",
         "x": [
          "2024-06-22",
          "2024-06-23",
          "2024-06-24",
          "2024-06-25",
          "2024-06-26",
          "2024-06-27",
          "2024-06-28",
          "2024-06-29",
          "2024-06-30",
          "2024-07-01",
          "2024-07-02",
          "2024-07-03",
          "2024-07-04",
          "2024-07-05",
          "2024-07-06",
          "2024-07-07",
          "2024-07-08",
          "2024-07-09",
          "2024-07-10",
          "2024-07-11",
          "2024-07-12",
          "2024-07-13",
          "2024-07-14",
          "2024-07-15",
          "2024-07-16",
          "2024-07-17",
          "2024-07-18",
          "2024-07-19",
          "2024-07-20",
          "2024-07-21",
          "2024-07-22",
          "2024-07-23",
          "2024-07-24",
          "2024-07-25",
          "2024-07-26",
          "2024-07-27",
          "2024-07-28",
          "2024-07-29",
          "2024-07-30",
          "2024-07-31",
          "2024-08-01",
          "2024-08-02",
          "2024-08-03",
          "2024-08-04",
          "2024-08-05",
          "2024-08-06",
          "2024-08-07",
          "2024-08-08",
          "2024-08-09",
          "2024-08-10",
          "2024-08-11",
          "2024-08-12",
          "2024-08-13",
          "2024-08-14",
          "2024-08-15",
          "2024-08-16",
          "2024-08-17",
          "2024-08-18",
          "2024-08-19",
          "2024-08-20",
          "2024-08-21",
          "2024-08-22",
          "2024-08-23",
          "2024-08-24",
          "2024-08-25",
          "2024-08-26",
          "2024-08-27",
          "2024-08-28",
          "2024-08-29",
          "2024-08-30",
          "2024-08-31",
          "2024-09-01",
          "2024-09-02",
          "2024-09-03",
          "2024-09-04",
          "2024-09-05",
          "2024-09-06",
          "2024-09-07",
          "2024-09-08",
          "2024-09-09",
          "2024-09-10",
          "2024-09-11",
          "2024-09-12",
          "2024-09-13",
          "2024-09-14",
          "2024-09-15",
          "2024-09-16",
          "2024-09-17",
          "2024-09-18",
          "2024-09-19",
          "2024-09-20",
          "2024-09-21",
          "2024-09-22",
          "2024-09-23",
          "2024-09-24",
          "2024-09-25",
          "2024-09-26",
          "2024-09-27",
          "2024-09-28",
          "2024-09-29",
          "2024-09-30",
          "2024-10-01",
          "2024-10-02",
          "2024-10-03",
          "2024-10-04",
          "2024-10-05",
          "2024-10-06",
          "2024-10-07",
          "2024-10-08",
          "2024-10-09",
          "2024-10-10",
          "2024-10-11",
          "2024-10-12",
          "2024-10-13",
          "2024-10-14",
          "2024-10-15",
          "2024-10-16",
          "2024-10-17",
          "2024-10-18",
          "2024-10-19",
          "2024-10-20",
          "2024-10-21",
          "2024-10-22",
          "2024-10-23",
          "2024-10-24",
          "2024-10-25",
          "2024-10-26",
          "2024-10-27"
         ],
         "xaxis": "x",
         "y": [
          14.25,
          14.25,
          14.25,
          14.25,
          14.89,
          14.89,
          14.89,
          14.89,
          14.89,
          14.18,
          13.555454545454545,
          13.57090909090909,
          13.57090909090909,
          13.57090909090909,
          13.57090909090909,
          13.57090909090909,
          13.57090909090909,
          13.57090909090909,
          13.57090909090909,
          13.57090909090909,
          13.57090909090909,
          13.57090909090909,
          13.57090909090909,
          13.368181818181819,
          13.368181818181819,
          13.368181818181819,
          13.368181818181819,
          13.368181818181819,
          13.368181818181819,
          13.368181818181819,
          13.368181818181819,
          13.368181818181819,
          13.368181818181819,
          13.368181818181819,
          13.368181818181819,
          13.368181818181819,
          13.368181818181819,
          13.355454545454545,
          13.355454545454545,
          13.355454545454545,
          13.355454545454545,
          13.355454545454545,
          13.355454545454545,
          13.355454545454545,
          13.355454545454545,
          13.355454545454545,
          13.355454545454545,
          13.355454545454545,
          13.237272727272726,
          13.237272727272726,
          13.237272727272726,
          13.237272727272726,
          13.237272727272726,
          13.237272727272726,
          13.237272727272726,
          13.237272727272726,
          13.237272727272726,
          13.237272727272726,
          13.237272727272726,
          13.237272727272726,
          12.586363636363636,
          12.586363636363636,
          12.586363636363636,
          12.586363636363636,
          12.586363636363636,
          12.586363636363636,
          12.586363636363636,
          12.586363636363636,
          12.586363636363636,
          12.586363636363636,
          12.586363636363636,
          12.586363636363636,
          12.586363636363636,
          12.586363636363636,
          12.586363636363636,
          12.586363636363636,
          12.586363636363636,
          12.586363636363636,
          12.586363636363636,
          12.586363636363636,
          12.586363636363636,
          12.586363636363636,
          12.586363636363636,
          12.586363636363636,
          12.586363636363636,
          12.586363636363636,
          12.586363636363636,
          12.586363636363636,
          12.586363636363636,
          12.586363636363636,
          12.586363636363636,
          12.586363636363636,
          12.586363636363636,
          12.586363636363636,
          12.586363636363636,
          12.586363636363636,
          12.586363636363636,
          12.586363636363636,
          12.586363636363636,
          12.586363636363636,
          12.586363636363636,
          12.83909090909091,
          12.83909090909091,
          12.83909090909091,
          12.83909090909091,
          12.83909090909091,
          12.83909090909091,
          12.83909090909091,
          12.83909090909091,
          12.83909090909091,
          12.83909090909091,
          12.83909090909091,
          12.83909090909091,
          12.83909090909091,
          12.304545454545455,
          12.304545454545455,
          12.304545454545455,
          12.304545454545455,
          12.304545454545455,
          12.304545454545455,
          12.304545454545455,
          12.304545454545455,
          12.304545454545455,
          12.304545454545455,
          12.304545454545455,
          12.304545454545455,
          12.304545454545455,
          12.304545454545455
         ],
         "yaxis": "y"
        },
        {
         "marker": {
          "color": "rgb(44, 160, 44)"
         },
         "mode": "markers",
         "name": "Dia",
         "type": "scatter",
         "x": [
          "2024-06-25",
          "2024-06-27",
          "2024-07-11",
          "2024-07-12",
          "2024-07-13",
          "2024-07-14",
          "2024-07-15",
          "2024-07-16",
          "2024-07-17",
          "2024-07-18",
          "2024-07-19",
          "2024-07-20",
          "2024-07-21",
          "2024-07-22",
          "2024-07-23",
          "2024-07-24",
          "2024-07-25",
          "2024-07-26",
          "2024-07-27",
          "2024-07-28",
          "2024-07-29",
          "2024-07-30",
          "2024-07-31",
          "2024-08-01",
          "2024-08-02",
          "2024-08-03",
          "2024-08-04",
          "2024-08-05",
          "2024-08-06",
          "2024-08-07",
          "2024-08-08",
          "2024-08-09",
          "2024-08-10",
          "2024-08-11",
          "2024-08-12",
          "2024-08-13",
          "2024-08-14",
          "2024-08-15",
          "2024-08-16",
          "2024-08-17",
          "2024-08-18",
          "2024-08-19",
          "2024-08-20",
          "2024-08-21",
          "2024-08-22",
          "2024-08-23",
          "2024-08-24",
          "2024-08-25",
          "2024-08-26",
          "2024-08-27",
          "2024-08-28",
          "2024-08-29",
          "2024-08-30",
          "2024-08-31",
          "2024-09-01",
          "2024-09-02",
          "2024-09-03",
          "2024-09-04",
          "2024-09-05",
          "2024-09-06",
          "2024-09-07",
          "2024-09-08",
          "2024-09-09",
          "2024-09-10",
          "2024-09-11",
          "2024-09-12",
          "2024-09-13",
          "2024-09-14",
          "2024-09-15",
          "2024-09-16",
          "2024-09-17",
          "2024-09-18",
          "2024-09-19",
          "2024-09-20",
          "2024-09-21",
          "2024-09-22",
          "2024-09-23",
          "2024-09-24",
          "2024-09-25",
          "2024-09-26",
          "2024-09-27",
          "2024-09-28",
          "2024-09-29",
          "2024-09-30",
          "2024-10-01",
          "2024-10-02",
          "2024-10-03",
          "2024-10-04",
          "2024-10-05",
          "2024-10-06",
          "2024-10-07",
          "2024-10-08",
          "2024-10-09",
          "2024-10-10",
          "2024-10-11",
          "2024-10-12",
          "2024-10-13",
          "2024-10-14",
          "2024-10-15",
          "2024-10-16",
          "2024-10-17",
          "2024-10-18",
          "2024-10-19",
          "2024-10-20",
          "2024-10-21",
          "2024-10-22",
          "2024-10-23",
          "2024-10-24",
          "2024-10-25",
          "2024-10-26",
          "2024-10-27"
         ],
         "xaxis": "x",
         "y": [
          13.429473684210526,
          15.199047619047619,
          14.641904761904762,
          14.641904761904762,
          14.641904761904762,
          14.641904761904762,
          14.641904761904762,
          14.641904761904762,
          14.477619047619047,
          14.39952380952381,
          14.39952380952381,
          14.39952380952381,
          14.39952380952381,
          14.39952380952381,
          14.39952380952381,
          14.381904761904762,
          14.381904761904762,
          14.381904761904762,
          14.381904761904762,
          14.381904761904762,
          14.381904761904762,
          14.381904761904762,
          14.563809523809525,
          14.563809523809525,
          14.563809523809525,
          14.563809523809525,
          14.563809523809525,
          14.563809523809525,
          14.551428571428572,
          14.551428571428572,
          14.551428571428572,
          14.551428571428572,
          14.551428571428572,
          14.551428571428572,
          14.551428571428572,
          14.551428571428572,
          14.551428571428572,
          14.551428571428572,
          14.529047619047619,
          14.529047619047619,
          14.529047619047619,
          14.529047619047619,
          14.529047619047619,
          14.903181818181817,
          14.593181818181819,
          14.593181818181819,
          14.593181818181819,
          14.593181818181819,
          14.593181818181819,
          15.152380952380952,
          14.837142857142856,
          14.837142857142856,
          14.837142857142856,
          14.837142857142856,
          14.837142857142856,
          14.837142857142856,
          14.837142857142856,
          14.498095238095239,
          14.498095238095239,
          14.498095238095239,
          14.498095238095239,
          14.498095238095239,
          14.498095238095239,
          14.498095238095239,
          14.67904761904762,
          14.67904761904762,
          14.141363636363636,
          14.141363636363636,
          14.141363636363636,
          14.67904761904762,
          14.67904761904762,
          14.67904761904762,
          14.67904761904762,
          14.67904761904762,
          14.67904761904762,
          14.67904761904762,
          14.67904761904762,
          15.0305,
          15.0305,
          15.0305,
          15.0305,
          15.0305,
          15.0305,
          15.0305,
          15.27,
          15.27,
          15.27,
          15.27,
          15.27,
          15.27,
          15.27,
          15.27,
          15.27,
          15.27,
          15.27,
          15.27,
          15.27,
          15.27,
          15.27,
          15.27,
          15.008,
          15.008,
          15.008,
          15.008,
          15.008,
          14.9495,
          14.7835,
          14.777,
          14.777,
          14.442380952380953,
          14.442380952380953
         ],
         "yaxis": "y"
        },
        {
         "marker": {
          "color": "rgb(214, 39, 40)"
         },
         "mode": "markers",
         "name": "Eroski",
         "type": "scatter",
         "x": [
          "2024-06-25",
          "2024-06-26",
          "2024-06-27",
          "2024-06-28",
          "2024-06-29",
          "2024-06-30",
          "2024-07-01",
          "2024-07-02",
          "2024-07-03",
          "2024-07-04",
          "2024-07-05",
          "2024-07-06",
          "2024-07-07",
          "2024-07-08",
          "2024-07-09",
          "2024-07-10",
          "2024-07-11",
          "2024-07-12",
          "2024-07-13",
          "2024-07-14",
          "2024-07-15",
          "2024-07-16",
          "2024-07-17",
          "2024-07-18",
          "2024-07-19",
          "2024-07-20",
          "2024-07-21",
          "2024-07-22",
          "2024-07-23",
          "2024-07-24",
          "2024-07-25",
          "2024-07-26",
          "2024-07-27",
          "2024-07-28",
          "2024-07-29",
          "2024-07-30",
          "2024-07-31",
          "2024-08-01",
          "2024-08-02",
          "2024-08-03",
          "2024-08-04",
          "2024-08-05",
          "2024-08-06",
          "2024-08-07",
          "2024-08-08",
          "2024-08-09",
          "2024-08-10",
          "2024-08-11",
          "2024-08-12",
          "2024-08-13",
          "2024-08-14",
          "2024-08-15",
          "2024-08-16",
          "2024-08-17",
          "2024-08-18",
          "2024-08-19",
          "2024-08-20",
          "2024-08-21",
          "2024-08-22",
          "2024-08-23",
          "2024-08-24",
          "2024-08-25",
          "2024-08-26",
          "2024-08-27",
          "2024-08-28",
          "2024-08-29",
          "2024-08-30",
          "2024-08-31",
          "2024-09-01",
          "2024-09-02",
          "2024-09-03",
          "2024-09-04",
          "2024-09-05",
          "2024-09-06",
          "2024-09-07",
          "2024-09-08",
          "2024-09-09",
          "2024-09-10",
          "2024-09-11",
          "2024-09-12",
          "2024-09-13",
          "2024-09-14",
          "2024-09-15",
          "2024-09-16",
          "2024-09-17",
          "2024-09-18",
          "2024-09-19",
          "2024-09-20",
          "2024-09-21",
          "2024-09-22",
          "2024-09-23",
          "2024-09-24",
          "2024-09-25",
          "2024-09-26",
          "2024-09-27",
          "2024-09-28",
          "2024-09-29",
          "2024-09-30",
          "2024-10-01",
          "2024-10-02",
          "2024-10-03",
          "2024-10-04",
          "2024-10-05",
          "2024-10-06",
          "2024-10-07",
          "2024-10-08",
          "2024-10-09",
          "2024-10-10",
          "2024-10-11",
          "2024-10-12",
          "2024-10-13",
          "2024-10-14",
          "2024-10-15",
          "2024-10-16",
          "2024-10-17",
          "2024-10-18",
          "2024-10-19",
          "2024-10-20",
          "2024-10-21",
          "2024-10-22",
          "2024-10-23",
          "2024-10-24",
          "2024-10-25",
          "2024-10-26",
          "2024-10-27"
         ],
         "xaxis": "x",
         "y": [
          14.855396825396825,
          18.274736842105263,
          17.684,
          12.908666666666667,
          13.517142857142858,
          13.517142857142858,
          12.872857142857143,
          13.602258064516128,
          13.470833333333333,
          13.444915254237289,
          14.039830508474576,
          14.156949152542373,
          14.15406779661017,
          14.450350877192982,
          13.049411764705882,
          12.7412,
          13.672857142857143,
          13.672857142857143,
          13.878813559322033,
          13.878813559322033,
          13.7425,
          13.400847457627119,
          13.351525423728814,
          14.28103448275862,
          14.355862068965518,
          14.495333333333333,
          14.495333333333333,
          14.312786885245902,
          14.288196721311476,
          14.042857142857143,
          14.186538461538461,
          14.3305,
          14.3305,
          13.873559322033898,
          13.571451612903227,
          13.571451612903227,
          13.9496875,
          13.597142857142858,
          13.613968253968254,
          13.626379310344827,
          13.781774193548387,
          13.781774193548387,
          12.90768115942029,
          12.889710144927536,
          12.83536231884058,
          13.289285714285715,
          13.289285714285715,
          13.398088235294118,
          13.385441176470588,
          13.343529411764706,
          13.622571428571428,
          13.836376811594203,
          13.931830985915493,
          13.931830985915493,
          13.998142857142858,
          13.998142857142858,
          13.730694444444444,
          14.078695652173913,
          14.002608695652174,
          13.270746268656717,
          13.178088235294117,
          13.274776119402985,
          13.428461538461539,
          13.428461538461539,
          12.459850746268657,
          10.969354838709677,
          14.479142857142858,
          12.03359375,
          12.371384615384615,
          12.049516129032257,
          12.049516129032257,
          13.228358208955225,
          13.567101449275363,
          13.529117647058824,
          13.529117647058824,
          13.6228125,
          13.73553846153846,
          13.245492957746478,
          13.245492957746478,
          12.83,
          12.83,
          12.83,
          12.851971830985915,
          12.977714285714285,
          12.687910447761194,
          12.687910447761194,
          12.744776119402985,
          12.135384615384615,
          12.37327868852459,
          12.37327868852459,
          12.37327868852459,
          12.653548387096775,
          12.653548387096775,
          12.904918032786885,
          12.904918032786885,
          13.454590163934427,
          13.454590163934427,
          12.876271186440677,
          12.6125,
          12.68051724137931,
          12.516271186440678,
          12.533728813559321,
          12.977540983606557,
          13.153389830508475,
          13.153389830508475,
          13.281846153846153,
          13.304375,
          12.86078125,
          16.852777777777778,
          12.85875,
          12.85875,
          12.508095238095239,
          12.343333333333334,
          12.000967741935485,
          12.0490625,
          12.063538461538462,
          11.918888888888889,
          12.005166666666666,
          12.005166666666666,
          11.754166666666666,
          12.095161290322581,
          11.876290322580646,
          11.876290322580646,
          11.25263157894737,
          11.25263157894737
         ],
         "yaxis": "y"
        },
        {
         "marker": {
          "color": "rgb(140, 86, 75)"
         },
         "mode": "markers",
         "name": "Alcampo",
         "type": "scatter",
         "x": [
          "2024-06-25",
          "2024-06-26",
          "2024-06-27",
          "2024-06-28",
          "2024-06-29",
          "2024-06-30",
          "2024-07-01",
          "2024-07-02",
          "2024-07-03",
          "2024-07-04",
          "2024-07-05",
          "2024-07-06",
          "2024-07-07",
          "2024-07-08",
          "2024-07-09",
          "2024-07-10",
          "2024-07-11",
          "2024-07-12",
          "2024-07-13",
          "2024-07-14",
          "2024-07-15",
          "2024-07-16",
          "2024-07-17",
          "2024-07-18",
          "2024-07-19",
          "2024-07-20",
          "2024-07-21",
          "2024-07-22",
          "2024-07-23",
          "2024-07-24",
          "2024-07-25",
          "2024-07-26",
          "2024-07-27",
          "2024-07-28",
          "2024-07-29",
          "2024-07-30",
          "2024-07-31",
          "2024-08-01",
          "2024-08-02",
          "2024-08-03",
          "2024-08-04",
          "2024-08-05",
          "2024-08-06",
          "2024-08-07",
          "2024-08-08",
          "2024-08-09",
          "2024-08-10",
          "2024-08-11",
          "2024-08-12",
          "2024-08-13",
          "2024-08-14",
          "2024-08-15",
          "2024-08-16",
          "2024-08-17",
          "2024-08-18",
          "2024-08-19",
          "2024-08-20",
          "2024-08-21",
          "2024-08-22",
          "2024-08-23",
          "2024-08-24",
          "2024-08-25",
          "2024-08-26",
          "2024-08-27",
          "2024-08-28",
          "2024-08-29",
          "2024-08-30",
          "2024-08-31",
          "2024-09-01",
          "2024-09-02",
          "2024-09-03",
          "2024-09-04",
          "2024-09-05",
          "2024-09-06",
          "2024-09-07",
          "2024-09-08",
          "2024-09-09",
          "2024-09-10",
          "2024-09-11",
          "2024-09-12",
          "2024-09-13",
          "2024-09-14",
          "2024-09-15",
          "2024-09-16",
          "2024-09-17",
          "2024-09-18",
          "2024-09-19",
          "2024-09-20",
          "2024-09-21",
          "2024-09-22",
          "2024-09-23",
          "2024-09-24",
          "2024-09-25",
          "2024-09-26",
          "2024-09-27",
          "2024-09-28",
          "2024-09-29",
          "2024-09-30",
          "2024-10-01",
          "2024-10-02",
          "2024-10-03",
          "2024-10-04",
          "2024-10-05",
          "2024-10-06",
          "2024-10-07",
          "2024-10-08",
          "2024-10-09",
          "2024-10-10",
          "2024-10-11",
          "2024-10-12",
          "2024-10-13",
          "2024-10-14",
          "2024-10-15",
          "2024-10-16",
          "2024-10-17",
          "2024-10-18",
          "2024-10-19",
          "2024-10-20",
          "2024-10-21",
          "2024-10-22",
          "2024-10-23",
          "2024-10-24",
          "2024-10-25",
          "2024-10-26",
          "2024-10-27"
         ],
         "xaxis": "x2",
         "y": [
          2.6533333333333333,
          2.6533333333333333,
          2.735,
          2.735,
          2.735,
          2.687777777777778,
          2.687777777777778,
          2.75,
          2.75,
          2.75,
          2.75,
          2.75,
          2.75,
          2.75,
          2.75,
          2.75,
          2.75,
          2.7266666666666666,
          2.603,
          2.603,
          2.7266666666666666,
          2.7266666666666666,
          2.7266666666666666,
          2.7266666666666666,
          2.6266666666666665,
          2.6266666666666665,
          2.6266666666666665,
          2.6266666666666665,
          2.602222222222222,
          2.602222222222222,
          2.602222222222222,
          2.491,
          2.491,
          2.491,
          2.491,
          2.491,
          2.491,
          2.581,
          2.581,
          2.576,
          2.576,
          2.576,
          2.576,
          2.581,
          2.571,
          2.571,
          2.571,
          2.571,
          2.581,
          2.581,
          2.581,
          2.581,
          2.581,
          2.581,
          2.581,
          2.581,
          2.581,
          2.581,
          2.581,
          2.581,
          2.581,
          2.581,
          2.581,
          2.581,
          2.581,
          2.581,
          2.581,
          2.581,
          2.581,
          2.581,
          2.581,
          2.581,
          2.581,
          2.581,
          2.581,
          2.581,
          2.581,
          2.581,
          2.581,
          2.501,
          2.526,
          2.526,
          2.526,
          2.526,
          2.526,
          2.526,
          2.526,
          2.526,
          2.526,
          2.526,
          2.526,
          2.526,
          2.545,
          2.564,
          2.564,
          2.564,
          2.564,
          2.564,
          2.564,
          2.632,
          2.632,
          2.628,
          2.628,
          2.628,
          2.628,
          2.631,
          2.631,
          2.692,
          2.692,
          2.692,
          2.692,
          2.692,
          2.692,
          2.692,
          2.692,
          2.692,
          2.692,
          2.692,
          2.692,
          2.692,
          2.692,
          2.692,
          2.737,
          2.737,
          2.737
         ],
         "yaxis": "y2"
        },
        {
         "marker": {
          "color": "rgb(255, 127, 14)"
         },
         "mode": "markers",
         "name": "Carrefour",
         "type": "scatter",
         "x": [
          "2024-07-12",
          "2024-07-13",
          "2024-07-14",
          "2024-07-15",
          "2024-07-16",
          "2024-07-17",
          "2024-07-18",
          "2024-07-19",
          "2024-07-20",
          "2024-07-21",
          "2024-07-22",
          "2024-07-23",
          "2024-07-24",
          "2024-07-25",
          "2024-07-26",
          "2024-07-27",
          "2024-07-28",
          "2024-07-29",
          "2024-07-30",
          "2024-07-31",
          "2024-08-01",
          "2024-08-02",
          "2024-08-03",
          "2024-08-04",
          "2024-08-05",
          "2024-08-06",
          "2024-08-07",
          "2024-08-08",
          "2024-08-09",
          "2024-08-10",
          "2024-08-11",
          "2024-08-12",
          "2024-08-13",
          "2024-08-14",
          "2024-08-15",
          "2024-08-16",
          "2024-08-17",
          "2024-08-18",
          "2024-08-19",
          "2024-08-20",
          "2024-08-21",
          "2024-08-22",
          "2024-08-23",
          "2024-08-24",
          "2024-08-25",
          "2024-08-26",
          "2024-08-27",
          "2024-08-28",
          "2024-08-29",
          "2024-08-30",
          "2024-08-31",
          "2024-09-01",
          "2024-09-02",
          "2024-09-03",
          "2024-09-04",
          "2024-09-05",
          "2024-09-06",
          "2024-09-07",
          "2024-09-08",
          "2024-09-09",
          "2024-09-10",
          "2024-09-11",
          "2024-09-12",
          "2024-09-13",
          "2024-09-14",
          "2024-09-15",
          "2024-09-16",
          "2024-09-17",
          "2024-10-03",
          "2024-10-04",
          "2024-10-05",
          "2024-10-06",
          "2024-10-07",
          "2024-10-08",
          "2024-10-09",
          "2024-10-10",
          "2024-10-11",
          "2024-10-12",
          "2024-10-13",
          "2024-10-14",
          "2024-10-15",
          "2024-10-16",
          "2024-10-17",
          "2024-10-18",
          "2024-10-21",
          "2024-10-22",
          "2024-10-23",
          "2024-10-24",
          "2024-10-25",
          "2024-10-26",
          "2024-10-27"
         ],
         "xaxis": "x2",
         "y": [
          6.094166666666666,
          8.474615384615385,
          8.474615384615385,
          8.474615384615385,
          8.474615384615385,
          8.474615384615385,
          8.474615384615385,
          8.474615384615385,
          8.474615384615385,
          8.474615384615385,
          8.474615384615385,
          8.474615384615385,
          8.368461538461538,
          8.368461538461538,
          8.46076923076923,
          8.393076923076922,
          8.393076923076922,
          8.43923076923077,
          8.43923076923077,
          8.43923076923077,
          8.43923076923077,
          8.43923076923077,
          8.424615384615384,
          8.424615384615384,
          8.424615384615384,
          7.488,
          8.424615384615384,
          4.756,
          8.473076923076922,
          8.473076923076922,
          8.473076923076922,
          8.473076923076922,
          6.0925,
          6.0925,
          6.0925,
          6.0925,
          6.0925,
          6.0925,
          6.0925,
          6.0925,
          6.0925,
          6.0925,
          8.473076923076922,
          8.473076923076922,
          8.473076923076922,
          8.506923076923076,
          8.545384615384615,
          8.545384615384615,
          6.170833333333333,
          8.545384615384615,
          8.545384615384615,
          6.2283333333333335,
          8.537692307692307,
          8.537692307692307,
          8.537692307692307,
          8.537692307692307,
          8.537692307692307,
          8.537692307692307,
          8.514615384615384,
          8.514615384615384,
          8.514615384615384,
          8.793846153846154,
          8.796153846153846,
          8.796153846153846,
          9.338333333333333,
          8.796153846153846,
          8.75,
          9.269166666666667,
          10.836,
          9.065833333333334,
          8.567692307692308,
          9.065833333333334,
          9.68,
          9.069166666666666,
          9.676363636363636,
          8.513846153846155,
          8.513846153846155,
          8.513846153846155,
          8.513846153846155,
          8.513846153846155,
          8.513846153846155,
          8.513846153846155,
          8.513846153846155,
          8.612307692307692,
          8.58,
          8.58,
          6.531818181818182,
          8.58,
          8.58,
          8.58,
          19.435
         ],
         "yaxis": "y2"
        },
        {
         "marker": {
          "color": "rgb(44, 160, 44)"
         },
         "mode": "markers",
         "name": "Dia",
         "type": "scatter",
         "x": [
          "2024-07-12",
          "2024-07-13",
          "2024-07-14",
          "2024-07-15",
          "2024-07-16",
          "2024-07-17",
          "2024-07-18",
          "2024-07-19",
          "2024-07-20",
          "2024-07-21",
          "2024-07-22",
          "2024-07-23",
          "2024-07-24",
          "2024-07-25",
          "2024-07-26",
          "2024-07-27",
          "2024-07-28",
          "2024-07-29",
          "2024-07-30",
          "2024-07-31",
          "2024-08-01",
          "2024-08-02",
          "2024-08-03",
          "2024-08-04",
          "2024-08-05",
          "2024-08-06",
          "2024-08-07",
          "2024-08-08",
          "2024-08-09",
          "2024-08-10",
          "2024-08-11",
          "2024-08-12",
          "2024-08-13",
          "2024-08-14",
          "2024-08-15",
          "2024-08-16",
          "2024-08-17",
          "2024-08-18",
          "2024-08-19",
          "2024-08-20",
          "2024-08-21",
          "2024-08-22",
          "2024-08-23",
          "2024-08-24",
          "2024-08-25",
          "2024-08-26",
          "2024-08-27",
          "2024-08-28",
          "2024-08-29",
          "2024-08-30",
          "2024-08-31",
          "2024-09-01",
          "2024-09-02",
          "2024-09-03",
          "2024-09-04",
          "2024-09-05",
          "2024-09-06",
          "2024-09-07",
          "2024-09-08",
          "2024-09-09",
          "2024-09-10",
          "2024-09-11",
          "2024-09-12",
          "2024-09-13",
          "2024-09-14",
          "2024-09-15",
          "2024-09-16",
          "2024-09-17",
          "2024-09-18",
          "2024-09-19",
          "2024-09-20",
          "2024-09-21",
          "2024-09-22",
          "2024-09-23",
          "2024-09-24",
          "2024-09-25",
          "2024-09-26",
          "2024-09-27",
          "2024-09-28",
          "2024-09-29",
          "2024-09-30",
          "2024-10-01",
          "2024-10-02",
          "2024-10-03",
          "2024-10-04",
          "2024-10-05",
          "2024-10-06",
          "2024-10-07",
          "2024-10-08",
          "2024-10-09",
          "2024-10-10",
          "2024-10-11",
          "2024-10-12",
          "2024-10-13",
          "2024-10-14",
          "2024-10-15",
          "2024-10-16",
          "2024-10-17",
          "2024-10-18",
          "2024-10-19",
          "2024-10-20",
          "2024-10-21",
          "2024-10-22",
          "2024-10-23",
          "2024-10-24",
          "2024-10-25",
          "2024-10-26",
          "2024-10-27"
         ],
         "xaxis": "x2",
         "y": [
          6.162,
          6.162,
          6.162,
          6.162,
          6.162,
          5.986,
          5.986,
          5.986,
          5.986,
          5.986,
          5.986,
          5.738,
          5.914,
          5.914,
          5.914,
          5.914,
          5.914,
          5.914,
          5.914,
          5.914,
          5.914,
          5.914,
          5.914,
          5.914,
          5.914,
          5.914,
          5.738,
          5.738,
          5.738,
          5.738,
          5.738,
          5.738,
          5.738,
          5.914,
          5.914,
          5.914,
          5.914,
          5.914,
          5.914,
          5.914,
          5.914,
          5.914,
          5.914,
          5.914,
          5.914,
          5.914,
          5.914,
          5.914,
          5.26,
          5.26,
          5.26,
          5.26,
          5.26,
          5.26,
          5.26,
          5.26,
          5.26,
          5.26,
          5.26,
          5.26,
          5.26,
          5.26,
          5.26,
          5.26,
          5.26,
          5.26,
          5.26,
          5.26,
          5.113333333333333,
          5.113333333333333,
          5.113333333333333,
          5.113333333333333,
          5.113333333333333,
          5.113333333333333,
          5.113333333333333,
          5.26,
          5.26,
          5.26,
          5.26,
          5.26,
          5.26,
          5.386666666666667,
          5.386666666666667,
          5.386666666666667,
          5.386666666666667,
          5.386666666666667,
          5.386666666666667,
          5.386666666666667,
          5.386666666666667,
          5.386666666666667,
          5.386666666666667,
          5.386666666666667,
          5.386666666666667,
          5.386666666666667,
          5.386666666666667,
          5.386666666666667,
          5.236666666666666,
          5.236666666666666,
          5.236666666666666,
          5.236666666666666,
          5.236666666666666,
          5.236666666666666,
          5.308333333333334,
          5.458333333333333,
          5.458333333333333,
          5.458333333333333,
          5.458333333333333,
          5.458333333333333
         ],
         "yaxis": "y2"
        },
        {
         "marker": {
          "color": "rgb(214, 39, 40)"
         },
         "mode": "markers",
         "name": "Eroski",
         "type": "scatter",
         "x": [
          "2024-07-12",
          "2024-07-13",
          "2024-07-14",
          "2024-07-15",
          "2024-07-16",
          "2024-07-17",
          "2024-07-18",
          "2024-07-19",
          "2024-07-20",
          "2024-07-21",
          "2024-07-22",
          "2024-07-23",
          "2024-07-24",
          "2024-07-25",
          "2024-07-26",
          "2024-07-27",
          "2024-07-28",
          "2024-07-29",
          "2024-07-30",
          "2024-07-31",
          "2024-08-01",
          "2024-08-02",
          "2024-08-03",
          "2024-08-04",
          "2024-08-05",
          "2024-08-06",
          "2024-08-07",
          "2024-08-08",
          "2024-08-09",
          "2024-08-10",
          "2024-08-11",
          "2024-08-12",
          "2024-08-13",
          "2024-08-14",
          "2024-08-15",
          "2024-08-16",
          "2024-08-17",
          "2024-08-18",
          "2024-08-19",
          "2024-08-20",
          "2024-08-21",
          "2024-08-22",
          "2024-08-23",
          "2024-08-24",
          "2024-08-25",
          "2024-08-26",
          "2024-08-27",
          "2024-08-28",
          "2024-08-29",
          "2024-08-30",
          "2024-08-31",
          "2024-09-01",
          "2024-09-02",
          "2024-09-03",
          "2024-09-04",
          "2024-09-05",
          "2024-09-06",
          "2024-09-07",
          "2024-09-08",
          "2024-09-09",
          "2024-09-10",
          "2024-09-11",
          "2024-09-12",
          "2024-09-13",
          "2024-09-14",
          "2024-09-15",
          "2024-09-16",
          "2024-09-17",
          "2024-09-18",
          "2024-09-19",
          "2024-09-20",
          "2024-09-21",
          "2024-09-22",
          "2024-09-23",
          "2024-09-24",
          "2024-09-25",
          "2024-09-26",
          "2024-09-27",
          "2024-09-28",
          "2024-09-29",
          "2024-09-30",
          "2024-10-01",
          "2024-10-02",
          "2024-10-03",
          "2024-10-04",
          "2024-10-05",
          "2024-10-06",
          "2024-10-07",
          "2024-10-08",
          "2024-10-09",
          "2024-10-10",
          "2024-10-12",
          "2024-10-13",
          "2024-10-14",
          "2024-10-15",
          "2024-10-16",
          "2024-10-17",
          "2024-10-18",
          "2024-10-19",
          "2024-10-20",
          "2024-10-21",
          "2024-10-22",
          "2024-10-23",
          "2024-10-24",
          "2024-10-25",
          "2024-10-26",
          "2024-10-27"
         ],
         "xaxis": "x2",
         "y": [
          3.25,
          3.25,
          3.25,
          3.25,
          3.25,
          3.2275,
          3.2275,
          3.2275,
          3.2275,
          3.2275,
          3.2275,
          3.2275,
          3.2275,
          2.724285714285714,
          2.724285714285714,
          2.724285714285714,
          3.2275,
          3.2275,
          3.2275,
          3.2275,
          2.74375,
          2.74375,
          2.74375,
          2.894285714285714,
          2.894285714285714,
          2.74375,
          2.74375,
          2.74375,
          2.74375,
          2.74375,
          2.74375,
          2.74375,
          2.78375,
          2.78375,
          2.78375,
          3.2675,
          3.2675,
          3.2675,
          3.2675,
          3.2675,
          3.2675,
          3.2675,
          3.2675,
          3.2675,
          3.2675,
          3.2675,
          3.2675,
          3.2675,
          3.2675,
          3.2675,
          3.2675,
          3.2675,
          3.2675,
          3.2675,
          3.2675,
          3.2675,
          3.2675,
          3.2675,
          3.2675,
          3.2675,
          3.2675,
          3.2675,
          3.2675,
          3.2675,
          3.2675,
          3.2675,
          3.2675,
          3.2675,
          3.2675,
          3.2675,
          3.2675,
          3.2675,
          3.2675,
          3.2675,
          3.2675,
          3.2675,
          3.2675,
          3.2675,
          3.2675,
          3.2675,
          3.2675,
          3.345,
          3.345,
          3.345,
          3.345,
          3.345,
          3.345,
          3.345,
          3.345,
          3.345,
          2.88125,
          2.88125,
          2.88125,
          2.88125,
          2.88125,
          2.88125,
          2.88125,
          2.88125,
          2.88125,
          2.88125,
          2.88125,
          2.89625,
          3.0542857142857143,
          3.0542857142857143,
          3.0542857142857143,
          2.89625,
          2.89625
         ],
         "yaxis": "y2"
        },
        {
         "marker": {
          "color": "rgb(31, 119, 180)"
         },
         "mode": "markers",
         "name": "Mercadona",
         "type": "scatter",
         "x": [
          "2024-07-12",
          "2024-07-13",
          "2024-07-14",
          "2024-07-15",
          "2024-07-16",
          "2024-07-17",
          "2024-07-18",
          "2024-07-19",
          "2024-07-20",
          "2024-07-21",
          "2024-07-22",
          "2024-07-23",
          "2024-07-24",
          "2024-07-25",
          "2024-07-26",
          "2024-07-27",
          "2024-07-28",
          "2024-07-29",
          "2024-07-30",
          "2024-07-31",
          "2024-08-01",
          "2024-08-02",
          "2024-08-03",
          "2024-08-04",
          "2024-08-05",
          "2024-08-06",
          "2024-08-07",
          "2024-08-08",
          "2024-08-09",
          "2024-08-10",
          "2024-08-11",
          "2024-08-12",
          "2024-08-13",
          "2024-08-14",
          "2024-08-15",
          "2024-08-16",
          "2024-08-17",
          "2024-08-18",
          "2024-08-19",
          "2024-08-20",
          "2024-08-21",
          "2024-08-22",
          "2024-08-23",
          "2024-08-24",
          "2024-08-25",
          "2024-08-26",
          "2024-08-27",
          "2024-08-28",
          "2024-08-29",
          "2024-08-30",
          "2024-08-31",
          "2024-09-01",
          "2024-09-02",
          "2024-09-03",
          "2024-09-04",
          "2024-09-05",
          "2024-09-06",
          "2024-09-07",
          "2024-09-08",
          "2024-09-09",
          "2024-09-10",
          "2024-09-11",
          "2024-09-12",
          "2024-09-13",
          "2024-09-14",
          "2024-09-15",
          "2024-09-16",
          "2024-09-17",
          "2024-09-18",
          "2024-09-19",
          "2024-09-20",
          "2024-09-21",
          "2024-09-22",
          "2024-09-23",
          "2024-09-24",
          "2024-09-25",
          "2024-09-26",
          "2024-09-27",
          "2024-09-28",
          "2024-09-29",
          "2024-09-30",
          "2024-10-01",
          "2024-10-02",
          "2024-10-03",
          "2024-10-04",
          "2024-10-05",
          "2024-10-06",
          "2024-10-07",
          "2024-10-08",
          "2024-10-09",
          "2024-10-10",
          "2024-10-11",
          "2024-10-12",
          "2024-10-13",
          "2024-10-14",
          "2024-10-15",
          "2024-10-16",
          "2024-10-17",
          "2024-10-18",
          "2024-10-19",
          "2024-10-20",
          "2024-10-21",
          "2024-10-22",
          "2024-10-23",
          "2024-10-24",
          "2024-10-25",
          "2024-10-26",
          "2024-10-27"
         ],
         "xaxis": "x2",
         "y": [
          4.1,
          4.1,
          4.1,
          4.1,
          4.1,
          4.1,
          4.1,
          4.1,
          4.1,
          4.1,
          4.1,
          4.1,
          4.1,
          4.1,
          4.1,
          4.1,
          4.1,
          4.1,
          4.1,
          4.1,
          4.1,
          4.1,
          4.1,
          4.1,
          4.1,
          4.1,
          4.1,
          4.1,
          4.1,
          4.1,
          4.1,
          4.1,
          4.1,
          4.1,
          4.1,
          4.1,
          4.1,
          4.1,
          4.1,
          4.1,
          4.1,
          4.1,
          4.1,
          4.1,
          4.1,
          4.1,
          4.1,
          4.1,
          4.1,
          4.1,
          4.1,
          4.1,
          4.1,
          4.1,
          4.1,
          4.1,
          4.1,
          4.1,
          4.1,
          4.1,
          4.1,
          4.1,
          4.1,
          4.1,
          4.1,
          4.1,
          4.1,
          4.1,
          4.1,
          4.1,
          4.1,
          4.1,
          4.1,
          4.1,
          4.1,
          4.1,
          4.1,
          4.1,
          4.1,
          4.1,
          4.1,
          4.195,
          4.195,
          4.195,
          4.195,
          4.195,
          4.195,
          4.195,
          4.195,
          4.195,
          4.195,
          4.195,
          4.195,
          4.195,
          4.195,
          4.195,
          4.195,
          4.195,
          4.195,
          4.195,
          4.195,
          4.195,
          4.195,
          4.195,
          4.195,
          4.195,
          4.195,
          4.195
         ],
         "yaxis": "y2"
        },
        {
         "marker": {
          "color": "rgb(148, 103, 189)"
         },
         "mode": "markers",
         "name": "Hipercor",
         "type": "scatter",
         "x": [
          "2024-07-13",
          "2024-07-14",
          "2024-07-15",
          "2024-07-16",
          "2024-07-17",
          "2024-07-18",
          "2024-07-19",
          "2024-07-20",
          "2024-07-21",
          "2024-07-22",
          "2024-07-23",
          "2024-07-24",
          "2024-07-25",
          "2024-07-26",
          "2024-07-27",
          "2024-07-28",
          "2024-07-29",
          "2024-07-30",
          "2024-07-31",
          "2024-08-01",
          "2024-08-02",
          "2024-08-03",
          "2024-08-04",
          "2024-08-05",
          "2024-08-06",
          "2024-08-07",
          "2024-08-08",
          "2024-08-09",
          "2024-08-10",
          "2024-08-11",
          "2024-08-12",
          "2024-08-13",
          "2024-08-14",
          "2024-08-15",
          "2024-08-16",
          "2024-08-17",
          "2024-08-18",
          "2024-08-19",
          "2024-08-20",
          "2024-08-21",
          "2024-08-22",
          "2024-08-23",
          "2024-08-24",
          "2024-08-25",
          "2024-08-26",
          "2024-08-27",
          "2024-08-28",
          "2024-08-29",
          "2024-08-30",
          "2024-08-31",
          "2024-09-01",
          "2024-09-02",
          "2024-09-03",
          "2024-09-04",
          "2024-09-05",
          "2024-09-06",
          "2024-09-07",
          "2024-09-08",
          "2024-09-09",
          "2024-09-10",
          "2024-09-11",
          "2024-09-12",
          "2024-09-13",
          "2024-09-14",
          "2024-09-15",
          "2024-09-16",
          "2024-09-17",
          "2024-09-18",
          "2024-09-19",
          "2024-09-20",
          "2024-09-21",
          "2024-09-22",
          "2024-09-23",
          "2024-09-24",
          "2024-09-25",
          "2024-09-26",
          "2024-09-27",
          "2024-09-28",
          "2024-09-29",
          "2024-09-30",
          "2024-10-01",
          "2024-10-02",
          "2024-10-14",
          "2024-10-15",
          "2024-10-16",
          "2024-10-17",
          "2024-10-18",
          "2024-10-19",
          "2024-10-21",
          "2024-10-22",
          "2024-10-23",
          "2024-10-24",
          "2024-10-25",
          "2024-10-26",
          "2024-10-27"
         ],
         "xaxis": "x2",
         "y": [
          3.037142857142857,
          3.037142857142857,
          3.037142857142857,
          3.037142857142857,
          3.037142857142857,
          3.037142857142857,
          3.037142857142857,
          3.037142857142857,
          3.037142857142857,
          3.037142857142857,
          3.037142857142857,
          3.037142857142857,
          3.037142857142857,
          3.037142857142857,
          3.037142857142857,
          3.037142857142857,
          3.037142857142857,
          3.037142857142857,
          2.9657142857142857,
          2.9657142857142857,
          2.9657142857142857,
          2.9657142857142857,
          2.9657142857142857,
          2.9657142857142857,
          2.9657142857142857,
          2.9657142857142857,
          2.9657142857142857,
          2.9657142857142857,
          2.9485714285714284,
          2.9485714285714284,
          2.9485714285714284,
          2.9485714285714284,
          3.02,
          3.02,
          3.02,
          3.02,
          3.02,
          3.02,
          3.02,
          3.02,
          3.02,
          3.02,
          3.02,
          3.02,
          3.02,
          2.994285714285714,
          2.994285714285714,
          2.994285714285714,
          2.994285714285714,
          2.994285714285714,
          2.994285714285714,
          2.994285714285714,
          2.994285714285714,
          2.994285714285714,
          2.994285714285714,
          2.994285714285714,
          2.994285714285714,
          2.994285714285714,
          2.994285714285714,
          2.9171428571428573,
          2.9171428571428573,
          2.942857142857143,
          2.942857142857143,
          2.942857142857143,
          2.942857142857143,
          2.942857142857143,
          2.942857142857143,
          2.942857142857143,
          2.942857142857143,
          2.942857142857143,
          2.942857142857143,
          2.942857142857143,
          2.942857142857143,
          2.942857142857143,
          2.942857142857143,
          3.02,
          3.02,
          3.02,
          3.02,
          3.02,
          3.02,
          3.0885714285714285,
          3.085714285714286,
          3.61,
          3.61,
          3.085714285714286,
          3.085714285714286,
          3.085714285714286,
          3.085714285714286,
          3.085714285714286,
          3.085714285714286,
          3.005714285714286,
          3.005714285714286,
          3.005714285714286,
          3.005714285714286
         ],
         "yaxis": "y2"
        },
        {
         "marker": {
          "color": "rgb(140, 86, 75)"
         },
         "mode": "markers",
         "name": "Alcampo",
         "type": "scatter",
         "x": [
          "2024-07-15",
          "2024-07-16",
          "2024-07-17",
          "2024-07-18",
          "2024-07-19",
          "2024-07-20",
          "2024-07-21",
          "2024-07-22",
          "2024-07-23",
          "2024-07-24",
          "2024-07-25",
          "2024-07-26",
          "2024-07-27",
          "2024-07-28",
          "2024-07-29",
          "2024-07-30",
          "2024-07-31",
          "2024-08-01",
          "2024-08-02",
          "2024-08-03",
          "2024-08-04",
          "2024-08-05",
          "2024-08-06",
          "2024-08-07",
          "2024-08-08",
          "2024-08-09",
          "2024-08-10",
          "2024-08-11",
          "2024-08-12",
          "2024-08-13",
          "2024-08-14",
          "2024-08-15",
          "2024-08-16",
          "2024-08-17",
          "2024-08-18",
          "2024-08-19",
          "2024-08-20",
          "2024-08-21",
          "2024-08-22",
          "2024-08-23",
          "2024-08-24",
          "2024-08-25",
          "2024-08-26",
          "2024-08-27",
          "2024-08-28",
          "2024-08-29",
          "2024-08-30",
          "2024-08-31",
          "2024-09-01",
          "2024-09-02",
          "2024-09-03",
          "2024-09-04",
          "2024-09-05",
          "2024-09-06",
          "2024-09-07",
          "2024-09-08",
          "2024-09-09",
          "2024-09-10",
          "2024-09-11",
          "2024-09-12",
          "2024-09-13",
          "2024-09-14",
          "2024-09-15",
          "2024-09-16",
          "2024-09-17",
          "2024-09-18",
          "2024-09-19",
          "2024-09-20",
          "2024-09-21",
          "2024-09-22",
          "2024-09-23",
          "2024-09-24",
          "2024-09-25",
          "2024-09-26",
          "2024-09-27",
          "2024-09-28",
          "2024-09-29",
          "2024-09-30",
          "2024-10-01",
          "2024-10-02",
          "2024-10-03",
          "2024-10-04",
          "2024-10-05",
          "2024-10-06",
          "2024-10-07",
          "2024-10-08",
          "2024-10-09",
          "2024-10-10",
          "2024-10-11",
          "2024-10-12",
          "2024-10-13",
          "2024-10-14",
          "2024-10-15",
          "2024-10-16",
          "2024-10-17",
          "2024-10-18",
          "2024-10-19",
          "2024-10-20",
          "2024-10-21",
          "2024-10-22",
          "2024-10-23",
          "2024-10-24",
          "2024-10-25",
          "2024-10-26",
          "2024-10-27"
         ],
         "xaxis": "x3",
         "y": [
          4.0704918032786885,
          4.044380165289256,
          3.9963934426229506,
          3.9963934426229506,
          3.93768,
          3.9996825396825395,
          3.94048,
          3.9996825396825395,
          3.94048,
          3.94048,
          3.94048,
          3.94048,
          3.9215079365079366,
          3.9215079365079366,
          3.9384,
          3.8868,
          3.871031746031746,
          3.860227272727273,
          3.8877272727272727,
          3.9029007633587787,
          3.9029007633587787,
          3.9031297709923662,
          3.8661206896551725,
          3.8704545454545456,
          3.8657575757575757,
          3.8657575757575757,
          3.8657575757575757,
          3.8657575757575757,
          3.8252272727272727,
          3.7886363636363636,
          3.8374242424242424,
          3.812238805970149,
          3.8818796992481204,
          3.872205882352941,
          3.8453333333333335,
          3.8453333333333335,
          3.8453333333333335,
          3.8857777777777778,
          3.881111111111111,
          3.872888888888889,
          3.872888888888889,
          3.872888888888889,
          3.872888888888889,
          3.872888888888889,
          3.8604444444444446,
          3.834812030075188,
          3.8638805970149255,
          3.8638805970149255,
          3.8638805970149255,
          3.8638805970149255,
          3.8638805970149255,
          3.8638805970149255,
          3.8638805970149255,
          3.8638805970149255,
          3.8638805970149255,
          3.8790225563909773,
          3.8790225563909773,
          3.8758646616541355,
          3.8621804511278195,
          3.904962962962963,
          3.8984671532846713,
          3.8984671532846713,
          3.8984671532846713,
          3.8984671532846713,
          3.8984671532846713,
          3.9203676470588236,
          3.9203676470588236,
          3.9221323529411767,
          3.959179104477612,
          3.9183823529411765,
          3.9003649635036495,
          3.925912408759124,
          3.8773529411764707,
          3.8205147058823528,
          3.848235294117647,
          3.848235294117647,
          3.848235294117647,
          3.848235294117647,
          3.863185185185185,
          3.8814814814814813,
          3.921044776119403,
          3.944,
          3.944,
          3.944,
          3.8997014925373135,
          3.901194029850746,
          3.8693233082706766,
          3.8535074626865673,
          3.8461194029850745,
          3.834885496183206,
          3.8651515151515152,
          3.842406015037594,
          3.867175572519084,
          3.9174242424242425,
          3.854503816793893,
          3.854503816793893,
          3.906946564885496,
          3.906946564885496,
          3.911145038167939,
          3.9141353383458646,
          3.9141353383458646,
          3.95530303030303,
          3.9174436090225564,
          3.917593984962406,
          3.917593984962406
         ],
         "yaxis": "y3"
        },
        {
         "marker": {
          "color": "rgb(255, 127, 14)"
         },
         "mode": "markers",
         "name": "Carrefour",
         "type": "scatter",
         "x": [
          "2024-07-15",
          "2024-07-16",
          "2024-07-17",
          "2024-07-18",
          "2024-07-19",
          "2024-07-20",
          "2024-07-21",
          "2024-07-22",
          "2024-07-23",
          "2024-07-24",
          "2024-07-25",
          "2024-07-26",
          "2024-07-27",
          "2024-07-28",
          "2024-07-29",
          "2024-07-30",
          "2024-07-31",
          "2024-08-01",
          "2024-08-02",
          "2024-08-03",
          "2024-08-04",
          "2024-08-05",
          "2024-08-06",
          "2024-08-07",
          "2024-08-08",
          "2024-08-09",
          "2024-08-10",
          "2024-08-11",
          "2024-08-12",
          "2024-08-13",
          "2024-08-14",
          "2024-08-15",
          "2024-08-16",
          "2024-08-17",
          "2024-08-18",
          "2024-08-19",
          "2024-08-20",
          "2024-08-21",
          "2024-08-22",
          "2024-08-23",
          "2024-08-24",
          "2024-08-25",
          "2024-08-26",
          "2024-08-27",
          "2024-08-28",
          "2024-08-29",
          "2024-08-30",
          "2024-08-31",
          "2024-09-01",
          "2024-09-02",
          "2024-09-03",
          "2024-09-04",
          "2024-09-05",
          "2024-09-06",
          "2024-09-07",
          "2024-09-08",
          "2024-09-09",
          "2024-09-10",
          "2024-09-11",
          "2024-09-12",
          "2024-09-13",
          "2024-09-14",
          "2024-09-15",
          "2024-09-16",
          "2024-09-17",
          "2024-10-03",
          "2024-10-04",
          "2024-10-05",
          "2024-10-06",
          "2024-10-07",
          "2024-10-08",
          "2024-10-09",
          "2024-10-10",
          "2024-10-11",
          "2024-10-12",
          "2024-10-13",
          "2024-10-14",
          "2024-10-15",
          "2024-10-16",
          "2024-10-17",
          "2024-10-18",
          "2024-10-21",
          "2024-10-22",
          "2024-10-23",
          "2024-10-24",
          "2024-10-25",
          "2024-10-26",
          "2024-10-27"
         ],
         "xaxis": "x3",
         "y": [
          1.5626923076923076,
          1.5737254901960784,
          1.6021153846153846,
          1.590754716981132,
          1.590754716981132,
          1.6052941176470588,
          1.6052941176470588,
          1.6052941176470588,
          1.6080392156862744,
          1.6080769230769232,
          1.5496078431372549,
          1.4905882352941175,
          1.4992156862745099,
          1.5144230769230769,
          1.5192307692307692,
          1.5094339622641508,
          1.5646296296296296,
          1.6235185185185186,
          1.6316981132075472,
          1.6278846153846154,
          1.6278846153846154,
          1.6282692307692308,
          1.784047619047619,
          1.5346,
          1.4804166666666667,
          1.5507547169811322,
          1.5866037735849057,
          1.5911111111111111,
          1.5894444444444444,
          1.5894444444444444,
          1.5845283018867924,
          1.5971153846153845,
          1.5971153846153845,
          1.5971153846153845,
          1.4615384615384615,
          1.4765384615384616,
          1.711851851851852,
          1.7336538461538462,
          1.821090909090909,
          1.917142857142857,
          1.9014814814814816,
          1.9014814814814816,
          1.9388888888888889,
          1.9346296296296297,
          1.9550943396226415,
          1.9372222222222222,
          1.9233333333333333,
          1.9092857142857143,
          2.1276923076923078,
          1.8803571428571428,
          1.8642105263157895,
          1.8541818181818182,
          1.9258823529411766,
          1.9576923076923076,
          1.9462962962962962,
          1.8894827586206897,
          1.888103448275862,
          1.9049122807017544,
          1.888103448275862,
          1.9775,
          1.906206896551724,
          1.9041379310344828,
          1.9041379310344828,
          1.9082758620689655,
          1.8966101694915254,
          1.6557407407407407,
          1.600566037735849,
          1.6181132075471698,
          1.6450980392156862,
          1.6057407407407407,
          1.6073076923076923,
          1.6598181818181819,
          1.6638181818181819,
          1.6011538461538461,
          1.5478,
          1.6288,
          1.6288,
          1.582156862745098,
          1.5415686274509803,
          1.6238,
          1.6653846153846155,
          1.687037037037037,
          1.6498148148148148,
          1.6630188679245284,
          1.7914705882352941,
          1.720222222222222,
          1.57,
          1.576111111111111
         ],
         "yaxis": "y3"
        },
        {
         "marker": {
          "color": "rgb(44, 160, 44)"
         },
         "mode": "markers",
         "name": "Dia",
         "type": "scatter",
         "x": [
          "2024-07-15",
          "2024-07-16",
          "2024-07-17",
          "2024-07-18",
          "2024-07-19",
          "2024-07-20",
          "2024-07-21",
          "2024-07-22",
          "2024-07-23",
          "2024-07-24",
          "2024-07-25",
          "2024-07-26",
          "2024-07-27",
          "2024-07-28",
          "2024-07-29",
          "2024-07-30",
          "2024-07-31",
          "2024-08-01",
          "2024-08-02",
          "2024-08-03",
          "2024-08-04",
          "2024-08-05",
          "2024-08-06",
          "2024-08-07",
          "2024-08-08",
          "2024-08-09",
          "2024-08-10",
          "2024-08-11",
          "2024-08-12",
          "2024-08-13",
          "2024-08-14",
          "2024-08-15",
          "2024-08-16",
          "2024-08-17",
          "2024-08-18",
          "2024-08-19",
          "2024-08-20",
          "2024-08-21",
          "2024-08-22",
          "2024-08-23",
          "2024-08-24",
          "2024-08-25",
          "2024-08-26",
          "2024-08-27",
          "2024-08-28",
          "2024-08-29",
          "2024-08-30",
          "2024-08-31",
          "2024-09-01",
          "2024-09-02",
          "2024-09-03",
          "2024-09-04",
          "2024-09-05",
          "2024-09-06",
          "2024-09-07",
          "2024-09-08",
          "2024-09-09",
          "2024-09-10",
          "2024-09-11",
          "2024-09-12",
          "2024-09-13",
          "2024-09-14",
          "2024-09-15",
          "2024-09-16",
          "2024-09-17",
          "2024-09-18",
          "2024-09-19",
          "2024-09-20",
          "2024-09-21",
          "2024-09-22",
          "2024-09-23",
          "2024-09-24",
          "2024-09-25",
          "2024-09-26",
          "2024-09-27",
          "2024-09-28",
          "2024-09-29",
          "2024-09-30",
          "2024-10-01",
          "2024-10-02",
          "2024-10-03",
          "2024-10-04",
          "2024-10-05",
          "2024-10-06",
          "2024-10-07",
          "2024-10-08",
          "2024-10-09",
          "2024-10-10",
          "2024-10-11",
          "2024-10-12",
          "2024-10-13",
          "2024-10-14",
          "2024-10-15",
          "2024-10-16",
          "2024-10-17",
          "2024-10-18",
          "2024-10-19",
          "2024-10-20",
          "2024-10-21",
          "2024-10-22",
          "2024-10-23",
          "2024-10-24",
          "2024-10-25",
          "2024-10-26",
          "2024-10-27"
         ],
         "xaxis": "x3",
         "y": [
          5.439803921568627,
          5.439803921568627,
          5.473137254901961,
          5.473137254901961,
          5.473137254901961,
          5.473137254901961,
          5.473137254901961,
          5.473137254901961,
          5.473137254901961,
          5.452745098039216,
          5.456666666666667,
          5.456666666666667,
          5.456666666666667,
          5.456666666666667,
          5.456666666666667,
          5.41,
          5.447647058823529,
          5.447647058823529,
          5.447647058823529,
          5.447647058823529,
          5.447647058823529,
          5.447647058823529,
          5.447647058823529,
          5.466470588235294,
          5.466470588235294,
          5.466470588235294,
          5.466470588235294,
          5.466470588235294,
          5.466470588235294,
          5.465490196078432,
          5.427450980392157,
          5.427450980392157,
          5.427450980392157,
          5.427450980392157,
          5.427450980392157,
          5.427450980392157,
          5.427450980392157,
          5.327843137254902,
          5.327843137254902,
          5.327843137254902,
          5.241730769230769,
          5.241730769230769,
          5.241730769230769,
          5.241730769230769,
          5.323653846153846,
          5.323653846153846,
          5.323653846153846,
          5.323653846153846,
          5.323653846153846,
          5.323653846153846,
          5.323653846153846,
          5.322115384615385,
          5.322115384615385,
          5.322115384615385,
          5.322115384615385,
          5.322115384615385,
          5.322115384615385,
          5.314038461538462,
          5.335192307692307,
          5.335192307692307,
          5.335192307692307,
          5.335192307692307,
          5.335192307692307,
          5.335192307692307,
          5.335192307692307,
          5.334038461538461,
          5.334038461538461,
          5.334038461538461,
          5.334038461538461,
          5.334038461538461,
          5.334038461538461,
          5.334038461538461,
          5.2390384615384615,
          5.2390384615384615,
          5.223333333333334,
          5.223333333333334,
          5.223333333333334,
          5.223333333333334,
          5.307592592592592,
          5.47,
          5.47,
          5.274230769230769,
          5.274230769230769,
          5.274230769230769,
          5.274230769230769,
          5.274230769230769,
          5.224807692307692,
          5.224807692307692,
          5.224807692307692,
          5.224807692307692,
          5.224807692307692,
          5.224807692307692,
          5.239807692307692,
          5.227884615384616,
          5.227884615384616,
          5.227884615384616,
          5.227884615384616,
          5.227884615384616,
          5.227884615384616,
          5.227884615384616,
          5.28923076923077,
          5.28923076923077,
          5.28923076923077,
          5.28923076923077,
          5.28923076923077
         ],
         "yaxis": "y3"
        },
        {
         "marker": {
          "color": "rgb(214, 39, 40)"
         },
         "mode": "markers",
         "name": "Eroski",
         "type": "scatter",
         "x": [
          "2024-07-15",
          "2024-07-16",
          "2024-07-17",
          "2024-07-18",
          "2024-07-19",
          "2024-07-20",
          "2024-07-21",
          "2024-07-22",
          "2024-07-23",
          "2024-07-24",
          "2024-07-25",
          "2024-07-26",
          "2024-07-27",
          "2024-07-28",
          "2024-07-29",
          "2024-07-30",
          "2024-07-31",
          "2024-08-01",
          "2024-08-02",
          "2024-08-03",
          "2024-08-04",
          "2024-08-05",
          "2024-08-06",
          "2024-08-07",
          "2024-08-08",
          "2024-08-09",
          "2024-08-10",
          "2024-08-11",
          "2024-08-12",
          "2024-08-13",
          "2024-08-14",
          "2024-08-15",
          "2024-08-16",
          "2024-08-17",
          "2024-08-18",
          "2024-08-19",
          "2024-08-20",
          "2024-08-21",
          "2024-08-22",
          "2024-08-23",
          "2024-08-24",
          "2024-08-25",
          "2024-08-26",
          "2024-08-27",
          "2024-08-28",
          "2024-08-29",
          "2024-08-30",
          "2024-08-31",
          "2024-09-01",
          "2024-09-02",
          "2024-09-03",
          "2024-09-04",
          "2024-09-05",
          "2024-09-06",
          "2024-09-07",
          "2024-09-08",
          "2024-09-09",
          "2024-09-10",
          "2024-09-11",
          "2024-09-12",
          "2024-09-13",
          "2024-09-14",
          "2024-09-15",
          "2024-09-16",
          "2024-09-17",
          "2024-09-18",
          "2024-09-19",
          "2024-09-20",
          "2024-09-21",
          "2024-09-22",
          "2024-09-23",
          "2024-09-24",
          "2024-09-25",
          "2024-09-26",
          "2024-09-27",
          "2024-09-28",
          "2024-09-29",
          "2024-09-30",
          "2024-10-01",
          "2024-10-02",
          "2024-10-03",
          "2024-10-04",
          "2024-10-05",
          "2024-10-06",
          "2024-10-07",
          "2024-10-08",
          "2024-10-09",
          "2024-10-10",
          "2024-10-11",
          "2024-10-12",
          "2024-10-13",
          "2024-10-14",
          "2024-10-15",
          "2024-10-16",
          "2024-10-17",
          "2024-10-18",
          "2024-10-19",
          "2024-10-20",
          "2024-10-21",
          "2024-10-22",
          "2024-10-23",
          "2024-10-24",
          "2024-10-25",
          "2024-10-26",
          "2024-10-27"
         ],
         "xaxis": "x3",
         "y": [
          1.5487640449438203,
          1.5436263736263736,
          1.5436263736263736,
          1.543111111111111,
          1.5436263736263736,
          1.5342222222222222,
          1.5342222222222222,
          1.5259090909090909,
          1.5338636363636364,
          1.5289411764705882,
          1.5351685393258427,
          1.5351685393258427,
          1.5351685393258427,
          1.5410227272727273,
          1.5397701149425287,
          1.5397701149425287,
          1.547191011235955,
          1.5396590909090908,
          1.4796103896103896,
          1.53375,
          1.5326136363636365,
          1.5326136363636365,
          1.5310112359550563,
          1.5310112359550563,
          1.5264444444444445,
          1.5264444444444445,
          1.5264444444444445,
          1.5378888888888889,
          1.5385555555555557,
          1.5385555555555557,
          1.5475280898876405,
          1.5385555555555557,
          1.518,
          1.518,
          1.5173333333333332,
          1.5173333333333332,
          1.5173333333333332,
          1.5221348314606742,
          1.5221348314606742,
          1.5221348314606742,
          1.5158426966292136,
          1.5086363636363636,
          1.5125,
          1.5125,
          1.5216279069767442,
          1.4355882352941176,
          1.5429885057471264,
          1.543103448275862,
          1.5118181818181817,
          1.5149425287356322,
          1.5149425287356322,
          1.5467045454545456,
          1.5463736263736263,
          1.5326373626373626,
          1.5326373626373626,
          1.4973033707865169,
          1.5442857142857143,
          1.5426666666666666,
          1.5426666666666666,
          1.5097802197802197,
          1.515111111111111,
          1.5142696629213483,
          1.5142696629213483,
          1.506590909090909,
          1.5151685393258427,
          1.5151685393258427,
          1.51816091954023,
          1.5204597701149425,
          1.5204545454545455,
          1.5209302325581395,
          1.5209302325581395,
          1.513409090909091,
          1.513409090909091,
          1.5297752808988765,
          1.5295505617977527,
          1.5372413793103448,
          1.5325,
          1.534470588235294,
          1.558470588235294,
          1.5332142857142856,
          1.5674712643678161,
          1.5726829268292684,
          1.5694252873563217,
          1.5725,
          1.5725,
          1.5713953488372092,
          1.573132530120482,
          1.5702298850574714,
          1.573780487804878,
          1.573780487804878,
          1.573780487804878,
          1.585925925925926,
          1.5891358024691358,
          1.5813095238095238,
          1.5725,
          1.5673255813953488,
          1.5680459770114943,
          1.4973809523809525,
          1.4973809523809525,
          1.4973809523809525,
          1.5601149425287355,
          1.5660227272727274,
          1.5660227272727274,
          1.5697752808988763,
          1.571123595505618
         ],
         "yaxis": "y3"
        },
        {
         "marker": {
          "color": "rgb(148, 103, 189)"
         },
         "mode": "markers",
         "name": "Hipercor",
         "type": "scatter",
         "x": [
          "2024-07-15",
          "2024-07-16",
          "2024-07-17",
          "2024-07-18",
          "2024-07-19",
          "2024-07-20",
          "2024-07-21",
          "2024-07-22",
          "2024-07-23",
          "2024-07-24",
          "2024-07-25",
          "2024-07-26",
          "2024-07-27",
          "2024-07-28",
          "2024-07-29",
          "2024-07-30",
          "2024-07-31",
          "2024-08-01",
          "2024-08-02",
          "2024-08-03",
          "2024-08-04",
          "2024-08-05",
          "2024-08-06",
          "2024-08-07",
          "2024-08-08",
          "2024-08-09",
          "2024-08-10",
          "2024-08-11",
          "2024-08-12",
          "2024-08-13",
          "2024-08-14",
          "2024-08-15",
          "2024-08-16",
          "2024-08-17",
          "2024-08-18",
          "2024-08-19",
          "2024-08-20",
          "2024-08-21",
          "2024-08-22",
          "2024-08-23",
          "2024-08-24",
          "2024-08-25",
          "2024-08-26",
          "2024-08-27",
          "2024-08-28",
          "2024-08-29",
          "2024-08-30",
          "2024-08-31",
          "2024-09-01",
          "2024-09-02",
          "2024-09-03",
          "2024-09-04",
          "2024-09-05",
          "2024-09-06",
          "2024-09-07",
          "2024-09-08",
          "2024-09-09",
          "2024-09-10",
          "2024-09-11",
          "2024-09-12",
          "2024-09-13",
          "2024-09-14",
          "2024-09-15",
          "2024-09-16",
          "2024-09-17",
          "2024-09-18",
          "2024-09-19",
          "2024-09-20",
          "2024-09-21",
          "2024-09-22",
          "2024-09-23",
          "2024-09-24",
          "2024-09-25",
          "2024-09-26",
          "2024-09-27",
          "2024-09-28",
          "2024-09-29",
          "2024-09-30",
          "2024-10-01",
          "2024-10-02",
          "2024-10-14",
          "2024-10-15",
          "2024-10-16",
          "2024-10-17",
          "2024-10-18",
          "2024-10-19",
          "2024-10-20",
          "2024-10-21",
          "2024-10-22",
          "2024-10-23",
          "2024-10-24",
          "2024-10-25",
          "2024-10-26",
          "2024-10-27"
         ],
         "xaxis": "x3",
         "y": [
          1.5853939393939394,
          1.5949358974358974,
          1.580632183908046,
          1.5863253012048193,
          1.5840116279069767,
          1.6258333333333332,
          1.64873417721519,
          1.6033974358974359,
          1.6205333333333334,
          1.6033974358974359,
          1.5766081871345028,
          1.5766081871345028,
          1.5766081871345028,
          1.607032258064516,
          1.5766081871345028,
          1.5865060240963855,
          1.6715131578947369,
          1.5083333333333333,
          1.587251461988304,
          1.497530864197531,
          1.6073291925465838,
          1.587251461988304,
          1.5982926829268294,
          1.5262162162162163,
          1.587251461988304,
          1.6730967741935483,
          1.63375,
          1.596867469879518,
          1.6437278106508877,
          1.6317808219178083,
          1.5867251461988303,
          1.5740972222222223,
          1.5909248554913296,
          1.7238129496402879,
          1.5867251461988303,
          1.6463013698630138,
          1.5875294117647059,
          1.6147682119205298,
          1.6389655172413793,
          1.6498591549295776,
          1.5963253012048193,
          1.5867251461988303,
          1.5867251461988303,
          1.5855555555555556,
          1.5925,
          1.5718620689655172,
          1.6069753086419754,
          1.595878787878788,
          1.603416149068323,
          1.5928901734104046,
          1.5910526315789475,
          1.601939393939394,
          1.6054938271604937,
          1.6009036144578312,
          1.6156050955414012,
          1.6001204819277108,
          1.6009036144578312,
          1.5889473684210527,
          1.5889473684210527,
          1.6846753246753248,
          1.5914450867052023,
          1.6211538461538462,
          1.6329139072847683,
          1.6007831325301205,
          1.6269736842105262,
          1.6269736842105262,
          1.6014880952380952,
          1.5854777070063695,
          1.5934285714285714,
          1.6229746835443037,
          1.5934285714285714,
          1.7068707482993197,
          1.5989880952380953,
          1.5198666666666667,
          1.5658940397350993,
          1.5889142857142857,
          1.589712643678161,
          1.6821290322580644,
          1.6664634146341464,
          1.6265882352941177,
          1.7500657894736842,
          1.5700740740740742,
          1.6834228187919462,
          1.6944,
          1.727890625,
          1.719313725490196,
          1.5982051282051282,
          1.604857142857143,
          1.7601801801801802,
          1.5883647798742138,
          1.5410526315789475,
          1.7927027027027027,
          1.6737931034482758,
          1.640379746835443
         ],
         "yaxis": "y3"
        },
        {
         "marker": {
          "color": "rgb(31, 119, 180)"
         },
         "mode": "markers",
         "name": "Mercadona",
         "type": "scatter",
         "x": [
          "2024-07-15",
          "2024-07-16",
          "2024-07-17",
          "2024-07-18",
          "2024-07-19",
          "2024-07-20",
          "2024-07-21",
          "2024-07-22",
          "2024-07-23",
          "2024-07-24",
          "2024-07-25",
          "2024-07-26",
          "2024-07-27",
          "2024-07-28",
          "2024-07-29",
          "2024-07-30",
          "2024-07-31",
          "2024-08-01",
          "2024-08-02",
          "2024-08-03",
          "2024-08-04",
          "2024-08-05",
          "2024-08-06",
          "2024-08-07",
          "2024-08-08",
          "2024-08-09",
          "2024-08-10",
          "2024-08-11",
          "2024-08-12",
          "2024-08-13",
          "2024-08-14",
          "2024-08-15",
          "2024-08-16",
          "2024-08-17",
          "2024-08-18",
          "2024-08-19",
          "2024-08-20",
          "2024-08-21",
          "2024-08-22",
          "2024-08-23",
          "2024-08-24",
          "2024-08-25",
          "2024-08-26",
          "2024-08-27",
          "2024-08-28",
          "2024-08-29",
          "2024-08-30",
          "2024-08-31",
          "2024-09-01",
          "2024-09-02",
          "2024-09-03",
          "2024-09-04",
          "2024-09-05",
          "2024-09-06",
          "2024-09-07",
          "2024-09-08",
          "2024-09-09",
          "2024-09-10",
          "2024-09-11",
          "2024-09-12",
          "2024-09-13",
          "2024-09-14",
          "2024-09-15",
          "2024-09-16",
          "2024-09-17",
          "2024-09-18",
          "2024-09-19",
          "2024-09-20",
          "2024-09-21",
          "2024-09-22",
          "2024-09-23",
          "2024-09-24",
          "2024-09-25",
          "2024-09-26",
          "2024-09-27",
          "2024-09-28",
          "2024-09-29",
          "2024-09-30",
          "2024-10-01",
          "2024-10-02",
          "2024-10-03",
          "2024-10-04",
          "2024-10-05",
          "2024-10-06",
          "2024-10-07",
          "2024-10-08",
          "2024-10-09",
          "2024-10-10",
          "2024-10-11",
          "2024-10-12",
          "2024-10-13",
          "2024-10-14",
          "2024-10-15",
          "2024-10-16",
          "2024-10-17",
          "2024-10-18",
          "2024-10-19",
          "2024-10-20",
          "2024-10-21",
          "2024-10-22",
          "2024-10-23",
          "2024-10-24",
          "2024-10-25",
          "2024-10-26",
          "2024-10-27"
         ],
         "xaxis": "x3",
         "y": [
          3.81,
          3.8242307692307693,
          3.637037037037037,
          3.637037037037037,
          3.637037037037037,
          3.637037037037037,
          3.637037037037037,
          3.637037037037037,
          3.637037037037037,
          3.637037037037037,
          3.637037037037037,
          3.637037037037037,
          3.637037037037037,
          3.637037037037037,
          3.637037037037037,
          3.637037037037037,
          3.637037037037037,
          3.637037037037037,
          3.637037037037037,
          3.637037037037037,
          3.637037037037037,
          3.637037037037037,
          3.637037037037037,
          3.637037037037037,
          3.637037037037037,
          3.637037037037037,
          3.637037037037037,
          3.637037037037037,
          3.637037037037037,
          3.637037037037037,
          3.637037037037037,
          3.637037037037037,
          3.637037037037037,
          3.637037037037037,
          3.637037037037037,
          3.637037037037037,
          3.637037037037037,
          3.637037037037037,
          3.637037037037037,
          3.637037037037037,
          3.637037037037037,
          3.637037037037037,
          3.637037037037037,
          3.637037037037037,
          3.637037037037037,
          3.637037037037037,
          3.637037037037037,
          3.637037037037037,
          3.637037037037037,
          3.637037037037037,
          3.637037037037037,
          3.6214814814814815,
          3.6214814814814815,
          3.6214814814814815,
          3.6992307692307693,
          3.6992307692307693,
          3.6992307692307693,
          3.6992307692307693,
          3.786,
          3.786,
          3.786,
          3.786,
          3.786,
          3.786,
          3.786,
          3.6214814814814815,
          3.6214814814814815,
          3.6214814814814815,
          3.6214814814814815,
          3.6214814814814815,
          3.6214814814814815,
          3.6214814814814815,
          3.6214814814814815,
          3.6214814814814815,
          3.6214814814814815,
          3.6214814814814815,
          3.6214814814814815,
          3.6214814814814815,
          3.7,
          3.7,
          3.7,
          3.7,
          3.7,
          3.7,
          3.7,
          3.7,
          3.7,
          3.7,
          3.7,
          3.7,
          3.7,
          3.7,
          3.7,
          3.7,
          3.7,
          3.7,
          3.7,
          3.7,
          3.7,
          3.7,
          3.7,
          3.7,
          3.7,
          3.7,
          3.7
         ],
         "yaxis": "y3"
        }
       ],
       "layout": {
        "annotations": [
         {
          "font": {
           "size": 16
          },
          "showarrow": false,
          "text": "Aceite-de-oliva",
          "x": 0.5,
          "xanchor": "center",
          "xref": "paper",
          "y": 1,
          "yanchor": "bottom",
          "yref": "paper"
         },
         {
          "font": {
           "size": 16
          },
          "showarrow": false,
          "text": "Aceite-de-girasol",
          "x": 0.5,
          "xanchor": "center",
          "xref": "paper",
          "y": 0.6111111111111112,
          "yanchor": "bottom",
          "yref": "paper"
         },
         {
          "font": {
           "size": 16
          },
          "showarrow": false,
          "text": "Leche",
          "x": 0.5,
          "xanchor": "center",
          "xref": "paper",
          "y": 0.22222222222222224,
          "yanchor": "bottom",
          "yref": "paper"
         }
        ],
        "height": 900,
        "showlegend": true,
        "template": {
         "data": {
          "bar": [
           {
            "error_x": {
             "color": "#2a3f5f"
            },
            "error_y": {
             "color": "#2a3f5f"
            },
            "marker": {
             "line": {
              "color": "#E5ECF6",
              "width": 0.5
             },
             "pattern": {
              "fillmode": "overlay",
              "size": 10,
              "solidity": 0.2
             }
            },
            "type": "bar"
           }
          ],
          "barpolar": [
           {
            "marker": {
             "line": {
              "color": "#E5ECF6",
              "width": 0.5
             },
             "pattern": {
              "fillmode": "overlay",
              "size": 10,
              "solidity": 0.2
             }
            },
            "type": "barpolar"
           }
          ],
          "carpet": [
           {
            "aaxis": {
             "endlinecolor": "#2a3f5f",
             "gridcolor": "white",
             "linecolor": "white",
             "minorgridcolor": "white",
             "startlinecolor": "#2a3f5f"
            },
            "baxis": {
             "endlinecolor": "#2a3f5f",
             "gridcolor": "white",
             "linecolor": "white",
             "minorgridcolor": "white",
             "startlinecolor": "#2a3f5f"
            },
            "type": "carpet"
           }
          ],
          "choropleth": [
           {
            "colorbar": {
             "outlinewidth": 0,
             "ticks": ""
            },
            "type": "choropleth"
           }
          ],
          "contour": [
           {
            "colorbar": {
             "outlinewidth": 0,
             "ticks": ""
            },
            "colorscale": [
             [
              0,
              "#0d0887"
             ],
             [
              0.1111111111111111,
              "#46039f"
             ],
             [
              0.2222222222222222,
              "#7201a8"
             ],
             [
              0.3333333333333333,
              "#9c179e"
             ],
             [
              0.4444444444444444,
              "#bd3786"
             ],
             [
              0.5555555555555556,
              "#d8576b"
             ],
             [
              0.6666666666666666,
              "#ed7953"
             ],
             [
              0.7777777777777778,
              "#fb9f3a"
             ],
             [
              0.8888888888888888,
              "#fdca26"
             ],
             [
              1,
              "#f0f921"
             ]
            ],
            "type": "contour"
           }
          ],
          "contourcarpet": [
           {
            "colorbar": {
             "outlinewidth": 0,
             "ticks": ""
            },
            "type": "contourcarpet"
           }
          ],
          "heatmap": [
           {
            "colorbar": {
             "outlinewidth": 0,
             "ticks": ""
            },
            "colorscale": [
             [
              0,
              "#0d0887"
             ],
             [
              0.1111111111111111,
              "#46039f"
             ],
             [
              0.2222222222222222,
              "#7201a8"
             ],
             [
              0.3333333333333333,
              "#9c179e"
             ],
             [
              0.4444444444444444,
              "#bd3786"
             ],
             [
              0.5555555555555556,
              "#d8576b"
             ],
             [
              0.6666666666666666,
              "#ed7953"
             ],
             [
              0.7777777777777778,
              "#fb9f3a"
             ],
             [
              0.8888888888888888,
              "#fdca26"
             ],
             [
              1,
              "#f0f921"
             ]
            ],
            "type": "heatmap"
           }
          ],
          "heatmapgl": [
           {
            "colorbar": {
             "outlinewidth": 0,
             "ticks": ""
            },
            "colorscale": [
             [
              0,
              "#0d0887"
             ],
             [
              0.1111111111111111,
              "#46039f"
             ],
             [
              0.2222222222222222,
              "#7201a8"
             ],
             [
              0.3333333333333333,
              "#9c179e"
             ],
             [
              0.4444444444444444,
              "#bd3786"
             ],
             [
              0.5555555555555556,
              "#d8576b"
             ],
             [
              0.6666666666666666,
              "#ed7953"
             ],
             [
              0.7777777777777778,
              "#fb9f3a"
             ],
             [
              0.8888888888888888,
              "#fdca26"
             ],
             [
              1,
              "#f0f921"
             ]
            ],
            "type": "heatmapgl"
           }
          ],
          "histogram": [
           {
            "marker": {
             "pattern": {
              "fillmode": "overlay",
              "size": 10,
              "solidity": 0.2
             }
            },
            "type": "histogram"
           }
          ],
          "histogram2d": [
           {
            "colorbar": {
             "outlinewidth": 0,
             "ticks": ""
            },
            "colorscale": [
             [
              0,
              "#0d0887"
             ],
             [
              0.1111111111111111,
              "#46039f"
             ],
             [
              0.2222222222222222,
              "#7201a8"
             ],
             [
              0.3333333333333333,
              "#9c179e"
             ],
             [
              0.4444444444444444,
              "#bd3786"
             ],
             [
              0.5555555555555556,
              "#d8576b"
             ],
             [
              0.6666666666666666,
              "#ed7953"
             ],
             [
              0.7777777777777778,
              "#fb9f3a"
             ],
             [
              0.8888888888888888,
              "#fdca26"
             ],
             [
              1,
              "#f0f921"
             ]
            ],
            "type": "histogram2d"
           }
          ],
          "histogram2dcontour": [
           {
            "colorbar": {
             "outlinewidth": 0,
             "ticks": ""
            },
            "colorscale": [
             [
              0,
              "#0d0887"
             ],
             [
              0.1111111111111111,
              "#46039f"
             ],
             [
              0.2222222222222222,
              "#7201a8"
             ],
             [
              0.3333333333333333,
              "#9c179e"
             ],
             [
              0.4444444444444444,
              "#bd3786"
             ],
             [
              0.5555555555555556,
              "#d8576b"
             ],
             [
              0.6666666666666666,
              "#ed7953"
             ],
             [
              0.7777777777777778,
              "#fb9f3a"
             ],
             [
              0.8888888888888888,
              "#fdca26"
             ],
             [
              1,
              "#f0f921"
             ]
            ],
            "type": "histogram2dcontour"
           }
          ],
          "mesh3d": [
           {
            "colorbar": {
             "outlinewidth": 0,
             "ticks": ""
            },
            "type": "mesh3d"
           }
          ],
          "parcoords": [
           {
            "line": {
             "colorbar": {
              "outlinewidth": 0,
              "ticks": ""
             }
            },
            "type": "parcoords"
           }
          ],
          "pie": [
           {
            "automargin": true,
            "type": "pie"
           }
          ],
          "scatter": [
           {
            "fillpattern": {
             "fillmode": "overlay",
             "size": 10,
             "solidity": 0.2
            },
            "type": "scatter"
           }
          ],
          "scatter3d": [
           {
            "line": {
             "colorbar": {
              "outlinewidth": 0,
              "ticks": ""
             }
            },
            "marker": {
             "colorbar": {
              "outlinewidth": 0,
              "ticks": ""
             }
            },
            "type": "scatter3d"
           }
          ],
          "scattercarpet": [
           {
            "marker": {
             "colorbar": {
              "outlinewidth": 0,
              "ticks": ""
             }
            },
            "type": "scattercarpet"
           }
          ],
          "scattergeo": [
           {
            "marker": {
             "colorbar": {
              "outlinewidth": 0,
              "ticks": ""
             }
            },
            "type": "scattergeo"
           }
          ],
          "scattergl": [
           {
            "marker": {
             "colorbar": {
              "outlinewidth": 0,
              "ticks": ""
             }
            },
            "type": "scattergl"
           }
          ],
          "scattermapbox": [
           {
            "marker": {
             "colorbar": {
              "outlinewidth": 0,
              "ticks": ""
             }
            },
            "type": "scattermapbox"
           }
          ],
          "scatterpolar": [
           {
            "marker": {
             "colorbar": {
              "outlinewidth": 0,
              "ticks": ""
             }
            },
            "type": "scatterpolar"
           }
          ],
          "scatterpolargl": [
           {
            "marker": {
             "colorbar": {
              "outlinewidth": 0,
              "ticks": ""
             }
            },
            "type": "scatterpolargl"
           }
          ],
          "scatterternary": [
           {
            "marker": {
             "colorbar": {
              "outlinewidth": 0,
              "ticks": ""
             }
            },
            "type": "scatterternary"
           }
          ],
          "surface": [
           {
            "colorbar": {
             "outlinewidth": 0,
             "ticks": ""
            },
            "colorscale": [
             [
              0,
              "#0d0887"
             ],
             [
              0.1111111111111111,
              "#46039f"
             ],
             [
              0.2222222222222222,
              "#7201a8"
             ],
             [
              0.3333333333333333,
              "#9c179e"
             ],
             [
              0.4444444444444444,
              "#bd3786"
             ],
             [
              0.5555555555555556,
              "#d8576b"
             ],
             [
              0.6666666666666666,
              "#ed7953"
             ],
             [
              0.7777777777777778,
              "#fb9f3a"
             ],
             [
              0.8888888888888888,
              "#fdca26"
             ],
             [
              1,
              "#f0f921"
             ]
            ],
            "type": "surface"
           }
          ],
          "table": [
           {
            "cells": {
             "fill": {
              "color": "#EBF0F8"
             },
             "line": {
              "color": "white"
             }
            },
            "header": {
             "fill": {
              "color": "#C8D4E3"
             },
             "line": {
              "color": "white"
             }
            },
            "type": "table"
           }
          ]
         },
         "layout": {
          "annotationdefaults": {
           "arrowcolor": "#2a3f5f",
           "arrowhead": 0,
           "arrowwidth": 1
          },
          "autotypenumbers": "strict",
          "coloraxis": {
           "colorbar": {
            "outlinewidth": 0,
            "ticks": ""
           }
          },
          "colorscale": {
           "diverging": [
            [
             0,
             "#8e0152"
            ],
            [
             0.1,
             "#c51b7d"
            ],
            [
             0.2,
             "#de77ae"
            ],
            [
             0.3,
             "#f1b6da"
            ],
            [
             0.4,
             "#fde0ef"
            ],
            [
             0.5,
             "#f7f7f7"
            ],
            [
             0.6,
             "#e6f5d0"
            ],
            [
             0.7,
             "#b8e186"
            ],
            [
             0.8,
             "#7fbc41"
            ],
            [
             0.9,
             "#4d9221"
            ],
            [
             1,
             "#276419"
            ]
           ],
           "sequential": [
            [
             0,
             "#0d0887"
            ],
            [
             0.1111111111111111,
             "#46039f"
            ],
            [
             0.2222222222222222,
             "#7201a8"
            ],
            [
             0.3333333333333333,
             "#9c179e"
            ],
            [
             0.4444444444444444,
             "#bd3786"
            ],
            [
             0.5555555555555556,
             "#d8576b"
            ],
            [
             0.6666666666666666,
             "#ed7953"
            ],
            [
             0.7777777777777778,
             "#fb9f3a"
            ],
            [
             0.8888888888888888,
             "#fdca26"
            ],
            [
             1,
             "#f0f921"
            ]
           ],
           "sequentialminus": [
            [
             0,
             "#0d0887"
            ],
            [
             0.1111111111111111,
             "#46039f"
            ],
            [
             0.2222222222222222,
             "#7201a8"
            ],
            [
             0.3333333333333333,
             "#9c179e"
            ],
            [
             0.4444444444444444,
             "#bd3786"
            ],
            [
             0.5555555555555556,
             "#d8576b"
            ],
            [
             0.6666666666666666,
             "#ed7953"
            ],
            [
             0.7777777777777778,
             "#fb9f3a"
            ],
            [
             0.8888888888888888,
             "#fdca26"
            ],
            [
             1,
             "#f0f921"
            ]
           ]
          },
          "colorway": [
           "#636efa",
           "#EF553B",
           "#00cc96",
           "#ab63fa",
           "#FFA15A",
           "#19d3f3",
           "#FF6692",
           "#B6E880",
           "#FF97FF",
           "#FECB52"
          ],
          "font": {
           "color": "#2a3f5f"
          },
          "geo": {
           "bgcolor": "white",
           "lakecolor": "white",
           "landcolor": "#E5ECF6",
           "showlakes": true,
           "showland": true,
           "subunitcolor": "white"
          },
          "hoverlabel": {
           "align": "left"
          },
          "hovermode": "closest",
          "mapbox": {
           "style": "light"
          },
          "paper_bgcolor": "white",
          "plot_bgcolor": "#E5ECF6",
          "polar": {
           "angularaxis": {
            "gridcolor": "white",
            "linecolor": "white",
            "ticks": ""
           },
           "bgcolor": "#E5ECF6",
           "radialaxis": {
            "gridcolor": "white",
            "linecolor": "white",
            "ticks": ""
           }
          },
          "scene": {
           "xaxis": {
            "backgroundcolor": "#E5ECF6",
            "gridcolor": "white",
            "gridwidth": 2,
            "linecolor": "white",
            "showbackground": true,
            "ticks": "",
            "zerolinecolor": "white"
           },
           "yaxis": {
            "backgroundcolor": "#E5ECF6",
            "gridcolor": "white",
            "gridwidth": 2,
            "linecolor": "white",
            "showbackground": true,
            "ticks": "",
            "zerolinecolor": "white"
           },
           "zaxis": {
            "backgroundcolor": "#E5ECF6",
            "gridcolor": "white",
            "gridwidth": 2,
            "linecolor": "white",
            "showbackground": true,
            "ticks": "",
            "zerolinecolor": "white"
           }
          },
          "shapedefaults": {
           "line": {
            "color": "#2a3f5f"
           }
          },
          "ternary": {
           "aaxis": {
            "gridcolor": "white",
            "linecolor": "white",
            "ticks": ""
           },
           "baxis": {
            "gridcolor": "white",
            "linecolor": "white",
            "ticks": ""
           },
           "bgcolor": "#E5ECF6",
           "caxis": {
            "gridcolor": "white",
            "linecolor": "white",
            "ticks": ""
           }
          },
          "title": {
           "x": 0.05
          },
          "xaxis": {
           "automargin": true,
           "gridcolor": "white",
           "linecolor": "white",
           "ticks": "",
           "title": {
            "standoff": 15
           },
           "zerolinecolor": "white",
           "zerolinewidth": 2
          },
          "yaxis": {
           "automargin": true,
           "gridcolor": "white",
           "linecolor": "white",
           "ticks": "",
           "title": {
            "standoff": 15
           },
           "zerolinecolor": "white",
           "zerolinewidth": 2
          }
         }
        },
        "title": {
         "text": "Evolución de Precios por Supermercado y por Categoría"
        },
        "xaxis": {
         "anchor": "y",
         "domain": [
          0,
          1
         ],
         "matches": "x3",
         "showticklabels": false,
         "title": {
          "text": "Fecha"
         }
        },
        "xaxis2": {
         "anchor": "y2",
         "domain": [
          0,
          1
         ],
         "matches": "x3",
         "showticklabels": false
        },
        "xaxis3": {
         "anchor": "y3",
         "domain": [
          0,
          1
         ]
        },
        "yaxis": {
         "anchor": "x",
         "domain": [
          0.7777777777777778,
          1
         ],
         "title": {
          "text": "Precio (EUR)"
         }
        },
        "yaxis2": {
         "anchor": "x2",
         "domain": [
          0.3888888888888889,
          0.6111111111111112
         ]
        },
        "yaxis3": {
         "anchor": "x3",
         "domain": [
          0,
          0.22222222222222224
         ]
        }
       }
      }
     },
     "metadata": {},
     "output_type": "display_data"
    }
   ],
   "source": [
    "# Crear un diccionario de colores para los supermercados\n",
    "color_map = {\n",
    "    'Mercadona': 'rgb(31, 119, 180)',\n",
    "    'Carrefour': 'rgb(255, 127, 14)',\n",
    "    'Dia': 'rgb(44, 160, 44)',\n",
    "    'Eroski': 'rgb(214, 39, 40)',\n",
    "    'Hipercor': 'rgb(148, 103, 189)',\n",
    "    'Alcampo': 'rgb(140, 86, 75)'\n",
    "}\n",
    "\n",
    "categorias = resultado4_1['categoria'].unique()\n",
    "fig4_1 = sp.make_subplots(rows=len(categorias), cols=1, subplot_titles=categorias, shared_xaxes=True)\n",
    "\n",
    "\n",
    "for i, categoria in enumerate(categorias):\n",
    "    df_filtered = resultado4_1[resultado4_1['categoria'] == categoria]\n",
    "    for supermercado in df_filtered['supermercado'].unique():\n",
    "        df_supermercado = df_filtered[df_filtered['supermercado'] == supermercado]\n",
    "        fig4_1.add_trace(\n",
    "            go.Scatter(\n",
    "                x=df_supermercado['fecha'], \n",
    "                y=df_supermercado['precio'], \n",
    "                mode='markers', \n",
    "                name=supermercado,\n",
    "                marker=dict(color=color_map[supermercado])\n",
    "            ),\n",
    "            row=i + 1, col=1\n",
    "        )\n",
    "\n",
    "fig4_1.update_layout(\n",
    "    height=300 * 3,\n",
    "    title_text=\"Evolución de Precios por Supermercado y por Categoría\",\n",
    "    xaxis_title=\"Fecha\",\n",
    "    yaxis_title=\"Precio (EUR)\",\n",
    "    showlegend=True\n",
    ")\n",
    "\n",
    "fig4_1.show()\n"
   ]
  },
  {
   "cell_type": "markdown",
   "metadata": {},
   "source": [
    "### 5. Comparación de Precios Promedio\n",
    "\n",
    "- Calcular y comparar los precios promedio de cada producto en diferentes supermercados."
   ]
  },
  {
   "cell_type": "code",
   "execution_count": 17,
   "metadata": {},
   "outputs": [],
   "source": [
    "query5 = '''\n",
    "SELECT \n",
    "    s.nombre AS supermercado,\n",
    "    c.nombre AS categoria,\n",
    "    ROUND(AVG(h.precioeur),2) AS precio_promedio\n",
    "FROM \n",
    "    historico h\n",
    "INNER JOIN \n",
    "    categorias c\n",
    "        ON h.id_categoria = c.id_categoria\n",
    "INNER JOIN \n",
    "    supermercados s\n",
    "        ON h.id_supermercado = s.id_supermercado\n",
    "GROUP BY \n",
    "    s.nombre, c.nombre\n",
    "ORDER BY \n",
    "    c.nombre, precio_promedio;\n",
    "'''"
   ]
  },
  {
   "cell_type": "code",
   "execution_count": 18,
   "metadata": {},
   "outputs": [
    {
     "data": {
      "text/html": [
       "<div>\n",
       "<style scoped>\n",
       "    .dataframe tbody tr th:only-of-type {\n",
       "        vertical-align: middle;\n",
       "    }\n",
       "\n",
       "    .dataframe tbody tr th {\n",
       "        vertical-align: top;\n",
       "    }\n",
       "\n",
       "    .dataframe thead th {\n",
       "        text-align: right;\n",
       "    }\n",
       "</style>\n",
       "<table border=\"1\" class=\"dataframe\">\n",
       "  <thead>\n",
       "    <tr style=\"text-align: right;\">\n",
       "      <th></th>\n",
       "      <th>supermercado</th>\n",
       "      <th>categoria</th>\n",
       "      <th>precio_promedio</th>\n",
       "    </tr>\n",
       "  </thead>\n",
       "  <tbody>\n",
       "    <tr>\n",
       "      <th>0</th>\n",
       "      <td>Alcampo</td>\n",
       "      <td>Aceite-de-girasol</td>\n",
       "      <td>2.61</td>\n",
       "    </tr>\n",
       "    <tr>\n",
       "      <th>1</th>\n",
       "      <td>Hipercor</td>\n",
       "      <td>Aceite-de-girasol</td>\n",
       "      <td>3.01</td>\n",
       "    </tr>\n",
       "    <tr>\n",
       "      <th>2</th>\n",
       "      <td>Eroski</td>\n",
       "      <td>Aceite-de-girasol</td>\n",
       "      <td>3.13</td>\n",
       "    </tr>\n",
       "    <tr>\n",
       "      <th>3</th>\n",
       "      <td>Mercadona</td>\n",
       "      <td>Aceite-de-girasol</td>\n",
       "      <td>4.12</td>\n",
       "    </tr>\n",
       "    <tr>\n",
       "      <th>4</th>\n",
       "      <td>Dia</td>\n",
       "      <td>Aceite-de-girasol</td>\n",
       "      <td>5.54</td>\n",
       "    </tr>\n",
       "    <tr>\n",
       "      <th>5</th>\n",
       "      <td>Carrefour</td>\n",
       "      <td>Aceite-de-girasol</td>\n",
       "      <td>8.25</td>\n",
       "    </tr>\n",
       "    <tr>\n",
       "      <th>6</th>\n",
       "      <td>Mercadona</td>\n",
       "      <td>Aceite-de-oliva</td>\n",
       "      <td>13.04</td>\n",
       "    </tr>\n",
       "    <tr>\n",
       "      <th>7</th>\n",
       "      <td>Eroski</td>\n",
       "      <td>Aceite-de-oliva</td>\n",
       "      <td>13.25</td>\n",
       "    </tr>\n",
       "    <tr>\n",
       "      <th>8</th>\n",
       "      <td>Dia</td>\n",
       "      <td>Aceite-de-oliva</td>\n",
       "      <td>14.71</td>\n",
       "    </tr>\n",
       "    <tr>\n",
       "      <th>9</th>\n",
       "      <td>Carrefour</td>\n",
       "      <td>Aceite-de-oliva</td>\n",
       "      <td>17.31</td>\n",
       "    </tr>\n",
       "    <tr>\n",
       "      <th>10</th>\n",
       "      <td>Hipercor</td>\n",
       "      <td>Aceite-de-oliva</td>\n",
       "      <td>20.13</td>\n",
       "    </tr>\n",
       "    <tr>\n",
       "      <th>11</th>\n",
       "      <td>Alcampo</td>\n",
       "      <td>Aceite-de-oliva</td>\n",
       "      <td>24.63</td>\n",
       "    </tr>\n",
       "    <tr>\n",
       "      <th>12</th>\n",
       "      <td>Eroski</td>\n",
       "      <td>Leche</td>\n",
       "      <td>1.54</td>\n",
       "    </tr>\n",
       "    <tr>\n",
       "      <th>13</th>\n",
       "      <td>Hipercor</td>\n",
       "      <td>Leche</td>\n",
       "      <td>1.61</td>\n",
       "    </tr>\n",
       "    <tr>\n",
       "      <th>14</th>\n",
       "      <td>Carrefour</td>\n",
       "      <td>Leche</td>\n",
       "      <td>1.70</td>\n",
       "    </tr>\n",
       "    <tr>\n",
       "      <th>15</th>\n",
       "      <td>Mercadona</td>\n",
       "      <td>Leche</td>\n",
       "      <td>3.67</td>\n",
       "    </tr>\n",
       "    <tr>\n",
       "      <th>16</th>\n",
       "      <td>Alcampo</td>\n",
       "      <td>Leche</td>\n",
       "      <td>3.89</td>\n",
       "    </tr>\n",
       "    <tr>\n",
       "      <th>17</th>\n",
       "      <td>Dia</td>\n",
       "      <td>Leche</td>\n",
       "      <td>5.35</td>\n",
       "    </tr>\n",
       "  </tbody>\n",
       "</table>\n",
       "</div>"
      ],
      "text/plain": [
       "   supermercado          categoria precio_promedio\n",
       "0       Alcampo  Aceite-de-girasol            2.61\n",
       "1      Hipercor  Aceite-de-girasol            3.01\n",
       "2        Eroski  Aceite-de-girasol            3.13\n",
       "3     Mercadona  Aceite-de-girasol            4.12\n",
       "4           Dia  Aceite-de-girasol            5.54\n",
       "5     Carrefour  Aceite-de-girasol            8.25\n",
       "6     Mercadona    Aceite-de-oliva           13.04\n",
       "7        Eroski    Aceite-de-oliva           13.25\n",
       "8           Dia    Aceite-de-oliva           14.71\n",
       "9     Carrefour    Aceite-de-oliva           17.31\n",
       "10     Hipercor    Aceite-de-oliva           20.13\n",
       "11      Alcampo    Aceite-de-oliva           24.63\n",
       "12       Eroski              Leche            1.54\n",
       "13     Hipercor              Leche            1.61\n",
       "14    Carrefour              Leche            1.70\n",
       "15    Mercadona              Leche            3.67\n",
       "16      Alcampo              Leche            3.89\n",
       "17          Dia              Leche            5.35"
      ]
     },
     "execution_count": 18,
     "metadata": {},
     "output_type": "execute_result"
    }
   ],
   "source": [
    "resultado5 = sf.dbeaver_fetch(sf.dbeaver_conexion(\"Facua\"),query5)\n",
    "resultado5"
   ]
  },
  {
   "cell_type": "code",
   "execution_count": 19,
   "metadata": {},
   "outputs": [],
   "source": [
    "resultado5[\"precio_promedio\"] = resultado5[\"precio_promedio\"].apply(float)"
   ]
  },
  {
   "cell_type": "code",
   "execution_count": 20,
   "metadata": {},
   "outputs": [
    {
     "data": {
      "application/vnd.plotly.v1+json": {
       "config": {
        "plotlyServerURL": "https://plot.ly"
       },
       "data": [
        {
         "name": "Aceite-de-girasol",
         "text": [
          2.61,
          3.01,
          3.13,
          4.12,
          5.54,
          8.25
         ],
         "textposition": "auto",
         "type": "bar",
         "x": [
          "Alcampo",
          "Hipercor",
          "Eroski",
          "Mercadona",
          "Dia",
          "Carrefour"
         ],
         "xaxis": "x",
         "y": [
          2.61,
          3.01,
          3.13,
          4.12,
          5.54,
          8.25
         ],
         "yaxis": "y"
        },
        {
         "name": "Aceite-de-oliva",
         "text": [
          13.04,
          13.25,
          14.71,
          17.31,
          20.13,
          24.63
         ],
         "textposition": "auto",
         "type": "bar",
         "x": [
          "Mercadona",
          "Eroski",
          "Dia",
          "Carrefour",
          "Hipercor",
          "Alcampo"
         ],
         "xaxis": "x2",
         "y": [
          13.04,
          13.25,
          14.71,
          17.31,
          20.13,
          24.63
         ],
         "yaxis": "y2"
        },
        {
         "name": "Leche",
         "text": [
          1.54,
          1.61,
          1.7,
          3.67,
          3.89,
          5.35
         ],
         "textposition": "auto",
         "type": "bar",
         "x": [
          "Eroski",
          "Hipercor",
          "Carrefour",
          "Mercadona",
          "Alcampo",
          "Dia"
         ],
         "xaxis": "x3",
         "y": [
          1.54,
          1.61,
          1.7,
          3.67,
          3.89,
          5.35
         ],
         "yaxis": "y3"
        }
       ],
       "layout": {
        "annotations": [
         {
          "font": {
           "size": 16
          },
          "showarrow": false,
          "text": "Aceite-de-girasol",
          "x": 0.5,
          "xanchor": "center",
          "xref": "paper",
          "y": 1,
          "yanchor": "bottom",
          "yref": "paper"
         },
         {
          "font": {
           "size": 16
          },
          "showarrow": false,
          "text": "Aceite-de-oliva",
          "x": 0.5,
          "xanchor": "center",
          "xref": "paper",
          "y": 0.6111111111111112,
          "yanchor": "bottom",
          "yref": "paper"
         },
         {
          "font": {
           "size": 16
          },
          "showarrow": false,
          "text": "Leche",
          "x": 0.5,
          "xanchor": "center",
          "xref": "paper",
          "y": 0.22222222222222224,
          "yanchor": "bottom",
          "yref": "paper"
         }
        ],
        "barmode": "stack",
        "height": 900,
        "showlegend": false,
        "template": {
         "data": {
          "bar": [
           {
            "error_x": {
             "color": "#2a3f5f"
            },
            "error_y": {
             "color": "#2a3f5f"
            },
            "marker": {
             "line": {
              "color": "#E5ECF6",
              "width": 0.5
             },
             "pattern": {
              "fillmode": "overlay",
              "size": 10,
              "solidity": 0.2
             }
            },
            "type": "bar"
           }
          ],
          "barpolar": [
           {
            "marker": {
             "line": {
              "color": "#E5ECF6",
              "width": 0.5
             },
             "pattern": {
              "fillmode": "overlay",
              "size": 10,
              "solidity": 0.2
             }
            },
            "type": "barpolar"
           }
          ],
          "carpet": [
           {
            "aaxis": {
             "endlinecolor": "#2a3f5f",
             "gridcolor": "white",
             "linecolor": "white",
             "minorgridcolor": "white",
             "startlinecolor": "#2a3f5f"
            },
            "baxis": {
             "endlinecolor": "#2a3f5f",
             "gridcolor": "white",
             "linecolor": "white",
             "minorgridcolor": "white",
             "startlinecolor": "#2a3f5f"
            },
            "type": "carpet"
           }
          ],
          "choropleth": [
           {
            "colorbar": {
             "outlinewidth": 0,
             "ticks": ""
            },
            "type": "choropleth"
           }
          ],
          "contour": [
           {
            "colorbar": {
             "outlinewidth": 0,
             "ticks": ""
            },
            "colorscale": [
             [
              0,
              "#0d0887"
             ],
             [
              0.1111111111111111,
              "#46039f"
             ],
             [
              0.2222222222222222,
              "#7201a8"
             ],
             [
              0.3333333333333333,
              "#9c179e"
             ],
             [
              0.4444444444444444,
              "#bd3786"
             ],
             [
              0.5555555555555556,
              "#d8576b"
             ],
             [
              0.6666666666666666,
              "#ed7953"
             ],
             [
              0.7777777777777778,
              "#fb9f3a"
             ],
             [
              0.8888888888888888,
              "#fdca26"
             ],
             [
              1,
              "#f0f921"
             ]
            ],
            "type": "contour"
           }
          ],
          "contourcarpet": [
           {
            "colorbar": {
             "outlinewidth": 0,
             "ticks": ""
            },
            "type": "contourcarpet"
           }
          ],
          "heatmap": [
           {
            "colorbar": {
             "outlinewidth": 0,
             "ticks": ""
            },
            "colorscale": [
             [
              0,
              "#0d0887"
             ],
             [
              0.1111111111111111,
              "#46039f"
             ],
             [
              0.2222222222222222,
              "#7201a8"
             ],
             [
              0.3333333333333333,
              "#9c179e"
             ],
             [
              0.4444444444444444,
              "#bd3786"
             ],
             [
              0.5555555555555556,
              "#d8576b"
             ],
             [
              0.6666666666666666,
              "#ed7953"
             ],
             [
              0.7777777777777778,
              "#fb9f3a"
             ],
             [
              0.8888888888888888,
              "#fdca26"
             ],
             [
              1,
              "#f0f921"
             ]
            ],
            "type": "heatmap"
           }
          ],
          "heatmapgl": [
           {
            "colorbar": {
             "outlinewidth": 0,
             "ticks": ""
            },
            "colorscale": [
             [
              0,
              "#0d0887"
             ],
             [
              0.1111111111111111,
              "#46039f"
             ],
             [
              0.2222222222222222,
              "#7201a8"
             ],
             [
              0.3333333333333333,
              "#9c179e"
             ],
             [
              0.4444444444444444,
              "#bd3786"
             ],
             [
              0.5555555555555556,
              "#d8576b"
             ],
             [
              0.6666666666666666,
              "#ed7953"
             ],
             [
              0.7777777777777778,
              "#fb9f3a"
             ],
             [
              0.8888888888888888,
              "#fdca26"
             ],
             [
              1,
              "#f0f921"
             ]
            ],
            "type": "heatmapgl"
           }
          ],
          "histogram": [
           {
            "marker": {
             "pattern": {
              "fillmode": "overlay",
              "size": 10,
              "solidity": 0.2
             }
            },
            "type": "histogram"
           }
          ],
          "histogram2d": [
           {
            "colorbar": {
             "outlinewidth": 0,
             "ticks": ""
            },
            "colorscale": [
             [
              0,
              "#0d0887"
             ],
             [
              0.1111111111111111,
              "#46039f"
             ],
             [
              0.2222222222222222,
              "#7201a8"
             ],
             [
              0.3333333333333333,
              "#9c179e"
             ],
             [
              0.4444444444444444,
              "#bd3786"
             ],
             [
              0.5555555555555556,
              "#d8576b"
             ],
             [
              0.6666666666666666,
              "#ed7953"
             ],
             [
              0.7777777777777778,
              "#fb9f3a"
             ],
             [
              0.8888888888888888,
              "#fdca26"
             ],
             [
              1,
              "#f0f921"
             ]
            ],
            "type": "histogram2d"
           }
          ],
          "histogram2dcontour": [
           {
            "colorbar": {
             "outlinewidth": 0,
             "ticks": ""
            },
            "colorscale": [
             [
              0,
              "#0d0887"
             ],
             [
              0.1111111111111111,
              "#46039f"
             ],
             [
              0.2222222222222222,
              "#7201a8"
             ],
             [
              0.3333333333333333,
              "#9c179e"
             ],
             [
              0.4444444444444444,
              "#bd3786"
             ],
             [
              0.5555555555555556,
              "#d8576b"
             ],
             [
              0.6666666666666666,
              "#ed7953"
             ],
             [
              0.7777777777777778,
              "#fb9f3a"
             ],
             [
              0.8888888888888888,
              "#fdca26"
             ],
             [
              1,
              "#f0f921"
             ]
            ],
            "type": "histogram2dcontour"
           }
          ],
          "mesh3d": [
           {
            "colorbar": {
             "outlinewidth": 0,
             "ticks": ""
            },
            "type": "mesh3d"
           }
          ],
          "parcoords": [
           {
            "line": {
             "colorbar": {
              "outlinewidth": 0,
              "ticks": ""
             }
            },
            "type": "parcoords"
           }
          ],
          "pie": [
           {
            "automargin": true,
            "type": "pie"
           }
          ],
          "scatter": [
           {
            "fillpattern": {
             "fillmode": "overlay",
             "size": 10,
             "solidity": 0.2
            },
            "type": "scatter"
           }
          ],
          "scatter3d": [
           {
            "line": {
             "colorbar": {
              "outlinewidth": 0,
              "ticks": ""
             }
            },
            "marker": {
             "colorbar": {
              "outlinewidth": 0,
              "ticks": ""
             }
            },
            "type": "scatter3d"
           }
          ],
          "scattercarpet": [
           {
            "marker": {
             "colorbar": {
              "outlinewidth": 0,
              "ticks": ""
             }
            },
            "type": "scattercarpet"
           }
          ],
          "scattergeo": [
           {
            "marker": {
             "colorbar": {
              "outlinewidth": 0,
              "ticks": ""
             }
            },
            "type": "scattergeo"
           }
          ],
          "scattergl": [
           {
            "marker": {
             "colorbar": {
              "outlinewidth": 0,
              "ticks": ""
             }
            },
            "type": "scattergl"
           }
          ],
          "scattermapbox": [
           {
            "marker": {
             "colorbar": {
              "outlinewidth": 0,
              "ticks": ""
             }
            },
            "type": "scattermapbox"
           }
          ],
          "scatterpolar": [
           {
            "marker": {
             "colorbar": {
              "outlinewidth": 0,
              "ticks": ""
             }
            },
            "type": "scatterpolar"
           }
          ],
          "scatterpolargl": [
           {
            "marker": {
             "colorbar": {
              "outlinewidth": 0,
              "ticks": ""
             }
            },
            "type": "scatterpolargl"
           }
          ],
          "scatterternary": [
           {
            "marker": {
             "colorbar": {
              "outlinewidth": 0,
              "ticks": ""
             }
            },
            "type": "scatterternary"
           }
          ],
          "surface": [
           {
            "colorbar": {
             "outlinewidth": 0,
             "ticks": ""
            },
            "colorscale": [
             [
              0,
              "#0d0887"
             ],
             [
              0.1111111111111111,
              "#46039f"
             ],
             [
              0.2222222222222222,
              "#7201a8"
             ],
             [
              0.3333333333333333,
              "#9c179e"
             ],
             [
              0.4444444444444444,
              "#bd3786"
             ],
             [
              0.5555555555555556,
              "#d8576b"
             ],
             [
              0.6666666666666666,
              "#ed7953"
             ],
             [
              0.7777777777777778,
              "#fb9f3a"
             ],
             [
              0.8888888888888888,
              "#fdca26"
             ],
             [
              1,
              "#f0f921"
             ]
            ],
            "type": "surface"
           }
          ],
          "table": [
           {
            "cells": {
             "fill": {
              "color": "#EBF0F8"
             },
             "line": {
              "color": "white"
             }
            },
            "header": {
             "fill": {
              "color": "#C8D4E3"
             },
             "line": {
              "color": "white"
             }
            },
            "type": "table"
           }
          ]
         },
         "layout": {
          "annotationdefaults": {
           "arrowcolor": "#2a3f5f",
           "arrowhead": 0,
           "arrowwidth": 1
          },
          "autotypenumbers": "strict",
          "coloraxis": {
           "colorbar": {
            "outlinewidth": 0,
            "ticks": ""
           }
          },
          "colorscale": {
           "diverging": [
            [
             0,
             "#8e0152"
            ],
            [
             0.1,
             "#c51b7d"
            ],
            [
             0.2,
             "#de77ae"
            ],
            [
             0.3,
             "#f1b6da"
            ],
            [
             0.4,
             "#fde0ef"
            ],
            [
             0.5,
             "#f7f7f7"
            ],
            [
             0.6,
             "#e6f5d0"
            ],
            [
             0.7,
             "#b8e186"
            ],
            [
             0.8,
             "#7fbc41"
            ],
            [
             0.9,
             "#4d9221"
            ],
            [
             1,
             "#276419"
            ]
           ],
           "sequential": [
            [
             0,
             "#0d0887"
            ],
            [
             0.1111111111111111,
             "#46039f"
            ],
            [
             0.2222222222222222,
             "#7201a8"
            ],
            [
             0.3333333333333333,
             "#9c179e"
            ],
            [
             0.4444444444444444,
             "#bd3786"
            ],
            [
             0.5555555555555556,
             "#d8576b"
            ],
            [
             0.6666666666666666,
             "#ed7953"
            ],
            [
             0.7777777777777778,
             "#fb9f3a"
            ],
            [
             0.8888888888888888,
             "#fdca26"
            ],
            [
             1,
             "#f0f921"
            ]
           ],
           "sequentialminus": [
            [
             0,
             "#0d0887"
            ],
            [
             0.1111111111111111,
             "#46039f"
            ],
            [
             0.2222222222222222,
             "#7201a8"
            ],
            [
             0.3333333333333333,
             "#9c179e"
            ],
            [
             0.4444444444444444,
             "#bd3786"
            ],
            [
             0.5555555555555556,
             "#d8576b"
            ],
            [
             0.6666666666666666,
             "#ed7953"
            ],
            [
             0.7777777777777778,
             "#fb9f3a"
            ],
            [
             0.8888888888888888,
             "#fdca26"
            ],
            [
             1,
             "#f0f921"
            ]
           ]
          },
          "colorway": [
           "#636efa",
           "#EF553B",
           "#00cc96",
           "#ab63fa",
           "#FFA15A",
           "#19d3f3",
           "#FF6692",
           "#B6E880",
           "#FF97FF",
           "#FECB52"
          ],
          "font": {
           "color": "#2a3f5f"
          },
          "geo": {
           "bgcolor": "white",
           "lakecolor": "white",
           "landcolor": "#E5ECF6",
           "showlakes": true,
           "showland": true,
           "subunitcolor": "white"
          },
          "hoverlabel": {
           "align": "left"
          },
          "hovermode": "closest",
          "mapbox": {
           "style": "light"
          },
          "paper_bgcolor": "white",
          "plot_bgcolor": "#E5ECF6",
          "polar": {
           "angularaxis": {
            "gridcolor": "white",
            "linecolor": "white",
            "ticks": ""
           },
           "bgcolor": "#E5ECF6",
           "radialaxis": {
            "gridcolor": "white",
            "linecolor": "white",
            "ticks": ""
           }
          },
          "scene": {
           "xaxis": {
            "backgroundcolor": "#E5ECF6",
            "gridcolor": "white",
            "gridwidth": 2,
            "linecolor": "white",
            "showbackground": true,
            "ticks": "",
            "zerolinecolor": "white"
           },
           "yaxis": {
            "backgroundcolor": "#E5ECF6",
            "gridcolor": "white",
            "gridwidth": 2,
            "linecolor": "white",
            "showbackground": true,
            "ticks": "",
            "zerolinecolor": "white"
           },
           "zaxis": {
            "backgroundcolor": "#E5ECF6",
            "gridcolor": "white",
            "gridwidth": 2,
            "linecolor": "white",
            "showbackground": true,
            "ticks": "",
            "zerolinecolor": "white"
           }
          },
          "shapedefaults": {
           "line": {
            "color": "#2a3f5f"
           }
          },
          "ternary": {
           "aaxis": {
            "gridcolor": "white",
            "linecolor": "white",
            "ticks": ""
           },
           "baxis": {
            "gridcolor": "white",
            "linecolor": "white",
            "ticks": ""
           },
           "bgcolor": "#E5ECF6",
           "caxis": {
            "gridcolor": "white",
            "linecolor": "white",
            "ticks": ""
           }
          },
          "title": {
           "x": 0.05
          },
          "xaxis": {
           "automargin": true,
           "gridcolor": "white",
           "linecolor": "white",
           "ticks": "",
           "title": {
            "standoff": 15
           },
           "zerolinecolor": "white",
           "zerolinewidth": 2
          },
          "yaxis": {
           "automargin": true,
           "gridcolor": "white",
           "linecolor": "white",
           "ticks": "",
           "title": {
            "standoff": 15
           },
           "zerolinecolor": "white",
           "zerolinewidth": 2
          }
         }
        },
        "title": {
         "text": "Precio Medio de Cada Categoría en Cada Supermercado"
        },
        "xaxis": {
         "anchor": "y",
         "domain": [
          0,
          1
         ]
        },
        "xaxis2": {
         "anchor": "y2",
         "domain": [
          0,
          1
         ]
        },
        "xaxis3": {
         "anchor": "y3",
         "domain": [
          0,
          1
         ]
        },
        "yaxis": {
         "anchor": "x",
         "domain": [
          0.7777777777777778,
          1
         ]
        },
        "yaxis2": {
         "anchor": "x2",
         "domain": [
          0.3888888888888889,
          0.6111111111111112
         ]
        },
        "yaxis3": {
         "anchor": "x3",
         "domain": [
          0,
          0.22222222222222224
         ]
        }
       }
      }
     },
     "metadata": {},
     "output_type": "display_data"
    }
   ],
   "source": [
    "categorias = resultado5['categoria'].unique()\n",
    "fig5 = sp.make_subplots(rows=len(categorias), cols=1, subplot_titles=categorias, shared_yaxes=False)\n",
    "\n",
    "for i, categoria in enumerate(categorias):\n",
    "    df_filtered = resultado5[resultado5['categoria'] == categoria]\n",
    "    fig5.add_trace(\n",
    "        go.Bar(x=df_filtered['supermercado'], y=df_filtered['precio_promedio'], name=categoria, text=df_filtered['precio_promedio'], textposition='auto'),\n",
    "        row=i + 1, col=1\n",
    "    )\n",
    "\n",
    "fig5.update_layout(\n",
    "    barmode='stack',  # Configurar las barras apiladas\n",
    "    height=300 * 3,\n",
    "    title_text=\"Precio Medio de Cada Categoría en Cada Supermercado\",\n",
    "    showlegend=False\n",
    ")\n",
    "\n",
    "fig5.show()\n"
   ]
  },
  {
   "cell_type": "code",
   "execution_count": 21,
   "metadata": {},
   "outputs": [],
   "source": [
    "query6 = '''\n",
    "SELECT \n",
    "    s.nombre AS supermercado, \n",
    "    c.nombre AS categoria, \n",
    "    COUNT(h.id_producto) AS total_productos\n",
    "FROM \n",
    "    historico h\n",
    "INNER JOIN \n",
    "    categorias c\n",
    "        ON h.id_categoria = c.id_categoria\n",
    "INNER JOIN \n",
    "    supermercados s\n",
    "        ON h.id_supermercado = s.id_supermercado\n",
    "GROUP BY \n",
    "    s.nombre, c.nombre\n",
    "ORDER BY \n",
    "    s.nombre, c.nombre;\n",
    "\n",
    "'''"
   ]
  },
  {
   "cell_type": "markdown",
   "metadata": {},
   "source": [
    "### 6. Cantidad de Productos por Supermercado\n",
    "\n",
    "- Identificar la cantidad de referencias analizadas por supermercado."
   ]
  },
  {
   "cell_type": "code",
   "execution_count": 22,
   "metadata": {},
   "outputs": [
    {
     "data": {
      "text/html": [
       "<div>\n",
       "<style scoped>\n",
       "    .dataframe tbody tr th:only-of-type {\n",
       "        vertical-align: middle;\n",
       "    }\n",
       "\n",
       "    .dataframe tbody tr th {\n",
       "        vertical-align: top;\n",
       "    }\n",
       "\n",
       "    .dataframe thead th {\n",
       "        text-align: right;\n",
       "    }\n",
       "</style>\n",
       "<table border=\"1\" class=\"dataframe\">\n",
       "  <thead>\n",
       "    <tr style=\"text-align: right;\">\n",
       "      <th></th>\n",
       "      <th>supermercado</th>\n",
       "      <th>categoria</th>\n",
       "      <th>total_productos</th>\n",
       "    </tr>\n",
       "  </thead>\n",
       "  <tbody>\n",
       "    <tr>\n",
       "      <th>0</th>\n",
       "      <td>Alcampo</td>\n",
       "      <td>Aceite-de-girasol</td>\n",
       "      <td>1176</td>\n",
       "    </tr>\n",
       "    <tr>\n",
       "      <th>1</th>\n",
       "      <td>Alcampo</td>\n",
       "      <td>Aceite-de-oliva</td>\n",
       "      <td>8933</td>\n",
       "    </tr>\n",
       "    <tr>\n",
       "      <th>2</th>\n",
       "      <td>Alcampo</td>\n",
       "      <td>Leche</td>\n",
       "      <td>13882</td>\n",
       "    </tr>\n",
       "    <tr>\n",
       "      <th>3</th>\n",
       "      <td>Carrefour</td>\n",
       "      <td>Aceite-de-girasol</td>\n",
       "      <td>1128</td>\n",
       "    </tr>\n",
       "    <tr>\n",
       "      <th>4</th>\n",
       "      <td>Carrefour</td>\n",
       "      <td>Aceite-de-oliva</td>\n",
       "      <td>8916</td>\n",
       "    </tr>\n",
       "    <tr>\n",
       "      <th>5</th>\n",
       "      <td>Carrefour</td>\n",
       "      <td>Leche</td>\n",
       "      <td>4559</td>\n",
       "    </tr>\n",
       "    <tr>\n",
       "      <th>6</th>\n",
       "      <td>Dia</td>\n",
       "      <td>Aceite-de-girasol</td>\n",
       "      <td>600</td>\n",
       "    </tr>\n",
       "    <tr>\n",
       "      <th>7</th>\n",
       "      <td>Dia</td>\n",
       "      <td>Aceite-de-oliva</td>\n",
       "      <td>2306</td>\n",
       "    </tr>\n",
       "    <tr>\n",
       "      <th>8</th>\n",
       "      <td>Dia</td>\n",
       "      <td>Leche</td>\n",
       "      <td>5434</td>\n",
       "    </tr>\n",
       "    <tr>\n",
       "      <th>9</th>\n",
       "      <td>Eroski</td>\n",
       "      <td>Aceite-de-girasol</td>\n",
       "      <td>848</td>\n",
       "    </tr>\n",
       "    <tr>\n",
       "      <th>10</th>\n",
       "      <td>Eroski</td>\n",
       "      <td>Aceite-de-oliva</td>\n",
       "      <td>7606</td>\n",
       "    </tr>\n",
       "    <tr>\n",
       "      <th>11</th>\n",
       "      <td>Eroski</td>\n",
       "      <td>Leche</td>\n",
       "      <td>9186</td>\n",
       "    </tr>\n",
       "    <tr>\n",
       "      <th>12</th>\n",
       "      <td>Hipercor</td>\n",
       "      <td>Aceite-de-girasol</td>\n",
       "      <td>657</td>\n",
       "    </tr>\n",
       "    <tr>\n",
       "      <th>13</th>\n",
       "      <td>Hipercor</td>\n",
       "      <td>Aceite-de-oliva</td>\n",
       "      <td>18153</td>\n",
       "    </tr>\n",
       "    <tr>\n",
       "      <th>14</th>\n",
       "      <td>Hipercor</td>\n",
       "      <td>Leche</td>\n",
       "      <td>14833</td>\n",
       "    </tr>\n",
       "    <tr>\n",
       "      <th>15</th>\n",
       "      <td>Mercadona</td>\n",
       "      <td>Aceite-de-girasol</td>\n",
       "      <td>216</td>\n",
       "    </tr>\n",
       "    <tr>\n",
       "      <th>16</th>\n",
       "      <td>Mercadona</td>\n",
       "      <td>Aceite-de-oliva</td>\n",
       "      <td>1402</td>\n",
       "    </tr>\n",
       "    <tr>\n",
       "      <th>17</th>\n",
       "      <td>Mercadona</td>\n",
       "      <td>Leche</td>\n",
       "      <td>2816</td>\n",
       "    </tr>\n",
       "  </tbody>\n",
       "</table>\n",
       "</div>"
      ],
      "text/plain": [
       "   supermercado          categoria  total_productos\n",
       "0       Alcampo  Aceite-de-girasol             1176\n",
       "1       Alcampo    Aceite-de-oliva             8933\n",
       "2       Alcampo              Leche            13882\n",
       "3     Carrefour  Aceite-de-girasol             1128\n",
       "4     Carrefour    Aceite-de-oliva             8916\n",
       "5     Carrefour              Leche             4559\n",
       "6           Dia  Aceite-de-girasol              600\n",
       "7           Dia    Aceite-de-oliva             2306\n",
       "8           Dia              Leche             5434\n",
       "9        Eroski  Aceite-de-girasol              848\n",
       "10       Eroski    Aceite-de-oliva             7606\n",
       "11       Eroski              Leche             9186\n",
       "12     Hipercor  Aceite-de-girasol              657\n",
       "13     Hipercor    Aceite-de-oliva            18153\n",
       "14     Hipercor              Leche            14833\n",
       "15    Mercadona  Aceite-de-girasol              216\n",
       "16    Mercadona    Aceite-de-oliva             1402\n",
       "17    Mercadona              Leche             2816"
      ]
     },
     "execution_count": 22,
     "metadata": {},
     "output_type": "execute_result"
    }
   ],
   "source": [
    "resultado6 = sf.dbeaver_fetch(sf.dbeaver_conexion(\"Facua\"),query6)\n",
    "resultado6"
   ]
  },
  {
   "cell_type": "code",
   "execution_count": 23,
   "metadata": {},
   "outputs": [
    {
     "data": {
      "application/vnd.plotly.v1+json": {
       "config": {
        "plotlyServerURL": "https://plot.ly"
       },
       "data": [
        {
         "alignmentgroup": "True",
         "hovertemplate": "Categoría=Aceite-de-girasol<br>Supermercado=%{x}<br>Total de Productos=%{text}<extra></extra>",
         "legendgroup": "Aceite-de-girasol",
         "marker": {
          "color": "#636efa",
          "pattern": {
           "shape": ""
          }
         },
         "name": "Aceite-de-girasol",
         "offsetgroup": "Aceite-de-girasol",
         "orientation": "v",
         "showlegend": true,
         "text": [
          1176,
          1128,
          600,
          848,
          657,
          216
         ],
         "textposition": "outside",
         "texttemplate": "%{text}",
         "type": "bar",
         "x": [
          "Alcampo",
          "Carrefour",
          "Dia",
          "Eroski",
          "Hipercor",
          "Mercadona"
         ],
         "xaxis": "x",
         "y": [
          1176,
          1128,
          600,
          848,
          657,
          216
         ],
         "yaxis": "y"
        },
        {
         "alignmentgroup": "True",
         "hovertemplate": "Categoría=Aceite-de-oliva<br>Supermercado=%{x}<br>Total de Productos=%{text}<extra></extra>",
         "legendgroup": "Aceite-de-oliva",
         "marker": {
          "color": "#EF553B",
          "pattern": {
           "shape": ""
          }
         },
         "name": "Aceite-de-oliva",
         "offsetgroup": "Aceite-de-oliva",
         "orientation": "v",
         "showlegend": true,
         "text": [
          8933,
          8916,
          2306,
          7606,
          18153,
          1402
         ],
         "textposition": "outside",
         "texttemplate": "%{text}",
         "type": "bar",
         "x": [
          "Alcampo",
          "Carrefour",
          "Dia",
          "Eroski",
          "Hipercor",
          "Mercadona"
         ],
         "xaxis": "x",
         "y": [
          8933,
          8916,
          2306,
          7606,
          18153,
          1402
         ],
         "yaxis": "y"
        },
        {
         "alignmentgroup": "True",
         "hovertemplate": "Categoría=Leche<br>Supermercado=%{x}<br>Total de Productos=%{text}<extra></extra>",
         "legendgroup": "Leche",
         "marker": {
          "color": "#00cc96",
          "pattern": {
           "shape": ""
          }
         },
         "name": "Leche",
         "offsetgroup": "Leche",
         "orientation": "v",
         "showlegend": true,
         "text": [
          13882,
          4559,
          5434,
          9186,
          14833,
          2816
         ],
         "textposition": "outside",
         "texttemplate": "%{text}",
         "type": "bar",
         "x": [
          "Alcampo",
          "Carrefour",
          "Dia",
          "Eroski",
          "Hipercor",
          "Mercadona"
         ],
         "xaxis": "x",
         "y": [
          13882,
          4559,
          5434,
          9186,
          14833,
          2816
         ],
         "yaxis": "y"
        }
       ],
       "layout": {
        "barmode": "stack",
        "legend": {
         "title": {
          "text": "Categoría"
         },
         "tracegroupgap": 0
        },
        "template": {
         "data": {
          "bar": [
           {
            "error_x": {
             "color": "#2a3f5f"
            },
            "error_y": {
             "color": "#2a3f5f"
            },
            "marker": {
             "line": {
              "color": "#E5ECF6",
              "width": 0.5
             },
             "pattern": {
              "fillmode": "overlay",
              "size": 10,
              "solidity": 0.2
             }
            },
            "type": "bar"
           }
          ],
          "barpolar": [
           {
            "marker": {
             "line": {
              "color": "#E5ECF6",
              "width": 0.5
             },
             "pattern": {
              "fillmode": "overlay",
              "size": 10,
              "solidity": 0.2
             }
            },
            "type": "barpolar"
           }
          ],
          "carpet": [
           {
            "aaxis": {
             "endlinecolor": "#2a3f5f",
             "gridcolor": "white",
             "linecolor": "white",
             "minorgridcolor": "white",
             "startlinecolor": "#2a3f5f"
            },
            "baxis": {
             "endlinecolor": "#2a3f5f",
             "gridcolor": "white",
             "linecolor": "white",
             "minorgridcolor": "white",
             "startlinecolor": "#2a3f5f"
            },
            "type": "carpet"
           }
          ],
          "choropleth": [
           {
            "colorbar": {
             "outlinewidth": 0,
             "ticks": ""
            },
            "type": "choropleth"
           }
          ],
          "contour": [
           {
            "colorbar": {
             "outlinewidth": 0,
             "ticks": ""
            },
            "colorscale": [
             [
              0,
              "#0d0887"
             ],
             [
              0.1111111111111111,
              "#46039f"
             ],
             [
              0.2222222222222222,
              "#7201a8"
             ],
             [
              0.3333333333333333,
              "#9c179e"
             ],
             [
              0.4444444444444444,
              "#bd3786"
             ],
             [
              0.5555555555555556,
              "#d8576b"
             ],
             [
              0.6666666666666666,
              "#ed7953"
             ],
             [
              0.7777777777777778,
              "#fb9f3a"
             ],
             [
              0.8888888888888888,
              "#fdca26"
             ],
             [
              1,
              "#f0f921"
             ]
            ],
            "type": "contour"
           }
          ],
          "contourcarpet": [
           {
            "colorbar": {
             "outlinewidth": 0,
             "ticks": ""
            },
            "type": "contourcarpet"
           }
          ],
          "heatmap": [
           {
            "colorbar": {
             "outlinewidth": 0,
             "ticks": ""
            },
            "colorscale": [
             [
              0,
              "#0d0887"
             ],
             [
              0.1111111111111111,
              "#46039f"
             ],
             [
              0.2222222222222222,
              "#7201a8"
             ],
             [
              0.3333333333333333,
              "#9c179e"
             ],
             [
              0.4444444444444444,
              "#bd3786"
             ],
             [
              0.5555555555555556,
              "#d8576b"
             ],
             [
              0.6666666666666666,
              "#ed7953"
             ],
             [
              0.7777777777777778,
              "#fb9f3a"
             ],
             [
              0.8888888888888888,
              "#fdca26"
             ],
             [
              1,
              "#f0f921"
             ]
            ],
            "type": "heatmap"
           }
          ],
          "heatmapgl": [
           {
            "colorbar": {
             "outlinewidth": 0,
             "ticks": ""
            },
            "colorscale": [
             [
              0,
              "#0d0887"
             ],
             [
              0.1111111111111111,
              "#46039f"
             ],
             [
              0.2222222222222222,
              "#7201a8"
             ],
             [
              0.3333333333333333,
              "#9c179e"
             ],
             [
              0.4444444444444444,
              "#bd3786"
             ],
             [
              0.5555555555555556,
              "#d8576b"
             ],
             [
              0.6666666666666666,
              "#ed7953"
             ],
             [
              0.7777777777777778,
              "#fb9f3a"
             ],
             [
              0.8888888888888888,
              "#fdca26"
             ],
             [
              1,
              "#f0f921"
             ]
            ],
            "type": "heatmapgl"
           }
          ],
          "histogram": [
           {
            "marker": {
             "pattern": {
              "fillmode": "overlay",
              "size": 10,
              "solidity": 0.2
             }
            },
            "type": "histogram"
           }
          ],
          "histogram2d": [
           {
            "colorbar": {
             "outlinewidth": 0,
             "ticks": ""
            },
            "colorscale": [
             [
              0,
              "#0d0887"
             ],
             [
              0.1111111111111111,
              "#46039f"
             ],
             [
              0.2222222222222222,
              "#7201a8"
             ],
             [
              0.3333333333333333,
              "#9c179e"
             ],
             [
              0.4444444444444444,
              "#bd3786"
             ],
             [
              0.5555555555555556,
              "#d8576b"
             ],
             [
              0.6666666666666666,
              "#ed7953"
             ],
             [
              0.7777777777777778,
              "#fb9f3a"
             ],
             [
              0.8888888888888888,
              "#fdca26"
             ],
             [
              1,
              "#f0f921"
             ]
            ],
            "type": "histogram2d"
           }
          ],
          "histogram2dcontour": [
           {
            "colorbar": {
             "outlinewidth": 0,
             "ticks": ""
            },
            "colorscale": [
             [
              0,
              "#0d0887"
             ],
             [
              0.1111111111111111,
              "#46039f"
             ],
             [
              0.2222222222222222,
              "#7201a8"
             ],
             [
              0.3333333333333333,
              "#9c179e"
             ],
             [
              0.4444444444444444,
              "#bd3786"
             ],
             [
              0.5555555555555556,
              "#d8576b"
             ],
             [
              0.6666666666666666,
              "#ed7953"
             ],
             [
              0.7777777777777778,
              "#fb9f3a"
             ],
             [
              0.8888888888888888,
              "#fdca26"
             ],
             [
              1,
              "#f0f921"
             ]
            ],
            "type": "histogram2dcontour"
           }
          ],
          "mesh3d": [
           {
            "colorbar": {
             "outlinewidth": 0,
             "ticks": ""
            },
            "type": "mesh3d"
           }
          ],
          "parcoords": [
           {
            "line": {
             "colorbar": {
              "outlinewidth": 0,
              "ticks": ""
             }
            },
            "type": "parcoords"
           }
          ],
          "pie": [
           {
            "automargin": true,
            "type": "pie"
           }
          ],
          "scatter": [
           {
            "fillpattern": {
             "fillmode": "overlay",
             "size": 10,
             "solidity": 0.2
            },
            "type": "scatter"
           }
          ],
          "scatter3d": [
           {
            "line": {
             "colorbar": {
              "outlinewidth": 0,
              "ticks": ""
             }
            },
            "marker": {
             "colorbar": {
              "outlinewidth": 0,
              "ticks": ""
             }
            },
            "type": "scatter3d"
           }
          ],
          "scattercarpet": [
           {
            "marker": {
             "colorbar": {
              "outlinewidth": 0,
              "ticks": ""
             }
            },
            "type": "scattercarpet"
           }
          ],
          "scattergeo": [
           {
            "marker": {
             "colorbar": {
              "outlinewidth": 0,
              "ticks": ""
             }
            },
            "type": "scattergeo"
           }
          ],
          "scattergl": [
           {
            "marker": {
             "colorbar": {
              "outlinewidth": 0,
              "ticks": ""
             }
            },
            "type": "scattergl"
           }
          ],
          "scattermapbox": [
           {
            "marker": {
             "colorbar": {
              "outlinewidth": 0,
              "ticks": ""
             }
            },
            "type": "scattermapbox"
           }
          ],
          "scatterpolar": [
           {
            "marker": {
             "colorbar": {
              "outlinewidth": 0,
              "ticks": ""
             }
            },
            "type": "scatterpolar"
           }
          ],
          "scatterpolargl": [
           {
            "marker": {
             "colorbar": {
              "outlinewidth": 0,
              "ticks": ""
             }
            },
            "type": "scatterpolargl"
           }
          ],
          "scatterternary": [
           {
            "marker": {
             "colorbar": {
              "outlinewidth": 0,
              "ticks": ""
             }
            },
            "type": "scatterternary"
           }
          ],
          "surface": [
           {
            "colorbar": {
             "outlinewidth": 0,
             "ticks": ""
            },
            "colorscale": [
             [
              0,
              "#0d0887"
             ],
             [
              0.1111111111111111,
              "#46039f"
             ],
             [
              0.2222222222222222,
              "#7201a8"
             ],
             [
              0.3333333333333333,
              "#9c179e"
             ],
             [
              0.4444444444444444,
              "#bd3786"
             ],
             [
              0.5555555555555556,
              "#d8576b"
             ],
             [
              0.6666666666666666,
              "#ed7953"
             ],
             [
              0.7777777777777778,
              "#fb9f3a"
             ],
             [
              0.8888888888888888,
              "#fdca26"
             ],
             [
              1,
              "#f0f921"
             ]
            ],
            "type": "surface"
           }
          ],
          "table": [
           {
            "cells": {
             "fill": {
              "color": "#EBF0F8"
             },
             "line": {
              "color": "white"
             }
            },
            "header": {
             "fill": {
              "color": "#C8D4E3"
             },
             "line": {
              "color": "white"
             }
            },
            "type": "table"
           }
          ]
         },
         "layout": {
          "annotationdefaults": {
           "arrowcolor": "#2a3f5f",
           "arrowhead": 0,
           "arrowwidth": 1
          },
          "autotypenumbers": "strict",
          "coloraxis": {
           "colorbar": {
            "outlinewidth": 0,
            "ticks": ""
           }
          },
          "colorscale": {
           "diverging": [
            [
             0,
             "#8e0152"
            ],
            [
             0.1,
             "#c51b7d"
            ],
            [
             0.2,
             "#de77ae"
            ],
            [
             0.3,
             "#f1b6da"
            ],
            [
             0.4,
             "#fde0ef"
            ],
            [
             0.5,
             "#f7f7f7"
            ],
            [
             0.6,
             "#e6f5d0"
            ],
            [
             0.7,
             "#b8e186"
            ],
            [
             0.8,
             "#7fbc41"
            ],
            [
             0.9,
             "#4d9221"
            ],
            [
             1,
             "#276419"
            ]
           ],
           "sequential": [
            [
             0,
             "#0d0887"
            ],
            [
             0.1111111111111111,
             "#46039f"
            ],
            [
             0.2222222222222222,
             "#7201a8"
            ],
            [
             0.3333333333333333,
             "#9c179e"
            ],
            [
             0.4444444444444444,
             "#bd3786"
            ],
            [
             0.5555555555555556,
             "#d8576b"
            ],
            [
             0.6666666666666666,
             "#ed7953"
            ],
            [
             0.7777777777777778,
             "#fb9f3a"
            ],
            [
             0.8888888888888888,
             "#fdca26"
            ],
            [
             1,
             "#f0f921"
            ]
           ],
           "sequentialminus": [
            [
             0,
             "#0d0887"
            ],
            [
             0.1111111111111111,
             "#46039f"
            ],
            [
             0.2222222222222222,
             "#7201a8"
            ],
            [
             0.3333333333333333,
             "#9c179e"
            ],
            [
             0.4444444444444444,
             "#bd3786"
            ],
            [
             0.5555555555555556,
             "#d8576b"
            ],
            [
             0.6666666666666666,
             "#ed7953"
            ],
            [
             0.7777777777777778,
             "#fb9f3a"
            ],
            [
             0.8888888888888888,
             "#fdca26"
            ],
            [
             1,
             "#f0f921"
            ]
           ]
          },
          "colorway": [
           "#636efa",
           "#EF553B",
           "#00cc96",
           "#ab63fa",
           "#FFA15A",
           "#19d3f3",
           "#FF6692",
           "#B6E880",
           "#FF97FF",
           "#FECB52"
          ],
          "font": {
           "color": "#2a3f5f"
          },
          "geo": {
           "bgcolor": "white",
           "lakecolor": "white",
           "landcolor": "#E5ECF6",
           "showlakes": true,
           "showland": true,
           "subunitcolor": "white"
          },
          "hoverlabel": {
           "align": "left"
          },
          "hovermode": "closest",
          "mapbox": {
           "style": "light"
          },
          "paper_bgcolor": "white",
          "plot_bgcolor": "#E5ECF6",
          "polar": {
           "angularaxis": {
            "gridcolor": "white",
            "linecolor": "white",
            "ticks": ""
           },
           "bgcolor": "#E5ECF6",
           "radialaxis": {
            "gridcolor": "white",
            "linecolor": "white",
            "ticks": ""
           }
          },
          "scene": {
           "xaxis": {
            "backgroundcolor": "#E5ECF6",
            "gridcolor": "white",
            "gridwidth": 2,
            "linecolor": "white",
            "showbackground": true,
            "ticks": "",
            "zerolinecolor": "white"
           },
           "yaxis": {
            "backgroundcolor": "#E5ECF6",
            "gridcolor": "white",
            "gridwidth": 2,
            "linecolor": "white",
            "showbackground": true,
            "ticks": "",
            "zerolinecolor": "white"
           },
           "zaxis": {
            "backgroundcolor": "#E5ECF6",
            "gridcolor": "white",
            "gridwidth": 2,
            "linecolor": "white",
            "showbackground": true,
            "ticks": "",
            "zerolinecolor": "white"
           }
          },
          "shapedefaults": {
           "line": {
            "color": "#2a3f5f"
           }
          },
          "ternary": {
           "aaxis": {
            "gridcolor": "white",
            "linecolor": "white",
            "ticks": ""
           },
           "baxis": {
            "gridcolor": "white",
            "linecolor": "white",
            "ticks": ""
           },
           "bgcolor": "#E5ECF6",
           "caxis": {
            "gridcolor": "white",
            "linecolor": "white",
            "ticks": ""
           }
          },
          "title": {
           "x": 0.05
          },
          "xaxis": {
           "automargin": true,
           "gridcolor": "white",
           "linecolor": "white",
           "ticks": "",
           "title": {
            "standoff": 15
           },
           "zerolinecolor": "white",
           "zerolinewidth": 2
          },
          "yaxis": {
           "automargin": true,
           "gridcolor": "white",
           "linecolor": "white",
           "ticks": "",
           "title": {
            "standoff": 15
           },
           "zerolinecolor": "white",
           "zerolinewidth": 2
          }
         }
        },
        "title": {
         "text": "Cantidad Total de Productos por Categoría y Supermercado"
        },
        "xaxis": {
         "anchor": "y",
         "domain": [
          0,
          1
         ],
         "title": {
          "text": "Supermercado"
         }
        },
        "yaxis": {
         "anchor": "x",
         "domain": [
          0,
          1
         ],
         "title": {
          "text": "Total de Productos"
         }
        }
       }
      }
     },
     "metadata": {},
     "output_type": "display_data"
    }
   ],
   "source": [
    "import plotly.express as px\n",
    "\n",
    "fig6 = px.bar(\n",
    "    resultado6,\n",
    "    x=\"supermercado\",\n",
    "    y=\"total_productos\",\n",
    "    color=\"categoria\",\n",
    "    labels={\n",
    "        \"supermercado\": \"Supermercado\",\n",
    "        \"total_productos\": \"Total de Productos\",\n",
    "        \"categoria\": \"Categoría\"\n",
    "    },\n",
    "    title=\"Cantidad Total de Productos por Categoría y Supermercado\",\n",
    "    text=\"total_productos\"  # Añadir las etiquetas de texto\n",
    ")\n",
    "\n",
    "# Actualizar el diseño de las etiquetas\n",
    "fig6.update_traces(texttemplate='%{text}', textposition='outside')\n",
    "\n",
    "fig6.update_layout(\n",
    "    xaxis_title=\"Supermercado\",\n",
    "    yaxis_title=\"Total de Productos\",\n",
    "    barmode='stack'\n",
    ")\n",
    "\n",
    "fig6.show()\n"
   ]
  },
  {
   "cell_type": "code",
   "execution_count": null,
   "metadata": {},
   "outputs": [],
   "source": []
  }
 ],
 "metadata": {
  "kernelspec": {
   "display_name": "Python 3",
   "language": "python",
   "name": "python3"
  },
  "language_info": {
   "codemirror_mode": {
    "name": "ipython",
    "version": 3
   },
   "file_extension": ".py",
   "mimetype": "text/x-python",
   "name": "python",
   "nbconvert_exporter": "python",
   "pygments_lexer": "ipython3",
   "version": "3.9.6"
  }
 },
 "nbformat": 4,
 "nbformat_minor": 2
}
